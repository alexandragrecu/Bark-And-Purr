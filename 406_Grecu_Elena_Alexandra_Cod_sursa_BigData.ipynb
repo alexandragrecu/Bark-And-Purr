{
  "nbformat": 4,
  "nbformat_minor": 0,
  "metadata": {
    "colab": {
      "provenance": [],
      "authorship_tag": "ABX9TyPae/to0YMQPzidEtR7Clwa",
      "include_colab_link": true
    },
    "kernelspec": {
      "name": "python3",
      "display_name": "Python 3"
    },
    "language_info": {
      "name": "python"
    }
  },
  "cells": [
    {
      "cell_type": "markdown",
      "metadata": {
        "id": "view-in-github",
        "colab_type": "text"
      },
      "source": [
        "<a href=\"https://colab.research.google.com/github/alexandragrecu/Bark-and-Purr/blob/master/406_Grecu_Elena_Alexandra_Cod_sursa_BigData.ipynb\" target=\"_parent\"><img src=\"https://colab.research.google.com/assets/colab-badge.svg\" alt=\"Open In Colab\"/></a>"
      ]
    },
    {
      "cell_type": "markdown",
      "source": [
        "# 📚 Proiect Big Data\n",
        "## Grecu Elena-Alexandra, grupa 406\n",
        "## Masterul de Inginerie Software, an I\n",
        "### Facultatea de Matematica si Informatica, Universitatea din Bucuresti\n",
        "### Septembrie 2022 "
      ],
      "metadata": {
        "id": "t6qbP4pnU4To"
      }
    },
    {
      "cell_type": "markdown",
      "source": [
        "## 📖 Problema\n",
        "\n",
        "Avem urmatorul scenariu: Intr-o corporatie se inregistreaza un numar in crestere a angajatilor care decid sa plece. Conducerea corporatiei este destul de ingrijorata in privinta acestui aspect si vrea sa inteleaga care sunt motivele pentru care angajatii pleaca precum si ce masuri pot lua pentru a impiedica acest lucru.\n",
        "\n",
        "Obiectivul acestui proiect este sa raspunda la urmatoarele intrebari:\n",
        "\n",
        "❓ Din ce departament pleaca cei mai multi angajati? Din ce departament pleaca cei mai putini angajati? \n",
        "\n",
        "❓Care sunt variabilele care influenteaza cel mai mult plecarea angajatilor?\n",
        "\n",
        "❓ Ce recomandari putem face conducerii corporatiei pentru a impiedica plecarea angajatilor?"
      ],
      "metadata": {
        "id": "7XXcPPXFU8__"
      }
    },
    {
      "cell_type": "markdown",
      "source": [
        "## 💾 Setul de date\n",
        "\n",
        "Setul de date contine informatii despre aproximatic 10 000 de angajati. Aceste informatii au fost adunate din interviuri cu angajatii, review-uri periodice ale acestora precum si inregistrari de-a lungul timpului a diferitelor metrici de satisfactie a angajatului.\n",
        "\n",
        "Setul de date contine urmatoarele campuri:\n",
        "- \"department\" = departamentul din care angajatul face parte;\n",
        "- \"promoted\" = 1 daca angajatul a fost promovat in ultimele 24 de luni, 0 daca nu a fost promovat in acest interval de timp;\n",
        "- \"review\" = scorul pe care angajatul l-a primit la ultima evaluare\n",
        "- \"projects\" = numarul de proiecte la care angajatul lucreaza\n",
        "- \"salary\" = din motive de confidentialitate, salariul este reprezentat prin trei categorii: low, medium, high;\n",
        "- \"tenure\" = de cati ani angajatul lucreaza in companie;\n",
        "- \"satisfaction\" = satisfactia pe care o are angajatul la locul de munca (obtinuta prin diferite formulare pe care acesta a trebuit sa le completeze);\n",
        "- \"bonus\" = 1 daca angajatul a primit un bonus in ultimele 24 de luni, 0 altfel\n",
        "- \"avg_hrs_month\" = numarul de orii medii pe care angajatul le lucreaza intr-un an;\n",
        "- \"left\" = \"yes\" daca angajatul a plecat, \"no\" daca nu a plecat\n",
        "\n",
        "Setul de date a fost luat dintr-o competitie de pe site-ul [www.datacamp.com](https://app.datacamp.com/learn), iar link-ul competitiei poate fi gasit [aici](https://app.datacamp.com/learn/competitions/reducing-employee-turnover).\n",
        "\n",
        "Pentru usurinta, setul de date se poate gasi si vizualiza [aici](https://drive.google.com/drive/folders/1rESbwWjVRX4wZqHGiGaXEkPMAGcfML6Q?usp=sharing)."
      ],
      "metadata": {
        "id": "nrlfL7kXVfoP"
      }
    },
    {
      "cell_type": "markdown",
      "source": [
        "## ✍🏻 Specificatii\n",
        "Proiectul este realizat in cadrul cursului de Big Data, folosind Apache Spark (pySpark).\n",
        "\n",
        "Proiectul cuprinde 4 etape:\n",
        "1. Inspectarea, curatarea si explorarea datelor.\n",
        "2.Aplicarea de algoritmi ML care sa prezica daca angajatii pleaca din companie. Ca si clasificatori se vor folosi Logistic Regression si Gradient Boosted Tree.\n",
        "3. Aplicarea unei metode de Deep Learning folosind TensorFlow.\n",
        "4. Un proces de streaming folosind Spark Streaming. Incercam sa colectam date in timp real despre un angajat si folosind algoritm ML sa prezicem daca acesta va pleca sau nu din companie.\n",
        "\n",
        "Versinuea de Spark folosita: `3.3.0`.\n",
        "\n"
      ],
      "metadata": {
        "id": "9B6WdTzcVkWj"
      }
    },
    {
      "cell_type": "markdown",
      "source": [
        "\n",
        "\n",
        "---\n",
        "\n"
      ],
      "metadata": {
        "id": "V9cXRBW5W2Uw"
      }
    },
    {
      "cell_type": "markdown",
      "source": [
        "## 📕 Importarea librariilor necesare"
      ],
      "metadata": {
        "id": "shFk2yM-W8aK"
      }
    },
    {
      "cell_type": "code",
      "source": [
        "!pip install pyspark"
      ],
      "metadata": {
        "colab": {
          "base_uri": "https://localhost:8080/"
        },
        "id": "8JNtRLcnW4_Y",
        "outputId": "45aaf005-8a0f-4c4f-aaba-826b47dd92e2"
      },
      "execution_count": null,
      "outputs": [
        {
          "output_type": "stream",
          "name": "stdout",
          "text": [
            "Looking in indexes: https://pypi.org/simple, https://us-python.pkg.dev/colab-wheels/public/simple/\n",
            "Requirement already satisfied: pyspark in /usr/local/lib/python3.7/dist-packages (3.3.0)\n",
            "Requirement already satisfied: py4j==0.10.9.5 in /usr/local/lib/python3.7/dist-packages (from pyspark) (0.10.9.5)\n"
          ]
        }
      ]
    },
    {
      "cell_type": "code",
      "execution_count": null,
      "metadata": {
        "colab": {
          "base_uri": "https://localhost:8080/"
        },
        "id": "MbKVrRU_U0IT",
        "outputId": "ad1e7d98-e634-40e0-87d2-b9b06d7b618f"
      },
      "outputs": [
        {
          "output_type": "stream",
          "name": "stdout",
          "text": [
            "Looking in indexes: https://pypi.org/simple, https://us-python.pkg.dev/colab-wheels/public/simple/\n",
            "Requirement already satisfied: colorama in /usr/local/lib/python3.7/dist-packages (0.4.5)\n"
          ]
        }
      ],
      "source": [
        "!pip install colorama"
      ]
    },
    {
      "cell_type": "code",
      "source": [
        "!pip install missingno"
      ],
      "metadata": {
        "colab": {
          "base_uri": "https://localhost:8080/"
        },
        "id": "IYNoeHu8bA0W",
        "outputId": "84b0553f-7330-49cd-8034-f8848a6ba087"
      },
      "execution_count": null,
      "outputs": [
        {
          "output_type": "stream",
          "name": "stdout",
          "text": [
            "Looking in indexes: https://pypi.org/simple, https://us-python.pkg.dev/colab-wheels/public/simple/\n",
            "Requirement already satisfied: missingno in /usr/local/lib/python3.7/dist-packages (0.5.1)\n",
            "Requirement already satisfied: scipy in /usr/local/lib/python3.7/dist-packages (from missingno) (1.7.3)\n",
            "Requirement already satisfied: seaborn in /usr/local/lib/python3.7/dist-packages (from missingno) (0.11.2)\n",
            "Requirement already satisfied: numpy in /usr/local/lib/python3.7/dist-packages (from missingno) (1.21.6)\n",
            "Requirement already satisfied: matplotlib in /usr/local/lib/python3.7/dist-packages (from missingno) (3.2.2)\n",
            "Requirement already satisfied: pyparsing!=2.0.4,!=2.1.2,!=2.1.6,>=2.0.1 in /usr/local/lib/python3.7/dist-packages (from matplotlib->missingno) (3.0.9)\n",
            "Requirement already satisfied: cycler>=0.10 in /usr/local/lib/python3.7/dist-packages (from matplotlib->missingno) (0.11.0)\n",
            "Requirement already satisfied: kiwisolver>=1.0.1 in /usr/local/lib/python3.7/dist-packages (from matplotlib->missingno) (1.4.4)\n",
            "Requirement already satisfied: python-dateutil>=2.1 in /usr/local/lib/python3.7/dist-packages (from matplotlib->missingno) (2.8.2)\n",
            "Requirement already satisfied: typing-extensions in /usr/local/lib/python3.7/dist-packages (from kiwisolver>=1.0.1->matplotlib->missingno) (4.1.1)\n",
            "Requirement already satisfied: six>=1.5 in /usr/local/lib/python3.7/dist-packages (from python-dateutil>=2.1->matplotlib->missingno) (1.15.0)\n",
            "Requirement already satisfied: pandas>=0.23 in /usr/local/lib/python3.7/dist-packages (from seaborn->missingno) (1.3.5)\n",
            "Requirement already satisfied: pytz>=2017.3 in /usr/local/lib/python3.7/dist-packages (from pandas>=0.23->seaborn->missingno) (2022.2.1)\n"
          ]
        }
      ]
    },
    {
      "cell_type": "code",
      "source": [
        "import pandas as pd\n",
        "from google.colab import files\n",
        "import matplotlib.pyplot as plt\n",
        "import seaborn as sns\n",
        "import missingno as msno\n",
        "from colorama import Fore\n",
        "from colorama import Style\n",
        "from pyspark import SparkContext\n",
        "from pyspark.sql import SparkSession\n",
        "from pyspark.ml.feature import StringIndexer, OneHotEncoder, VectorAssembler\n",
        "from pyspark.sql import functions as F\n",
        "from pyspark.sql.functions import round\n",
        "from pyspark.ml import Pipeline\n",
        "from pyspark.ml.evaluation import MulticlassClassificationEvaluator\n",
        "from pyspark.ml.evaluation import BinaryClassificationEvaluator\n",
        "from pyspark.ml.classification import LogisticRegression\n",
        "from pyspark.ml.classification import GBTClassifier\n",
        "from sklearn.preprocessing import MinMaxScaler\n",
        "from sklearn.model_selection import train_test_split\n",
        "import tensorflow as tf\n",
        "import numpy as np\n",
        "from sklearn.model_selection import GridSearchCV\n",
        "from tensorflow.keras.models import Sequential\n",
        "from tensorflow.keras.layers import Dense\n",
        "from sklearn.metrics import confusion_matrix\n",
        "from tensorflow.keras.wrappers.scikit_learn import KerasClassifier"
      ],
      "metadata": {
        "id": "bdI_HvirXD2e"
      },
      "execution_count": null,
      "outputs": []
    },
    {
      "cell_type": "code",
      "source": [
        "spark = SparkSession.builder \\\n",
        "                    .master('local[*]') \\\n",
        "                    .appName('Big Data App') \\\n",
        "                    .getOrCreate()"
      ],
      "metadata": {
        "id": "Qmkbs9F6YbjS"
      },
      "execution_count": null,
      "outputs": []
    },
    {
      "cell_type": "code",
      "source": [
        "print(spark.version)"
      ],
      "metadata": {
        "colab": {
          "base_uri": "https://localhost:8080/"
        },
        "id": "fTHVogz5Ydmr",
        "outputId": "389a4129-83c9-43e1-c89f-cd553b68ab54"
      },
      "execution_count": null,
      "outputs": [
        {
          "output_type": "stream",
          "name": "stdout",
          "text": [
            "3.3.0\n"
          ]
        }
      ]
    },
    {
      "cell_type": "markdown",
      "source": [
        "## 📝 Datele cu care lucram"
      ],
      "metadata": {
        "id": "Dpcm43pkYGaq"
      }
    },
    {
      "cell_type": "markdown",
      "source": [
        "Setul de date are `9540` de angajati, informatiile fiind impartite in `10` coloane.\n",
        "Analizand schema setului de date (care a fost automat detectata de Pyspark prin setarea parametrului `inferSchema=True` la citire),vom aduce modificari in ceea ce priveste coloanele `promoted` si `bonus` - continand doar valori de 1 si 0 vom transforma aceste doua coloane in tip boolean. "
      ],
      "metadata": {
        "id": "-wnEBP6MZPEx"
      }
    },
    {
      "cell_type": "code",
      "source": [
        "uploaded = files.upload()"
      ],
      "metadata": {
        "colab": {
          "resources": {
            "http://localhost:8080/nbextensions/google.colab/files.js": {
              "data": "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",
              "ok": true,
              "headers": [
                [
                  "content-type",
                  "application/javascript"
                ]
              ],
              "status": 200,
              "status_text": ""
            }
          },
          "base_uri": "https://localhost:8080/",
          "height": 74
        },
        "id": "nwEQB80oX2hD",
        "outputId": "b4aeb038-4fb2-4980-f7ef-40edd32c1660"
      },
      "execution_count": null,
      "outputs": [
        {
          "output_type": "display_data",
          "data": {
            "text/plain": [
              "<IPython.core.display.HTML object>"
            ],
            "text/html": [
              "\n",
              "     <input type=\"file\" id=\"files-9eab4723-7544-49af-a496-959b602e23c1\" name=\"files[]\" multiple disabled\n",
              "        style=\"border:none\" />\n",
              "     <output id=\"result-9eab4723-7544-49af-a496-959b602e23c1\">\n",
              "      Upload widget is only available when the cell has been executed in the\n",
              "      current browser session. Please rerun this cell to enable.\n",
              "      </output>\n",
              "      <script src=\"/nbextensions/google.colab/files.js\"></script> "
            ]
          },
          "metadata": {}
        },
        {
          "output_type": "stream",
          "name": "stdout",
          "text": [
            "Saving employee_data2.csv to employee_data2 (1).csv\n"
          ]
        }
      ]
    },
    {
      "cell_type": "code",
      "source": [
        "employees = spark.read.csv('employee_data2.csv', header=True, inferSchema=True)"
      ],
      "metadata": {
        "id": "NcLkxugRYgMC"
      },
      "execution_count": null,
      "outputs": []
    },
    {
      "cell_type": "markdown",
      "source": [
        "### Schema dataset-ului:"
      ],
      "metadata": {
        "id": "zGj2WbgXYpeJ"
      }
    },
    {
      "cell_type": "code",
      "source": [
        "employees.printSchema()"
      ],
      "metadata": {
        "colab": {
          "base_uri": "https://localhost:8080/"
        },
        "id": "gJ6LEhsvYjrE",
        "outputId": "03f4d719-fb26-483d-a7fd-170177f92358"
      },
      "execution_count": null,
      "outputs": [
        {
          "output_type": "stream",
          "name": "stdout",
          "text": [
            "root\n",
            " |-- _c0: integer (nullable = true)\n",
            " |-- department: string (nullable = true)\n",
            " |-- promoted: double (nullable = true)\n",
            " |-- review: double (nullable = true)\n",
            " |-- projects: double (nullable = true)\n",
            " |-- salary: string (nullable = true)\n",
            " |-- tenure: double (nullable = true)\n",
            " |-- satisfaction: double (nullable = true)\n",
            " |-- bonus: double (nullable = true)\n",
            " |-- avg_hrs_month: double (nullable = true)\n",
            " |-- left: string (nullable = true)\n",
            "\n"
          ]
        }
      ]
    },
    {
      "cell_type": "code",
      "source": [
        "print(\"Setul de date contine %d date\" % employees.count())"
      ],
      "metadata": {
        "colab": {
          "base_uri": "https://localhost:8080/"
        },
        "id": "vure2P9tYwAh",
        "outputId": "af3d3cab-0036-4041-ace8-65d9469e9033"
      },
      "execution_count": null,
      "outputs": [
        {
          "output_type": "stream",
          "name": "stdout",
          "text": [
            "Setul de date contine 9540 date\n"
          ]
        }
      ]
    },
    {
      "cell_type": "code",
      "source": [
        "employees.show(5)"
      ],
      "metadata": {
        "colab": {
          "base_uri": "https://localhost:8080/"
        },
        "id": "Z_q_BYOGYywH",
        "outputId": "4f8af623-6b6e-4d25-832d-718e71046659"
      },
      "execution_count": null,
      "outputs": [
        {
          "output_type": "stream",
          "name": "stdout",
          "text": [
            "+---+----------+--------+------------------+--------+------+------+------------------+-----+------------------+----+\n",
            "|_c0|department|promoted|            review|projects|salary|tenure|      satisfaction|bonus|     avg_hrs_month|left|\n",
            "+---+----------+--------+------------------+--------+------+------+------------------+-----+------------------+----+\n",
            "|  0|operations|     0.0|0.5775686596355698|     3.0|   low|   5.0|0.6267589740293295|  0.0| 180.8660696668475|  no|\n",
            "|  1|operations|     0.0|0.7518996607137884|     3.0|medium|   6.0|0.4436789547574034|  0.0| 182.7081489616225|  no|\n",
            "|  2|   support|     0.0|0.7225484486077993|     3.0|medium|   6.0|0.4468232240377964|  0.0| 184.4160840365652|  no|\n",
            "|  3| logistics|     0.0|0.6751583086657402|     4.0|  high|   8.0|0.4401387461171622|  0.0| 188.7075447757313|  no|\n",
            "|  4|     sales|     0.0| 0.676203174778892|     3.0|  high|   5.0|0.5776074456916579|  1.0|179.82108327312108|  no|\n",
            "+---+----------+--------+------------------+--------+------+------+------------------+-----+------------------+----+\n",
            "only showing top 5 rows\n",
            "\n"
          ]
        }
      ]
    },
    {
      "cell_type": "code",
      "source": [
        "employees.columns"
      ],
      "metadata": {
        "colab": {
          "base_uri": "https://localhost:8080/"
        },
        "id": "1gR3kjyXY2Pl",
        "outputId": "f9c51953-baa3-41c0-abeb-1e0479e9fac1"
      },
      "execution_count": null,
      "outputs": [
        {
          "output_type": "execute_result",
          "data": {
            "text/plain": [
              "['_c0',\n",
              " 'department',\n",
              " 'promoted',\n",
              " 'review',\n",
              " 'projects',\n",
              " 'salary',\n",
              " 'tenure',\n",
              " 'satisfaction',\n",
              " 'bonus',\n",
              " 'avg_hrs_month',\n",
              " 'left']"
            ]
          },
          "metadata": {},
          "execution_count": 85
        }
      ]
    },
    {
      "cell_type": "code",
      "source": [
        "len(employees.columns)"
      ],
      "metadata": {
        "colab": {
          "base_uri": "https://localhost:8080/"
        },
        "id": "8i3kOGooY45C",
        "outputId": "d64d33d7-ec08-4c62-ab99-58294801884e"
      },
      "execution_count": null,
      "outputs": [
        {
          "output_type": "execute_result",
          "data": {
            "text/plain": [
              "11"
            ]
          },
          "metadata": {},
          "execution_count": 86
        }
      ]
    },
    {
      "cell_type": "code",
      "source": [
        "employees.dtypes"
      ],
      "metadata": {
        "colab": {
          "base_uri": "https://localhost:8080/"
        },
        "id": "8bgrHT6MY6ry",
        "outputId": "09453064-8214-4128-b1b9-e835e1590271"
      },
      "execution_count": null,
      "outputs": [
        {
          "output_type": "execute_result",
          "data": {
            "text/plain": [
              "[('_c0', 'int'),\n",
              " ('department', 'string'),\n",
              " ('promoted', 'double'),\n",
              " ('review', 'double'),\n",
              " ('projects', 'double'),\n",
              " ('salary', 'string'),\n",
              " ('tenure', 'double'),\n",
              " ('satisfaction', 'double'),\n",
              " ('bonus', 'double'),\n",
              " ('avg_hrs_month', 'double'),\n",
              " ('left', 'string')]"
            ]
          },
          "metadata": {},
          "execution_count": 87
        }
      ]
    },
    {
      "cell_type": "markdown",
      "source": [
        "## 1. 🧹 Curatarea Datelor"
      ],
      "metadata": {
        "id": "y06C1Er3aOUk"
      }
    },
    {
      "cell_type": "markdown",
      "source": [
        "### 1.1 Modificarea tipului de date pentru coloanele `promoted` si `bonus`"
      ],
      "metadata": {
        "id": "IgVyrN91aXwJ"
      }
    },
    {
      "cell_type": "code",
      "source": [
        "employees = employees.withColumn(\"promoted\", employees.promoted.cast(\"boolean\"))\n",
        "employees = employees.withColumn(\"bonus\", employees.promoted.cast(\"boolean\"))"
      ],
      "metadata": {
        "id": "PL6wT4QOY82t"
      },
      "execution_count": null,
      "outputs": []
    },
    {
      "cell_type": "code",
      "source": [
        "# verificare ca modificarile au avut loc\n",
        "employees.printSchema()"
      ],
      "metadata": {
        "colab": {
          "base_uri": "https://localhost:8080/"
        },
        "id": "FuK-tudzaoJx",
        "outputId": "c8d25835-f71c-4b87-ee75-607f0e6b39e4"
      },
      "execution_count": null,
      "outputs": [
        {
          "output_type": "stream",
          "name": "stdout",
          "text": [
            "root\n",
            " |-- _c0: integer (nullable = true)\n",
            " |-- department: string (nullable = true)\n",
            " |-- promoted: boolean (nullable = true)\n",
            " |-- review: double (nullable = true)\n",
            " |-- projects: double (nullable = true)\n",
            " |-- salary: string (nullable = true)\n",
            " |-- tenure: double (nullable = true)\n",
            " |-- satisfaction: double (nullable = true)\n",
            " |-- bonus: boolean (nullable = true)\n",
            " |-- avg_hrs_month: double (nullable = true)\n",
            " |-- left: string (nullable = true)\n",
            "\n"
          ]
        }
      ]
    },
    {
      "cell_type": "markdown",
      "source": [
        "### 1.2 Exista valori nule in dataset?\n",
        "Pentru aceasta, vom folosi libraria `missingno` pentru o verificare mai usoara a datelor lipsa."
      ],
      "metadata": {
        "id": "WZ_RcX9PayfT"
      }
    },
    {
      "cell_type": "code",
      "source": [
        "employees_df = employees.toPandas()\n",
        "msno.bar(employees_df)\n",
        "plt.show()"
      ],
      "metadata": {
        "colab": {
          "base_uri": "https://localhost:8080/",
          "height": 690
        },
        "id": "e53DKFU0avKX",
        "outputId": "961fc649-fca7-4c8c-e350-477146eb7b0b"
      },
      "execution_count": null,
      "outputs": [
        {
          "output_type": "display_data",
          "data": {
            "text/plain": [
              "<Figure size 1800x720 with 3 Axes>"
            ],
            "image/png": "[encoded data removed]"
          },
          "metadata": {
            "needs_background": "light"
          }
        }
      ]
    },
    {
      "cell_type": "markdown",
      "source": [
        " ❗❗❗ Toate coloanele au cel putin 4 valori lipsa. Avand in vedere ca in total sunt 9540 de angajati in dataset, putem sterge cele 4 valori nule prezente in fiecare coloana, insa am decis ca mai intai sa completam valorile nule din coloanele `review` si `avg_hrs_month` cu media acestora, apoi pentru celelalte coloane sa stergem definitiv valorile nule."
      ],
      "metadata": {
        "id": "AmltIeaKbOr7"
      }
    },
    {
      "cell_type": "code",
      "source": [
        "# numarul de randuri goale pentru coloana review\n",
        "missing = employees.where(employees['review'].isNull()).count()\n",
        "print(missing, 'valori lipsesc in coloana review')"
      ],
      "metadata": {
        "colab": {
          "base_uri": "https://localhost:8080/"
        },
        "id": "DcQeuuy6bKvq",
        "outputId": "320edcd4-3936-452a-a064-9cbe5e416c80"
      },
      "execution_count": null,
      "outputs": [
        {
          "output_type": "stream",
          "name": "stdout",
          "text": [
            "7 valori lipsesc in coloana review\n"
          ]
        }
      ]
    },
    {
      "cell_type": "code",
      "source": [
        "mean_review = employees.agg({'review': 'mean'}).collect()[0][0]\n",
        "print(mean_review)\n",
        "\n",
        "employees = employees.fillna(mean_review, subset=['review'])\n",
        "print('Dupa inlocuirea cu media a valorilor nule, in coloana review mai sunt',\n",
        "      employees.filter('review IS NULL').count(), 'valori nule.')"
      ],
      "metadata": {
        "colab": {
          "base_uri": "https://localhost:8080/"
        },
        "id": "s4bIh9ICcS56",
        "outputId": "deef35f4-800c-47bd-8508-8899267a6340"
      },
      "execution_count": null,
      "outputs": [
        {
          "output_type": "stream",
          "name": "stdout",
          "text": [
            "0.6518538109979777\n",
            "Dupa inlocuirea cu media a valorilor nule, in coloana review mai sunt 0 valori nule.\n"
          ]
        }
      ]
    },
    {
      "cell_type": "code",
      "source": [
        "# facem acelasi lucru pentru coloana avg_hrs_month\n",
        "mean_avg_hrs = employees.agg({'avg_hrs_month': 'mean'}).collect()[0][0]\n",
        "print(mean_avg_hrs)\n",
        "\n",
        "employees.fillna(value=mean_avg_hrs, subset=['avg_hrs_month'])\n",
        "print('Dupa inlocuirea cu media a valorilor nule, in coloana avg_hrs_month mai sunt',\n",
        "      employees.filter('avg_hrs_month IS NULL').count(), 'valori nule.')"
      ],
      "metadata": {
        "colab": {
          "base_uri": "https://localhost:8080/"
        },
        "id": "9FQNA12Ucg8l",
        "outputId": "0a2c96ee-0128-4fe0-b033-5c0fb0d915ad"
      },
      "execution_count": null,
      "outputs": [
        {
          "output_type": "stream",
          "name": "stdout",
          "text": [
            "184.6611250852271\n",
            "Dupa inlocuirea cu media a valorilor nule, in coloana avg_hrs_month mai sunt 7 valori nule.\n"
          ]
        }
      ]
    },
    {
      "cell_type": "code",
      "source": [
        "# eliminam valorile nule din dataset\n",
        "employees = employees.dropna()"
      ],
      "metadata": {
        "id": "aYL6BWA2dEae"
      },
      "execution_count": null,
      "outputs": []
    },
    {
      "cell_type": "code",
      "source": [
        "# verificam ca modificarile facute sa aiba efect\n",
        "employees.createOrReplaceTempView(\"employees\")\n",
        "spark.sql(\"SELECT COUNT(*) FROM employees where review IS NULL\").show()"
      ],
      "metadata": {
        "colab": {
          "base_uri": "https://localhost:8080/"
        },
        "id": "ODxTgi3gdNSO",
        "outputId": "6b5c6b03-81d6-41f3-c469-cd681fb0cd1a"
      },
      "execution_count": null,
      "outputs": [
        {
          "output_type": "stream",
          "name": "stdout",
          "text": [
            "+--------+\n",
            "|count(1)|\n",
            "+--------+\n",
            "|       0|\n",
            "+--------+\n",
            "\n"
          ]
        }
      ]
    },
    {
      "cell_type": "markdown",
      "source": [
        "### 1.3 Pentru coloanele `review`, `satisfaction` si `avg_hrs_month` vom modifica valorile lor prin a avea doar doua zecimale\n",
        "\n",
        "\n",
        "\n"
      ],
      "metadata": {
        "id": "0ij3_ar8dYg0"
      }
    },
    {
      "cell_type": "code",
      "source": [
        "employees = employees.withColumn(\"review\", F.round(employees.review, 2))\n",
        "employees = employees.withColumn(\"satisfaction\", F.round(employees.satisfaction, 2))\n",
        "employees = employees.withColumn(\"avg_hrs_month\", F.round(employees.avg_hrs_month, 2))"
      ],
      "metadata": {
        "id": "AH1IP9-AdSw6"
      },
      "execution_count": null,
      "outputs": []
    },
    {
      "cell_type": "code",
      "source": [
        "employees.show(10)"
      ],
      "metadata": {
        "colab": {
          "base_uri": "https://localhost:8080/"
        },
        "id": "IuUOwyK6dqzy",
        "outputId": "df8f1304-c56f-4421-9f0f-7511cdf437da"
      },
      "execution_count": null,
      "outputs": [
        {
          "output_type": "stream",
          "name": "stdout",
          "text": [
            "+---+----------+--------+------+--------+------+------+------------+-----+-------------+----+\n",
            "|_c0|department|promoted|review|projects|salary|tenure|satisfaction|bonus|avg_hrs_month|left|\n",
            "+---+----------+--------+------+--------+------+------+------------+-----+-------------+----+\n",
            "|  0|operations|   false|  0.58|     3.0|   low|   5.0|        0.63|false|       180.87|  no|\n",
            "|  1|operations|   false|  0.75|     3.0|medium|   6.0|        0.44|false|       182.71|  no|\n",
            "|  2|   support|   false|  0.72|     3.0|medium|   6.0|        0.45|false|       184.42|  no|\n",
            "|  3| logistics|   false|  0.68|     4.0|  high|   8.0|        0.44|false|       188.71|  no|\n",
            "|  4|     sales|   false|  0.68|     3.0|  high|   5.0|        0.58|false|       179.82|  no|\n",
            "|  5|        IT|   false|  0.68|     2.0|medium|   5.0|        0.57|false|       178.84|  no|\n",
            "|  6|     admin|   false|  0.62|     4.0|  high|   5.0|        0.69|false|       181.14|  no|\n",
            "|  7|   support|   false|   0.5|     4.0|medium|   7.0|        0.72|false|       184.98|  no|\n",
            "|  8|     sales|   false|  0.65|     4.0|   low|   6.0|        0.68|false|       183.66|  no|\n",
            "|  9|     sales|   false|  0.64|     3.0|medium|   6.0|        0.62|false|       181.85|  no|\n",
            "+---+----------+--------+------+--------+------+------+------------+-----+-------------+----+\n",
            "only showing top 10 rows\n",
            "\n"
          ]
        }
      ]
    },
    {
      "cell_type": "code",
      "source": [
        "print('Dupa curatarea datelor, avem', employees.count(), 'angajati.')"
      ],
      "metadata": {
        "colab": {
          "base_uri": "https://localhost:8080/"
        },
        "id": "s3Rx1shyfpqI",
        "outputId": "20c8a71a-b69f-43bf-c83d-3f89e966bb36"
      },
      "execution_count": null,
      "outputs": [
        {
          "output_type": "stream",
          "name": "stdout",
          "text": [
            "Dupa curatarea datelor, avem 9533 angajati.\n"
          ]
        }
      ]
    },
    {
      "cell_type": "markdown",
      "source": [
        "\n",
        "\n",
        "---\n",
        "\n"
      ],
      "metadata": {
        "id": "X46ZMJLTum_c"
      }
    },
    {
      "cell_type": "markdown",
      "source": [
        "## 2. 🧭 Explorarea Datelor\n",
        "\n",
        "Acum ca avem datele curatate, vom incerca sa exploram mai in detaliu setul de date si sa extragem informatii importante.\n",
        "\n",
        "Ce ne propunem sa aflam in aceasta etapa:\n",
        "\n",
        "✅ Cati angajati au plecat pana acum din companie?\n",
        "\n",
        "✅ Cat lucreaza in medie angajatii la aceasta companie? Care este in medie satisfactia lor? In urma evaluarii lor, ce se constata? La cate proiecte lucreaza in medie? Cate ore lucreaza pe luna?\n",
        "\n",
        "✅ Care este departamentul cu cei mai multi angajati care au plecat? Dar cu cei mai putini?\n",
        "\n",
        "✅ Care este procentul de plecare a angajatilor pe departamente?\n",
        "\n",
        "✅ Cati angajati au plecat luand in vedere daca au fost promovati sau nu? Dar daca au primit bonusuri?\n",
        "\n",
        "✅ Ce efect are salariul asupra celor care au plecat?\n",
        "\n",
        "✅ La cate proiecte lucrau cei care plecat?\n",
        "\n",
        "✅ Dupa cati ani au decis angajatii sa plece?\n",
        "\n",
        "✅ Ce impact are satisfactia angajatilor asupra plecarii lor? Dar review-ul acestora?\n",
        "\n",
        "✅ Cate ore lucrau angajatii pe luna pana sa plece?"
      ],
      "metadata": {
        "id": "VmN8_tkodzQ6"
      }
    },
    {
      "cell_type": "code",
      "source": [
        "# intrebarea nr 1: cati oameni au plecat pana acum din companie?\n",
        "prop_people_left = employees.filter(employees['left'] == 'yes').count() / employees.count() * 100\n",
        "\n",
        "print(f\"Pana acum, din companie au plecat {Fore.RED}{prop_people_left:.2f}%{Style.RESET_ALL} din toti angajatii.\")"
      ],
      "metadata": {
        "colab": {
          "base_uri": "https://localhost:8080/"
        },
        "id": "3gIsqS89ds9t",
        "outputId": "c1afcbb3-fd5b-4aab-eac1-349de2fb5ba2"
      },
      "execution_count": null,
      "outputs": [
        {
          "output_type": "stream",
          "name": "stdout",
          "text": [
            "Pana acum, din companie au plecat \u001b[31m29.18%\u001b[0m din toti angajatii.\n"
          ]
        }
      ]
    },
    {
      "cell_type": "code",
      "source": [
        "# cati oameni au primit bonusuri?\n",
        "prop_people_with_bonus = employees.filter(employees['bonus'] == True).count() / employees.count() * 100\n",
        "\n",
        "print(f\"Pana acum, au primit bonus {Fore.GREEN}{prop_people_with_bonus:.2f}%{Style.RESET_ALL} din toti angajatii.\")"
      ],
      "metadata": {
        "colab": {
          "base_uri": "https://localhost:8080/"
        },
        "id": "JKd8SjAzgAwf",
        "outputId": "f8313f0e-c06a-4bcc-92b4-e31c5f751eda"
      },
      "execution_count": null,
      "outputs": [
        {
          "output_type": "stream",
          "name": "stdout",
          "text": [
            "Pana acum, au primit bonus \u001b[32m3.03%\u001b[0m din toti angajatii.\n"
          ]
        }
      ]
    },
    {
      "cell_type": "code",
      "source": [
        "# intrebarea nr 2: Date statistice despre angajati\n",
        "employees.describe().show()"
      ],
      "metadata": {
        "colab": {
          "base_uri": "https://localhost:8080/"
        },
        "id": "1wUv7cGFgTxD",
        "outputId": "f4fafa3a-f91d-4d80-9bbd-9de757190a23"
      },
      "execution_count": null,
      "outputs": [
        {
          "output_type": "stream",
          "name": "stdout",
          "text": [
            "+-------+-----------------+----------+-------------------+------------------+------+-----------------+-------------------+------------------+----+\n",
            "|summary|              _c0|department|             review|          projects|salary|           tenure|       satisfaction|     avg_hrs_month|left|\n",
            "+-------+-----------------+----------+-------------------+------------------+------+-----------------+-------------------+------------------+----+\n",
            "|  count|             9533|      9533|               9533|              9533|  9533|             9533|               9533|              9533|9533|\n",
            "|   mean|4769.999685303682|      null| 0.6518955208224081|3.2748347844330223|  null|6.555963495227106| 0.5045547047099559|184.66110668205096|null|\n",
            "| stddev|2753.373384798771|      null|0.08530354082136132|0.5792188063214656|  null|1.415599852068631|0.15856920142620914| 4.145216418849116|null|\n",
            "|    min|                0|        IT|               0.31|               2.0|  high|              2.0|                0.0|            171.37|  no|\n",
            "|    max|             9539|   support|                1.0|               5.0|medium|             12.0|                1.0|            200.86| yes|\n",
            "+-------+-----------------+----------+-------------------+------------------+------+-----------------+-------------------+------------------+----+\n",
            "\n"
          ]
        }
      ]
    },
    {
      "cell_type": "markdown",
      "source": [
        "❗❗❗ Media anilor de lucru este de 6.55 ani. Totodata, in urma evaluarilor, media Review-urilor angajatilor este 0.65. Aceste doua metrici ne arata ca angajatii in general tind sa stea destul de mult in companie si sa isi desfasoare activitatea destul de bine.\n",
        "\n",
        "❗❗❗Numarul medii de Proiecte este 3, iar media orelor lucrate pe luna este 184-185 ore, ceea ce este destul de normal.\n",
        "\n",
        "❗❗❗ Satisfactia angajatilor pare un pic ingrijoratoare intrucat media este de 0.50.\n",
        "\n",
        "❗❗❗ Se remarca ceva foarte interesant in ceea ce priveste vechimea angajatilor,\n",
        "cel mai \"nou\" angajat are o vechime de doi ani, ceea ce inseamna ca aceasta corporatie nu a mai facut angajari recente.\n"
      ],
      "metadata": {
        "id": "AQrKV-cXgx_R"
      }
    },
    {
      "cell_type": "code",
      "source": [
        "# intrebarea nr 4: Care este departamentul cu cei mai multi angajati care au plecat? Dar cu cei mai putini?\n",
        "# intrebarea nr 5: Care este procentul de plecare a angajatilor pe departamente?\n",
        "employees_dept = employees.filter(employees.left == 'yes').groupBy('department').count()\n",
        "employees_dept = employees_dept.withColumnRenamed(\"count\", \"count_yes\")\n",
        "employees_dept.show()\n",
        "\n",
        "employees_dept2 = employees.groupBy('department').count()\n",
        "employees_dept = employees_dept.join(employees_dept2, on=\"department\")\n",
        "employees_dept.show()\n",
        "\n",
        "employees_dept = employees_dept.withColumn('percentage', F.round(F.col('count_yes') / F.col('count') * 100, 2))\n",
        "employees_dept = employees_dept.orderBy('percentage', ascending=False)\n",
        "employees_dept.show()"
      ],
      "metadata": {
        "colab": {
          "base_uri": "https://localhost:8080/"
        },
        "id": "MVDYPNq8gv9u",
        "outputId": "699587dc-f4b0-4755-bdc8-bca65deaec00"
      },
      "execution_count": null,
      "outputs": [
        {
          "output_type": "stream",
          "name": "stdout",
          "text": [
            "+-----------+---------+\n",
            "| department|count_yes|\n",
            "+-----------+---------+\n",
            "|    finance|      108|\n",
            "|  marketing|      243|\n",
            "|      sales|      537|\n",
            "|    support|      212|\n",
            "|     retail|      470|\n",
            "|  logistics|      111|\n",
            "|         IT|      110|\n",
            "|      admin|      119|\n",
            "| operations|      435|\n",
            "|engineering|      437|\n",
            "+-----------+---------+\n",
            "\n",
            "+-----------+---------+-----+\n",
            "| department|count_yes|count|\n",
            "+-----------+---------+-----+\n",
            "|    finance|      108|  402|\n",
            "|  marketing|      243|  801|\n",
            "|      sales|      537| 1883|\n",
            "|    support|      212|  733|\n",
            "|     retail|      470| 1540|\n",
            "|  logistics|      111|  360|\n",
            "|         IT|      110|  356|\n",
            "|      admin|      119|  422|\n",
            "| operations|      435| 1521|\n",
            "|engineering|      437| 1515|\n",
            "+-----------+---------+-----+\n",
            "\n",
            "+-----------+---------+-----+----------+\n",
            "| department|count_yes|count|percentage|\n",
            "+-----------+---------+-----+----------+\n",
            "|         IT|      110|  356|      30.9|\n",
            "|  logistics|      111|  360|     30.83|\n",
            "|     retail|      470| 1540|     30.52|\n",
            "|  marketing|      243|  801|     30.34|\n",
            "|    support|      212|  733|     28.92|\n",
            "|engineering|      437| 1515|     28.84|\n",
            "| operations|      435| 1521|      28.6|\n",
            "|      sales|      537| 1883|     28.52|\n",
            "|      admin|      119|  422|      28.2|\n",
            "|    finance|      108|  402|     26.87|\n",
            "+-----------+---------+-----+----------+\n",
            "\n"
          ]
        }
      ]
    },
    {
      "cell_type": "code",
      "source": [
        "palette = sns.color_palette('Blues', n_colors=10)\n",
        "palette.reverse()"
      ],
      "metadata": {
        "id": "uUf1cjYDiqrV"
      },
      "execution_count": null,
      "outputs": []
    },
    {
      "cell_type": "code",
      "source": [
        "employees_dept_pd = employees_dept.toPandas()\n",
        "\n",
        "p = sns.catplot(x='department', y='percentage', data=employees_dept_pd, kind='bar', height=5, \n",
        "                 aspect=2, saturation=0.8, palette=palette)\n",
        "p.set_axis_labels('Departament', 'Cati oameni au plecat (%)')\n",
        "p.fig.subplots_adjust(top=0.9)\n",
        "p.fig.suptitle(\"Figura 1: Cati oameni au plecat din corporatie pe departament\")\n",
        "\n",
        "# extract the matplotlib axes_subplot objects from the FacetGrid\n",
        "ax = p.facet_axis(0,0)\n",
        "# iterate through the axes patches\n",
        "for pat in ax.patches:\n",
        "    ax.text(pat.get_x() + 0.25, \n",
        "            pat.get_height() * 1.02, \n",
        "           '{0:.1f}'.format(pat.get_height()),\n",
        "            color='black', \n",
        "            rotation = 'horizontal', \n",
        "            size = 'medium')"
      ],
      "metadata": {
        "colab": {
          "base_uri": "https://localhost:8080/",
          "height": 373
        },
        "id": "oOWbDYMSiQNK",
        "outputId": "b7b0b8b0-1d8d-4925-df3a-6ff5642e8365"
      },
      "execution_count": null,
      "outputs": [
        {
          "output_type": "display_data",
          "data": {
            "text/plain": [
              "<Figure size 720x360 with 1 Axes>"
            ],
            "image/png": "[encoded data removed]"
          },
          "metadata": {
            "needs_background": "light"
          }
        }
      ]
    },
    {
      "cell_type": "markdown",
      "source": [
        "❗❗❗ Figura 1 indica faptul ca **cea mai mare rata** de plecare a angajatilor se remarca in **departamentul de IT (30.9%)**, iar **cea mai mica rata** este inregistrata in **departamentul de Finante** **(26.9%)**."
      ],
      "metadata": {
        "id": "84I3mHHti9dL"
      }
    },
    {
      "cell_type": "code",
      "source": [
        "# intrebarea nr 6: Cum au plecat angajatii in functie de promovare?\n",
        "\n",
        "# v1: Utilizam Dataframes\n",
        "employees_promotion = employees.filter(employees.left == 'yes').groupBy('promoted').count()\n",
        "employees_promotion_all = employees_dept2 = employees.groupBy('promoted').count()\n",
        "employees_promotion = employees_promotion.withColumnRenamed(\"count\", \"count_yes\")\n",
        "employees_promotion = employees_promotion.join(employees_promotion_all, on=\"promoted\")\n",
        "employees_promotion = employees_promotion.withColumn('percentage', F.round(F.col('count_yes') / F.col('count') * 100, 2))\n",
        "employees_promotion.show()"
      ],
      "metadata": {
        "colab": {
          "base_uri": "https://localhost:8080/"
        },
        "id": "MJcX2wqei5uY",
        "outputId": "fbe42fec-a631-428d-bd69-6f1a3c7c90e4"
      },
      "execution_count": null,
      "outputs": [
        {
          "output_type": "stream",
          "name": "stdout",
          "text": [
            "+--------+---------+-----+----------+\n",
            "|promoted|count_yes|count|percentage|\n",
            "+--------+---------+-----+----------+\n",
            "|    true|       57|  289|     19.72|\n",
            "|   false|     2725| 9244|     29.48|\n",
            "+--------+---------+-----+----------+\n",
            "\n"
          ]
        }
      ]
    },
    {
      "cell_type": "code",
      "source": [
        "employees_promotion_pandas = employees_promotion.toPandas()\n",
        "pr = sns.barplot(x='promoted',\n",
        "                 y='percentage',\n",
        "                 data=employees_promotion_pandas, \n",
        "                 saturation=0.5,\n",
        "                 palette=palette)\n",
        "\n",
        "pr.set(xlabel=\"Promovare\", \n",
        "       ylabel=\"Cati oameni au plecat (%)\")\n",
        "\n",
        "pr.set_xticklabels([\"Nu\", \"Da\"])\n",
        "plt.show()"
      ],
      "metadata": {
        "colab": {
          "base_uri": "https://localhost:8080/",
          "height": 279
        },
        "id": "Tgi61wQtj85J",
        "outputId": "a3fb46c0-e1a9-4460-946b-543a978c889d"
      },
      "execution_count": null,
      "outputs": [
        {
          "output_type": "display_data",
          "data": {
            "text/plain": [
              "<Figure size 432x288 with 1 Axes>"
            ],
            "image/png": "[encoded data removed]"
          },
          "metadata": {
            "needs_background": "light"
          }
        }
      ]
    },
    {
      "cell_type": "markdown",
      "source": [
        "❗❗❗ Figura de mai sus ne arata ca au plecat mai multi oameni care nu au fost promovati fata de cei care au fost promovati. (**Diferenta de 10%**)"
      ],
      "metadata": {
        "id": "EJrxjdrLlDm0"
      }
    },
    {
      "cell_type": "code",
      "source": [
        "# v2: Utilizand Spark SQL\n",
        "employees.createOrReplaceTempView(\"employees\")\n",
        "\n",
        "query_1 = \"\"\"\n",
        "        SELECT promoted, COUNT(*) AS count_yes\n",
        "        FROM employees\n",
        "        WHERE left = 'yes'\n",
        "        GROUP BY promoted\n",
        "\"\"\"\n",
        "\n",
        "\n",
        "query_2 = \"\"\"\n",
        "        SELECT promoted, COUNT(*) AS count_total\n",
        "        FROM employees\n",
        "        GROUP BY promoted\n",
        "\"\"\"\n",
        "employees_p = spark.sql(query_1)\n",
        "employees_t = spark.sql(query_2)\n",
        "\n",
        "employees_p.createOrReplaceTempView(\"employees_p\")\n",
        "employees_t.createOrReplaceTempView(\"employees_t\")\n",
        "\n",
        "query_3 = \"\"\"\n",
        "        SELECT promoted, count_yes, count_total\n",
        "        FROM employees_p \n",
        "        JOIN employees_t\n",
        "        USING (promoted)\n",
        "\n",
        "\"\"\"\n",
        "employees_p = spark.sql(query_3)\n",
        "employees_p = employees_p.withColumn('percentage', F.round(F.col('count_yes') / F.col('count_total') * 100, 2))\n",
        "employees_p.show()"
      ],
      "metadata": {
        "colab": {
          "base_uri": "https://localhost:8080/"
        },
        "id": "HNzMJKGhkQcK",
        "outputId": "d7135280-e6bc-441f-c146-537001185704"
      },
      "execution_count": null,
      "outputs": [
        {
          "output_type": "stream",
          "name": "stdout",
          "text": [
            "+--------+---------+-----------+----------+\n",
            "|promoted|count_yes|count_total|percentage|\n",
            "+--------+---------+-----------+----------+\n",
            "|    true|       57|        289|     19.72|\n",
            "|   false|     2725|       9244|     29.48|\n",
            "+--------+---------+-----------+----------+\n",
            "\n"
          ]
        }
      ]
    },
    {
      "cell_type": "code",
      "source": [
        "# intrebarea nr 7: Plecarea angajatilor in functie de salariul acestora\n",
        "employees_salary = employees.filter(employees.left == 'yes') \\\n",
        "                            .groupBy('salary') \\\n",
        "                            .count() \\\n",
        "                            .withColumnRenamed(\"count\", \"count_yes\")\n",
        "\n",
        "employees_salary_all = employees.groupBy('salary') \\\n",
        "                                .count()\n",
        "\n",
        "employees_salary = employees_salary.join(employees_salary_all, on=\"salary\") \\\n",
        "                                    .withColumn('percentage', \\\n",
        "                                                F.round(F.col('count_yes') / F.col('count') * 100, 2))\n",
        "employees_salary.show()"
      ],
      "metadata": {
        "colab": {
          "base_uri": "https://localhost:8080/"
        },
        "id": "fnPE3ga5ldSI",
        "outputId": "e11f142c-c92e-40fb-d66a-dfba02ae39cc"
      },
      "execution_count": null,
      "outputs": [
        {
          "output_type": "stream",
          "name": "stdout",
          "text": [
            "+------+---------+-----+----------+\n",
            "|salary|count_yes|count|percentage|\n",
            "+------+---------+-----+----------+\n",
            "|   low|      391| 1380|     28.33|\n",
            "|  high|      442| 1548|     28.55|\n",
            "|medium|     1949| 6605|     29.51|\n",
            "+------+---------+-----+----------+\n",
            "\n"
          ]
        }
      ]
    },
    {
      "cell_type": "code",
      "source": [
        "employees_salary_pandas = employees_salary.toPandas()\n",
        "\n",
        "pr = sns.barplot(x='salary',\n",
        "                 y='percentage', \n",
        "                 data=employees_salary_pandas, \n",
        "                 saturation=0.5,\n",
        "                 palette=palette)\n",
        "\n",
        "pr.set(xlabel=\"Salariu\", ylabel=\"Cati oameni au plecat (%)\")\n",
        "plt.show()"
      ],
      "metadata": {
        "colab": {
          "base_uri": "https://localhost:8080/",
          "height": 279
        },
        "id": "fJ6B9f0_lwCc",
        "outputId": "35b06eaa-ceb9-46aa-812f-b1aeb3be6623"
      },
      "execution_count": null,
      "outputs": [
        {
          "output_type": "display_data",
          "data": {
            "text/plain": [
              "<Figure size 432x288 with 1 Axes>"
            ],
            "image/png": "[encoded data removed]"
          },
          "metadata": {
            "needs_background": "light"
          }
        }
      ]
    },
    {
      "cell_type": "markdown",
      "source": [
        "❗❗❗In functie de salariu, nu se remarca diferente foarte mari in ceea ce priveste plecarea angajatilor. Putem observa totusi ca **cei mai multi care pleaca** sunt cei cu **salariul mediu**."
      ],
      "metadata": {
        "id": "kzgqJAG6l25x"
      }
    },
    {
      "cell_type": "code",
      "source": [
        "# intrebarea 8: Plecarea angajatilor in functie de numarul de proiectele la care lucreaza\n",
        "employees_projects = employees.filter(employees.left == 'yes') \\\n",
        "                    .groupBy('projects') \\\n",
        "                    .count() \\\n",
        "                    .withColumnRenamed(\"count\", \"count_yes\")\n",
        "\n",
        "employees_projects_all = employees.groupBy('projects') \\\n",
        "                        .count()\n",
        "\n",
        "employees_projects = employees_projects.join(employees_projects_all, on=\"projects\") \\\n",
        "                    .withColumn('percentage', \\\n",
        "                                F.round(F.col('count_yes') / F.col('count') * 100, 2))\n",
        "\n",
        "employees_projects.show()\n"
      ],
      "metadata": {
        "colab": {
          "base_uri": "https://localhost:8080/"
        },
        "id": "aMkCFbZ5l1jv",
        "outputId": "5487461c-9d9a-4593-c601-2805586837d1"
      },
      "execution_count": null,
      "outputs": [
        {
          "output_type": "stream",
          "name": "stdout",
          "text": [
            "+--------+---------+-----+----------+\n",
            "|projects|count_yes|count|percentage|\n",
            "+--------+---------+-----+----------+\n",
            "|     4.0|      869| 3056|     28.44|\n",
            "|     3.0|     1718| 5828|     29.48|\n",
            "|     2.0|      175|  578|     30.28|\n",
            "|     5.0|       20|   71|     28.17|\n",
            "+--------+---------+-----+----------+\n",
            "\n"
          ]
        }
      ]
    },
    {
      "cell_type": "code",
      "source": [
        "employees_projects_pandas = employees_projects.toPandas()\n",
        "\n",
        "pr = sns.barplot(x='projects',\n",
        "                 y='percentage',\n",
        "                 data=employees_projects_pandas, saturation=0.5,\n",
        "                 palette=palette)\n",
        "\n",
        "pr.set(xlabel=\"Nr de Proiecte\", ylabel=\"Cati oameni au plecat (%)\")\n",
        "\n",
        "plt.show()"
      ],
      "metadata": {
        "colab": {
          "base_uri": "https://localhost:8080/",
          "height": 279
        },
        "id": "ujypBUr6m3hK",
        "outputId": "861e2525-42c5-4fed-bcb2-e9477b455598"
      },
      "execution_count": null,
      "outputs": [
        {
          "output_type": "display_data",
          "data": {
            "text/plain": [
              "<Figure size 432x288 with 1 Axes>"
            ],
            "image/png": "[encoded data removed]"
          },
          "metadata": {
            "needs_background": "light"
          }
        }
      ]
    },
    {
      "cell_type": "markdown",
      "source": [
        "❗❗❗Nici in ceea ce priveste proiectele nu se remarca diferente foarte mari cand vine vorba de plecarea angajatilor, sunt prezente mici diferente intre cei cu mai multe proiecte si cei cu mai putine."
      ],
      "metadata": {
        "id": "dN--x1w9n6kH"
      }
    },
    {
      "cell_type": "code",
      "source": [
        "# intrebarea 9: Plecarea angajatilor in functie de vechimea acestora in companie\n",
        "employees_tenure = employees.filter(employees.left == 'yes') \\\n",
        "                    .groupBy('tenure') \\\n",
        "                    .count() \\\n",
        "                    .withColumnRenamed(\"count\", \"count_yes\")\n",
        "\n",
        "employees_tenure_all = employees.groupBy('tenure') \\\n",
        "                        .count()\n",
        "\n",
        "employees_tenure = employees_tenure.join(employees_tenure_all, on=\"tenure\") \\\n",
        "                    .withColumn('percentage', \\\n",
        "                                F.round(F.col('count_yes') / F.col('count') * 100, 2)) \\\n",
        "                    .orderBy('tenure')\n",
        "\n",
        "employees_tenure.show()"
      ],
      "metadata": {
        "colab": {
          "base_uri": "https://localhost:8080/"
        },
        "id": "gX96AYidn3hz",
        "outputId": "0f43fb42-39b4-4661-8dcd-29ccc8f053f4"
      },
      "execution_count": null,
      "outputs": [
        {
          "output_type": "stream",
          "name": "stdout",
          "text": [
            "+------+---------+-----+----------+\n",
            "|tenure|count_yes|count|percentage|\n",
            "+------+---------+-----+----------+\n",
            "|   2.0|        2|    3|     66.67|\n",
            "|   3.0|       30|   57|     52.63|\n",
            "|   4.0|      186|  518|     35.91|\n",
            "|   5.0|      428| 1822|     23.49|\n",
            "|   6.0|      478| 2311|     20.68|\n",
            "|   7.0|      823| 2208|     37.27|\n",
            "|   8.0|      821| 1885|     43.55|\n",
            "|   9.0|       14|  578|      2.42|\n",
            "+------+---------+-----+----------+\n",
            "\n"
          ]
        }
      ]
    },
    {
      "cell_type": "code",
      "source": [
        "employees_tenure_pandas = employees_tenure.toPandas()\n",
        "\n",
        "pr = sns.barplot(x='tenure',\n",
        "                 y='percentage',\n",
        "                 data=employees_tenure_pandas, \n",
        "                 saturation=0.5,\n",
        "                palette=palette)\n",
        "\n",
        "pr.set(xlabel=\"Vechimea in companie (ani)\", ylabel=\"Cati oameni au plecat (%)\")\n",
        "\n",
        "plt.show()"
      ],
      "metadata": {
        "colab": {
          "base_uri": "https://localhost:8080/",
          "height": 283
        },
        "id": "xMkyNbzwoP_F",
        "outputId": "a572ec62-a08d-4b75-d1f2-49dec1568741"
      },
      "execution_count": null,
      "outputs": [
        {
          "output_type": "display_data",
          "data": {
            "text/plain": [
              "<Figure size 432x288 with 1 Axes>"
            ],
            "image/png": "[encoded data removed]"
          },
          "metadata": {
            "needs_background": "light"
          }
        }
      ]
    },
    {
      "cell_type": "markdown",
      "source": [
        "❗❗❗In cazul vechimii angajatilor in companie, se poate remarca o relatie mai complexa in legatura cu plecarea angajatilor. Cea mai mare proportie a angajatilor care au plecat in companie a fost dupa ce acestia au stat 2 ani in companie, apoi proportia a scazut continuu pana in anul 6 cand din nou se remarca o crestere a numarului de plecari a angajatilor. In anul 9 se remarca nu mai pleaca aproape nimeni. "
      ],
      "metadata": {
        "id": "Ert_MlGToki2"
      }
    },
    {
      "cell_type": "code",
      "source": [
        "# intrebarea 10: Plecarea angajatilor in functie de evaluarea performantei acestora (scorul de review)\n",
        "employees_pandas = employees.toPandas()\n",
        "r = sns.FacetGrid(employees_pandas, col='left', height=5, aspect=1)\n",
        "r.map_dataframe(sns.histplot, x=\"review\", kde=True, stat='percent', bins=30)\n",
        "r.set_axis_labels(\"Performanta angajatilor\", \"Cati angajati au plecat (%)\")\n",
        "r.fig.subplots_adjust(top=0.85)"
      ],
      "metadata": {
        "colab": {
          "base_uri": "https://localhost:8080/",
          "height": 340
        },
        "id": "p3i54UusoaQ9",
        "outputId": "28cecde7-d91e-48bc-b033-54210039c9da"
      },
      "execution_count": null,
      "outputs": [
        {
          "output_type": "display_data",
          "data": {
            "text/plain": [
              "<Figure size 720x360 with 2 Axes>"
            ],
            "image/png": "[encoded data removed]"
          },
          "metadata": {
            "needs_background": "light"
          }
        }
      ]
    },
    {
      "cell_type": "markdown",
      "source": [
        "❗❗❗ Avand in vedere figura de mai sus in care sunt plotate distributiile angajatiilor care au plecat si care nu au plecat in functie de performanta, se remarca un lucru foarte interesant in graficul din dreapta, ***cei care au plecat au un scor al performantei mai mare***."
      ],
      "metadata": {
        "id": "TcCGj9rfptMD"
      }
    },
    {
      "cell_type": "code",
      "source": [
        "# intrebarea 11: Plecarea angajatilor in functie de satisfactia acestora la locul de munca\n",
        "s = sns.FacetGrid(employees_pandas, col=\"left\", height=5, aspect=1)\n",
        "s.map_dataframe(sns.histplot, x=\"satisfaction\", kde=True, stat='percent', bins=30)\n",
        "s.set_axis_labels(\"Nivelul de satisfactie\", \"Cati angajati au plecat (%)\")\n",
        "s.fig.subplots_adjust(top=0.85)"
      ],
      "metadata": {
        "colab": {
          "base_uri": "https://localhost:8080/",
          "height": 340
        },
        "id": "73-CwbSpppMY",
        "outputId": "2ff34e1c-9393-4a01-fc32-0336e2d100b8"
      },
      "execution_count": null,
      "outputs": [
        {
          "output_type": "display_data",
          "data": {
            "text/plain": [
              "<Figure size 720x360 with 2 Axes>"
            ],
            "image/png": "[encoded data removed]"
          },
          "metadata": {
            "needs_background": "light"
          }
        }
      ]
    },
    {
      "cell_type": "markdown",
      "source": [
        "❗❗❗Din figura de mai sus in care este prezentata distributia angajatilor in cele doua cazuri (cand nu au plecat din companie si cand au plecat), se remarca faptul ca ***cei care au fost mai putin satisfacuti la locul de munca au fost cei care au plecat***."
      ],
      "metadata": {
        "id": "waWZuHxbqmJm"
      }
    },
    {
      "cell_type": "code",
      "source": [
        "# intrebarea 12: Plecarea angajatilor in functie de cat de mult timp lucreaza\n",
        "h = sns.FacetGrid(employees_pandas, col=\"left\", height=5, aspect=1)\n",
        "h.map_dataframe(sns.histplot, x=\"avg_hrs_month\", kde=True, stat='percent', bins=30)\n",
        "h.set_axis_labels(\"Ore lucrate (pe luna)\", \"Cati angajati au plecat (%)\")\n",
        "h.fig.subplots_adjust(top=0.85)"
      ],
      "metadata": {
        "colab": {
          "base_uri": "https://localhost:8080/",
          "height": 339
        },
        "id": "p9sCH_mjqZPj",
        "outputId": "444e9bb8-7339-4fc1-892f-790c94174aa4"
      },
      "execution_count": null,
      "outputs": [
        {
          "output_type": "display_data",
          "data": {
            "text/plain": [
              "<Figure size 720x360 with 2 Axes>"
            ],
            "image/png": "[encoded data removed]"
          },
          "metadata": {
            "needs_background": "light"
          }
        }
      ]
    },
    {
      "cell_type": "markdown",
      "source": [
        "❗❗❗Este clar din figura de mai sus ca o ***mare parte din cei care au plecat au lucrat mai multe ore*** fata de cei care nu au plecat din companie."
      ],
      "metadata": {
        "id": "z5VmiZdCrO0p"
      }
    },
    {
      "cell_type": "markdown",
      "source": [
        "\n",
        "\n",
        "---\n",
        "\n"
      ],
      "metadata": {
        "id": "3TXoiq-duhZp"
      }
    },
    {
      "cell_type": "markdown",
      "source": [
        "## 3. 〽️ Angajatii pleaca sau nu? O problema de clasificare.\n",
        "Avand in vedere cerintele proiectului, partea de explorare a setului de date este suficienta, insa exista multe metoda care sa ne spuna exact ce influenta are asupra angajatilor fiecare predictor astfel incat acesta sa ia decizia sa plece. \n",
        "\n",
        "❗ Din analiza de pana acum, vom lua in considerare ca predictori:\n",
        "\n",
        "✅ orele lucrate pe luna (`avg_hrs_month`), \n",
        "\n",
        "✅ satisfactia angajatilor (`satisfaction`),\n",
        "\n",
        "✅ scorul lor de performanta (`review`),\n",
        "\n",
        "✅ vechimea angajatilor in companie (`tenure`).\n",
        "\n",
        "Ca si algoritmi de clasificare, vom folosi clasificatorii **Logistic Regression** si **Gradient Boosted Trees**. Rezultatele acestora le vom compara prin doua metrici:\n",
        "\n",
        "- acuratete\n",
        "\n",
        "- AUC \n",
        "\n",
        "Pe de alta parte, doar pentru scopul acestui proiect si pentru a folosi cat mai multe notiuni, pentru clasificatorul cu cele mai bune metrici de performanta vom folosi ca si predictori toate variabilele. Apoi vom compara rezultatele.\n",
        "\n",
        "Avem 3 variabile categorice pe care le vom transforma folosind *StringIndexer*: \n",
        "\n",
        "- `department` (It, finance etc)\n",
        "\n",
        "- `salary` (low, medium, high)\n",
        "\n",
        "- `left` (yes, no)\n",
        "\n",
        "Pentru coloana `department` (care are 10 valori unice) vom folosi *OneHotEncoder*, creand o coloana noua.\n",
        "\n",
        "Vom ansambla apoi toate coloanele predictor folosind *VectorAssembler* si creand astfel o noua coloana denumita `features`, iar apoi vom aplica clasificatorii de *Regresie Logistica* si *Gradient Boosted Trees*.\n",
        "\n",
        "❗ Primul exemplu (*Regresie Logistica*) il vom face pas cu pas, iar cel de *Gradient Boosting* il vom face construind un pipeline. \n",
        "\n",
        "❗Vom crea si o functie care sa evalueze modelele pe care le cream."
      ],
      "metadata": {
        "id": "1BdFVGBPr0WI"
      }
    },
    {
      "cell_type": "code",
      "source": [
        "def evaluate_model(predictions_test):\n",
        "  '''Evalueaza modelul creat. Returneaza accuratetea si AUC-ul pentru model.'''\n",
        "\n",
        "  evaluator = MulticlassClassificationEvaluator(predictionCol='prediction')\n",
        "  acc = evaluator.evaluate(predictions_test, {evaluator.metricName: 'accuracy'})\n",
        "\n",
        "  binEval = BinaryClassificationEvaluator(labelCol=\"label\", metricName=\"areaUnderROC\")\n",
        "  auc = binEval.evaluate(predictions_test)\n",
        "\n",
        "  return (acc, auc)"
      ],
      "metadata": {
        "id": "-e-QtQJ84uAB"
      },
      "execution_count": null,
      "outputs": []
    },
    {
      "cell_type": "code",
      "source": [
        "employees_0 = employees.select('*')"
      ],
      "metadata": {
        "id": "-tD1JWJXyqk7"
      },
      "execution_count": null,
      "outputs": []
    },
    {
      "cell_type": "markdown",
      "source": [
        "### Clasificator Logistic Regression (fara pipeline, fiecare etapa se face pas cu pas):"
      ],
      "metadata": {
        "id": "dUeRB8CM3dgW"
      }
    },
    {
      "cell_type": "code",
      "source": [
        "# facem o copie la employees\n",
        "employees2 = employees.select('*')"
      ],
      "metadata": {
        "id": "2LUyNxz5rNgc"
      },
      "execution_count": null,
      "outputs": []
    },
    {
      "cell_type": "code",
      "source": [
        "indexer = StringIndexer(inputCols=['department', 'salary', 'left'], outputCols=['department_idx','salary_idx', 'label'])\n",
        "employees2 = indexer.fit(employees2).transform(employees2)"
      ],
      "metadata": {
        "id": "k2sCRBv9xgJd"
      },
      "execution_count": null,
      "outputs": []
    },
    {
      "cell_type": "code",
      "source": [
        "onehot = OneHotEncoder(inputCols=['department_idx'], \n",
        "                       outputCols=['department_dummy'])\n",
        "onehot = onehot.fit(employees2)\n",
        "employees2 = onehot.transform(employees2)\n",
        "\n",
        "# how many category levels?\n",
        "print(onehot.categorySizes, 'nivele')\n",
        "\n",
        "employees2.select('department', 'department_idx', 'department_dummy').distinct() \\\n",
        "         .sort('department_idx').show()"
      ],
      "metadata": {
        "colab": {
          "base_uri": "https://localhost:8080/"
        },
        "id": "dZw1kju6xh4T",
        "outputId": "ef402825-2a77-4a0c-bfef-61d4b91364b6"
      },
      "execution_count": null,
      "outputs": [
        {
          "output_type": "stream",
          "name": "stdout",
          "text": [
            "[10] nivele\n",
            "+-----------+--------------+----------------+\n",
            "| department|department_idx|department_dummy|\n",
            "+-----------+--------------+----------------+\n",
            "|      sales|           0.0|   (9,[0],[1.0])|\n",
            "|     retail|           1.0|   (9,[1],[1.0])|\n",
            "| operations|           2.0|   (9,[2],[1.0])|\n",
            "|engineering|           3.0|   (9,[3],[1.0])|\n",
            "|  marketing|           4.0|   (9,[4],[1.0])|\n",
            "|    support|           5.0|   (9,[5],[1.0])|\n",
            "|      admin|           6.0|   (9,[6],[1.0])|\n",
            "|    finance|           7.0|   (9,[7],[1.0])|\n",
            "|  logistics|           8.0|   (9,[8],[1.0])|\n",
            "|         IT|           9.0|       (9,[],[])|\n",
            "+-----------+--------------+----------------+\n",
            "\n"
          ]
        }
      ]
    },
    {
      "cell_type": "code",
      "source": [
        "assembler = VectorAssembler(inputCols=[ 'review', 'tenure',\n",
        "                                       'satisfaction','avg_hrs_month', \n",
        "                                      ], \n",
        "                            outputCol='features')\n",
        "employees2_assembled = assembler.transform(employees2)\n",
        "\n",
        "employees2_assembled.select('features', 'label').show(5, truncate=False)"
      ],
      "metadata": {
        "colab": {
          "base_uri": "https://localhost:8080/"
        },
        "id": "XfwRHLRcyXbn",
        "outputId": "765b6237-3033-4a80-eb99-7867b0a0ab23"
      },
      "execution_count": null,
      "outputs": [
        {
          "output_type": "stream",
          "name": "stdout",
          "text": [
            "+----------------------+-----+\n",
            "|features              |label|\n",
            "+----------------------+-----+\n",
            "|[0.58,5.0,0.63,180.87]|0.0  |\n",
            "|[0.75,6.0,0.44,182.71]|0.0  |\n",
            "|[0.72,6.0,0.45,184.42]|0.0  |\n",
            "|[0.68,8.0,0.44,188.71]|0.0  |\n",
            "|[0.68,5.0,0.58,179.82]|0.0  |\n",
            "+----------------------+-----+\n",
            "only showing top 5 rows\n",
            "\n"
          ]
        }
      ]
    },
    {
      "cell_type": "code",
      "source": [
        "# impartirea setului de date: 80% date de antrebare si 20% date de test\n",
        "# pentru a avea aceleasi rezultate, setam seed=23\n",
        "employees_train, employees_test = employees2_assembled.randomSplit([0.8, 0.2], seed=23)"
      ],
      "metadata": {
        "id": "IZI1ZU8X0Jy9"
      },
      "execution_count": null,
      "outputs": []
    },
    {
      "cell_type": "code",
      "source": [
        "# verificare\n",
        "[employees_train.count(), employees_test.count()]"
      ],
      "metadata": {
        "colab": {
          "base_uri": "https://localhost:8080/"
        },
        "id": "jLzDSYFP0f4V",
        "outputId": "f09fadf0-cb70-4c8f-be91-7f5a001d1398"
      },
      "execution_count": null,
      "outputs": [
        {
          "output_type": "execute_result",
          "data": {
            "text/plain": [
              "[7583, 1950]"
            ]
          },
          "metadata": {},
          "execution_count": 124
        }
      ]
    },
    {
      "cell_type": "code",
      "source": [
        "# crearea unui model de clasificare folosind regresia logistica\n",
        "logistic = LogisticRegression(labelCol='label')\n",
        "logistic = logistic.fit(employees_train)\n",
        "predictions = logistic.transform(employees_test)\n",
        "predictions.select('label', 'prediction', 'probability').show()"
      ],
      "metadata": {
        "colab": {
          "base_uri": "https://localhost:8080/"
        },
        "id": "sjfPTDf50iGB",
        "outputId": "3da2a211-1aea-41ed-bd2b-37ad968c5810"
      },
      "execution_count": null,
      "outputs": [
        {
          "output_type": "stream",
          "name": "stdout",
          "text": [
            "+-----+----------+--------------------+\n",
            "|label|prediction|         probability|\n",
            "+-----+----------+--------------------+\n",
            "|  0.0|       0.0|[0.84795276389005...|\n",
            "|  0.0|       0.0|[0.89420248138860...|\n",
            "|  0.0|       0.0|[0.66127993065477...|\n",
            "|  0.0|       1.0|[0.45577843827589...|\n",
            "|  0.0|       0.0|[0.93010152482697...|\n",
            "|  0.0|       0.0|[0.80101242108601...|\n",
            "|  0.0|       0.0|[0.80762773960052...|\n",
            "|  0.0|       0.0|[0.72669570203678...|\n",
            "|  0.0|       0.0|[0.83566454033321...|\n",
            "|  0.0|       0.0|[0.69592110626234...|\n",
            "|  0.0|       0.0|[0.88575230891931...|\n",
            "|  0.0|       0.0|[0.66419451524390...|\n",
            "|  0.0|       0.0|[0.58606046684988...|\n",
            "|  0.0|       0.0|[0.68540875539051...|\n",
            "|  0.0|       0.0|[0.80391333603480...|\n",
            "|  0.0|       0.0|[0.85913663354640...|\n",
            "|  0.0|       0.0|[0.86343877601593...|\n",
            "|  0.0|       0.0|[0.65322728958933...|\n",
            "|  0.0|       1.0|[0.48973138260200...|\n",
            "|  0.0|       0.0|[0.58047824446137...|\n",
            "+-----+----------+--------------------+\n",
            "only showing top 20 rows\n",
            "\n"
          ]
        }
      ]
    },
    {
      "cell_type": "code",
      "source": [
        "# Evaluarea modelului de regresie logistica \n",
        "acc_rl, auc_rl = evaluate_model(predictions)\n",
        "\n",
        "print('Acuratetea clasificatorui de Regresie Logistica este:', acc_rl)\n",
        "print('AUC pentru clasificatorul de Regresie Logistica:',  auc_rl)"
      ],
      "metadata": {
        "colab": {
          "base_uri": "https://localhost:8080/"
        },
        "id": "UdkvRA9M01wu",
        "outputId": "524f2a03-5aec-4522-c1e2-77db2247e4ac"
      },
      "execution_count": null,
      "outputs": [
        {
          "output_type": "stream",
          "name": "stdout",
          "text": [
            "Acuratetea clasificatorui de Regresie Logistica este: 0.7292307692307692\n",
            "AUC pentru clasificatorul de Regresie Logistica: 0.7294192417269352\n"
          ]
        }
      ]
    },
    {
      "cell_type": "markdown",
      "source": [
        "### Clasificator - Gradient Boosted Tree (+ pipeline):"
      ],
      "metadata": {
        "id": "vwaAOG0K3UW3"
      }
    },
    {
      "cell_type": "code",
      "source": [
        "employees3 = employees.select('*')"
      ],
      "metadata": {
        "id": "8UkmgEzL1FzY"
      },
      "execution_count": null,
      "outputs": []
    },
    {
      "cell_type": "code",
      "source": [
        "# Gradient Boosted Tree + using pipeline\n",
        "indexer = StringIndexer(inputCols=['department', 'salary', 'left'], \n",
        "                        outputCols=['department_idx','salary_idx', 'label'])\n",
        "\n",
        "onehot = OneHotEncoder(inputCols=['department_idx'], \n",
        "                         outputCols=['department_dummy'])\n",
        "\n",
        "assembler = VectorAssembler(inputCols=[ 'review', 'tenure',\n",
        "                                       'satisfaction','avg_hrs_month', \n",
        "                                      ], \n",
        "                            outputCol='features')\n",
        "\n",
        "gbt = GBTClassifier(labelCol=\"label\", featuresCol=\"features\", maxIter=10)\n",
        "\n",
        "pipeline2 = Pipeline(stages=[indexer, onehot, assembler, gbt])"
      ],
      "metadata": {
        "id": "AwBva-Gs13A1"
      },
      "execution_count": null,
      "outputs": []
    },
    {
      "cell_type": "code",
      "source": [
        "employees_train, employees_test = employees3.randomSplit([0.8, 0.2], seed=23)"
      ],
      "metadata": {
        "id": "Ohg8NUCU2gNq"
      },
      "execution_count": null,
      "outputs": []
    },
    {
      "cell_type": "code",
      "source": [
        "# pe datele de antrenare\n",
        "model = pipeline2.fit(employees_train)\n",
        "predictions = model.transform(employees_train)"
      ],
      "metadata": {
        "id": "jcsOCpGo2pJR"
      },
      "execution_count": null,
      "outputs": []
    },
    {
      "cell_type": "code",
      "source": [
        "# pe datele de test\n",
        "predictions_test = model.transform(employees_test)"
      ],
      "metadata": {
        "id": "Dfho1rK22tzT"
      },
      "execution_count": null,
      "outputs": []
    },
    {
      "cell_type": "code",
      "source": [
        "# evaluarea modelului de Gradient Boosted Tree\n",
        "acc_gbt, auc_gbt = evaluate_model(predictions_test)\n",
        "\n",
        "print('Acuratetea clasificatorui de Gradient Boosted este:', \n",
        "      acc_gbt)\n",
        "\n",
        "print('AUC pentru clasificatorul de Gradient Boosted este:', \n",
        "      auc_gbt)\n"
      ],
      "metadata": {
        "colab": {
          "base_uri": "https://localhost:8080/"
        },
        "id": "kH2FyEYd2_Fj",
        "outputId": "f5b270bb-c481-4cc4-ea0f-5e88c009df18"
      },
      "execution_count": null,
      "outputs": [
        {
          "output_type": "stream",
          "name": "stdout",
          "text": [
            "Acuratetea clasificatorui de Gradient Boosted este: 0.8543589743589743\n",
            "AUC pentru clasificatorul de Gradient Boosted este: 0.9271945148868225\n"
          ]
        }
      ]
    },
    {
      "cell_type": "markdown",
      "source": [
        "### Gradient Boosted Tree - folosind toti predictorii:"
      ],
      "metadata": {
        "id": "rImEXiAJ3-pc"
      }
    },
    {
      "cell_type": "code",
      "source": [
        "assembler_all = VectorAssembler(inputCols=['promoted', 'review', 'projects', 'tenure',\n",
        "                                       'satisfaction', 'bonus', 'avg_hrs_month', \n",
        "                                       'department_dummy', 'salary_idx'], \n",
        "                            outputCol='features')\n",
        "\n",
        "pipeline3 = Pipeline(stages=[indexer, onehot, assembler_all, gbt])\n",
        "\n",
        "# pe datele de antrenare\n",
        "model = pipeline3.fit(employees_train)\n",
        "predictions = model.transform(employees_train)\n",
        "\n",
        "# pe datele de test\n",
        "predictions_test = model.transform(employees_test)\n",
        "\n",
        "# evaluarea modelului de Gradient Boosting\n",
        "# evaluarea modelului de Gradient Boosting\n",
        "acc_gbt2, auc_gbt2 = evaluate_model(predictions_test)\n",
        "\n",
        "print('Acuratetea clasificatorui de Gradient Boosted este:', \n",
        "      acc_gbt2)\n",
        "\n",
        "print('AUC pentru clasificatorul de Gradient Boosted:', \n",
        "      auc_gbt2)"
      ],
      "metadata": {
        "colab": {
          "base_uri": "https://localhost:8080/"
        },
        "id": "XMGY4AAy3PdV",
        "outputId": "ccbf22ee-87e4-49fb-c89b-4a6597f4b0e4"
      },
      "execution_count": null,
      "outputs": [
        {
          "output_type": "stream",
          "name": "stdout",
          "text": [
            "Acuratetea clasificatorui de Gradient Boosted este: 0.8533333333333334\n",
            "AUC pentru clasificatorul de Gradient Boosted: 0.9266334804796341\n"
          ]
        }
      ]
    },
    {
      "cell_type": "code",
      "source": [
        "dict = {'Classifier': ['Logistic Regression', 'Gradient Boosted Tree', 'Gradient Boosting'],\n",
        "        'Features': ['review, tenure, satisfaction, avg_hrs_month', 'review, tenure, satisfaction, avg_hrs_month', 'all'],\n",
        "        'accuracy': [acc_rl, acc_gbt, acc_gbt2],\n",
        "        'AUC': [auc_rl, auc_gbt, auc_gbt2]\n",
        "        }\n",
        "\n",
        "result = pd.DataFrame(dict)\n",
        "\n",
        "result.head()"
      ],
      "metadata": {
        "colab": {
          "base_uri": "https://localhost:8080/",
          "height": 143
        },
        "id": "se8S8d424bYJ",
        "outputId": "94de1204-caec-4576-8efa-b96ba2315494"
      },
      "execution_count": null,
      "outputs": [
        {
          "output_type": "execute_result",
          "data": {
            "text/plain": [
              "              Classifier                                     Features  \\\n",
              "0    Logistic Regression  review, tenure, satisfaction, avg_hrs_month   \n",
              "1  Gradient Boosted Tree  review, tenure, satisfaction, avg_hrs_month   \n",
              "2      Gradient Boosting                                          all   \n",
              "\n",
              "   accuracy       AUC  \n",
              "0  0.729231  0.729419  \n",
              "1  0.854359  0.927195  \n",
              "2  0.853333  0.926633  "
            ],
            "text/html": [
              "\n",
              "  <div id=\"df-c146493a-1438-4abe-a7a2-fa561f9d0d9c\">\n",
              "    <div class=\"colab-df-container\">\n",
              "      <div>\n",
              "<style scoped>\n",
              "    .dataframe tbody tr th:only-of-type {\n",
              "        vertical-align: middle;\n",
              "    }\n",
              "\n",
              "    .dataframe tbody tr th {\n",
              "        vertical-align: top;\n",
              "    }\n",
              "\n",
              "    .dataframe thead th {\n",
              "        text-align: right;\n",
              "    }\n",
              "</style>\n",
              "<table border=\"1\" class=\"dataframe\">\n",
              "  <thead>\n",
              "    <tr style=\"text-align: right;\">\n",
              "      <th></th>\n",
              "      <th>Classifier</th>\n",
              "      <th>Features</th>\n",
              "      <th>accuracy</th>\n",
              "      <th>AUC</th>\n",
              "    </tr>\n",
              "  </thead>\n",
              "  <tbody>\n",
              "    <tr>\n",
              "      <th>0</th>\n",
              "      <td>Logistic Regression</td>\n",
              "      <td>review, tenure, satisfaction, avg_hrs_month</td>\n",
              "      <td>0.729231</td>\n",
              "      <td>0.729419</td>\n",
              "    </tr>\n",
              "    <tr>\n",
              "      <th>1</th>\n",
              "      <td>Gradient Boosted Tree</td>\n",
              "      <td>review, tenure, satisfaction, avg_hrs_month</td>\n",
              "      <td>0.854359</td>\n",
              "      <td>0.927195</td>\n",
              "    </tr>\n",
              "    <tr>\n",
              "      <th>2</th>\n",
              "      <td>Gradient Boosting</td>\n",
              "      <td>all</td>\n",
              "      <td>0.853333</td>\n",
              "      <td>0.926633</td>\n",
              "    </tr>\n",
              "  </tbody>\n",
              "</table>\n",
              "</div>\n",
              "      <button class=\"colab-df-convert\" onclick=\"convertToInteractive('df-c146493a-1438-4abe-a7a2-fa561f9d0d9c')\"\n",
              "              title=\"Convert this dataframe to an interactive table.\"\n",
              "              style=\"display:none;\">\n",
              "        \n",
              "  <svg xmlns=\"http://www.w3.org/2000/svg\" height=\"24px\"viewBox=\"0 0 24 24\"\n",
              "       width=\"24px\">\n",
              "    <path d=\"M0 0h24v24H0V0z\" fill=\"none\"/>\n",
              "    <path d=\"M18.56 5.44l.94 2.06.94-2.06 2.06-.94-2.06-.94-.94-2.06-.94 2.06-2.06.94zm-11 1L8.5 8.5l.94-2.06 2.06-.94-2.06-.94L8.5 2.5l-.94 2.06-2.06.94zm10 10l.94 2.06.94-2.06 2.06-.94-2.06-.94-.94-2.06-.94 2.06-2.06.94z\"/><path d=\"M17.41 7.96l-1.37-1.37c-.4-.4-.92-.59-1.43-.59-.52 0-1.04.2-1.43.59L10.3 9.45l-7.72 7.72c-.78.78-.78 2.05 0 2.83L4 21.41c.39.39.9.59 1.41.59.51 0 1.02-.2 1.41-.59l7.78-7.78 2.81-2.81c.8-.78.8-2.07 0-2.86zM5.41 20L4 18.59l7.72-7.72 1.47 1.35L5.41 20z\"/>\n",
              "  </svg>\n",
              "      </button>\n",
              "      \n",
              "  <style>\n",
              "    .colab-df-container {\n",
              "      display:flex;\n",
              "      flex-wrap:wrap;\n",
              "      gap: 12px;\n",
              "    }\n",
              "\n",
              "    .colab-df-convert {\n",
              "      background-color: #E8F0FE;\n",
              "      border: none;\n",
              "      border-radius: 50%;\n",
              "      cursor: pointer;\n",
              "      display: none;\n",
              "      fill: #1967D2;\n",
              "      height: 32px;\n",
              "      padding: 0 0 0 0;\n",
              "      width: 32px;\n",
              "    }\n",
              "\n",
              "    .colab-df-convert:hover {\n",
              "      background-color: #E2EBFA;\n",
              "      box-shadow: 0px 1px 2px rgba(60, 64, 67, 0.3), 0px 1px 3px 1px rgba(60, 64, 67, 0.15);\n",
              "      fill: #174EA6;\n",
              "    }\n",
              "\n",
              "    [theme=dark] .colab-df-convert {\n",
              "      background-color: #3B4455;\n",
              "      fill: #D2E3FC;\n",
              "    }\n",
              "\n",
              "    [theme=dark] .colab-df-convert:hover {\n",
              "      background-color: #434B5C;\n",
              "      box-shadow: 0px 1px 3px 1px rgba(0, 0, 0, 0.15);\n",
              "      filter: drop-shadow(0px 1px 2px rgba(0, 0, 0, 0.3));\n",
              "      fill: #FFFFFF;\n",
              "    }\n",
              "  </style>\n",
              "\n",
              "      <script>\n",
              "        const buttonEl =\n",
              "          document.querySelector('#df-c146493a-1438-4abe-a7a2-fa561f9d0d9c button.colab-df-convert');\n",
              "        buttonEl.style.display =\n",
              "          google.colab.kernel.accessAllowed ? 'block' : 'none';\n",
              "\n",
              "        async function convertToInteractive(key) {\n",
              "          const element = document.querySelector('#df-c146493a-1438-4abe-a7a2-fa561f9d0d9c');\n",
              "          const dataTable =\n",
              "            await google.colab.kernel.invokeFunction('convertToInteractive',\n",
              "                                                     [key], {});\n",
              "          if (!dataTable) return;\n",
              "\n",
              "          const docLinkHtml = 'Like what you see? Visit the ' +\n",
              "            '<a target=\"_blank\" href=https://colab.research.google.com/notebooks/data_table.ipynb>data table notebook</a>'\n",
              "            + ' to learn more about interactive tables.';\n",
              "          element.innerHTML = '';\n",
              "          dataTable['output_type'] = 'display_data';\n",
              "          await google.colab.output.renderOutput(dataTable, element);\n",
              "          const docLink = document.createElement('div');\n",
              "          docLink.innerHTML = docLinkHtml;\n",
              "          element.appendChild(docLink);\n",
              "        }\n",
              "      </script>\n",
              "    </div>\n",
              "  </div>\n",
              "  "
            ]
          },
          "metadata": {},
          "execution_count": 134
        }
      ]
    },
    {
      "cell_type": "markdown",
      "source": [
        "Avand in vedere aceste rezultate, modelul pe care il alegem va fi al doilea, in care folosim ca si clasificator Gradient Boosted Tree."
      ],
      "metadata": {
        "id": "xwrYTxwXVwvc"
      }
    },
    {
      "cell_type": "markdown",
      "source": [
        "\n",
        "\n",
        "---\n",
        "\n"
      ],
      "metadata": {
        "id": "VsF7vRHy7ST5"
      }
    },
    {
      "cell_type": "markdown",
      "source": [
        "## 🧠 Aplicarea unei metode de Deep Learning - TensorFlow\n",
        "\n",
        "Vom folosi aceleasi coloane ca predictori: \n",
        "\n",
        "✅ orele lucrate pe luna (`avg_hrs_month`), \n",
        "\n",
        "✅ satisfactia angajatilor (`satisfaction`),\n",
        "\n",
        "✅ scorul lor de performanta (`review`),\n",
        "\n",
        "✅ vechimea angajatilor in companie (`tenure`).\n",
        "\n"
      ],
      "metadata": {
        "id": "jsyp7wuQ7Tl-"
      }
    },
    {
      "cell_type": "markdown",
      "source": [
        "Vom crea o retea neuronala cu 4 straturi ca in figura de mai jos:\n",
        "\n",
        "- Primul strat (stratul de input) cu 10 noduri;\n",
        "\n",
        "- Al doilea strat, al treilea strat, al patrulea strat (straturi ascunse) cu 7, 7 si 3 noduri."
      ],
      "metadata": {
        "id": "dWXfU3Fn8O3O"
      }
    },
    {
      "cell_type": "markdown",
      "source": [
        "![WhatsApp Image 2022-09-07 at 15.32.20.jpeg](data:image/jpeg;base64,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)"
      ],
      "metadata": {
        "id": "Ji-l4FEI8D-d"
      }
    },
    {
      "cell_type": "markdown",
      "source": [
        "Modelul va fi compilat folosind `optimizorul Adam`, `functia de cost va fi binary_crossentropy` iar ca `metrica` folosita se va lua in calcul `acuratetea modelului`. Totodata, modelul va fi antrenat pentru inceput pentru `40 de epoci` si un `batch de dimensiune 128`.\n",
        "\n",
        "La final, se va face o optimizare a hiperparametrilor retelei de neuroni, alegandu-se intre `20, 40, 80 de epoci` si o marime a batch-ului de `32, 64 si 128`.\n",
        "\n",
        "Pe coloanele alese ca predictori se va face o standardizare folosind `scalearea MinMax`."
      ],
      "metadata": {
        "id": "oqzc7rUq9AAs"
      }
    },
    {
      "cell_type": "code",
      "source": [
        "employees_pd = employees2.toPandas()\n",
        "employees_pd.head(2)"
      ],
      "metadata": {
        "colab": {
          "base_uri": "https://localhost:8080/",
          "height": 112
        },
        "id": "Uy-88Jpe_FFM",
        "outputId": "e89a960c-4f62-40ab-8912-93787ed920fd"
      },
      "execution_count": null,
      "outputs": [
        {
          "output_type": "execute_result",
          "data": {
            "text/plain": [
              "   _c0  department  promoted  review  projects  salary  tenure  satisfaction  \\\n",
              "0    0  operations     False    0.58       3.0     low     5.0          0.63   \n",
              "1    1  operations     False    0.75       3.0  medium     6.0          0.44   \n",
              "\n",
              "   bonus  avg_hrs_month left  department_idx  salary_idx  label  \\\n",
              "0  False         180.87   no             2.0         2.0    0.0   \n",
              "1  False         182.71   no             2.0         0.0    0.0   \n",
              "\n",
              "                                department_dummy  \n",
              "0  (0.0, 0.0, 1.0, 0.0, 0.0, 0.0, 0.0, 0.0, 0.0)  \n",
              "1  (0.0, 0.0, 1.0, 0.0, 0.0, 0.0, 0.0, 0.0, 0.0)  "
            ],
            "text/html": [
              "\n",
              "  <div id=\"df-f3ad44fb-7121-409a-bb83-a819f11a93c0\">\n",
              "    <div class=\"colab-df-container\">\n",
              "      <div>\n",
              "<style scoped>\n",
              "    .dataframe tbody tr th:only-of-type {\n",
              "        vertical-align: middle;\n",
              "    }\n",
              "\n",
              "    .dataframe tbody tr th {\n",
              "        vertical-align: top;\n",
              "    }\n",
              "\n",
              "    .dataframe thead th {\n",
              "        text-align: right;\n",
              "    }\n",
              "</style>\n",
              "<table border=\"1\" class=\"dataframe\">\n",
              "  <thead>\n",
              "    <tr style=\"text-align: right;\">\n",
              "      <th></th>\n",
              "      <th>_c0</th>\n",
              "      <th>department</th>\n",
              "      <th>promoted</th>\n",
              "      <th>review</th>\n",
              "      <th>projects</th>\n",
              "      <th>salary</th>\n",
              "      <th>tenure</th>\n",
              "      <th>satisfaction</th>\n",
              "      <th>bonus</th>\n",
              "      <th>avg_hrs_month</th>\n",
              "      <th>left</th>\n",
              "      <th>department_idx</th>\n",
              "      <th>salary_idx</th>\n",
              "      <th>label</th>\n",
              "      <th>department_dummy</th>\n",
              "    </tr>\n",
              "  </thead>\n",
              "  <tbody>\n",
              "    <tr>\n",
              "      <th>0</th>\n",
              "      <td>0</td>\n",
              "      <td>operations</td>\n",
              "      <td>False</td>\n",
              "      <td>0.58</td>\n",
              "      <td>3.0</td>\n",
              "      <td>low</td>\n",
              "      <td>5.0</td>\n",
              "      <td>0.63</td>\n",
              "      <td>False</td>\n",
              "      <td>180.87</td>\n",
              "      <td>no</td>\n",
              "      <td>2.0</td>\n",
              "      <td>2.0</td>\n",
              "      <td>0.0</td>\n",
              "      <td>(0.0, 0.0, 1.0, 0.0, 0.0, 0.0, 0.0, 0.0, 0.0)</td>\n",
              "    </tr>\n",
              "    <tr>\n",
              "      <th>1</th>\n",
              "      <td>1</td>\n",
              "      <td>operations</td>\n",
              "      <td>False</td>\n",
              "      <td>0.75</td>\n",
              "      <td>3.0</td>\n",
              "      <td>medium</td>\n",
              "      <td>6.0</td>\n",
              "      <td>0.44</td>\n",
              "      <td>False</td>\n",
              "      <td>182.71</td>\n",
              "      <td>no</td>\n",
              "      <td>2.0</td>\n",
              "      <td>0.0</td>\n",
              "      <td>0.0</td>\n",
              "      <td>(0.0, 0.0, 1.0, 0.0, 0.0, 0.0, 0.0, 0.0, 0.0)</td>\n",
              "    </tr>\n",
              "  </tbody>\n",
              "</table>\n",
              "</div>\n",
              "      <button class=\"colab-df-convert\" onclick=\"convertToInteractive('df-f3ad44fb-7121-409a-bb83-a819f11a93c0')\"\n",
              "              title=\"Convert this dataframe to an interactive table.\"\n",
              "              style=\"display:none;\">\n",
              "        \n",
              "  <svg xmlns=\"http://www.w3.org/2000/svg\" height=\"24px\"viewBox=\"0 0 24 24\"\n",
              "       width=\"24px\">\n",
              "    <path d=\"M0 0h24v24H0V0z\" fill=\"none\"/>\n",
              "    <path d=\"M18.56 5.44l.94 2.06.94-2.06 2.06-.94-2.06-.94-.94-2.06-.94 2.06-2.06.94zm-11 1L8.5 8.5l.94-2.06 2.06-.94-2.06-.94L8.5 2.5l-.94 2.06-2.06.94zm10 10l.94 2.06.94-2.06 2.06-.94-2.06-.94-.94-2.06-.94 2.06-2.06.94z\"/><path d=\"M17.41 7.96l-1.37-1.37c-.4-.4-.92-.59-1.43-.59-.52 0-1.04.2-1.43.59L10.3 9.45l-7.72 7.72c-.78.78-.78 2.05 0 2.83L4 21.41c.39.39.9.59 1.41.59.51 0 1.02-.2 1.41-.59l7.78-7.78 2.81-2.81c.8-.78.8-2.07 0-2.86zM5.41 20L4 18.59l7.72-7.72 1.47 1.35L5.41 20z\"/>\n",
              "  </svg>\n",
              "      </button>\n",
              "      \n",
              "  <style>\n",
              "    .colab-df-container {\n",
              "      display:flex;\n",
              "      flex-wrap:wrap;\n",
              "      gap: 12px;\n",
              "    }\n",
              "\n",
              "    .colab-df-convert {\n",
              "      background-color: #E8F0FE;\n",
              "      border: none;\n",
              "      border-radius: 50%;\n",
              "      cursor: pointer;\n",
              "      display: none;\n",
              "      fill: #1967D2;\n",
              "      height: 32px;\n",
              "      padding: 0 0 0 0;\n",
              "      width: 32px;\n",
              "    }\n",
              "\n",
              "    .colab-df-convert:hover {\n",
              "      background-color: #E2EBFA;\n",
              "      box-shadow: 0px 1px 2px rgba(60, 64, 67, 0.3), 0px 1px 3px 1px rgba(60, 64, 67, 0.15);\n",
              "      fill: #174EA6;\n",
              "    }\n",
              "\n",
              "    [theme=dark] .colab-df-convert {\n",
              "      background-color: #3B4455;\n",
              "      fill: #D2E3FC;\n",
              "    }\n",
              "\n",
              "    [theme=dark] .colab-df-convert:hover {\n",
              "      background-color: #434B5C;\n",
              "      box-shadow: 0px 1px 3px 1px rgba(0, 0, 0, 0.15);\n",
              "      filter: drop-shadow(0px 1px 2px rgba(0, 0, 0, 0.3));\n",
              "      fill: #FFFFFF;\n",
              "    }\n",
              "  </style>\n",
              "\n",
              "      <script>\n",
              "        const buttonEl =\n",
              "          document.querySelector('#df-f3ad44fb-7121-409a-bb83-a819f11a93c0 button.colab-df-convert');\n",
              "        buttonEl.style.display =\n",
              "          google.colab.kernel.accessAllowed ? 'block' : 'none';\n",
              "\n",
              "        async function convertToInteractive(key) {\n",
              "          const element = document.querySelector('#df-f3ad44fb-7121-409a-bb83-a819f11a93c0');\n",
              "          const dataTable =\n",
              "            await google.colab.kernel.invokeFunction('convertToInteractive',\n",
              "                                                     [key], {});\n",
              "          if (!dataTable) return;\n",
              "\n",
              "          const docLinkHtml = 'Like what you see? Visit the ' +\n",
              "            '<a target=\"_blank\" href=https://colab.research.google.com/notebooks/data_table.ipynb>data table notebook</a>'\n",
              "            + ' to learn more about interactive tables.';\n",
              "          element.innerHTML = '';\n",
              "          dataTable['output_type'] = 'display_data';\n",
              "          await google.colab.output.renderOutput(dataTable, element);\n",
              "          const docLink = document.createElement('div');\n",
              "          docLink.innerHTML = docLinkHtml;\n",
              "          element.appendChild(docLink);\n",
              "        }\n",
              "      </script>\n",
              "    </div>\n",
              "  </div>\n",
              "  "
            ]
          },
          "metadata": {},
          "execution_count": 135
        }
      ]
    },
    {
      "cell_type": "code",
      "source": [
        "# setarea predictorilor si a variabilei care trebuie prezisa\n",
        "X = employees_pd[['review', 'tenure', 'satisfaction', 'avg_hrs_month']]\n",
        "y = employees_pd['label']"
      ],
      "metadata": {
        "id": "6m7DwccD69Fa"
      },
      "execution_count": null,
      "outputs": []
    },
    {
      "cell_type": "code",
      "source": [
        "X.head(2)"
      ],
      "metadata": {
        "colab": {
          "base_uri": "https://localhost:8080/",
          "height": 112
        },
        "id": "BJcr6c-J_Be3",
        "outputId": "ae4c1434-b686-408e-bf29-a338e100a53d"
      },
      "execution_count": null,
      "outputs": [
        {
          "output_type": "execute_result",
          "data": {
            "text/plain": [
              "   review  tenure  satisfaction  avg_hrs_month\n",
              "0    0.58     5.0          0.63         180.87\n",
              "1    0.75     6.0          0.44         182.71"
            ],
            "text/html": [
              "\n",
              "  <div id=\"df-2d2473d8-82ba-4427-bc8e-7716c276a20e\">\n",
              "    <div class=\"colab-df-container\">\n",
              "      <div>\n",
              "<style scoped>\n",
              "    .dataframe tbody tr th:only-of-type {\n",
              "        vertical-align: middle;\n",
              "    }\n",
              "\n",
              "    .dataframe tbody tr th {\n",
              "        vertical-align: top;\n",
              "    }\n",
              "\n",
              "    .dataframe thead th {\n",
              "        text-align: right;\n",
              "    }\n",
              "</style>\n",
              "<table border=\"1\" class=\"dataframe\">\n",
              "  <thead>\n",
              "    <tr style=\"text-align: right;\">\n",
              "      <th></th>\n",
              "      <th>review</th>\n",
              "      <th>tenure</th>\n",
              "      <th>satisfaction</th>\n",
              "      <th>avg_hrs_month</th>\n",
              "    </tr>\n",
              "  </thead>\n",
              "  <tbody>\n",
              "    <tr>\n",
              "      <th>0</th>\n",
              "      <td>0.58</td>\n",
              "      <td>5.0</td>\n",
              "      <td>0.63</td>\n",
              "      <td>180.87</td>\n",
              "    </tr>\n",
              "    <tr>\n",
              "      <th>1</th>\n",
              "      <td>0.75</td>\n",
              "      <td>6.0</td>\n",
              "      <td>0.44</td>\n",
              "      <td>182.71</td>\n",
              "    </tr>\n",
              "  </tbody>\n",
              "</table>\n",
              "</div>\n",
              "      <button class=\"colab-df-convert\" onclick=\"convertToInteractive('df-2d2473d8-82ba-4427-bc8e-7716c276a20e')\"\n",
              "              title=\"Convert this dataframe to an interactive table.\"\n",
              "              style=\"display:none;\">\n",
              "        \n",
              "  <svg xmlns=\"http://www.w3.org/2000/svg\" height=\"24px\"viewBox=\"0 0 24 24\"\n",
              "       width=\"24px\">\n",
              "    <path d=\"M0 0h24v24H0V0z\" fill=\"none\"/>\n",
              "    <path d=\"M18.56 5.44l.94 2.06.94-2.06 2.06-.94-2.06-.94-.94-2.06-.94 2.06-2.06.94zm-11 1L8.5 8.5l.94-2.06 2.06-.94-2.06-.94L8.5 2.5l-.94 2.06-2.06.94zm10 10l.94 2.06.94-2.06 2.06-.94-2.06-.94-.94-2.06-.94 2.06-2.06.94z\"/><path d=\"M17.41 7.96l-1.37-1.37c-.4-.4-.92-.59-1.43-.59-.52 0-1.04.2-1.43.59L10.3 9.45l-7.72 7.72c-.78.78-.78 2.05 0 2.83L4 21.41c.39.39.9.59 1.41.59.51 0 1.02-.2 1.41-.59l7.78-7.78 2.81-2.81c.8-.78.8-2.07 0-2.86zM5.41 20L4 18.59l7.72-7.72 1.47 1.35L5.41 20z\"/>\n",
              "  </svg>\n",
              "      </button>\n",
              "      \n",
              "  <style>\n",
              "    .colab-df-container {\n",
              "      display:flex;\n",
              "      flex-wrap:wrap;\n",
              "      gap: 12px;\n",
              "    }\n",
              "\n",
              "    .colab-df-convert {\n",
              "      background-color: #E8F0FE;\n",
              "      border: none;\n",
              "      border-radius: 50%;\n",
              "      cursor: pointer;\n",
              "      display: none;\n",
              "      fill: #1967D2;\n",
              "      height: 32px;\n",
              "      padding: 0 0 0 0;\n",
              "      width: 32px;\n",
              "    }\n",
              "\n",
              "    .colab-df-convert:hover {\n",
              "      background-color: #E2EBFA;\n",
              "      box-shadow: 0px 1px 2px rgba(60, 64, 67, 0.3), 0px 1px 3px 1px rgba(60, 64, 67, 0.15);\n",
              "      fill: #174EA6;\n",
              "    }\n",
              "\n",
              "    [theme=dark] .colab-df-convert {\n",
              "      background-color: #3B4455;\n",
              "      fill: #D2E3FC;\n",
              "    }\n",
              "\n",
              "    [theme=dark] .colab-df-convert:hover {\n",
              "      background-color: #434B5C;\n",
              "      box-shadow: 0px 1px 3px 1px rgba(0, 0, 0, 0.15);\n",
              "      filter: drop-shadow(0px 1px 2px rgba(0, 0, 0, 0.3));\n",
              "      fill: #FFFFFF;\n",
              "    }\n",
              "  </style>\n",
              "\n",
              "      <script>\n",
              "        const buttonEl =\n",
              "          document.querySelector('#df-2d2473d8-82ba-4427-bc8e-7716c276a20e button.colab-df-convert');\n",
              "        buttonEl.style.display =\n",
              "          google.colab.kernel.accessAllowed ? 'block' : 'none';\n",
              "\n",
              "        async function convertToInteractive(key) {\n",
              "          const element = document.querySelector('#df-2d2473d8-82ba-4427-bc8e-7716c276a20e');\n",
              "          const dataTable =\n",
              "            await google.colab.kernel.invokeFunction('convertToInteractive',\n",
              "                                                     [key], {});\n",
              "          if (!dataTable) return;\n",
              "\n",
              "          const docLinkHtml = 'Like what you see? Visit the ' +\n",
              "            '<a target=\"_blank\" href=https://colab.research.google.com/notebooks/data_table.ipynb>data table notebook</a>'\n",
              "            + ' to learn more about interactive tables.';\n",
              "          element.innerHTML = '';\n",
              "          dataTable['output_type'] = 'display_data';\n",
              "          await google.colab.output.renderOutput(dataTable, element);\n",
              "          const docLink = document.createElement('div');\n",
              "          docLink.innerHTML = docLinkHtml;\n",
              "          element.appendChild(docLink);\n",
              "        }\n",
              "      </script>\n",
              "    </div>\n",
              "  </div>\n",
              "  "
            ]
          },
          "metadata": {},
          "execution_count": 137
        }
      ]
    },
    {
      "cell_type": "code",
      "source": [
        "y"
      ],
      "metadata": {
        "colab": {
          "base_uri": "https://localhost:8080/"
        },
        "id": "xeHsKX9__k8T",
        "outputId": "ba6011e8-b759-49b9-fbea-e47a8ce6cd0b"
      },
      "execution_count": null,
      "outputs": [
        {
          "output_type": "execute_result",
          "data": {
            "text/plain": [
              "0       0.0\n",
              "1       0.0\n",
              "2       0.0\n",
              "3       0.0\n",
              "4       0.0\n",
              "       ... \n",
              "9528    1.0\n",
              "9529    1.0\n",
              "9530    1.0\n",
              "9531    1.0\n",
              "9532    1.0\n",
              "Name: label, Length: 9533, dtype: float64"
            ]
          },
          "metadata": {},
          "execution_count": 138
        }
      ]
    },
    {
      "cell_type": "code",
      "source": [
        "# standardizare pentru coloane folosind MinMaxScaler\n",
        "scaler = MinMaxScaler()\n",
        "\n",
        "standardized_attrs = scaler.fit_transform(X[['review', 'tenure', 'satisfaction', 'avg_hrs_month']])\n",
        "X[['review', 'tenure', 'satisfaction', 'avg_hrs_month']] = standardized_attrs\n",
        "\n",
        "X.describe()"
      ],
      "metadata": {
        "colab": {
          "base_uri": "https://localhost:8080/",
          "height": 404
        },
        "id": "xRh4uN4V_o7r",
        "outputId": "6fbb5574-c7fe-418e-f1c0-1754e45ca706"
      },
      "execution_count": null,
      "outputs": [
        {
          "output_type": "stream",
          "name": "stderr",
          "text": [
            "/usr/local/lib/python3.7/dist-packages/pandas/core/frame.py:3678: SettingWithCopyWarning: \n",
            "A value is trying to be set on a copy of a slice from a DataFrame.\n",
            "Try using .loc[row_indexer,col_indexer] = value instead\n",
            "\n",
            "See the caveats in the documentation: https://pandas.pydata.org/pandas-docs/stable/user_guide/indexing.html#returning-a-view-versus-a-copy\n",
            "  self[col] = igetitem(value, i)\n"
          ]
        },
        {
          "output_type": "execute_result",
          "data": {
            "text/plain": [
              "            review       tenure  satisfaction  avg_hrs_month\n",
              "count  9533.000000  9533.000000   9533.000000    9533.000000\n",
              "mean      0.495501     0.455596      0.504555       0.450699\n",
              "std       0.123628     0.141560      0.158569       0.140563\n",
              "min       0.000000     0.000000      0.000000       0.000000\n",
              "25%       0.405797     0.300000      0.390000       0.342489\n",
              "50%       0.492754     0.500000      0.500000       0.449644\n",
              "75%       0.579710     0.600000      0.620000       0.554764\n",
              "max       1.000000     1.000000      1.000000       1.000000"
            ],
            "text/html": [
              "\n",
              "  <div id=\"df-67d9e8d1-e4c2-4831-b7ad-12b336e65c98\">\n",
              "    <div class=\"colab-df-container\">\n",
              "      <div>\n",
              "<style scoped>\n",
              "    .dataframe tbody tr th:only-of-type {\n",
              "        vertical-align: middle;\n",
              "    }\n",
              "\n",
              "    .dataframe tbody tr th {\n",
              "        vertical-align: top;\n",
              "    }\n",
              "\n",
              "    .dataframe thead th {\n",
              "        text-align: right;\n",
              "    }\n",
              "</style>\n",
              "<table border=\"1\" class=\"dataframe\">\n",
              "  <thead>\n",
              "    <tr style=\"text-align: right;\">\n",
              "      <th></th>\n",
              "      <th>review</th>\n",
              "      <th>tenure</th>\n",
              "      <th>satisfaction</th>\n",
              "      <th>avg_hrs_month</th>\n",
              "    </tr>\n",
              "  </thead>\n",
              "  <tbody>\n",
              "    <tr>\n",
              "      <th>count</th>\n",
              "      <td>9533.000000</td>\n",
              "      <td>9533.000000</td>\n",
              "      <td>9533.000000</td>\n",
              "      <td>9533.000000</td>\n",
              "    </tr>\n",
              "    <tr>\n",
              "      <th>mean</th>\n",
              "      <td>0.495501</td>\n",
              "      <td>0.455596</td>\n",
              "      <td>0.504555</td>\n",
              "      <td>0.450699</td>\n",
              "    </tr>\n",
              "    <tr>\n",
              "      <th>std</th>\n",
              "      <td>0.123628</td>\n",
              "      <td>0.141560</td>\n",
              "      <td>0.158569</td>\n",
              "      <td>0.140563</td>\n",
              "    </tr>\n",
              "    <tr>\n",
              "      <th>min</th>\n",
              "      <td>0.000000</td>\n",
              "      <td>0.000000</td>\n",
              "      <td>0.000000</td>\n",
              "      <td>0.000000</td>\n",
              "    </tr>\n",
              "    <tr>\n",
              "      <th>25%</th>\n",
              "      <td>0.405797</td>\n",
              "      <td>0.300000</td>\n",
              "      <td>0.390000</td>\n",
              "      <td>0.342489</td>\n",
              "    </tr>\n",
              "    <tr>\n",
              "      <th>50%</th>\n",
              "      <td>0.492754</td>\n",
              "      <td>0.500000</td>\n",
              "      <td>0.500000</td>\n",
              "      <td>0.449644</td>\n",
              "    </tr>\n",
              "    <tr>\n",
              "      <th>75%</th>\n",
              "      <td>0.579710</td>\n",
              "      <td>0.600000</td>\n",
              "      <td>0.620000</td>\n",
              "      <td>0.554764</td>\n",
              "    </tr>\n",
              "    <tr>\n",
              "      <th>max</th>\n",
              "      <td>1.000000</td>\n",
              "      <td>1.000000</td>\n",
              "      <td>1.000000</td>\n",
              "      <td>1.000000</td>\n",
              "    </tr>\n",
              "  </tbody>\n",
              "</table>\n",
              "</div>\n",
              "      <button class=\"colab-df-convert\" onclick=\"convertToInteractive('df-67d9e8d1-e4c2-4831-b7ad-12b336e65c98')\"\n",
              "              title=\"Convert this dataframe to an interactive table.\"\n",
              "              style=\"display:none;\">\n",
              "        \n",
              "  <svg xmlns=\"http://www.w3.org/2000/svg\" height=\"24px\"viewBox=\"0 0 24 24\"\n",
              "       width=\"24px\">\n",
              "    <path d=\"M0 0h24v24H0V0z\" fill=\"none\"/>\n",
              "    <path d=\"M18.56 5.44l.94 2.06.94-2.06 2.06-.94-2.06-.94-.94-2.06-.94 2.06-2.06.94zm-11 1L8.5 8.5l.94-2.06 2.06-.94-2.06-.94L8.5 2.5l-.94 2.06-2.06.94zm10 10l.94 2.06.94-2.06 2.06-.94-2.06-.94-.94-2.06-.94 2.06-2.06.94z\"/><path d=\"M17.41 7.96l-1.37-1.37c-.4-.4-.92-.59-1.43-.59-.52 0-1.04.2-1.43.59L10.3 9.45l-7.72 7.72c-.78.78-.78 2.05 0 2.83L4 21.41c.39.39.9.59 1.41.59.51 0 1.02-.2 1.41-.59l7.78-7.78 2.81-2.81c.8-.78.8-2.07 0-2.86zM5.41 20L4 18.59l7.72-7.72 1.47 1.35L5.41 20z\"/>\n",
              "  </svg>\n",
              "      </button>\n",
              "      \n",
              "  <style>\n",
              "    .colab-df-container {\n",
              "      display:flex;\n",
              "      flex-wrap:wrap;\n",
              "      gap: 12px;\n",
              "    }\n",
              "\n",
              "    .colab-df-convert {\n",
              "      background-color: #E8F0FE;\n",
              "      border: none;\n",
              "      border-radius: 50%;\n",
              "      cursor: pointer;\n",
              "      display: none;\n",
              "      fill: #1967D2;\n",
              "      height: 32px;\n",
              "      padding: 0 0 0 0;\n",
              "      width: 32px;\n",
              "    }\n",
              "\n",
              "    .colab-df-convert:hover {\n",
              "      background-color: #E2EBFA;\n",
              "      box-shadow: 0px 1px 2px rgba(60, 64, 67, 0.3), 0px 1px 3px 1px rgba(60, 64, 67, 0.15);\n",
              "      fill: #174EA6;\n",
              "    }\n",
              "\n",
              "    [theme=dark] .colab-df-convert {\n",
              "      background-color: #3B4455;\n",
              "      fill: #D2E3FC;\n",
              "    }\n",
              "\n",
              "    [theme=dark] .colab-df-convert:hover {\n",
              "      background-color: #434B5C;\n",
              "      box-shadow: 0px 1px 3px 1px rgba(0, 0, 0, 0.15);\n",
              "      filter: drop-shadow(0px 1px 2px rgba(0, 0, 0, 0.3));\n",
              "      fill: #FFFFFF;\n",
              "    }\n",
              "  </style>\n",
              "\n",
              "      <script>\n",
              "        const buttonEl =\n",
              "          document.querySelector('#df-67d9e8d1-e4c2-4831-b7ad-12b336e65c98 button.colab-df-convert');\n",
              "        buttonEl.style.display =\n",
              "          google.colab.kernel.accessAllowed ? 'block' : 'none';\n",
              "\n",
              "        async function convertToInteractive(key) {\n",
              "          const element = document.querySelector('#df-67d9e8d1-e4c2-4831-b7ad-12b336e65c98');\n",
              "          const dataTable =\n",
              "            await google.colab.kernel.invokeFunction('convertToInteractive',\n",
              "                                                     [key], {});\n",
              "          if (!dataTable) return;\n",
              "\n",
              "          const docLinkHtml = 'Like what you see? Visit the ' +\n",
              "            '<a target=\"_blank\" href=https://colab.research.google.com/notebooks/data_table.ipynb>data table notebook</a>'\n",
              "            + ' to learn more about interactive tables.';\n",
              "          element.innerHTML = '';\n",
              "          dataTable['output_type'] = 'display_data';\n",
              "          await google.colab.output.renderOutput(dataTable, element);\n",
              "          const docLink = document.createElement('div');\n",
              "          docLink.innerHTML = docLinkHtml;\n",
              "          element.appendChild(docLink);\n",
              "        }\n",
              "      </script>\n",
              "    </div>\n",
              "  </div>\n",
              "  "
            ]
          },
          "metadata": {},
          "execution_count": 139
        }
      ]
    },
    {
      "cell_type": "code",
      "source": [
        "# divizam dataset ul in 80% date de antrenare si 20% date de test\n",
        "X_train, X_test, y_train, y_test = train_test_split(X, y, \n",
        "                                                    test_size=0.2,\n",
        "                                                    random_state=101)"
      ],
      "metadata": {
        "id": "DuSm7piH_9H1"
      },
      "execution_count": null,
      "outputs": []
    },
    {
      "cell_type": "code",
      "source": [
        "# construim o retea de neuroni cu 4 straturi\n",
        "model = Sequential()\n",
        "model.add(Dense(units=10, activation='relu', input_shape=(4,))) #  first layer\n",
        "model.add(Dense(units=7, activation='relu')) # second layer \n",
        "model.add(Dense(units=7, activation='relu')) # third layer \n",
        "model.add(Dense(units=3, activation='relu')) # forth layer \n",
        "model.add(Dense(units=1, activation='sigmoid')) # output layer \n",
        "\n",
        "model.summary()"
      ],
      "metadata": {
        "colab": {
          "base_uri": "https://localhost:8080/"
        },
        "id": "7UA1xSG9AcF4",
        "outputId": "8b081a5b-ef88-4a4e-fd19-ac792c7da708"
      },
      "execution_count": null,
      "outputs": [
        {
          "output_type": "stream",
          "name": "stdout",
          "text": [
            "Model: \"sequential_2\"\n",
            "_________________________________________________________________\n",
            " Layer (type)                Output Shape              Param #   \n",
            "=================================================================\n",
            " dense_10 (Dense)            (None, 10)                50        \n",
            "                                                                 \n",
            " dense_11 (Dense)            (None, 7)                 77        \n",
            "                                                                 \n",
            " dense_12 (Dense)            (None, 7)                 56        \n",
            "                                                                 \n",
            " dense_13 (Dense)            (None, 3)                 24        \n",
            "                                                                 \n",
            " dense_14 (Dense)            (None, 1)                 4         \n",
            "                                                                 \n",
            "=================================================================\n",
            "Total params: 211\n",
            "Trainable params: 211\n",
            "Non-trainable params: 0\n",
            "_________________________________________________________________\n"
          ]
        }
      ]
    },
    {
      "cell_type": "code",
      "source": [
        "# Compilam modelul utilizând Adam ca optimizor, funcția de cost \n",
        "# binary_crossentropy si metrica de adaptare accuratetea.\n",
        "model.compile(optimizer = 'adam', loss = 'binary_crossentropy', metrics = ['accuracy'])\n",
        "\n",
        "# Antrenam modelul pentru 40 de epoci cu un batch size de dimensiune 128\n",
        "history = model.fit(x=X_train, \n",
        "                   y=y_train, \n",
        "                   epochs=40,\n",
        "                   validation_data=(X_test, y_test), \n",
        "                   verbose=1,batch_size=128)"
      ],
      "metadata": {
        "colab": {
          "base_uri": "https://localhost:8080/"
        },
        "id": "piw8GWAwAry1",
        "outputId": "9cc0d397-a8d4-4c44-8c31-1ec7e359a8de"
      },
      "execution_count": null,
      "outputs": [
        {
          "output_type": "stream",
          "name": "stdout",
          "text": [
            "Epoch 1/40\n",
            "60/60 [==============================] - 1s 5ms/step - loss: 0.6873 - accuracy: 0.7068 - val_loss: 0.6823 - val_accuracy: 0.6943\n",
            "Epoch 2/40\n",
            "60/60 [==============================] - 0s 2ms/step - loss: 0.6761 - accuracy: 0.7116 - val_loss: 0.6726 - val_accuracy: 0.6943\n",
            "Epoch 3/40\n",
            "60/60 [==============================] - 0s 2ms/step - loss: 0.6660 - accuracy: 0.7116 - val_loss: 0.6640 - val_accuracy: 0.6943\n",
            "Epoch 4/40\n",
            "60/60 [==============================] - 0s 3ms/step - loss: 0.6569 - accuracy: 0.7116 - val_loss: 0.6565 - val_accuracy: 0.6943\n",
            "Epoch 5/40\n",
            "60/60 [==============================] - 0s 3ms/step - loss: 0.6489 - accuracy: 0.7116 - val_loss: 0.6498 - val_accuracy: 0.6943\n",
            "Epoch 6/40\n",
            "60/60 [==============================] - 0s 3ms/step - loss: 0.6418 - accuracy: 0.7116 - val_loss: 0.6440 - val_accuracy: 0.6943\n",
            "Epoch 7/40\n",
            "60/60 [==============================] - 0s 2ms/step - loss: 0.6356 - accuracy: 0.7116 - val_loss: 0.6391 - val_accuracy: 0.6943\n",
            "Epoch 8/40\n",
            "60/60 [==============================] - 0s 3ms/step - loss: 0.6302 - accuracy: 0.7116 - val_loss: 0.6348 - val_accuracy: 0.6943\n",
            "Epoch 9/40\n",
            "60/60 [==============================] - 0s 3ms/step - loss: 0.6255 - accuracy: 0.7116 - val_loss: 0.6311 - val_accuracy: 0.6943\n",
            "Epoch 10/40\n",
            "60/60 [==============================] - 0s 4ms/step - loss: 0.6214 - accuracy: 0.7116 - val_loss: 0.6280 - val_accuracy: 0.6943\n",
            "Epoch 11/40\n",
            "60/60 [==============================] - 0s 3ms/step - loss: 0.6180 - accuracy: 0.7116 - val_loss: 0.6254 - val_accuracy: 0.6943\n",
            "Epoch 12/40\n",
            "60/60 [==============================] - 0s 2ms/step - loss: 0.6150 - accuracy: 0.7116 - val_loss: 0.6233 - val_accuracy: 0.6943\n",
            "Epoch 13/40\n",
            "60/60 [==============================] - 0s 3ms/step - loss: 0.6125 - accuracy: 0.7116 - val_loss: 0.6215 - val_accuracy: 0.6943\n",
            "Epoch 14/40\n",
            "60/60 [==============================] - 0s 3ms/step - loss: 0.6103 - accuracy: 0.7116 - val_loss: 0.6201 - val_accuracy: 0.6943\n",
            "Epoch 15/40\n",
            "60/60 [==============================] - 0s 3ms/step - loss: 0.6085 - accuracy: 0.7116 - val_loss: 0.6189 - val_accuracy: 0.6943\n",
            "Epoch 16/40\n",
            "60/60 [==============================] - 0s 2ms/step - loss: 0.6070 - accuracy: 0.7116 - val_loss: 0.6180 - val_accuracy: 0.6943\n",
            "Epoch 17/40\n",
            "60/60 [==============================] - 0s 3ms/step - loss: 0.6058 - accuracy: 0.7116 - val_loss: 0.6173 - val_accuracy: 0.6943\n",
            "Epoch 18/40\n",
            "60/60 [==============================] - 0s 3ms/step - loss: 0.6047 - accuracy: 0.7116 - val_loss: 0.6168 - val_accuracy: 0.6943\n",
            "Epoch 19/40\n",
            "60/60 [==============================] - 0s 3ms/step - loss: 0.6039 - accuracy: 0.7116 - val_loss: 0.6163 - val_accuracy: 0.6943\n",
            "Epoch 20/40\n",
            "60/60 [==============================] - 0s 3ms/step - loss: 0.6032 - accuracy: 0.7116 - val_loss: 0.6161 - val_accuracy: 0.6943\n",
            "Epoch 21/40\n",
            "60/60 [==============================] - 0s 2ms/step - loss: 0.6027 - accuracy: 0.7116 - val_loss: 0.6159 - val_accuracy: 0.6943\n",
            "Epoch 22/40\n",
            "60/60 [==============================] - 0s 3ms/step - loss: 0.6022 - accuracy: 0.7116 - val_loss: 0.6157 - val_accuracy: 0.6943\n",
            "Epoch 23/40\n",
            "60/60 [==============================] - 0s 3ms/step - loss: 0.6019 - accuracy: 0.7116 - val_loss: 0.6157 - val_accuracy: 0.6943\n",
            "Epoch 24/40\n",
            "60/60 [==============================] - 0s 3ms/step - loss: 0.6016 - accuracy: 0.7116 - val_loss: 0.6156 - val_accuracy: 0.6943\n",
            "Epoch 25/40\n",
            "60/60 [==============================] - 0s 2ms/step - loss: 0.6014 - accuracy: 0.7116 - val_loss: 0.6156 - val_accuracy: 0.6943\n",
            "Epoch 26/40\n",
            "60/60 [==============================] - 0s 3ms/step - loss: 0.6012 - accuracy: 0.7116 - val_loss: 0.6157 - val_accuracy: 0.6943\n",
            "Epoch 27/40\n",
            "60/60 [==============================] - 0s 2ms/step - loss: 0.6011 - accuracy: 0.7116 - val_loss: 0.6157 - val_accuracy: 0.6943\n",
            "Epoch 28/40\n",
            "60/60 [==============================] - 0s 3ms/step - loss: 0.6010 - accuracy: 0.7116 - val_loss: 0.6158 - val_accuracy: 0.6943\n",
            "Epoch 29/40\n",
            "60/60 [==============================] - 0s 2ms/step - loss: 0.6009 - accuracy: 0.7116 - val_loss: 0.6158 - val_accuracy: 0.6943\n",
            "Epoch 30/40\n",
            "60/60 [==============================] - 0s 3ms/step - loss: 0.6008 - accuracy: 0.7116 - val_loss: 0.6159 - val_accuracy: 0.6943\n",
            "Epoch 31/40\n",
            "60/60 [==============================] - 0s 3ms/step - loss: 0.6008 - accuracy: 0.7116 - val_loss: 0.6159 - val_accuracy: 0.6943\n",
            "Epoch 32/40\n",
            "60/60 [==============================] - 0s 2ms/step - loss: 0.6008 - accuracy: 0.7116 - val_loss: 0.6160 - val_accuracy: 0.6943\n",
            "Epoch 33/40\n",
            "60/60 [==============================] - 0s 2ms/step - loss: 0.6007 - accuracy: 0.7116 - val_loss: 0.6160 - val_accuracy: 0.6943\n",
            "Epoch 34/40\n",
            "60/60 [==============================] - 0s 3ms/step - loss: 0.6007 - accuracy: 0.7116 - val_loss: 0.6161 - val_accuracy: 0.6943\n",
            "Epoch 35/40\n",
            "60/60 [==============================] - 0s 2ms/step - loss: 0.6007 - accuracy: 0.7116 - val_loss: 0.6161 - val_accuracy: 0.6943\n",
            "Epoch 36/40\n",
            "60/60 [==============================] - 0s 3ms/step - loss: 0.6007 - accuracy: 0.7116 - val_loss: 0.6162 - val_accuracy: 0.6943\n",
            "Epoch 37/40\n",
            "60/60 [==============================] - 0s 3ms/step - loss: 0.6007 - accuracy: 0.7116 - val_loss: 0.6162 - val_accuracy: 0.6943\n",
            "Epoch 38/40\n",
            "60/60 [==============================] - 0s 3ms/step - loss: 0.6007 - accuracy: 0.7116 - val_loss: 0.6162 - val_accuracy: 0.6943\n",
            "Epoch 39/40\n",
            "60/60 [==============================] - 0s 3ms/step - loss: 0.6007 - accuracy: 0.7116 - val_loss: 0.6163 - val_accuracy: 0.6943\n",
            "Epoch 40/40\n",
            "60/60 [==============================] - 0s 3ms/step - loss: 0.6007 - accuracy: 0.7116 - val_loss: 0.6163 - val_accuracy: 0.6943\n"
          ]
        }
      ]
    },
    {
      "cell_type": "code",
      "source": [
        "# evaluarea modelului \n",
        "# vom folosi matricea de confuzie si acuratetea\n",
        "\n",
        "y_pred = model.predict(X_test).reshape((-1,)) > 0.5\n",
        "y_pred = y_pred.astype(np.int32)\n",
        "\n",
        "print('Acuratetea obtinuta in acest caz este:', model.evaluate(X_test, y_test)[1] * 100)\n",
        "confusion_matrix(y_test, y_pred)"
      ],
      "metadata": {
        "colab": {
          "base_uri": "https://localhost:8080/"
        },
        "id": "m2y_Yt1FAxi6",
        "outputId": "1f2aee8f-f64c-4626-a4f3-911922185f0e"
      },
      "execution_count": null,
      "outputs": [
        {
          "output_type": "stream",
          "name": "stdout",
          "text": [
            "60/60 [==============================] - 0s 1ms/step - loss: 0.6163 - accuracy: 0.6943\n",
            "Acuratetea obtinuta in acest caz este: 69.4284200668335\n"
          ]
        },
        {
          "output_type": "execute_result",
          "data": {
            "text/plain": [
              "array([[1324,    0],\n",
              "       [ 583,    0]])"
            ]
          },
          "metadata": {},
          "execution_count": 143
        }
      ]
    },
    {
      "cell_type": "markdown",
      "source": [
        "Accuratetea obtinuta pe datele de test este 83, 63%."
      ],
      "metadata": {
        "id": "OlWzP9DaB7pX"
      }
    },
    {
      "cell_type": "markdown",
      "source": [
        "### Optimizarea hiperparametrilor unei retele de neuroni\n"
      ],
      "metadata": {
        "id": "2PYO5rQeCLBv"
      }
    },
    {
      "cell_type": "code",
      "source": [
        "def create_neural_network():\n",
        "  '''Functie care construieste si returneaza o retea de neuroni cu 4 straturi,\n",
        "  optimizator = adam, functia de pierdere = binary_crossentropy si metrica folosita\n",
        "  este acuratetea.\n",
        "  \n",
        "  Functia returneaza modelul creat.\n",
        "  '''\n",
        "\n",
        "  model = Sequential()\n",
        "  model.add(Dense(units=10, activation='relu', input_shape=(4,))) #  first layer\n",
        "  model.add(Dense(units=7, activation='relu')) # second layer \n",
        "  model.add(Dense(units=7, activation='relu')) # third layer \n",
        "  model.add(Dense(units=3, activation='relu')) # forth layer \n",
        "  model.add(Dense(units=1, activation='sigmoid')) # output layer\n",
        "  model.compile(optimizer = 'adam', loss = 'binary_crossentropy', metrics = ['accuracy'])\n",
        "  \n",
        "  return model"
      ],
      "metadata": {
        "id": "7M--aAbjBuww"
      },
      "execution_count": null,
      "outputs": []
    },
    {
      "cell_type": "code",
      "source": [
        "model = KerasClassifier(build_fn=create_neural_network)\n",
        "\n",
        "dict_params = {\"batch_size\": [32, 64, 128], \"epochs\" : [20, 40, 80]}\n",
        "\n",
        "gscv = GridSearchCV(estimator=model, param_grid=dict_params, scoring = \"accuracy\", n_jobs = -1)\n",
        "gscv.fit(X_train, y_train)"
      ],
      "metadata": {
        "colab": {
          "base_uri": "https://localhost:8080/"
        },
        "id": "U2HKT3HBCtZR",
        "outputId": "895e0fe9-3e58-4631-91ee-c976f05ca5db"
      },
      "execution_count": null,
      "outputs": [
        {
          "output_type": "stream",
          "name": "stderr",
          "text": [
            "/usr/local/lib/python3.7/dist-packages/ipykernel_launcher.py:1: DeprecationWarning: KerasClassifier is deprecated, use Sci-Keras (https://github.com/adriangb/scikeras) instead. See https://www.adriangb.com/scikeras/stable/migration.html for help migrating.\n",
            "  \"\"\"Entry point for launching an IPython kernel.\n"
          ]
        },
        {
          "output_type": "stream",
          "name": "stdout",
          "text": [
            "Epoch 1/80\n",
            "239/239 [==============================] - 1s 2ms/step - loss: 0.6283 - accuracy: 0.7116\n",
            "Epoch 2/80\n",
            "239/239 [==============================] - 0s 2ms/step - loss: 0.5629 - accuracy: 0.7116\n",
            "Epoch 3/80\n",
            "239/239 [==============================] - 0s 2ms/step - loss: 0.5419 - accuracy: 0.7116\n",
            "Epoch 4/80\n",
            "239/239 [==============================] - 0s 2ms/step - loss: 0.5301 - accuracy: 0.7116\n",
            "Epoch 5/80\n",
            "239/239 [==============================] - 0s 2ms/step - loss: 0.5205 - accuracy: 0.7116\n",
            "Epoch 6/80\n",
            "239/239 [==============================] - 0s 2ms/step - loss: 0.5127 - accuracy: 0.7335\n",
            "Epoch 7/80\n",
            "239/239 [==============================] - 0s 2ms/step - loss: 0.5052 - accuracy: 0.7499\n",
            "Epoch 8/80\n",
            "239/239 [==============================] - 0s 2ms/step - loss: 0.4995 - accuracy: 0.7539\n",
            "Epoch 9/80\n",
            "239/239 [==============================] - 0s 2ms/step - loss: 0.4927 - accuracy: 0.7585\n",
            "Epoch 10/80\n",
            "239/239 [==============================] - 0s 2ms/step - loss: 0.4907 - accuracy: 0.7574\n",
            "Epoch 11/80\n",
            "239/239 [==============================] - 0s 2ms/step - loss: 0.4862 - accuracy: 0.7632\n",
            "Epoch 12/80\n",
            "239/239 [==============================] - 0s 2ms/step - loss: 0.4831 - accuracy: 0.7629\n",
            "Epoch 13/80\n",
            "239/239 [==============================] - 0s 2ms/step - loss: 0.4819 - accuracy: 0.7689\n",
            "Epoch 14/80\n",
            "239/239 [==============================] - 0s 2ms/step - loss: 0.4795 - accuracy: 0.7684\n",
            "Epoch 15/80\n",
            "239/239 [==============================] - 0s 2ms/step - loss: 0.4743 - accuracy: 0.7733\n",
            "Epoch 16/80\n",
            "239/239 [==============================] - 0s 2ms/step - loss: 0.4729 - accuracy: 0.7737\n",
            "Epoch 17/80\n",
            "239/239 [==============================] - 0s 2ms/step - loss: 0.4709 - accuracy: 0.7733\n",
            "Epoch 18/80\n",
            "239/239 [==============================] - 0s 2ms/step - loss: 0.4700 - accuracy: 0.7692\n",
            "Epoch 19/80\n",
            "239/239 [==============================] - 0s 2ms/step - loss: 0.4680 - accuracy: 0.7741\n",
            "Epoch 20/80\n",
            "239/239 [==============================] - 0s 2ms/step - loss: 0.4659 - accuracy: 0.7756\n",
            "Epoch 21/80\n",
            "239/239 [==============================] - 0s 2ms/step - loss: 0.4646 - accuracy: 0.7767\n",
            "Epoch 22/80\n",
            "239/239 [==============================] - 0s 2ms/step - loss: 0.4608 - accuracy: 0.7762\n",
            "Epoch 23/80\n",
            "239/239 [==============================] - 0s 2ms/step - loss: 0.4596 - accuracy: 0.7798\n",
            "Epoch 24/80\n",
            "239/239 [==============================] - 0s 2ms/step - loss: 0.4575 - accuracy: 0.7793\n",
            "Epoch 25/80\n",
            "239/239 [==============================] - 0s 2ms/step - loss: 0.4555 - accuracy: 0.7806\n",
            "Epoch 26/80\n",
            "239/239 [==============================] - 0s 2ms/step - loss: 0.4556 - accuracy: 0.7834\n",
            "Epoch 27/80\n",
            "239/239 [==============================] - 0s 2ms/step - loss: 0.4525 - accuracy: 0.7839\n",
            "Epoch 28/80\n",
            "239/239 [==============================] - 0s 2ms/step - loss: 0.4513 - accuracy: 0.7863\n",
            "Epoch 29/80\n",
            "239/239 [==============================] - 0s 2ms/step - loss: 0.4499 - accuracy: 0.7856\n",
            "Epoch 30/80\n",
            "239/239 [==============================] - 0s 2ms/step - loss: 0.4479 - accuracy: 0.7901\n",
            "Epoch 31/80\n",
            "239/239 [==============================] - 0s 2ms/step - loss: 0.4458 - accuracy: 0.7881\n",
            "Epoch 32/80\n",
            "239/239 [==============================] - 0s 2ms/step - loss: 0.4447 - accuracy: 0.7918\n",
            "Epoch 33/80\n",
            "239/239 [==============================] - 0s 2ms/step - loss: 0.4436 - accuracy: 0.7923\n",
            "Epoch 34/80\n",
            "239/239 [==============================] - 0s 2ms/step - loss: 0.4415 - accuracy: 0.7919\n",
            "Epoch 35/80\n",
            "239/239 [==============================] - 0s 2ms/step - loss: 0.4402 - accuracy: 0.7946\n",
            "Epoch 36/80\n",
            "239/239 [==============================] - 0s 2ms/step - loss: 0.4379 - accuracy: 0.7970\n",
            "Epoch 37/80\n",
            "239/239 [==============================] - 0s 2ms/step - loss: 0.4370 - accuracy: 0.7977\n",
            "Epoch 38/80\n",
            "239/239 [==============================] - 0s 2ms/step - loss: 0.4356 - accuracy: 0.7979\n",
            "Epoch 39/80\n",
            "239/239 [==============================] - 0s 2ms/step - loss: 0.4336 - accuracy: 0.8029\n",
            "Epoch 40/80\n",
            "239/239 [==============================] - 0s 2ms/step - loss: 0.4311 - accuracy: 0.8041\n",
            "Epoch 41/80\n",
            "239/239 [==============================] - 0s 2ms/step - loss: 0.4300 - accuracy: 0.8019\n",
            "Epoch 42/80\n",
            "239/239 [==============================] - 0s 2ms/step - loss: 0.4286 - accuracy: 0.8055\n",
            "Epoch 43/80\n",
            "239/239 [==============================] - 0s 2ms/step - loss: 0.4262 - accuracy: 0.8068\n",
            "Epoch 44/80\n",
            "239/239 [==============================] - 0s 2ms/step - loss: 0.4236 - accuracy: 0.8087\n",
            "Epoch 45/80\n",
            "239/239 [==============================] - 0s 2ms/step - loss: 0.4228 - accuracy: 0.8087\n",
            "Epoch 46/80\n",
            "239/239 [==============================] - 0s 2ms/step - loss: 0.4213 - accuracy: 0.8065\n",
            "Epoch 47/80\n",
            "239/239 [==============================] - 0s 2ms/step - loss: 0.4186 - accuracy: 0.8104\n",
            "Epoch 48/80\n",
            "239/239 [==============================] - 0s 2ms/step - loss: 0.4182 - accuracy: 0.8100\n",
            "Epoch 49/80\n",
            "239/239 [==============================] - 0s 2ms/step - loss: 0.4148 - accuracy: 0.8137\n",
            "Epoch 50/80\n",
            "239/239 [==============================] - 0s 2ms/step - loss: 0.4132 - accuracy: 0.8112\n",
            "Epoch 51/80\n",
            "239/239 [==============================] - 0s 2ms/step - loss: 0.4096 - accuracy: 0.8134\n",
            "Epoch 52/80\n",
            "239/239 [==============================] - 0s 2ms/step - loss: 0.4032 - accuracy: 0.8162\n",
            "Epoch 53/80\n",
            "239/239 [==============================] - 0s 2ms/step - loss: 0.3991 - accuracy: 0.8188\n",
            "Epoch 54/80\n",
            "239/239 [==============================] - 0s 2ms/step - loss: 0.3936 - accuracy: 0.8209\n",
            "Epoch 55/80\n",
            "239/239 [==============================] - 0s 2ms/step - loss: 0.3909 - accuracy: 0.8240\n",
            "Epoch 56/80\n",
            "239/239 [==============================] - 0s 2ms/step - loss: 0.3873 - accuracy: 0.8251\n",
            "Epoch 57/80\n",
            "239/239 [==============================] - 0s 2ms/step - loss: 0.3844 - accuracy: 0.8291\n",
            "Epoch 58/80\n",
            "239/239 [==============================] - 0s 2ms/step - loss: 0.3805 - accuracy: 0.8280\n",
            "Epoch 59/80\n",
            "239/239 [==============================] - 0s 2ms/step - loss: 0.3779 - accuracy: 0.8337\n",
            "Epoch 60/80\n",
            "239/239 [==============================] - 0s 2ms/step - loss: 0.3766 - accuracy: 0.8322\n",
            "Epoch 61/80\n",
            "239/239 [==============================] - 0s 2ms/step - loss: 0.3749 - accuracy: 0.8341\n",
            "Epoch 62/80\n",
            "239/239 [==============================] - 0s 2ms/step - loss: 0.3727 - accuracy: 0.8360\n",
            "Epoch 63/80\n",
            "239/239 [==============================] - 0s 2ms/step - loss: 0.3701 - accuracy: 0.8375\n",
            "Epoch 64/80\n",
            "239/239 [==============================] - 0s 2ms/step - loss: 0.3683 - accuracy: 0.8378\n",
            "Epoch 65/80\n",
            "239/239 [==============================] - 0s 2ms/step - loss: 0.3664 - accuracy: 0.8379\n",
            "Epoch 66/80\n",
            "239/239 [==============================] - 0s 2ms/step - loss: 0.3660 - accuracy: 0.8407\n",
            "Epoch 67/80\n",
            "239/239 [==============================] - 0s 2ms/step - loss: 0.3633 - accuracy: 0.8400\n",
            "Epoch 68/80\n",
            "239/239 [==============================] - 0s 2ms/step - loss: 0.3631 - accuracy: 0.8442\n",
            "Epoch 69/80\n",
            "239/239 [==============================] - 0s 2ms/step - loss: 0.3618 - accuracy: 0.8441\n",
            "Epoch 70/80\n",
            "239/239 [==============================] - 0s 2ms/step - loss: 0.3611 - accuracy: 0.8420\n",
            "Epoch 71/80\n",
            "239/239 [==============================] - 0s 2ms/step - loss: 0.3606 - accuracy: 0.8412\n",
            "Epoch 72/80\n",
            "239/239 [==============================] - 0s 2ms/step - loss: 0.3589 - accuracy: 0.8446\n",
            "Epoch 73/80\n",
            "239/239 [==============================] - 0s 2ms/step - loss: 0.3561 - accuracy: 0.8455\n",
            "Epoch 74/80\n",
            "239/239 [==============================] - 0s 2ms/step - loss: 0.3543 - accuracy: 0.8472\n",
            "Epoch 75/80\n",
            "239/239 [==============================] - 0s 2ms/step - loss: 0.3525 - accuracy: 0.8464\n",
            "Epoch 76/80\n",
            "239/239 [==============================] - 0s 2ms/step - loss: 0.3513 - accuracy: 0.8466\n",
            "Epoch 77/80\n",
            "239/239 [==============================] - 0s 2ms/step - loss: 0.3510 - accuracy: 0.8491\n",
            "Epoch 78/80\n",
            "239/239 [==============================] - 0s 2ms/step - loss: 0.3498 - accuracy: 0.8466\n",
            "Epoch 79/80\n",
            "239/239 [==============================] - 0s 2ms/step - loss: 0.3493 - accuracy: 0.8483\n",
            "Epoch 80/80\n",
            "239/239 [==============================] - 0s 2ms/step - loss: 0.3476 - accuracy: 0.8483\n"
          ]
        },
        {
          "output_type": "execute_result",
          "data": {
            "text/plain": [
              "GridSearchCV(estimator=<keras.wrappers.scikit_learn.KerasClassifier object at 0x7f84a24a5190>,\n",
              "             n_jobs=-1,\n",
              "             param_grid={'batch_size': [32, 64, 128], 'epochs': [20, 40, 80]},\n",
              "             scoring='accuracy')"
            ]
          },
          "metadata": {},
          "execution_count": 145
        }
      ]
    },
    {
      "cell_type": "code",
      "source": [
        "print(gscv.best_params_)\n",
        "print(gscv.best_score_)"
      ],
      "metadata": {
        "colab": {
          "base_uri": "https://localhost:8080/"
        },
        "id": "NIS3vxAICvzJ",
        "outputId": "faa11901-439f-4adf-edaa-17d75b03121c"
      },
      "execution_count": null,
      "outputs": [
        {
          "output_type": "stream",
          "name": "stdout",
          "text": [
            "{'batch_size': 32, 'epochs': 80}\n",
            "0.8595607502739403\n"
          ]
        }
      ]
    },
    {
      "cell_type": "markdown",
      "source": [
        "Am obtinut ca cei mai buni parametri sunt:\n",
        "\n",
        "✅ Numarul de epoci = 80\n",
        "\n",
        "✅ Dimensiunea batch-ului = 128.\n",
        "\n",
        "Cu acesti parametri, obtinem o acuratete de aproape 85%."
      ],
      "metadata": {
        "id": "rVDt0DTwFicC"
      }
    },
    {
      "cell_type": "markdown",
      "source": [
        "\n",
        "\n",
        "---\n",
        "\n"
      ],
      "metadata": {
        "id": "WCkRZ-TMF8Ah"
      }
    },
    {
      "cell_type": "markdown",
      "source": [
        "## 🚩 Concluzii\n",
        "\n",
        "Scopul acestui proiect a fost reprezentat de studiul problemei plecării angajaților folosind diferite metode și tehnologii de Big Data.\n",
        "\n",
        "Astfel, am aflat că aproximativ 30% din angajați au plecat în ultimele 24 de luni, ceea ce a dus la reducerea performanței în toate cele 10 departamente ale corporației. Totodată, motivele principale pentru care majoritatea a plecat sunt orele în plus lucrate și un nivel de satisfacție redus al angajatilor. Alt lucru surprinzător este că, din cei care au plecat, angajații cu un scor al performanței bun sunt asociați cu un nivel redus de satisfacție, ceea ce poate indica un semn al burnout-ului. De asemenea, în ultimele 24 de luni, din cei aproximativ 10 000 de angajați doar 3% din ei au primit promovări sau bonusuri. \n",
        "\n",
        "Recomandările care se fac sunt în primul rând legate de creșterea satisfacției angajaților, prin reducerea de ore unde este cazul (ceea ce înseamnă și o reducere a numărului de proiecte la care un angajat lucrează simultan), acordarea de bonusuri și promovări. Totodată, având în vedere ca de 2 ani nu a mai fost angajat nimeni, se poate deduce de ce există angajați care lucrează pe mai mult de 2-3 proiecte sau de ce lucrează mai multe ore pe lună decat majoritatea. \n",
        "\n",
        "Direcțiile de cercetare pentru acest proiect sunt numeroase. În primul rând se pot folosi și alți clasificatori sau se pot analiza mai în detaliu predictorii care chiar influențează plecarea angajaților. Cu modelele găsite se pot face simulări care să demonstreze mai bine ce măsuri pot minimiza rata de plecare a angajaților.\n"
      ],
      "metadata": {
        "id": "XziB1SqhF87F"
      }
    },
    {
      "cell_type": "markdown",
      "source": [
        "![High-employee-turnover.jpg](data:image/jpeg;base64,/9j/4AAQSkZJRgABAQAAAQABAAD/2wCEAAYGBgYGBgYHBwYJCgkKCQ0MCwsMDRQODw4PDhQfExYTExYTHxshGxkbIRsxJiIiJjE4Ly0vOEQ9PURWUVZwcJYBBgYGBgYGBgcHBgkKCQoJDQwLCwwNFA4PDg8OFB8TFhMTFhMfGyEbGRshGzEmIiImMTgvLS84RD09RFZRVnBwlv/CABEIArIECwMBIgACEQEDEQH/xAAdAAEAAgIDAQEAAAAAAAAAAAAABwgFBgIDBAEJ/9oACAEBAAAAAMwAAAAAAAAAAAAAAAAAAAAAAAAAAAAAAAAAAAAAAAAAAAAAAAAAAAAAAAAAAAAAAAAAAAAAAAAAAAAAAAAAAAAAAAAAAAAAAAAAAAAAAAAAAAAAAAAAAAAAAAAAAAAAAAAAAAAAAAAAAAAAAAAAAAAAAAAAAAAAAAAAAAAAAAAAAAAAAAAAAAAAAAAAAAAAAAAAAAAAAAAAAAAAAAAAAAAAAAAAAAAAAAAAAAAAAAAAAAAAAAAAAAAAAAAAAAAAAAAAAAAAAAAAAAAAAAAAAAAAAAAAAAAAAAAAAAAAAAAAAAAAAAAAAAAAAAAAAAAAAAANg3jr0LEAAAAAAAAAAAAAAAAAAAABnJu7nkgnwAAAAAAAAAAAAAAAAAAAACTZEEUaKAAAAAAAAAAAAAAAAAAAAJCk8Q9p4AAAAAAAAAAAAAAAAAAAA9M2Zv5rUM9YAAAAAAAAAAAAAAAAAAAAdmycdb4gAAAAAAAAAAAAAAAAAAAAAAAAAAAAAAAAAAAAAAAAAAAAAAAAAAAAAAAAAAAAAAAAAAAAAAAZnzY8AAAAAAAAAAAAAAAAAAAAG4ZnG6VxAAAAAAAAAAAAAAAAAAAAAAAAAAAAAAAAAAAAAAAAABl/m3aV4AAAAAAAAAAAAAAAAAAAAAZ7Lap5ndmMCAAAAAAAAAAAAAAAAAAAADLbX7dBx4AAAAAAAAAAAAAAAAAAAAAABuWseQAAAAAAAAAAAAAAAAAAAAOW7ZTSMUAAAAAAAAAAAAAAAAAAAAAAAAAAAAAAAAAAAAAAAAABunzJaD0AAAAAAAAAAAAAAAAAAAAB2csphTM+rXAAAAAAAAAAAAAAAAAAAAAZ7Y+GggAAAAAAAAAAAAAAAAAAAAAAAAAAAAAAAAAAAAAAAAAAAAAAAAAAAAAAAAAAAAAAAAAAAAAAAAAAAAAAAAAAAAAAAAAAAAAAAAAAAAAAAAAAAAAAAAAAAAAAAAAAAAAAAAAAAAAAAAAAAAAAAAAAAAAAAAAAAAAAAAAAAAAAAAAAAAAAAAAAAAAAAAAAAAAAAAAAAAAAAAAAAAAAAAAAAAAAAAAAAAAAAAAAAAAAAAAOOj4nbtiAHHS8JtO0ABp2vbNtgAajrex7eAGr6rnt0ADW9Rze68gAAAAAAAAca8aO5TlJoBX+Pn2ZpaAIKjN9luZQCFonfZOnIAiGHH2Qp+AIshL43qwvIAAAAMZGXh3ndQAAGgQFn9b2bBWv9IGmVz2TWdlwFqsiBq9Z9l1nZtbtNmQMFVzZdZ2fWbObIBjKrdWyYD0WF28DyVS82y6/6J53sAAAAYqs+MJwlAAACJNLsTVG51JbTZoCMoutNTm8VG7M7OBH0KXBpTeOkFi9yA0mvt2qOXdpjOm/AapWlcKucya3JYGBq4uHXKZdOlcAAAAQ5EIyVrwAANSrZ8MtafsA12sXEyFqu8DD1b6j1Wo94GOqx5jstNlwPNVXwnKz+wAddVsWLL7UAAAAIOi/u6fRkLS9gAAERRB15Of9uAIqhvoyE87uARpCXn9k7b8AR9BXl9M3yQAaNA/g75mlMA1CAcX3S/LgAAAAaRXbO2ryFc50AAA6PB4MVn+3KcgOnH+LD57vynIDpx/kwuc9OS7AOvG+bCZn15LsA68b0YHMe3I9oHHF9OAy3v8Af3gAZL3dgefysfxCKoj8e8TpkQAAY6seLCQp/B46yYb4N3sUDorPr3wbZZPkHXWzVvg2Sy/cHGuem/BnLOekFfNC+DLWc94ADu9gcceHji7T92lPsAAAQvE32X7w/mH1fbLbUERQ39kr9AfzA8X2xO7hF0Ht1/Rv8zMF9n+QQjqA2w/ph+b+nJzk4NGruyP6d/nzHKaJZDUq2fO79O6NRGluZgAAAOmJNLzGg2W2UAABVbDt0stTUlWbArBrrZ7YUr4JJngK26gzFxaVedv9ggrzoj2XUpni252OCBY4dl1Kl622ezQQhFr7cusens1acAGO5e8AxUZRljm46xKMygAAYiq3xNd4fy36202YHkqXxSvfv8vscztpB11J6Eg/oj+amsMla8Km+Btv6S/nRoj0W35CrOEZb9PKARY5W29IrLrDv/UajEMvtrcmAIe9XzGS97Q1WLdA6Ww5fGa3mrTAAAaXXIsxbr82NU++q2w1esxYW5v52aA5267DB1b+JvvHQOKX22ftMdVD4lu+9FoWLUZk6ajcUi/obS6vxZ3ZBUfzNx/SGoVaiyG4gCGZm8msR1OfZ06BFmrue889YwwsztAAAI4gUuNYyg0TPttvUaHXotpZ6jcIlrMqafW4s7bWmNey0GwmtVjLE3JqLWcsptph6r/E6Xeq7U8sTvB4am/Ev3zrdT4n2RABD+z6XtekS9qMOYt7ZJlDMVG6nx9leaQAARbCBfSXqaV4LW5QjqAy8E5VLrCWg2E0SvJcyw1X6mllNtNRrYW4s1XOnJYjeTXKwlorYQVSIn6QzE1ULHXEh6hxOMoADorjNO2FZ9Xz8pSN6WPqf8fczhvVJ8oZcAARNC5+hElVKrEWryxGUFl9Jeq7U8s9sZH9fi8E5Vxp2WT240uuRcuw8DUmLDb2atWcttZyHaHk+SKYOrRaK2EX/n6TdKYAYGMJm72HxG28h4KnfCXNV052b5Km2AAIphQkO3tCvIWryxG0Dm63RoZjCz2xmg18NpvDRDCFk9uNNrgZ699F9aLDb2axWUyt86T6eT5IphasHtvxTjQSbpTABBPbOIB01F+Eyy5qcV6H1fbObIABF8HDt6hbDIkeQCOzrFpc4aNXcdvULMbSalWsdnWLGbqa/V/4dnWLAyAYuqfw7eoTrJgPFBUy500OvtlNqAKp4oluZjERfgZ49oAEfQB8+/B97LbdxpNdfgPv22HvNVrT8+/A+2mzRgKvfAPtmtmMbVLiB9sduR5am9QH2we+hjK7a3mbJZViqqbZZQAh+HjcrF9gAAHXDUd4sN1lXdxxhnQcIG3yrvo4xBoGvBtMqyGESx3rgbHLEjBFscax8GdlqSOQjeMNW+DKy/JPYMNXXBPmxWQ96pPksXuwDxV71B8kaeeQAAI/iRrITLLgaPCuS04JZmgNQg/JaWEnTmGrQZkdJCQp/DX4I9WlhutjAxEA9+mBtVlw41m1kNpsZ7K/aBZrZgHhrV7dU+pOnIAAEQRBt+mhOcnBFkJbnpYTLLgR1Am66SEtTOGi153LTAk+cg1Gtu56WEhz8GuVi3TSg3axYIrhTiPu5WM5adtvYA66ibB26yS1MwAAQ/D+46aE/wAhBFcJbtpITpJoR1Ae6aWEzy0GiV53PTAluZg1Gtm6aWEoTiGuVi3XSQkSfQ412kmCfMd08SGABULhs3Vrv1ZrZgABD8P7rpIWK3cIrhLdNLCf5CCOoD3PTAnSTQ0WvG66X8Ezy0Go1s3fSAlyZQ1ysW5aYEoTiDHQjvMCPRP+9AAKmeH7YaEsN8nCUQABD8P7npYWX2oIshHdNLCxe7BHUB7rpfwWAkENFrxu+kBOkmhqNbdy0wJnloNcrFuemfBLczAYmBdjjmwm3gANYrV1LIx9GHySp3AAGva5q8VBaXOBgdZwEQhZjaQw2p4mGQsbugYrT8dCvwWBkAMfpXmg34J1kwPFo/yBfgmiWQHX2eD3gAPJWTCMlaDQ4JbJZ0AAEYQaPtr8iBHcBBaXOAaPXYLM7QBqVawsbugGvVfCwW/gYqqnwTtJYAAAFfdAcrFbrrdY/nZbX0AABHsAD7bruA0mugWwyIGq1oC0ucAwFXvgsxtIGMql8Fjd0A89SOIsDIAAAAIrhIl+YnXUrzrL7UAAGk10HptwA1WtA+287AMDV34fbY+8DG1R+C0+aA89R/gs3swConSLHbmAAAGr1s6vm52M5FaNVThKIAAarWgZi1IDA1d+HrtsAxlUvh9t52Aeeo/wWy94ConSLT5oBVHGCzWzgAABCkVMpZvIiEItSpNoABx8/irXiu3qkea+70Dj5/LXDBdvVvc793oDy9Nctc7OvcZ/9HoDy9NfdR7OvZ7E93qDz+eCNG7erPWQ9Ho5Dz9MIR52deWsn7fRyDjx4uJyOXYOnTa/p323ictZgLjP+7dgADw4/p82JymNzfL0ZbuPHjenz4jLYnN9noynoPHjenpw2WxOb7O7Keo8uL6enD5XE5nu7sp6jz4vz9eEy2Jy/o7sl7DpxPn68LksZlvT3ZD3Dp6ePFxHJy7PRy8+N6fLx7wOjl7O7LcgABxceXIAcXHlyADjx5cgA48eXIAOPHk5ADjx5OQAAABxcTlyAAAAAAAAAAAAAAAAAAAAAAAAAAAAAAAAAAAAAAAAAAAAAAAAAAAAAAAAAAAAAAAAAAAAAAAAAAAAAAAAAAAAAAAAAAAAAAAAAAAAAAAAAAAAAAAAAAAAAAAAAAAAAAAAAAAAAAAAAAAAAAAAAAAAAAAAAAAAAAAAAAAAAAAAAAAAAAAAAAAAAAAAAAAAAAAAAAAAAAAAAAAAAAAAAAAAAAAAAAD/xAAbAQEAAwEBAQEAAAAAAAAAAAAABAUGAwIHAf/aAAgBAhAAAAD6QAAAAAAAAAAAAAAAAAAAAAAAAAAAAAAAAAAAAAAAAAAAAAAAAAAAAAAAAAAAAAAAAAAAAAAAAAAAAAAAAAAAA5Y/1sPYAAAAAAAAAFVjG3sQAAAAAAAAAPGZ9aT2AAAAAAAAAAAAABy9ewAAAAAAAAAEeJZgAAAAAAAAARYdn56gAAAAAAAAAELzPCP19gAAAAAAAAAIvOcAAAAAAAAABFh2ceWAAAAAAAAAAQekoAAAAAAAAAAAAAAAAAAAAAAAAAAAAAAAAAAAAAAAAAAAAAAAAAAACDJ6hBk9QgyeoQe/cIPfuEPr3AAAAM1nJe69mczUneezPZiTuupQZbvvOpRZTtu+5SZLrvO4AHjKcNZJAMbU+9/2MfT+/oHUyNK+gSDJ0bfSjLUDeTDMZ5upwAFTjWl0YBAz9neCFnbG79kPOWF57Iucm3vsi5yXf+yLnJd/7Bw8HX174Ynjs7ABBxHhpdGh4bw0WmRcJ4aHTo2F5L7VOGD5LzWOWB5LrXAcvx66eM9W7DsAZrOEves5miTv2ezB3+gqDLHX6B7osodfoHukyR7+hexDiSZzjSUfP90t2AY+nP36H0yNKfv0Htk6MfQu2VoR9AkZfPjfSsznRvJgq/2uuKGmsulP4ttkAYurH0LtjKofQJGOqBv5ORpRvJmToxup2VoRuLAeKG+gVN9Ky+flcrK/sgMVWD6F2xlUPoEjHVA38nI0o3kzJ0Y3U7K0I3Fg8QrCtgaEZvN2Oyo6XadwZvO+Vls/ecznlP23vPZryn7TrQZjym7brRZjmm7TvSZbmm7Tv4yFZsLHAbzuQ8P+7WcAY+vjttZMfXx20tGRrODY27KVUdr7llamO1t2y9PHau9U2QddnWX3U54Th12swBiYnBupzFRI7cWDGQo7bWTHwIzaWjI1sdsbdk6uO19yr6Kkm7TuH587nQLbYAMzUw30CQzNTDb6UzdPDbqcztLDbiwUFJBbayUFLAbS0K2Jb9gVGOv4MffgGMqv36J7MfTvoXYyNK+gSDJ0bfSjK0LeTDL59upwARcP72+foN/IAZGl9/RP0ydH+/Q+hlaH9+h9DL599C7GZzr6BIM5mm+lABjK3a2FJktpaAcKus7X/b3wq6zpoe3vhW1XTQ9vfKsqPej7e+VdT+tH298q6m/dFJ9+PIOvKl82jxR6CYAeHsPD2Hh7Dw9h4ew8PYADwewAAAAAAAAAAAAAAAAAAAAAAAAAAAAAAAAAAAAAAAAAAAAAAAAAAAAAAP/EABsBAQACAwEBAAAAAAAAAAAAAAAGBwMEBQEC/9oACAEDEAAAAKQAAAAAAAAAAAAAAAAAAAAAAAAAAAAAAAAAAAAAAAAAAAAAAAAAAAAAAAAAAAAAAAAAAAAAAAAAAAAAAAAAAAAZ7I+K2+AAAAAAAAAAO7aSpuSAAAAAAAAAB9zrHB/AAAAAAAAAAAAAAMrEAAAAAAAAAA3N/i+AAAAAAAAAA3Onw8mAAAAAAAAAAA6f1yh7t63wAAAAAAAAAB7t7HLAAAAAAAAAA3ujw9vRAAAAAAAAAAOph0QAAAAAAAAAAAAAAAAAAAAAAAAAAAAAAAAAAAAAAAAAAAAAAAAAAAe9TQwj3qaWuPeppa496mnrD3pa2qPelr6gAAABPJnz6kxk4m+jUWMmk706iwkynurUWuS6wdeoNcldia9RaoAH3Ym3XeiAWdIfmmcBZUl+aa1yx5QpzTLDlin9An0xVFzSeTNUvKAAkFnoRBwDrzPgxTw6s04kS8OnNuNEPDoTjlQ3w6E35sL8N6c86GfANjKYMLatXYq/kAOnbX0g0JdG2siFQVv25kQ+ANy3cyI182rfzIrXTYt/YRitwe5fWP49m/crTWAJ1NTn1Am05NOnfJnPDVpvyYT816Z8ldiGOmMcpsYx0xjHR6OhzGxKpfl8gcWALMkZ80tjseUHlMYLFlQpnWsGXCndKfzAU/oTqaio+YJB8duMTCUcLBKPqPViAWl3RTOtZ8gFO6VlyQU/oWPKBUfMsWVCpuTYUtFVcUfcyhvZkMR0J9MdLLxIfwwLS7opnWs+QCm9Sy5IKe0bHlAqPmWHLBU3JsKWiquK++vxe52IWJxN+NWMsk9Wa4JzNfXGqrybTb7cerMcynX25NWYZhPPty6s15dPvtzas1ZTYOVzau08tld2seRcVQap0bZ8qvlAFmdnaVVxVk9vbVdwVkd3aVlHVhyLaVrGk/ku2rmLJ5KNtXcUSWymOru9D9cyXBsYKr5wC1OjtKj5i0untKo46z+rtqq4qye3tqu4KyO7tKxjyw5FtK1jTtSyU8yr9MPq6+R1Y/WgCeSLoqd0k5kvRU/oJxJekqPmJrJ+mqjjpnJ+qqriphKuqq7gnc6UZ1wSKzYj1Nyn/AFnSFS+AsyRqZ1ix5Qp3SLFlSn9AsGXKj5hPZkqbkgBv2xjqaay+nNQBY8ox0t8lhyz5pT5LBlylcRPZkpnWJ1NVO6RNpyp/QACzu/VnFlNjVdwQNmQ9/Uh2n5s9+Q60M1fjP35Hghep8Z+7JcMK1PjP25PjhGp8Z+zKfiE6Xx7k+h84s8o+uAyyuH80B6eD08Hp4PTwejw9HgAen18vAAAAAAAAAAAAAAAAAAAAAAAAAAAAAAAAAAAAAAAAAAAAAAAAAAAAAAAf//EADoQAAAGAAQFAwIEBQMEAwAAAAECAwQFBgAHECAREhMwMRQVQAg2ITJBYBYXIiM1JXCgJDRRcVBhgP/aAAgBAQABCAD/AJwkPXH8v/WVCjRaYcVXNEj1AMLaWg30MoAL/v2AivdpBNEySSaCZUyaO2aD5uq3Xk2Cka+XaH/flBRAEH622+JgWQaKfv2hOylUetB2XV2VeWBEv78Zu1mDpJyhETTSXblOjpP2FvEImICqqip1FVf36ksqgoVVFG4ziJeUXNtmnJRKJznUOY5//wBYx8FJyhQUbyEY9jFATdfv5gWrsUCe4IxdPlVSeln7MpzCwjRETCYR/wB/GUFLv0uq1PAy6KySBzxdfr7YgycgqwXW52X7+NZJYOQqDK7SaH4OnbpZ45VcL6IoquFU0kXFamWqIrqfv6JasV1FFH5U6K6DpEH2qpsDrtnkrIP1TKr/AOwHEeHDuAAiJQBCoLekFy/eNitVhIT9+kABOUBb2qOjiAgzazdXXU9YeXl3Uu5Mqt/v4ACIlAG1JfrIgoojSpL1iaa8hPxsKBmEQ6X9UsdYf36kcyR01SGcLKKdU6NhmEEFW4axEG+mFDAhKwCcaB+H7+h3kVHFOu5LZYB//afzM81ZNEY2D/4vyihEyGUUkcw68yMYiZM0owTl54i1wc0JSNe0IgUDCMlf67HnMmUuaUaI/wBUTcIKYMVNv25O9V+MOJADNKN4/jF3aAljAmn25S71+LMZM/8ANKO44jLzX5MwJh25W4wMQYyaw5pRvH8I2/V2ROCYgICBRDtS9shIUxk3B80ozmNyR2YNefnBNQhyHIU5P/llFE0U1FVLbbnU8udBHQpjEMAlo1vPICWLkOwIgAGEbjcV5hdZk00AeGKLcVVzkiJLs3W4rSC60cx0/EMUa4qkVRipHs3m4rKrLRUdp/6pNxVYrIxsh2b1cVUlVYiN4iOtNuK0SsmxegICHEOxergqxMaKjjGMYREdKjbl4NdNu4TUIoQqifzZSZjoZDrvnuaI84gwRzTlAH+9CXuHmDkRP8TMaSMzgwbkSSVcKkSSmqlZa8i3Xl8PKfaGEYSWdNXSrNy3cIs3BXjRs5LvvskaPrzjkABMIAEtT7TBNEXspg1PtJYgJoySqiCiaicS99xjGDzsXKSNGV5+qT/7xIU20xccnKPsJU+0rxIzKZTCUwCFckTykJHPDb7LImiYORdkEeIiOF6daW0SWZXwxp1pk408oy8DioyJpSAjlz75l/7ZEv3wKKGWUOobENUbNYUF14dRNRBQ6Sq8e/aJN1nNFkTyVdaife/dFYsXbszlwq6cLOFsRFQs8+2WdRJyHSOYh3Ee/aJt1HOXciZ9AFRP8yalm8LGrvVpaXezLxR280DiHig2pR+HtT74eapDdGFMFAnGdbuEFLPs38yqZM0tzDxce6IyfsXSltzbobynyxG4YrhRTr8MUd+aJDjFR5wqcq2grLBSjvM/NGjydIk46OIYCmKYXuctBWqrlyGKWQSVmIAd+ZhTDXkxLCvUYyZiX614zZob6jy6DLEVnHQkaozXUUOBznMFAIIVaPEd+YZDmrDoStlSt3KCx5/OOgOahIHRxTs3aGzpUMR3KO038nIO0stiCFcAR33gpj1WWAumU2ZtIiaWxipO22FhM3mTn22ambFTt9SRi4vLAohCvDjvtRDnrswBNMpszaTE0tjFSlnsUfK3uRn2+a+bFUuFSaxUXlYQ/pJc3zc0nx+eNYBsinp46RYvCAICHEPhXSJNLQTgiY/hshYxaYkmjJFJIiKSaSe+1xIzUG7akOAlEQHWOYLST1szQaNSM2rZsnvsMX7xDvWQKpnRVOmfVo1WeOEW6UWxTjI5kyT3yzAkpGPWR3TdVous3W1RSUXVTSTgowIeJZMew+akfM3LVR+yWj3i7RfUpROYpS1eJGFhWTQ+9dJNdBZFWYjlomRdMltQxTIg0PAt0lPmZpJGCVj1tE0F1SqmTw1aOXipUWshBysO6btZBMnSTTJ8S3URRRVWRh1UVUFDEVABHEdEyEs4BBlVKqhXW4mP2bjRTvVVJKKXbLtVDJLcMMYx9JrlQZ1GoJwCYuHHZuVIGVMpIxrlo5ZqmRc8MM2Dt+sVBpT6aEIHrHnZuFMCa4vmLti8YLGRdBhs0cPFiItqdShiRLISHZt9QTnk/Utn0a+jVjIvMINnDlQqSFOoxmCqUlKdm2VRGwtyqJSMRIxSxkXuEkVV1CkSp9EVQVSkZf5t8hDzEN1EBDgOK9YJSryiEpF13NDK2wJJmm7JnRSa2wOnXqyhJXC1Lzkn8Ny7atC8zn3+Cw8c0+R/7xOOy9SPzAhLVtqmCaATsGI8AIchyFOTe4ctmpedx79BYePalIBweEjcvCH5wQlay0T6bcJ6DMPAE1E1iFUT3rOEWyfUX9+gsO39UflKV2EXl4B+fDWTq7MnSa+/QeElUl0yqJb1V0kEzKLe/QeHUlV3xOR2MZl4J+bDWQqrEnI09/gsIrIuU+dHeoomimZRUZ6DAeAuZSsPU+k6GNy8E/OLR9U2BeVn7/BYQctnROdvvOciZDHOM7BgPAXEtWnSYpOTx2Xpz8wsnVQjg4M/foLCDpq7Lztu6EU8EOOEmRyJlKb0mPSY9Jj0mPSYcR6qgFBL2h7j2l7hRMUzmTNttOX/AKxVR7EPY1/HKdN4VNQ5gKWDoUvKKFO4i4tnDs02bP4UvJoQ8e5eryss8mHirt1xHHEccRxxHHEcUa0HiXqbNzufvm8YydPHM3NO5x6q7ccRxxHHEccRxxHFOs6sG9IkuAgIcQ2unKLNsu4XsU86n353CnEccRxxHHEccRxVLKvAPyGMmomsmmqntVVTQSUVVtNjXn351A4jjiOOI44jjiOK3YXUA/IuRs4SdN0XKO0RAgGOe4WZWdfnKiIjjiOOI44jjiOIKcdwT9N0gxeISLRB033XezqTL1Rq24jjiOOI44jjiOIeXdwz1J41i5JCWYNnrfvIqkRPzn9a3x61vj1rfHrW+PWt8HeNxIYA2vnzWObKOnb6+zMgdUkArdLcgqYFqxmAZ8umwmCJJEHiT4mZ0uJ3LaKTwAccZGRASmYcYoebjUpmFlotVVJRBVRFXAfhilywy0A1UPtzPlhKDOJTwHDGUMQEzmDXUjuUEXjR2zXk2C0XJSEevjxigywyUEmkfbmbLigzbxiemXUQE7eKywMYoHAxD2WIGBsU7EjplzLC/iDs1duZEsLOISYp6VOIGes0DFYAAAOAX+HCBulljQ0yymBcsHMYrtzBlhjYMyBMDiIj1ZaWjI1Fu3SaN0GyGbMP7Jf7K3DTLCXFRN3Eq7bvLDEwDrkH8R0boKOV0UEomPSiYmMjUc74T2bMOWEumWMsJVncSp8lddBqkZZxZrdXXDghiOrlPLiUEYqSNaf9Gl1CGSVOQ1SlRl4Jkub4k6+GSl5F4OmX7WbfW2HZQc/Xc6ywc0q/1yvf8j5+wNttj4ZCwSS+tPQk3VmhGsS/rOeCjF6kuc51TmOfTLJ/0JldoO28PhfWSQHWAK+VnIhGOGq54HTFkdyo4VcuDudMun3pbCkiO3MN6LywrJhoxF2V41Mz/hTO9NMrIk2D0sxJkf6UR96KyMeO3Mp96ibI1DRNRRFQiibar55ItEG6VsSkm9mnm0npUH3t9hjFt2aD/qyLFkGgCJRAQhq3ncELFeivjaYZWyYZzWlff+2TUa7HuOpiKYm5XLWVi3w8jbsyc3FxCfM9l8zjDzJRMhKyMor1HulNZiaVTkFXrgXTt04HK6T5Vn0af4dgdAyhJVyA+R1yAZeqzDQWw7bEctnDZRVI6KqiSmlLdC0ssSfbIOfRMHrnBzCY4iOmSbIH2ZMDzYmGXt0vKMda069HPRK+1dUiCSyp3Cp3CyyymmVLL1+YlTS0ujH223WhmGkS69DJsHW6TdGfSD10OlCY+43WqNBxmey9BmBbUdWi52zluuRNQiqaahNlidg9m5RcNK+yCSnYVgOM6GPocyrKUNCCYhimBk5B2yaOQ2XF0Z3ZZZQdGyB3TlBBNFBNugiinn2wFnmNIKah5DEI69bDxjge1PT81PzC0HBssrm/KUZB7lgmBeaOa2Oy090RnNx8k0lWibtntl7nAxHMU8xmNMPgMmyVWVXUFRXSMrMvLF6qPp6rCcRdSlleySBWpcV6RGJmI97gBAQ4h8LMBfo1d4XH/jX6amXPL2h9pemPttztTTVguLZ41X23RboViXPs+nFl1bfLPBxmqx9vzEtqGqZjEOQxUFQWSRVDWzL+mr0wpgfI6/T6y9VmCRfTOxj6HMmw8NA8hiLW9RGRy+yYW9PFSa+B865HMgeZkwZxxn8x9JmI7W1DyGK6sDmBh1R1crg2bOFhOImMYR0yjY+4Zj1NHT6jWIN7qwdBrT1vUVmJU2CIAHEXaxnDlwsOmXzL3C8VNsOPqWZgWerb8NaCsC1XjwHtUMQY2iZZr4eSDGOJ1Xj2ep02ioxcoOHdEmiCRJVNdJNVLCzhFskZVeXzHiWXMRjL3CcmeYi/nQiZ1DgUkRl9OSXKddw9r1cXcNmMnPSsuYBe7KdJe515goPwszlOWCak2fTcy6dZn32mdzL0eZM+IaF8hhip1mTNXZmOpyVpUuz6ZmfI0tkgOPqBZekzDXW1DyGII/VhYk+y+qdOrSPDX6aGfNI2p9p9R7IUblFvA1qavVrcMfZcFOlWpc+z6bmPVtc09HH1LMuSXqr/AGUVTqVaKHZYVOjAzBgHX6e2QOb6dfT6mmX4VJ+GuXavUrCBdkkfpRz9XA+R1yKZerzIh1Bx9SrHjAVl9syyPz19YvbvEa6h5drY2Du8ME6+WVRhKtJW5Q0tMrZaV45OUkrl7PNDcjOtsXUZBxzR3br0MQuZhHyMxJyynO94aM457IKlRaRGWTpYCqy0XXoeGL/0ZzgQhjiuoZVZVQ23K+S5HT2NP8LNMR9ujQ2ZGM/R5cRR9PqPZ8lshXgaB5DEGYTQsOYdczh4V9sGz6fGPpqCdfT6mGHSk6o92VQ3PW4cdmYw8KysGz6b2XJVpp5p9TLEBbVJ8TWjG5qpEjsvg8KpLbPpoaAlH2qRHH1JsQPW66+2Zdn41hqGy4Dy1qZHA6/TO0D1trkBx9RLL1VGaug1yzNxrywbLAPCCmhwOv02MgPZp5+OM+GIusuJFbZlabjFyRO25boPEFW7i1109ekgQLTpk81DpqH1uDVdrYpQFcRVZmZkQ9JD5ZsG/KpJtWbRimCLXSVN04ySNg3kdkXFKSSEqdPDR46YOE3LWIzOcJiCcvFz0VME4svgZqf9tD7MpJOLkKBX0o/H1IykS5kq9Ho6B5DEB/gobZmh/h2WzJCSineX8UyZY+pGRiRQgIsutR+2obZmX9uF2ZASkY4pIRzfH1GycYFeiIk+tC+04nZmD9rvtn06ScWarykUnj6g5WMQpqcYvrlz9so7Lr9ry+B1+m+TigjrDFDjPaUjG1AkGLvXLH7ec7LP9vzGB1+m6TikHNljVcZwykXH0GdQf65Wf4+U7k/XmdhbIIundx9mlGLFg0doPWqDlvpLQMXOJkK+jqNXY8/UKAAUCgGyWATxUmUDeR2ZWtyLDOCaxU+ShXCxyeMDgih0jAdOHzDmo7kTdQt0hJgU0id7NQn/AEcQbZlxe3tDnk3qd4zPh6xVW0wwfPncm8dPXugeQxAf4KG2ZoEH2RofZRLo/os6hJtbHmdAQtNb2ZrLyr+dkXklIa1H7ahtmZJRGtiIa1C1ydNnGctHv8zq00pKdtSsM9JWeWeS8lrQvtOJ2X8gmqsgIa1ywyVWmGkvGt8zqwrSD289ps8nb5p5LSOuXP2yjsuhRPWJcA1hpiRgZNnKRsFmhXZalrWde7XGRu064lHuuWP2842WQgnr80ADrHSDyJetX7GmZpQlkqTmbfZg3l9e51R6rrlZ/j5Tu5mxgNZZB6TLyyejchEuuy4T6zdwlg3kdmVHLyTukvS4KX5jml8u5qP5lGiiSiRhIpj/ANVB+vI16Ncr93NIn+lxp9p1lTkSKfUPIYhy8sRFF2ZmF415EdoqKGTTTHUPIYrBOSvQ4bMxCc1YcDtFRQUipDspJeSrxAbLyXmqksG3qK9IyW3L4nCrMB2WsgnrkwAD52AooCRkg2Zal4VwR2ThRNCzBQN52EVUIRQhdmVxP9GfH3yEg0i2p3byRv0q6lUnbaBnmk+xK5ba5jMvU1064FMYhimLUJ0J2ITUP2ZpmZhKyDY2uVKvBeYS2ScFFTBOD2YyxXT5lIhhl9YnK5SLxrBCLYtmSHdzKbmXrxTk7CSZlVCEK2SFBs3SHXMFuZxWnQlHsB5DESgdtFRqJtbq3M5rEqQnYDyGK03M1gYlE+tpbnd16WSJw4CPZpjc7asxCSms0gZ1ESiBBDgIh2aC3M3rLIT6vUhcs3iIKkMmochuxlw3OjXAOfbKyzOGaHdvLHZH1hdCotiEm3kE9I7bQ0wznGJHjTSdberhpVAfA4p86MFLJKKAICHEOxmPXTmOEy21pdhTgJMx10lUl0k1UvhropOUlEVpeoVhjLN2RplmWOlpFmntqFYRsh35VYKiRcKuR0bYommsmompYanVo18kRawRycTMPWKW2o11Cxu3bdeFoETEuCOVtggBgMA2mq1eNXQWWs0UhDzDhk321OCQsEio0WicuYmPXIu422yqVlmsV4vZYhtDvkUWu2rxCU7LoMFo7LWJarlWcgAAHANlvqtbR/1JeyxDKJVj/Q7a7GJTEwzYKsss4pu4BRymmRMhU09lwq9eEDyjmxQ7CMQil2A+dsKyJJSrBmo1ywi0liqLoopNkk0Udk5OMYJmZy5nZ19PvBcOcDpXrA8r74q6MZJtJdmi8aYEAEOAv25mjx03NigSDqQr6YuOxInKlHv1TTsM2FuSYiNaVcDxCpWD0hyHIU5PhXqxyVfCKFgvYH0xMRz19ck+nZpcN2VReCE2fdeZ+QgGrJVlL2GRnV26zy+AULRIGLtyrJxcy6m66zL2CikXbKbsknYPSg+vAc0q1X3ZWk4zEgfdcJZ3CwqjtpNWiUnk0Enty4HCtrbstE+ewibdaZJzFQUg+azNtl51qRq8sw88RUlt2XxOa1MB3WB6tHQ0i7Ql7jMzTQWbub4HqlOU3UlPq2iJDcfjwNyWpWYUmXIS22sWVxXnnUBi+bSLVF21xdq7JNZaRfk4Yp7P0Nbik+zKFA8bIFGEm1oZyoYJ6ERbJJScZj9NKTchjzJxkgAgIcQ+Dmt4gsEESHKYL4AfxQ/OXblanwiZBTdmn/j4vAeQxeP6pRmtuyqJwRmz7sz/ALebY/UMXHgcK2tuyqT4uZdTdmN9sraWX+5D1JbdlaTjLPz7r59py2k1wUqdQPuy0S57CY263fbUzo+DqUeGPuy8T5rSxHfmS6hBbEbKCUxfOoaVGzuYF4BBAeIFHSYpEHK8TlSSIikmkn2FyCdBYgD5HEDODEqKpLz0EWP6TxnrRrn0RSiJL4Oa/wCWCwHkMXcOaSZrbstCctcUHdmn/j4vAeQxcf6yVhbdlcnwiH6m7M77ebY/8Ysv9cNUVt2VRODeaPuzG+2VtJn+5UqifdlSnxcTKm6+facto8/uUiIPuytJxl5A+63fbUzgcfgpQBDdlmlz2E5twhxAwYn4l3Xp5NzISsRGXaHQfRrlss0XVbr6pJKLKETTp9KTiQTfP+6sXkVULpAzhWHWZPZ6DPEqJKpYDAYqEieTr0csp8DNf8sFgMXD+slaV3Zep8lXZjuzT/x8XpZP7kLUVt2WhOWuG3ZnfbzbSZ4HqNRPuyuT4RD9TdmN9sraPA6lHiT7sqicEJk+6+factoH9ygGDdlUnxXmFN1u+2pnA4Yj1aTOF3ZWk4yr8++Ui2kwyWZu0lZXL6bFM9jgGNwjk5aLMUSiIDhs2XdrJoIVGnIwSZXbrvSZOSQek1rUczmaTGtHU9Eng5VywPpla76kdItB+Bmv4gtLIPUhaitupKfTq8QG7NP/AB8XpMD1KjUDbsvU+Srsx3ZnfbzbR3xPRos+7LUnLXTDuzF+2ltCiClBVDdlenyw75XdfftOW0Yj1aXOk3ZVE4NplTdbvtqY0g/6qrcUt2VSfFeYU7E1DNJxko1cuWtkgXLuBSWy3dJwouCs492+dJs21VqbWvIlUP3rTYUq9HGVwssddVVVTShCI1WN45oNenKMXQaZZO+lNOGw/An6wwsfpPW/yxr2MwItCIi64zQ2BisJ9KvQ5d09XWViSQSd/wAsa9i8QraEr0Y2bbaUTp1eIDdOQbSfaEaO/wCWNexcYFpA1MjVrty+T5KsxHdMw7acZCydfywr2LPXGUBUn6TTblqTlrpx3S0ahLx7iPcfyxr2JursYCqWEjPblcnywz1TdIsUpJk5ZLfywr2HtRjYKBnzNB25Up8G0yfsnRSOomqbCMawbu3L1HvP37aMZuHjqfm3E9IqvF9IuNcyz1Bm2jGCUXHtGSWZ7QFYdm6AdKi6FnYolb4eaJOMUwU2h5DEOTpRMUn2MzC81eTHA7AxWUulX4UvYzDJz1h0O6lJ9KrxAdi8l56rLBuy+T5KqxHsWonPXZkMDty1Jy1sR7E2XnhZYmB8jtyvT4Qr1T5IiABxG8WgZt56Vrx0KUxxAC0usBBMuu4xb2vrK1Lph4HRI5kzkOVq4K6atXJfg5mE5q4mO0v5gw3T6KCKfYzEJz1h0O0PIYiCdOJjCdi7k56tMBtDyGK0l0a/DF7FqJz12YDA7aUn0qvEF7E2XnhpYmB8jty/T5KtHj2HhOo0dJ4N5Nty1Jy1sR+TmDafTpKQzPXL2q84lmXui6RV0lkVHSJ27ldE2lHeesrUYYfg5hJ89XeDtaE6rpuTs3dPqVaXDH67C/mDCCfRQRT7FoT6tdmC4HYHkMRBOlExhOxNE54eWJgfI7AxW0+lX4UvYdp9Vo6TwP5h20xPpVeIDsrk6aypNuX6fJVY8fkWywlr0aKpFVVF1VFldKdWlJ9/zKppkTIVNPW6tfSWWVJrla7546SaD8G7J9WrS4bYFPrTcSn2bQl1a9MFwPkdjJPrO2yfZmSdWHlyYHyOwv5gwgn0kkU+w7T6zZwng35jbA8hiJJ0ouOJ2XCfSXXJsDyGK4n04CFL2ZhLoyskntpqfSrEQX5Gagreui9YiJdTT9Bk2iItrDMEGTbZmk16cmwdBplYJ/cpEA74nIQOJzvW5cPF2zxq5bKS8S6iHSiC+DoqkKQ58UWFUF8jKOQkEv1I7bn8bBEADiJ3jcMLO266SyJp2Fcw7xRI+DIqlTIoOKVCquJFCQXCQS/UjtufaIgAcRO8bhg79IQMGLHBLRD1Thwx0VQTBTSpQask/QcKhIJfqR43PgBAfxDURAPxE7xuTAyCX6WuDVjX66yXDHRV6fU0rUErLvkROEgl4EjxufACAhxDXxg7tuTAyCX6XOEVaSC75HhgEVTJmUDEDCLzDxNMqTxummmkUjxuOAEBDiGw7tuTyMgl+l5hFSP15RtwwRJU5TnLiHiHUu7TRQaOWzRsg3TI9bjgDkOHEm0TkDHVTx108eoTx6gmPUEx6gmPUJ49Qnjrp46ieAEB8ancIE83CKbz8cUiLlo5aKmRXbNHDtUqLepxadeZiJ/cRx7kfHuR8e5Hx7iOLXHlsMd0SumbpkqZJwg2cOlSpIUyJQgGA9ciqZ/yd520OsfnIds4J5Ehw8rtWzsnScJ1qCSU6hF2jVyl0V0q3BoqdQoBw/AASUHwRm4PhukKKfIOrtsdYSiQ7RwTAkOHlZui5TMkuStQRFOoCjVqsiCCidagk1OoBCAQCkICag+CM3B8N0BQJyDq7bnX5eB2jgmBTOHlVJJdMyS38MwQKdTBmrUyHpzBWYIqnUAiZEyFTTBNQfBGbg+GzcUCGAdXLcVwLwOzcEwKageVE01iGTUGswQqdTANWoIenD+GYHqdTCSSSKZU0gTUHwRo4Phs3FADcdXKArk4Adm4JgU1A8nIQ5DEOetQR1OoJGrVJHoEGswR1OcUUUW6ZUkQIc3gjRwfDRsdvzCfVwkKyfIB2bgmBTUDyIAIGAT1uCVU5zItGrdHooqVqCUU6hkGyDUhUm4EOPgjRwfw0aHRHnPsUS5x44FufHQUx0lMdM+OU+OU+OU+OQ+OmpjpKY6CmAbj+oBwDho4QFchQwdguHgWzguFmSa4FBdJs3bBwR3qtUXQcFm8emgHBsDRwOCR6o/nITkIUnwRAB89NPHSSx008cA7QgBvPTTHHSSx008cADx2RAB89NMcdJLHTTwAAHjsiAD56aeOkljpphgAAPHZEAHz008dJLHTTDAABfHZ4APnpp46SWOmngAAvj5fAMdMmOkljpJY6SeOQmOAf8SH/8QAUBAAAgEBBAUHBQ0FBwMDBQAAAQIDEQAEEiEQIDFBUQUTMGFxgZEiMkJSkhQjQENTYnKToaKxwtFUYIKywQckM3ODs9JEcKAGFXQlUGOA4v/aAAgBAQAJPwD/AM4T3qDfK2/6ItNNId+YUWnmibdWjLaOqN5sq5qf0P7/AH+Enlyn5o3d9lVUUUCjIADTHijdaEWzwN5LcVOYP7+7WdF7gNXa0FPA/v62bASr3ZNqtUQRBW+kc/39NHjNR87iD22NHA8uI+cp0sr3ll8iP+rdVmZndizMdpJ2/v8ATMjjYykgjvFpkkpvdBX7tLTrED8mKGzMzHMk5kn/APbKD3v12OFe7jaEri2N5ynsI/f8m83ghS4WrKlfRyIBpa8GN8QJixlS/VR7PzV3j8kumRNMqKRsWzMSdpP/AH9uTMm5iQoPZiIra4yhnOEZVSv0hb+83lxXAP6Dh1m12eBDtRnxCvV+/wDeeZjQAJGgAAA2DibJHeBx8x7Pikc1J/oNMbO7ZKqipNrmaUq2FgxA7AT+/wDeObu8aqWp5zk7FUCpszwucg5Lj7WqLSLeJ5680xINV7R6ItepGO4VoB2AbP8AsDsHSLUnYLX6K6Kc6MK0r61SALXmKZfRdGyP6fv81AWzO2luRlaIZY2cKW6zkbXIQXiJSy+QMzTdhyJs1EH+HGNiD9f+/q1J2C14iiZhXAakixQQbXlQ1yG4A0NTa5xMy+TJIwqKj7WNoYoy21YhRa/v81HRgyngRstNI0nrkknxtfZGRwV8rMivqscxqLhjXzpW80dXWbcqXeWRfOjqEcd1T+/9090zlqRxmmFAPSNd5tyKEByxAB6d4ANmCxmOrSptUHcPnH/xf2VVVasxagA6zaWW8sPkh5Pi1uTbwF3kFSbXzDMfiZBhfo2oBmSbTPeXG3mACvibcm3gcSGU2vXNzNsimGFj1DpLwZ5BtEADgHt2W5NvHitr0YZW2JOMJPYakdJejPKuRSAYqHtqBbk28U44lrS14MDtsE4w17wSOkvXOSrtihGJh+AtybePFbTPdnOQE4AHjss1QcwR0d7xTDbFEMTC3Jt4I3EsoNpZbs2wc6KL4rZlZStQRmCP/u7KqIrMzHIADMk2dkuKN73HsxU9JtLUIzBs9ZwvvMh2yAbj19C1AMyTaVkuKNTgZSPSbUlxNsu8zHMn1GPRS4bohwuy7ZSPy6kuONyFglY5ofVJ4HopSkKDDPIu2RuAPq6kuK6uQsbs2cRP5eilKUyvEq7a+oDqSF7k5oCT/hE/04i2YPQy0mpSeUbUB9BTY1J0yM9yc0dDngr6S2ZWVlUqw2EHYfh15WMHzV2s54KBbk0YfWlbM9wtyddXHzcS/iTbFdZ2yCSkYSeCv8FajXqUJ/APKNkZ5HYKqqKlicgABbkO93SKXJHljIUnRyDfYriyq4naIhaPsJs2GSJ1dD1qai2SzRJKB1MA3QNR53EAPU1SfsFLCpOwW5Bvt1u8tAsssRAqdHIF8HJ+DH7p5o4MB9P6NmKujBlYbQRmDbIzQIzDgSM+gakjqIUPXIaHwGjkC+wXN6UnkiIUYtmLho5Avr3AKW90CI4MI2t9Gx2WaryRAOeLJ5DHoDR1hwxng0hwA9xNdHIF9S4MocXgxHBhOxtHIN8muaAkzRxEqQu0jQayKnNP1mM4eg86KAstfW2LYlmZiSTtJOjkO+XyKI0d4YiwB4WRkkRirKwoQRtBFrjPDHMKxPJGyrIOKk7bGrwEwMfo0I+zoMxDA8pHHCK0sxaSR2Z2O8k10chX29wR5NJFEWFRZSrKaMpyII3G1xnhSZcUTyRsgkHFS22xq11lMY+j5w+G5hF8ld7sfNW0uJ2OQ3KNyqNwGpJimRKwSHayjavwTzQ0wPaQtoTJd7tOTIAKkB0KYx9Gtbcox369Xt4WTAjUhCOHLMTaISpDPFK0Z2OEYMVPbblIXme+3CaGO6c22PHKlPL0ZH3HCfFQeg80Xqh7StoOegul9imkQbcKNblKO/Xi/IixxKjeRmGxviFlDAGpB2G19V5Zbk8Y5OwHncTpTBoFDzTHuLkjoNgvkZPstaHnYrtfIJ3i9dY3DFbcpC+Xm/3CSCK6hGDo0q0xPiFBg0X5Y5oLmkbcnhGMmJFpgWy4QzEhRsFbLTEZiOzGeg2LLEW7K2iEipIjFDscA1oe21/5+e9XGSJLhgbnMciYcD6OURdbxcLhFBNdBETIWhXD5HHFaHmo57zLKkY9ASMWC91lya9yHuoOg24Yz3BwdPKSXC9XLnsYdGpKHcyB0pa41uct/WdYZBTnFWlcX07Xedr1NPFKediwe5ubsuRvhAPYg6Db7lc9wFTp5TjuF5uPOiQSI9JQ7lw6YBa4g3OTlJZ1gcU5xFI876drtPJO88Up56LB7mEdvNMsQB6wD8NbycLTt1knCNXzoZlftAOy2YOw/AximgPPoBtOEGo8NXbI9CeC7SbLREVVUcABQdAtZV99i+kthQjUWskzhR1Vt5kMSIvYop0HnvHWMn11NRZSrKSCpyII1FLSSuqovEsaWzEMQWvEjae89Blz0RUHg21T3GyFJI3Kup2gjI6ilndgqqNpJyAFs2jTyyN7Hyj0HmTROjdjClkwyxOVYdmotSTQAbSbLSWmOX6bbugWqSRsrDiCKGynFG9K8RuI1VwzTEyyg7QW/QD4b5r3TCO1XJOiF2WNauQpIQbKtw0XeWaQ7EiQux7ha4zXaeVFkSGVcEmFzQYlOa1tnhVRXs+CQ4sRLSXYcTtKWjZHU0ZWFCD1g6Lq8jb6bB1k2KyXuVffJBsA9QdEg51qtNBsxniloXjdTRlYEEdoOi6vK53KNnWbFZL5ItCRsjHAf1PRKovJzli2CTrHBrQPE67UdSCO46Lu8sjbFUVNqPfGFABmIgeiot8AoynISgfg1ru8Ui7VcUOiB5ZGOSKpJNsLXqnvcQzEVd54t0WGO+oKAnJZANxtdXhkG5hTvGiF5JGyVVUknsAso55c4oNuA7mbomEd8jFI5DsccDa6vE/WMj1g6I2d2NAqipJtHQp5UV2O2vF/hwxT3VjKqjaVPngaJ+bnjqMxVXVtqON6m3I/J3J1/p5YnuiuhPFZAtjDfr4R5EUERjhB4u1BZzKVl90TyHYX9BB8EvMUKnY0rhRl9K3LXJ/16fra98kzHYGeSMkWfkknrnUjwLG3KfJkSDYkc0aC3LVxJOwCdP1syspzBGYPQXiOJNmKRwg8Tblm4fXp+tr5yVNwxyRkjsJs3JVeudSPAtblLkyJBsVJo0FuWbiSdg59P1tIrqdjK1Qe8dBNHGmzFIwQeJtyzcPr0/W1+5KmA2B5I3pZuSq//JWnhityhyZCnqpNGotyzcfr0/W0iuh2MpBB7x0E0caDazMAB3m3LNx+vT9bcoclTDg80bCz8l1/+StPDFa/clQqdoSaNa9tLctcn/Xp+tpo5EOxlIceI6CRURcyzGgHebcs3EEbRz6frblLkyZPVeaNxZuSq9U6geAa1+5KhB24JI1r225ZuH16fradJU9ZCHHiOgZVUZknIAW5ZuII2gzp+tuVOTJUO1ZJo3Fn5Kr1TqB4BrX3kqHiUkjBPabcs3D69P1teYpl9ZHDDxXplj9sW5PidhtYzUrbkmH663JMP11uSYfrrckw/XW5Ji+utc44yNpEoNfGyx+2LLH7YttVqHWwrIc3u5yUnihtdJYW4OhFbIxJ2ACptEbpBveQUYjqU2TDGu073O9mO8n4H5sa1C73Y5KotIS7nIblG5RwAsbGxsbG0hNznNCDsjY7G12pHFHibj1AdZOVnOZ8hK+Si7lGg2NjY2kY3OZqSKdik+mLZg7DrPhjiQu7dQFbMwjBpFHXJFsbGxsbGzsbrI1Jo91OIHEWZWR1VlYbCDmDrSKqIpZmOwAZk2LLdkakMW4Dj2mxsbGxsbMxhYgTR7nW0mKOSMMjDeCKjWagGZJ2AWkYXOI0hTYDT0iOJ0GxsbGztSoEiVydN6mzYopUDKe3cezXmb3FCcKgHKRhtexsbGxsbSEMp8pdzLvU9Rs3kSitN4Owqew9PCsgw0wnZbk2L7bcmxfbbk2L7bcmxfbbk2L7bXCIErSueWtKscSbWP4DibclSmNdspjMjduEZC3KEiSA+a0SCncVsiAyEKs4FASdgcWjVT1LT4K3kRDnpR899gPYNIrHcIZr44+gMCfee3m3y5zwE8OcQrWy4XRirKdoINCNLVlh94k7V2HvGs233+angukVigmN7f8A0AXFkxRTwvE44q4wn7Db/Fut5lgf6UTFDpast0PNN9EeadZs5zzkn0FOWlcSNfkkkHGOH31x4LZag5EHYRbZc77NCtd6oxCnvGlqyXQhR/lts1mo97fP/Lj0rVb1foYn+gWGM9wtkBsFhhSK/u0Q4RS++J91tLVa7nHH/lvrNSW9nmxxwbWOnz73e4runbKwQWXDFFGqIvBEFALLSOa8+6o+y8gS6X8z36EdRNGGs1Jbx7xHx8rafDSuKSSRUQcSxoLf4d0u0V3TsiULZMEV+SK+oP8ANFH++DpbyZBzsQPrDaPhUyRRrtdyEA7zaCTlAxikcbkx3ZG9Yja5te/csS5JDdhzSKOAC2KyTOh9yXsj3yNwKhWO9TbzlYg9RFmrKq81Kd+KPefgrEiWdyv0QaAeGnlSS4X2d3RLylfIAQuagbRQW/8AXlyF2ulymnIukfNzTYErhxCNKahymiEi/SjOsarzpRPox+SNPKEtzvl4vcUUV5jJBjxmhbK39oFwF3SBzjghCTyeEa0sxZmNWY5kk7zpOV5gIA+cmf4V1jVYW5herBkft03uS7Xqa9wxQzRkq6PIwQEEW/tD5OF12GdIAJ/sjs7vM0hMjOcTFq5kk7TpOV5iaI9o8ofhrNVLtGsS/iftOmZ47xzqc06EqyuTkQRmLf2icnG6fLmAe6f9q15ee9R3uWOaWRizO6MVJJOlqLPWBv8AU2fbrHybtCF738rS5V1IKsDQgjYQbf2g3AwNGKyTw1vKe1EbX6S93y732eCa8yEkytGxXFpNFaURP2SeTrN5MEGNh86TSaEZgi3/AK9uPMT3SCWl8jxzw84gOGrROWtynJfr5BKI5Ly9fLFARQHS1AkyYj8w5H7Ol5Ru0Teq8ihrco3aZvVSRWPgDXor6kXBa1Y9ijM2uuEbOemzPctr5JM3zjkOwaapdbjWeaU7BgFQO0mwzlldz/Ea2bKQCaMda5N8EahS7SYT84ii6gr7kuF6m8QIfz2oVmheNuoOKWWjIxVh1g0Ok5NLzZ/1Rg1fiYJX9lSbZknSKpALxO38ETaBT3Ne5ofq3K6WoBeUDH5rGh1fNSNmPYBW2bO7Mx6ya6Vrgvwn+oUzfl0LRYeVb0ij5vOGmn4q8RuewHW2yzu/tEnSKiTlW64/orIC2haYuUZZqf5/vv5tPnRyK47VNbZqyqR2HVaoa8yYT80Gg0rUXq/3eCnHnJAuhKLLJDMv+pEp0mhBqLbJoElH8QDaprhnMQ7IvI/pp86WRUXtY0FhRIkVFHUBQW/6q6XWfwTmvyam2S7RFu2gxdGzLGjFHaM4S5TIszerblOR3O1YAAB3vblNw+0LMPzLaJ57sdmI4jTij2mV4n8Qd4I3Ea1656YfFQ+Ua9Z2C1LnEfUzk9o2kZ3Y1LMak6brggHnTynm4gONWtO/K15HxcBMcAPW+1rRxXW6K1Vu0CYErxbidBoscox/QOTWzB+B5GV40+8G/pqfE3OGH69ifyaBQJyresI+aZCRp+LlR/ZNdXa0YT22A1BUQclMvY8rroWmK/tP9eBN+bTkQwIPWLbHjVh3iupkfcsiA9bjDqf9JydeJ/wi/PoWiTcxMv8AHEtdT4y7RP7Sg6mRjukzDtCk6gql3S8Tt3REaFp7ruN1m8E5n8mpmTdYwT1hQp1Nkcbtn8wVtmSdO69mb6hDLoTK88lRe3G7rqboMHsEpqZAbTbbJIzH+I10rUHlW7M44rG4dtCUE9wkh+oev59TbGZEPc9ejNJmEiCu8o9SNF7ihXcXcDF2cbcoXd0f1qpQ8QzAUNp/dHJl5zDIarInEfPWzKyOqsrDYQRUHRNHHGvnOxAA7zZDe5Bv82MWvZjhPxMXkLpRmY5ADMk2QXSI+lN53s25M923uFyjT3uhjDKaHBGLXyR1Hmx7EXsUarVkiXmJO2PIeI+B+nfE8Aram2blNYu6CIH8+gUWcQT+3EtdPG2eOBG8QDqeneY1/rqDz5rrCn8AYtoWnuu4wTeFYfyam1rnCT24BXU2tza+LjU9C7XeEH/OYn8mhKC8clJ7UbvqZ0uwX2PJ1N8GH2iF1EqIOTMHY8sq6PjrjNB9RJX8+ptCyqe5zqbRc5qdpUjUGV15LvEvtkRfn0J+1Qv9wjU9CWVftxanoXaVsupSdRai7Q3qc90RTQlOZv8ALD9elfyanoXxx3FV6PIGQc4RsSQf0a2Fp38hYCcxNTPF1C19lELt5HryAerwW0l7jbcwcHxBFmF7gLVGFghB4lTZgZo0o1DWlSSF7gaWRHvCr75I2axk7ha+STHcGPkj6IGQ03WSaQ+iik2vKwr8lFR37zsFrkivsMp8pz3m2wLU91vOdix7SdZvJlTnY/pJkfgbZG8ufu6gob1NeZj9aY/yaNk3JQjP04ZG1NrXGA+KDUbbfUr7D6m29cqTy9yBYtHxt1nhJ/yXB/Pqfs6Dwy1DtnjHbqLQ3jlPB3QxDQPMkvUDntCEanqyDwkbUNCRCB9YuoM3nu8K/wCkrHQmcPKJh7p0J/JqejLIPvV1Gp7xTxIGouccN2hQ/wCYWJ0JT3LyrCe50ZNTdfZB91dQ/wDQz+OA6myDkwRd80oP5NC19zXu6zeL81+fU3XgHxXo0DxSDC6nYQbMXgkGOFzw4HrFrpzJgPNeQKIcIFKagNZJ2kUnernENFycp8o3kp4m05vEnySVVLXZIY+CAAac8N2lNOxTq1rdboZwBvowB+zRM0UqZq65EWuolHysNEbvGw2vqO2+M5OO0H4D8pN/TUnDm63YQXlNjRTbXB0TB79dI52nCbEWfBgB1P2CD+Qan7V+U6k4ae5GVL3HsZHkkaTRLXlCKV5jH6kLjU+QH4nU/ao/wOpPW+XW8yve4uHOtVDonBv5v4vMcfCJEdCx1OEv+62p68X8+pP/AH5L+95miPqOqoCNEtL7eb3HJdYhwi899T5eTU9RP5xqT05RN4F5wevCFC6JqXm+vCt0iG0mGVXbU/b3/kTU/ZZNSYJfr0LvJEnykcAfRNha+Q8xdk2tJNUEany6fy9IXTmpcaulMVKUKitrg8FxuDsjwPk8hNQxazh4pQGQjgdN2xlPMcEhha5mZxsM5xgd2QstAMgBq5k3SYD2TqhSvNRIQd4fFa7vLdKkpMorRfnU2HSxVlNQQaEGzC9w8JMnp1NaYwztkIpsiT1N0+6WUalZLlNSO+wevHxHz1teIr1eeUIq8mp6/wA9h6qWvDzXmdzJLI+bOxzJOp+wQfyDU3XwDxRtSrxeZeoK0E0RtOl5F8T+4Q1oZZeB4YPTtOZrzeJDJI54n8ANgGp8gPxOpuvUZPgdRxij8mWFjRJojtja02OGVMEN2xDnXvHyJ4NxtOZLxO9TwUbkUblXU4Tf7zanomEn2wNSbBeIW/hdTtRuIa0+GGMYJIMQ50Xn5D6VpKySGiRjzIox5sadQ1Pl5NT5JT4MDqXhobzdnxxuPwPEEZEWnS7i6R0v0NatHN6g+n6FjhTzLvADVYYhsUan7e/8ian7HMfBSdSdobzA4kikXarC14S7S3CH/wCpRE+YyjzxxV7YorpFVLndq5Rx/wDJtrany6fh0q0W9ReV9OPI2f3ic+8k+hIf6HovTjZfEU1duK7/AJ9F15iY587BRST1rssBfIhvjyfvU2RlYZEEUIOlmaTCUZjvwMVB6bdeCPFdV2ZY1woCahASTQd51VphuUIpwog1N19Q/dbVkYotSqk5AnbQddNVaf3WM+IrqejLGfvartgUlgtcgTQE99NVaeQ58XJ1PVjPhIurI2AtiKVyqMq046opieY9vl6n7O58NV2CMwLLXIla0JHVXVG29SHtyGpta4zjxQ6rsFegdQaBgDUV46q7b5TwQa8qxxJtJ2seAG82cwwQsebh3EH17NR1wiWI7Y2/TgdQeVdp0eu+h8n+tjQg1BFmreIRzc44kbG7+i2xXh1HWK5HU9JIX9kkf11Lkkh3PskHYwteedHyUtA/cRa7Ldo6+U7upoOwWWkcKYRXa3EntPTLXmb0jE8FIK9CCzMwAA2km21I0TwFNRcXNSxueoA4eh42WjRXWFGB21VQNRcTLGj90bgk9EGDC7oWB2gkYqai4mN3JA+h5XRKQeaL0PB2LD7DqLieS6zKg4sVPRKQZDI4B4FtRamSF1APWCLLRg1CDtFOhUgS3qR16xQLrSYUGQAzZz6qjjY4YVJ5mEbEGh+p0Pmuu9Ws3knJ0PnI29W0rUvdJAv0qEroYi7y+9Tj5p391swdh6GOoKhbwB4BtRKwTgRykbVFa4haRXR1DKymoIO8fBI1eN1KurZgg25WvEDz4CkXNY8nYqKNYkpDeJEUnbhQkDWvLxGFUKlQCKvZ3vM6ZozgBVPEDVjVkZWDKVqCDtBFuU7xdefGJYhHzo20oGszFIXopalSCK501p3iEcGMMoBzxAWle9So1UxAKgI6hWp1VqDkQbX+e5reGcrGsXOr5NK0p22kZ4kWIo7UqcaBtaZ41ELOGWhNQRad70UNVRgFTWvstyE7nyUj51MXUBaV5IpLtHMrtSpD60jojo5LLSowqTa8y3kKaiMgIp7bZAbBq3qW5c9LhbAnOKXIrWgteHmhvFzScO4AJLk2OrI6pKSCy7RRSbXuW8IDUR0EYPabKqqqqFUZAAbANWeS6FpAJGjTGpY8VteXnivUTtzjrhqVNMhrFgk06IxXaATa/TTRg15sALXqJtGqRooVFGQAG7VbPZHGPOkaz0UZRxDzY14DUbFGxpNFXJ1s+KN/EEbVYcRozB2i22KV0P8ACaaM+YlMCPvKqAR0MSyBLtIxjbzXopOE9Rtia4StR0ObXaT1H/odRq3J2yY7Yif6WZWVlqCMwQd4+Bsg57nseJMXm4bSJjieNQVWgCq9bb58XtjFrb2g/NrMgaSVlbEMWQFmQvEAEwrTfW3musLL3xLrboox4k6zIJDekjOIVGEqx/pZkPMlsGFMPnUr+FvjuT7s/bVKa265keLrrMBKJUXyhUUNmjKxsWXCmHMi3p8i3av0hUHW9C7SHWYCWPm8JYVHlOFNnjMayiQYUocQBH9bb7gU+ramt6CTH7h1sIliixLVaitpIjEWDHClDUW2gXxGPZJlrbpS3sqW1sOLDlXZW2U65BR5gXdg+brYnu75TRV2i0ivFIKqR+B6xoukjXSWUyCVRUDFmcWhfKeLnm/1Ti6HYbtKD3qbRiW7yjBeIH82SM7QbM0vJ148xj50T7436xqSf3VjSKU/FE/ltmD8C43n8luIItsdYWHfGNbfeqeC63y7/hoz53k+7PXjVdbe0A8A2t+3p/I+j0+RbsCeLCoOt6MUY8Sdb5ePRvuTp9W9NbdcyPF11uEX+6ujMr7sRvrARrehdZG+0DW+QP4jR8Vf507MQxa3oRzN9wjXXHyktDGV2xqduM2Wm/uOsplusrASRDM8MSfOtvzzyOiEXab5SLIE9a2yVFVFHUBTocyY2AHaLcbRc/crwuC83c7HXiODDcbOZ+T7xnBNw+Y/BhqS+9+bBMx8zgrdXwLjefyW42+N5Ouz+KU1q+XfJD91RrfLv+Gj0+RbsD2rUHW9K9YfBRrft6fyPo33J0+ramt6Twr4Btb5ePRtQ3xD7YI1vRijHiTrcIv91dHxV/nTsxjFrbrmV8XGt8gfxGjbFy1XsVotb0LrI32gazUrvFo/dkDzc6ruTScA1IY2KJOkdEOylNsT2jKSRsVdTtBGojM7EBVAqSTsAFlD3w5om0Rf/wBdNucjw0IZ+T7zlPDw+enBhaTnrleFx3acDJ1O48GG/UbFIqmNydpKGlT8B43n8mj0uRbsD2rXW9OWY/ew63y7/ho33N0+ramt6V8lb7qjW/b0/kfRtRr6h9sEa3pXqngo1vl49HxfKMye0uLW9KSFfANrcIv91dG2Llmvc0WtuSJfEnW+QP4jR8VfYH9rydYbLnh8XGvHiRth3odzKeIsOcu0m0bFljrtHBrSIbwEqG2c4B6D8HFto0RNJI5oqKKkm2GS/MuZ2iIHcvX04phnkFOFG0x40dHFd4IkIqvWLSY+bIwuMsSsKg6TnFOHHZIKfl+A8bz+TRvucqfVvrb43b2nJ1vl3/DRtRr6h73B1vTeZvvYdb9vT+R9HxfKMye0uLWXz73I32Aa3y8ejbHy0D3GLWXzr1h8FB1uEP8Auro+Kvl2f2vJ1h50kK+yCdb5A/iNG5bm/syaw2JCviT0C7c45B50bbms8wF5Krgj2Sg7CLS4r+oxvAKFcPqg+taBnndsIQba2pJfHFJJNydSdPRrxJVYIzvPrHqWzYndizHiSak6RQAy945xrLQTXfCesodJynuxoPnIQfgMs6cxjwc2VFcdOIPC15v/ALaf8LO5iha8hS9CxxkNrLSt1jb2xi1pZ0WJyy82QDUjfUG15v8A7af8LSSvGl8cjnCCffF6gNZaVjdvacnWeVESUSAxkA1AI3g8bXm/+2n/AAtJK6f+4pLWQgmpQruA1hTG8zdvl4dZ5RGZA1YyA1R9IG15v/tp/wALSzspvEMh5wg/N3Aay+fepG+wDWZ1jlwYihAbyWDClQRa83/20/4WmmcTLAzc6VNOak6gNZfOvmHwQHWZ1jmTCxWganVUG15v/tp/wtNeCZbmcQkKkeR5QpQDWHnPCvgD0MMZkSuByASK7aHdXRdES8T+fIBmadPJhiiWpO9uAHWbZA5RpuRBsUaUxSSNTqA3k9QtmsKBa8TvPec7LnDeMPdIP1XTs58IeyTyD+PwPdemHiustMF0hWnYoHQbr5GfutrClbnG3tjF0Hoyxn72tlVHb2mJ6D1Yz4SLrem8rffK9B+zOfDW9O9SN9gHQZYrnOK9qHW9K9lfBB8JyA2m0n9zgPk02SNvfStScgBYf3ycDnP/AMa7QmjasXOD/SIbSaFWBB6xbzZYkkHY4r8C9C+R/wAravG2WCNUp2CnQehLCfvU1ssN0hWnYoHQblj+64Otvucbe2oboP2Vz4CutvRm9pieg9K5zjxQ63pvKfvleg9KFx4jW9O9SN9gHwmT3xx/eXG5T6GomQP92Q7yPT05q8bKw6iKG3nRyMp7VNNPnRqYT/AT/T4FXyJYT97Dq+lKg8T0NckQ+y4Orxt6MaplsyFOg3XVzl8wYtb0bpCuWzJQOg9K5zjLrTWpnc4T7ahug9KFxl1i3HVpnEx9pi3Q+ixGfUdX03mP3yvwihvEtUgU/a3YtnLO7FmY5kk5knSpF0hIMzceCiyqqqqhVGQAGwDU2PLzv1ox6TnFOsgHU4p+X4F6iN7Lg6vpXyEZ9bjod11kb2Bi1c8cqL4mnQ77nMuW3NCNXjb0Y1GWzIdB6ULrltzFLcdX0LpCvgoHQ+jIy57cjq/scJ8VB6H0b1KvgxGrviZvaYt8I/wxA5X6WLPStXc5k7FA2k9Qsvkoubb3Y7WPWdVaCa7lT1lDp833MPHEPgDKB12avYtkYxzRFG2DJhSyGnoPuYcRojYK+akigIGiIiGHOKuWN9gI6hZWFpKduWq1BxNmr2WhZkeMqwO8EUNlYxFiYpNzLojYI1QrEZGnA6IWF2gfHU5Y3XYBZWFpKduWq1BaSvZaNiDkQaWjY3Z2JifaKcCeI0RtgJoGplXRCfckLhnY7HK54LKwtJTtytmNTIWkr2Z2jY2hPuWZy0ZGxa54DojbADTFTKuiJvc0bgzPsFBuB4m0bDstJTts1RqyV7M7KxtEfc14cvX1GbMqdEbFFoC1MgToVhCGXnZNyraFlVVVVA3AZCzU7bNUcRqyV7M7KxtCTBO2KSmeB9EbFUzJAqBXQpw4hjfci8TaFljiQIg25KKCzU7bNUdWsy2azWxWVrK1la2LQ1mWzV1JFs9LzCS0JOw12qbQtHIu1WFDaFpJG2KoqbQq17lFZHrsHqC0a+1aNbRraNbQ/etEqTxHHCxOVd62heORTmrCloWkdtiqKm0i+6pyGl4ADYlpFP8AF07dxtG3dnZWFoElT1WAItyZFXbnVx4NUWuySRjYrAEL2W5Mixbc6uPBqi3cLRsf4bLQddmrqNs3HZaNj2Z2Vh22hjkQ7VYAj7bcmRV66keBNrtE8Q2IyArbkyKvXUjwJIstAMgBaNj3WWnbZq1z1GoRuOy0dezOysO1bRq6NtVgCD3G3JkVeGdPZtdojDhpzZQYaW5Mir11I8CaWVVUZBQtALRsexbR07bNWu7dqNQjdutHXsztGw7VtGrK2RVlqD3G3JkVeGdPC12iENKc3gGGn0bcmRV76WjVEXIKooB3C0bHsW0dO3KzVJ3DZqNSnhaOvZaNh2rZVZTkQcwbcmRV6qgeANrtEsXyYQBfC3JkVeqoHgDaGONBsVQAPAWVj2LaNh25WapO4bNRqWWvZaNh3WWoORBtyZFXqqg8FoLXaJIztRQAG7RbkyKvVUDwBAtEkaDYqgAfZZWNo278rN3DVbuthstlsrWVrK1layt4WVrLoals9EmGnhbCexv1tC3dna5q4GwSJX8Ra7xxg7QqBPw6C6xyjcGQP+NrisYPqJg/AWj8crMq/bZmNN5+AraNfZtGvs2jX2ejWto19m0a+zaNfZ6NbRr7No19m0a+z0a2jX2bRr7No19my9HGvs2jX2bRr7Nlp0ca+zaNfZtGvs2WnwxbKvs2jX2bRr7No19myr4f+JF//8QANREAAgEDAgMGBgIBAwUAAAAAAgMEAQUSABAREyAUISIxMjQjJDAzQVJCUGIVcYA1QFNgYf/aAAgBAgEBDAD/AJ9OaCVGwvTJusp5eA8AjXaSox5p1YAGJgBj3j/e3ehFAbjvbBIYSMv74gEwMS7xk2JuVSQQ1GLYzyEnkPClOFKUp/6sxi1DkwxCgsFo5AXEf76QnnjQeawNBbac0SY5jR/vZHaeAdnovjy58o8XlRYAOAAPi0bkKIRY0aF/fuik86l2pwaiwRQRMYXMb0uloj48w+GhITGhD/fvjLk4UblWiLelDOYORV/vZC5J1DktFdBhvez5xtCARoA0AdFLQLuTzfH/AH7YCXkTCNmcWKqMOI95f8OSuMISxJ46WxbRyWYlTpO4wxLEnjpblNHJZidOk7jDWWJPHSXKeOSzEqdJ3GGssSePFLlPHitol1HPhrLE3jxTIS8eK2iXU2fESWJvGlUyEPHipol/3l6mln2ZZcB1ClsiOAx8gLOlD6L3NISGMsuG0SSyI4GBoCEwAh6L3MJdRjrLhtGksjMEwrpbBaAMHy3vMwl0FCy4bRnsjMFgFpLBaoGD5b3mYSRFKy4V0h7IzBMC4VS4XoUynReZZIWKVlwrpLmIYLALhWO0XoU2n1iIVAZF3DKvMhhVFFeWCbvMUXiPOkaSuSkWh9K8qIZhH+NAJEQiPfVQ4KAei9qIZWf40IkRUEdJDloUHRfEkMkWfjXqrqKBLjIAui+qIZC2fjaGBLjIAvPe/KLmqd+NoKyXEQBee9+UWaW/ja3KJcNAF5/VvBEMFmO9gIsZI/j6MtUaSvluMaaK00y8MxPCDCiRC5hSAM+iYqNJXy3GOjtNMvBMTwhQIkYuYcgDPolrjOXynGOjtI5eCYnhCgQ4xZskAw/PolBGcvluqPBlpHLwTF8IdviRyFjJAGdP/nRKBDFkt1R4MtIZfDmLxh2+IkhY6QB1pwr5dEiiGLJbqjwbaQy+FMVwiW2IghN0lZ1AqH6esngP5pXXaR/TXaR/TQyR/wBtc1f/AJB3kJF6TUXlJhOiniYdyo7nFiAEVbdE7InHzP6E+T2SOR/yIyIiIi412sksiyjEe82T2aOxujYbCIiLjXaySyyKMR7zHjGjtbo2G0iMy411x1ZZZZFGI+7aS8YyWNrpjCYZGZca6411ZZZC3kEXdtIcKEtbXTXMewjM+NdrNLJbuQR+DZzhQo2F5Pcx7CYde/azSyU/kEXg6uFNEoS9WuSH+WuSH+WhAA9O1a0p56n3KmWC38BGW+Oamg8zBJg1YMGnd9G/N70K6ILOVKQW9+b4UJ6IbeTKQze/N4LQvojN5MhR731mKVL6EHy3KPVPKm19ZigF9CTJbAMdAWYULa9txjUDoWVRMCHzAswAh6ZMkYwiVRKpdoufq7GOMaauTkPiA9mOUgcmGI0k3wB8KBy0+ZJk+tpV0McyHIuAi0w5YKDvpZH8yNy/z9G9llN4dAliVK6AsgoW18LKWI9FPOmlFkAFtfS+YXTpQWSEltfi+OgemKWUZBbX8vioHpgllEQW1+L2w9MAsocYum4iS+RJEeOmz+JAEUOacwbhxBxRh5hy1ojA5/h1JvjT8KBw0bHPLiREZRrNKf4j+GM+Ku3Crld5kZMLiRVrXVnfypYj+Po3f3zeimkfYTteffH0xfbI2vfvOmH7WLtfPdj0wPZRdr77lXTbvZI2v/30dNr9ijpIc/CWhXS1yycRcEiWdMh1coRS0hQS4EixF6ns4aRDjRh+EoabX77qNoaKSJC1V0xbEMxISEot5kI8J/EGNc4snw0LA+u7++b0U0j7Kdrz70+mL7aPte/e9MT2kba+e7Hpgeyi7X33Kum3eyRtfvvp6bX7FG5GIDkXcMa4x5LDWHnq6J58NmrJNyp2ZnTfx8MYtrVX55GnJU8cWAJUk2MC8SCx0cCYDMOQVdRxIEKFhcS6rvBM2i8CHRDiRULeJbJEmgMHhQKd1KU2u8FjGC8SHRiSyIa+e0a2yJNBMaUwAcAAdrzCYwheJDowJZkBee0a3SJdBJY0wWPKUA7XiGTsXCQ6MCWZAXntGgSJY5LGnBK+UpS9rxCJwi4CHRgSyIC89o0GRLHJY04R1chKl7XiGUhYMAh0YEssS3jQZEsclDThFTyEqV57MYKhIiLgNxuRyywDuWszWQkJcK264DLXiXcxo5AY6BhoaJj3FHcL0KZTomoXJjGB92mrJZcC0lpIYLA84U1ctfEe4vo3R7e2tXzCwkjjIdTe1jjBRvdnu7WxXNLCX7h29pHGCne8Pd2klcwsJP32b2cfkV73p7hk8oWlhJ7m13so/JjvenuF4rFhUCV93eyU+TLe9PcLRWLCoEj7g13sQ/KtLe8q5kbLm47rYamCwC4FAmDNXx8jmWQiImILSV8pSl9BjkBjpZiVKqb5GFVlwrqO9kZosAtRJa5a8w+jdf8AqD9Sfvs3gDjDjb3f37dSacG13tg4wkb3n3p6lfd3tY4wUb3v3upPrGu9pHGCne++7XqR38ot7OPyK9777lWpHpRXeyj8mO8+H2tY4lwN6KTRIhHCTqHCZLZiPcEeOuMsQWPCnTXyro/CZ01DQU2hoy8RiSyIS7isjcJWH0Z1slyJTWrCmM5ZKkEJeraKOMaOO9wtsqRKNgUHGcBLdiXntCHGJGHe5W2TIk1Yug8JqjQwVs9W0AcYcbe5W+TJk8xdKcJqWIYsGee1sHGGje6W+TLkCa6DjNQxHIBnntaxxgo3ukGRLcslUpwmoZGpGWz1bWkcYKeiZbhkkLBLlm+yKIlco8aJStCxWsOFOq6TqRV4B9zViUXOY3+F1XypzdQz5cpBfSvNPnj2p500ocQAei9Dwm7U0gcUJHovlPmx3ijjGjj0X2nzC67whxiRh6L9T4yS3gDjCjdF/H4qC3tw4wkfUlSVxkmZ6e9j2ExnnEjMluFYajpWhYrDyv6/iIZqmo58xCT+jfB4Sx2XTIgHVPKnRfafMrrsPnTVPKnRfh+OktqedNAOIAPRfh+KgtqaQOKkj0X8fbFvFHGNHHov4+GMW8QcYkYfqXd7GyjWXpESMhER41t0IYieH89XteUPLa0nlBX9AiIf46nxO1iPi4GNnbiWTB4xLWa2CxhDXQmz9eO7CIfSOp0XtgjkXAxs7fFkwdRrSa2CbSGuhNn68dDswiH0jqfF7YI0IuBDZ2+LJg6RaTFgE0hqImz9eOh2MiH0jqbH7WvgXcQ2dv5YOkWkxYJNIaiJs/30OxkQ+kdTY/bF4F3aGzt/kwdJtB8zJrB4CbKd2Gh/y2MiH0jqanta+WfdobO3LxMHS7OefxGDwEypSgiOhy/lvkX66yLWRayLWRayL9diIh9I6nW/tbOZ6Th24YpcwiyPMv21mX7adTnqJbO+n+jVy+74Y48hYLBfd/yK/8QANREAAQIDBgQEBQQCAwAAAAAAAQACEBEgEiExQWGxAzBRkRNxocEiMkJQgWBigLJSojNAkv/aAAgBAgENPwD+fTWzWQCzBxTrx9+u3jL78V0dkh9I/S/Uo5j7/wDtMim/I198vv3V2Hom4+GfnQ63o4An9AfSGmQRxeajhme36AGU5bKUhaM7I0+/dZWkz5WtuB1MOn6A6hxEvJG8vOJOv8Ou60q7rSrutKu60q7rSrutP+5KbofUOopszfDMdQjfQWzfDMdQi2fehzZvi5s+9DsTpAJzZ0Pz0gE5s+cLyvVdCj6HlOAI2gbgg0Ch42gU1oHahzdot4YFBbL8iIaJ0FtntENvos2Y2d7+cXCcfh5WV94Wq9BTlfeFqVl0FPnetShh0FJ1WqGHQUnqv3FDAZUnqv3FDBuXI8wvMLzC8wvOLmrJ2Rgb3cnAeZRjiyI+XzRxji2Ibd5o4xN7YtajF17fOLWzRi/DQxa2aMX78jzXmV5mj9l5KOTtMQU5s+Ve6i1LvdEzdQHDtEkntQHCLnT7UNcDFzvQUNcD2i921AdNFs6S6TGDEldLV6GLHYx1XU3BdMl1dcgSSepK4bvQ8oMArDBSWzgGe9JaDAMn3pPDafSAaTT4Yh8RpsD0p4L5kaFOba0A1TcH8PYhFouzn0XU3lH8rXFOn8Tr8Oi1g8WfzyrtqbIhIU+G3aFgU+E3aFgbmmwIWPemzDw6Ze9XEuAxgHTE8F0auucLJg6eyC1xXR13IkNqbIhZFPhjaFgU+G3aFgbmmwIeH702IWaZRCGE8/KDPiH4QvbTeIX7LVdDgtLwg0A+dZkDMyvQuic4ysmZkgZROc0IBtkzMkDIxtSmSg2UGtkZmSEbUpkprQO0G4zMrkI2pTJTWgQZOc7rqA6RvTWygM0PVDBDEe4RbJNcnNnRiD0IWRyI6hBD5h05Qc0yywVt0ZHeMxdki8nvG/eMhdkiZ94lx3iWC7JFrT3ES4xPDE25YlFjD/qIl5iWXhHhM/qI+J7CLb7ORiEPmCLp2CmtA7USX0n/ABMN1mOh5M27BG/vGwIyGyLWnuI2YyCLGH/URkd42Ajwmf1jfvHwhuUeE30uiXHeNj3R4Q9CREuMWXt6flcP/k4f+WogMXciaa20w+yBkU5p9OSZZ6INbP8A8iI4bdomWaDGA/gSjYbtGyM0GNjYEbIGKHDEbMQyV51Q4XuYyO8Q2V5QYf7Exv3oF1oZjohc/XVCt2GmsLNn8oycrY5RaIhtBYIhooLBuYjht2osRsN2osxsCiyY2eZ9I6lFZnoEEWkdoOaDySwbmBdTY967MQ2iyYhoo+KI4Y2om6Nhu3MZcAij8x9oNeD7QEx68luBWUk28AUtwKykhfIUjArKSGQpGBWiGQzpF4K0XQZ04g6rRac3O7FZaRK8r0P5F//EADYRAAIBAgUCBAMHBAIDAAAAAAIDBAEFAAYQERITIBQhIjElMDIVJDQ1QlBSIzNRgBZAQVNg/9oACAEDAQEMAP8AfqPHZKcpIDucLLtvjLHqq6x3DLkGSougHSYxZKaa2DtX99y6Qjdo3LW9kJXSWS/b99AyUYEJbFCzYjpiMtZUO4ZrAlkuEstyOp15F/8ALJQ57OCVERsWxZEsxqJ/v0ST4UjPoLZVt6IkktEZaD9/32J4LkRSybt17VCWTIg1c5jCaRMLjTCo0hwExSDIf3+NPGMvp+BQzEy5skiKkj0UdlKVr7UxGhS5ZEKFcsMEgIhL3/faUrX2piLOkQuVUVEayrtKlpFVeAU/fYjISuRSYxNwdyiRU8bamoMrUzIzL3GBKKP4noV6f7/Gu0mMsFACeEye+azmdRoP+nFKVrXalMLsV1YPIYZ7Ojvis6blEFeylK1wuyXVo8hhntIjvilwcol17VWS5uHqBDPaRFkxS4SFEuvaqzXN49QIZ7SIkmKXCQkl17UWa5yRowIZ1pIhyYZbSI5BXtRZ7lJGjFRTqMqHKhltIjkH/cytbFdIprB3LFyt6bjGNTB9RgSzMC+rXKttWQFNcG9cXCAm4RjSwfNqySZqL6tcq21bKFNcG+k6CmfHNLQw9ZR2tSXvrlW2rdVsxw70xMhpmxzS4d6SUlHe5Je+uVrauSbZTh5DiXFTNSaXBvSXHKLKdHr765Ytq5TmSXDuGJMZMtJpaHIJ0UocuQivzlLNzAUsdzt2WISFgUqnWbKy5bHhUQT0jnwnW+SSG+/ycsPBtsAB98GYrWZmW1JLOrIczsys8W22iv1YIhASIi2pLbR8qQ0fbXKkgTgGn9eKkIjyLE5ovmymj7a5SeBQ3I/XitdsXJ4yLhLaP065QeNY0lH69Ls8ZNylND21yg8OjJRv69L28ZNzmGv2+blgQK7J5a5xEd4Jfq+Ta33GE7rxVGVF5iLjTqWyTQ7tdbnPHoqhtUn27La+4wndeKoyorMRcadW2SaHdrvc56ySqE1Sa0rTyr2W1s+I4XxVnXCsxFw/q2yTQ7pd7nNWSUQ2qVWlae/Zb2T4zhkRVnWqcxM4061sk0O6Xm4zFkmPBapZhUK8Tp2QGTY7hkRFnWqMxM4U69sk0O5Xq4y1kmNBcoDAwrxOlRrrAKalwuiCdSRmJ3CnXtkih3K+XGSskxYDlAYGB8TCo17lxWl9VKjjwJ/zx4E/54KGYj6a748O/wD9J6w5TIclUhfvBucSeoSU0eUiVHirqx7hEb1cyuUrmPkr5FogfaE9SP0AsFiIAFKDpmu2iNAmrDbW1QiuE1CP0rWtICtYUoGma7YFVjNWOxaW2IU6ahFPZSloWClhSgaZptomoZqw9WlviFOloRTCELjJBSg2DTNNsFqPGrD16Q4pTJMeOHvHjKipWlQbBpme2i6N4tYevSJHKVJTHD3ixkxI60KDYdMy20ZESspYf1e7ev8AnAuaI8RrTHim/wCaY8U3/NMG02fVXQAM68QpyxaLFsoHOic2HboUwGx2RFpbJU1D2pZWta/JygjylyOy7I8TbZi9coR/XMkdlxR4mDKTrlBFCfKf2TUUkw5KsV8q1pplFFCkyHdkpNJEd6ixWm1a00yijqTXOLseoXJaovYwJbGAWmVEdSebC7GgLFmsvZyyU5iy9+yBAZcGGImIB4Gwf2/tQ+c+1Og8WchYnSPFfKZwSkmVhZTaziUxvCkO2QoI/wBBA0qcpQlwDdhpW3qsc0aCWaonRnA4fp+TlZfC10LsKnISGuGDxYwdMpr4W0y7K+1cSF9Jzl6ZSD4e4+2WFFypK6aZQD7nJPtuAdOdNDTJ6/u8tnbdA6dym00ycHonM7byvpXOcPbYyBlJsAi41jWbYGvuDegm2ss2zY4zj6Src6ZObFh+ukLKkZXEpbOoQKjxF8QBagm5lgReQqr1js06RemSikV4rAAWPABEaYzLE8TbDMfq+TlwfhEftmeUuTplmnwlXbcfx0vTK35XTtunlcp+mUvyxnbd/wAzn6ZR/AO7b7+bTNMo/g5PbmD83l9oGQHQwrsVX1zBbVxxXylEJgZgQbFY7oFrlGbBKoTc2qpTjDRyKXcps4t3vIqYyf8Ah5mlylVhQmyKYS+PLTQ1mLAm5YgSuRKp0Tn2G4QuRVX1A78tV+ER+2ZXnLk10yxX4Urtn+qdL0yoXwyvbcy5XGeWmUi+Gs7buXxOfplCv3F9O2+FvdpmmUC+6Sadt/r8Xl6gBuMAAORT7HMgIU5g7jjLsnw10RT9OabXwr49IeXZk4/OcvTMI8rRMxHlSYrOcdxLrCzaweITFc6LvVsanq0mLoMxi2yZDEjsHdlq6pVGrDMGcgMTETp7aXC+QoFWqM61cZczqemWbqhKShmB8lmLAWY+2k++QbeTFtOtWtPrMYZaZYui44HDYB1JbBctbQ+nSfeoNvIgcdeo9hOc5paZYui49GRWCVcKYLgFge2k68QreXBx15yHeIkyHV8tMsXRcWrIzBKuFMFoCYe2k67w7eXB51ocyR4qTIkcdtMtXRUNzY7BKuEuCQsWBy20nXWHb6jSQdaFOleMlvkcdtEpZIYC1gRnZLGq3h1W7E9i1uWS2DQgvllZbnc1+ceOwlOWwcNUuXHJZ+YTI1YcmQivnXW0zXQpqmL88JcDg5jiShctLUNpuF1tTrbI4H5r+Tl+KitqjuokaNhV5Q4tdcwFyu8vXLcWP9mof0B6kD8FF1zGXK7ydcsxI9Lel/QHqwabREjrmcuV2brlaLHKD1yQNWwa7xxprmouV01ypFjshk8kDVsH+xWmubC3uS9cqRY7IzHGganB/tMHXNxfEEjrliT0Z1V9DqavQuSk1NGhBeLWy1SNqearbmpQLUiWvbEp3XkyHV7ElxcssNUazo9P1KYDQoYVxMhonxzQ4dxuNudbJBKb7fIy9+TQ8QaUpFUOt5Lnc52uWvyiPiDXePTW+lzuszXLP5SrEH+wVNcwFyu8vXKn5WWIPktg65jLld5OuUvy1uIlNhkDrmcuV2drlD8DIxFruUodc0lyumtmudLa4qGO6okmtrYsDb1IOLpdY9rTyZXdk2dInOJry3r2j9Q4XXkAVxc5Y2mqpVA9C2C5YMAtwzTH6tsqz/z8iz362w7dHQ5p0O1OB8IWLruOlwLlOmlrZb5b4UBKHNrQ7U9cmMTF19Gl0LlcZ5a2S92+Fb1pcytDtT1SY7GqruGl5Lnc52thvUCBBqmQytDtUpUxchya+jS+lzuszXL95gwITEyGVoVrlpmDLamu4aZgLld5euXrvCgRWLkMrQrXLRNrNcmtahpmMuV3k9lrvLIAEs10amLmt61v64czlSnzXk5xcj7rBafHyOqwf6GM2yVUiojcvXl53XtUfFyT14EtfyssFytKtZBc3MLsysXO101mFzlSS7MpFytrB1uNeU6XXsyiXw9w63QuVxnl2ZQL7nJHW7lzuk7sycX3eYGt9LndpnzLfAdcJIID2iRUxI6kJHYJ85MCMb2VxMlOmPbIaW5ZQdyjy0YrTem2JquhKkK+TlIuVtYOja8Vtrgvqr2ZQL7i4dCrxEiwz6i7MoF91kjpXDi5uYXZk4v6MwNZZc5UkuzJxeU4dZ9eU6XXsycXrnjrdC53GaXzMtRFotymj9ZmKxIzLYb3dDuUjca7JxlR3TuJr0zIAru8nj8hYLIfUWLPcqWup0oPJR5mj8h4RyqM/MASI5qjrIcEpP8ALbBaLWsvqLFpuFLWZUoPJZ5mj8h4RyridmIHJNUdZUqSk/y2wX1enz0WCy+osWmfS1sOoDzWeZo/p4RyriZmMGJJcdZUIlJ/ntguPL0+eiwWX1Fi0zvsxxmA8hPM0f09OOVcS8yrJJjHWVDJSa+fPbBceXpLfRYLL6ixapn2Y6rQHcTzNH4j045VxJzKslEKFFQyUuta1I9sEIiXpLfRQLL6ixbJX2ZI6oedDzNH406cc6k/MqulshJc2rWZmZHghES9Jb6DjiP8scBxwHHAcdNf88cR/lotay+otsWm9VgL8PUeoq6Xlk9fRBfTV0l/xx0l/wAcR6+FepyfI/8AlFOl5xvXMb4p7ZDW+v5PIu/kXfyLv5F38i7+Rf8AQ5FjkX+pv//EADsRAAIAAwQHBwMCBQQDAAAAAAECAAMREBIgIRMxQVFhkbEiMDJScYGhQmLBUHJggKKy0QQjQIJT4fH/2gAIAQMBDT8A/n6dqCNpaNlNUI1COI/Xu0B60tv/ACP15WqDA+pcwYP1ts/hfcorA1g5H9f2XxeAh/G8vs3hu/Xtgl0rzMPkBOXJBB3Cg5CF1soqB/AG0zFvH2MKuUpTlXaTiXMnUB6kwP187boJ+YrV7gu3jvb9e2ANdAiZ43ehZR5Vgx5jly/gDapQGvrAWiovhUbgP5OuOXWNzCmLjl1jcwpi45dY+4UxccuscRi3nLrHEYt+rrHEf8wtSXXZTbZ9DbjCnBeuy67KbbPpbymEah9sCtdlg/Js2HaDvEIxU+owI11AfNvsbUdoO8RLYqfbBKNEU6r1jfHERLYrglUug6ixsaEan+O+dqAcTG3Oij0jY6QPC2wjf3UpiG9zWxVqTwEO7Hnglua++dgFSYaYzczglzPg2CGnMw9CcCTL3sbWmEj0wCZf9iKWmYaegywXg/tbfoPbLvgjFfWlpDj2FO61Mt2qmOC1EfULpJOHU3ZqCNxj7VqIOvskk4Rk3ZqDwMfatRB1m6SxwjcKj0MfatRB1m6Sxwr5Vr7GPsWog5FipvEYV8orzj7Fyhsi5U3qdxxB/EftaP2tG660elqNX/1G1D4hHGE7MscN/cjtP+0QMgBaWuzPwbS1X/aIUUAFoN2Zazdo7gNcKtALV7MziDazchtMKtALZeT8VtdqH8mFWlsrxcVtmMBCrbK18V7j0Bj9oj9oj0paf/Kbqj2EKoNZYpr1MDlCMVPt3VQg6nBoyR6rmLQAi9TgMs09RmLVUKP+2BpbD3tRKe7YHlsvO2XL+WwOpXnCmlkqWeZywMpB94RyOWFFvTJjalEee52YbwTUzU27gI8i5tHmObQPpTM++6GUKFBrRRv4xOX+pe6ea5/GAiAbGnHoMIdhysM7oBhWa45GwzAOQwrOYfNhdRywic3WyqDDpWPPPD/qZdEP3LmBEtrurtM25Yde1Knig9VMBj29l0fVHlXJYXdkI+3w84l3bstOyM95gbAKWSWv+2o91VuuHSv1svth0z9bNK2HTv8A3Wadugw6Zutml/Aw3xZpfxhqvTCsSqlmOQ/+mFyMOt001iPM8eXZysvrYl3qIdfX2Mfb4eUD6kz59wC3XDpW62B2w6Z+tgmth079bNO3QYdM3WzTfgYb9mlHTDVelrZACG8VPoO42TOwf+0NlM/Bwm41lF/uEcDHnXIwNjGh5Q0xio4E41JYXVLZe0EVHvao8AG/MW3mZboLQwDD0NoWtwDXWGe9Yzl0ui9szGUMoYehtC1Cga4di3Ox2vJdF7PaMoYVFt28FA1xMmFuZrZMYFLorn7Qd+Vt28oArWJkwtT1sm0u3RXMQa6xQ5GlpWoAFaw7k0sbIAQeS8BDChBhvCfLwMI6nlExesIxGA9krvBjUQdYO4w60MHwPvHdMjgvTPxERok6W1UcgLe2L9M9cCUo5CloCD+kW3n7dM4Au8srVRB8Wia1HpnqgMy8mItEpRas9qORmMhAmzRyc2iSo+Tas7suRmMoE+b8uTaJA6m2YtLwGaWtkRD5yz+DCqF0i8N4iZMLc8AePqXzj/Nh5g7xH0PsYdzRv7jAF3llbpWHK2rdYDOvJiLb9OVt54E2aOTm2qjkBbpmgT5vyxNouD+kW6dv7RAnP8mtqog+LdN+BCzj8gH82iUotmC7MprpvBidnJm+Suw2HwS9pg8gNwxVgrEyYEmqPTxesMoIPAxKcH2OXcrerRd7EwZkynpfNpnOfm0FtQrrMNNmlfdibdO/W0EnIV1wZzke5rbpWHK3SMchWDOanIW36crTOZshXKggz8q/tW2qjkBaZlRQV2QZo15fSBaLo/pGA5qrbGGowc5ewA7jBxy/FxO6wzL9OABEKCvIwZbU9RmO6DsLS7HAJrC0zXPzgE9ugtM5z84BO6gW6d+uATAeYt0rDkcAdTztv05d4fE24bTCwNQ3ndDNl/iFcNzsSYy8j3Int0FgUmK4BO6gWARU4BMB5i0uxwB1PO0zXPzg/wBs2mc5+cBCG3Tv17ybmzQFqSYTJB+bJksj3GdhCtzHcvrH5EbamkOtCzbsL+Mem0RtqaQ60LtsGF/GK7o21NIZaXm2YXycVjbU0grSrbMLLR13iNtTSCNbbI9cDLRxvEcTSDtbUIbj3mtc8xG3PM2o1RH7soZqn+Yv/9k=)"
      ],
      "metadata": {
        "id": "uCBhVIazIXgq"
      }
    }
  ]
}