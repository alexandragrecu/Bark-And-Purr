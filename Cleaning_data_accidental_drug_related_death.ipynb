{
  "cells": [
    {
      "cell_type": "markdown",
      "metadata": {
        "id": "view-in-github",
        "colab_type": "text"
      },
      "source": [
        "<a href=\"https://colab.research.google.com/github/alexandragrecu/Bark-and-Purr/blob/master/Cleaning_data_accidental_drug_related_death.ipynb\" target=\"_parent\"><img src=\"https://colab.research.google.com/assets/colab-badge.svg\" alt=\"Open In Colab\"/></a>"
      ]
    },
    {
      "cell_type": "markdown",
      "metadata": {
        "id": "SO7MqFOuej0L"
      },
      "source": [
        "# **Accidental drug related deaths**\n",
        "<p>Nearly 841,000 people have died since 1999 from a drug overdose. In 2019, 70,630 drug overdose deaths occurred in the United States. The age-adjusted rate of overdose deaths increased by over 4% from 2018 (20.7 per 100,000) to 2019 (21.6 per 100,000).</p>\n",
        "<p>Poisoning with drugs can be classified as:\n",
        "\n",
        "- self-harm or suicide when the person wants to harm himself;\n",
        "\n",
        "- assault or homicide when the person wants to harm another; \n",
        "\n",
        "- **unintentional, also known as \"accidental,\" when no harm is intended. Unintentional drug poisoning includes drug overdoses resulting from drug misuse, drug abuse, and taking too much of a drug for medical reasons**.</p>\n",
        "\n",
        "<p><img src=\"https://as2.ftcdn.net/v2/jpg/04/10/78/23/1000_F_410782386_wRjZM340f2erGZjuMKZzcsuKDUUiQ2ZD.jpg\" alt=\"No drugs\"></p>\n"
      ]
    },
    {
      "cell_type": "markdown",
      "metadata": {
        "id": "1NJpyXOrm-Jh"
      },
      "source": [
        "## 💾 The dataset\n",
        "Let's take a look at the data, which consists of a file:\n",
        "\n",
        "- <code>accidents.csv</code>: contains all the accidental drug related deaths from 2012 to 2018.\n",
        "This dataset contains 5106 of deaths reported and it is avalable [here](https://drive.google.com/file/d/1eilILR4hKgka9SA2zGV2VofQLAQVSZqe/view?usp=sharing).\n"
      ]
    },
    {
      "cell_type": "markdown",
      "metadata": {
        "id": "W30cwiy0moQQ"
      },
      "source": [
        "## 📌 Our tasks are:\n",
        "<ul>\n",
        "<li> Clean this dataset;\n",
        "<li> Explore this dataset and provide useful information that can help you understand better these deaths.\n",
        "</ul>"
      ]
    },
    {
      "cell_type": "markdown",
      "metadata": {
        "id": "37vQBVWBl-UZ"
      },
      "source": [
        "\n",
        "\n",
        "---\n",
        "\n",
        "\n",
        "\n",
        "---\n",
        "\n"
      ]
    },
    {
      "cell_type": "markdown",
      "metadata": {
        "id": "Y9ThUrnimZ2J"
      },
      "source": [
        "## 1. 📚 Load packages"
      ]
    },
    {
      "cell_type": "code",
      "execution_count": null,
      "metadata": {
        "colab": {
          "background_save": true,
          "base_uri": "https://localhost:8080/"
        },
        "id": "HHSevP_viw40",
        "outputId": "ecb79776-3fba-4244-dea2-9439d89b0e09"
      },
      "outputs": [
        {
          "name": "stdout",
          "output_type": "stream",
          "text": [
            "Requirement already satisfied: fuzzywuzzy in /usr/local/lib/python3.7/dist-packages (0.18.0)\n"
          ]
        }
      ],
      "source": [
        "!pip install fuzzywuzzy"
      ]
    },
    {
      "cell_type": "code",
      "execution_count": null,
      "metadata": {
        "colab": {
          "background_save": true,
          "base_uri": "https://localhost:8080/"
        },
        "id": "48GICI1So6zd",
        "outputId": "bb42d1cf-f643-4eab-e0d2-c5d7f800312e"
      },
      "outputs": [
        {
          "name": "stdout",
          "output_type": "stream",
          "text": [
            "Requirement already satisfied: python-Levenshtein in /usr/local/lib/python3.7/dist-packages (0.12.2)\n",
            "Requirement already satisfied: setuptools in /usr/local/lib/python3.7/dist-packages (from python-Levenshtein) (57.4.0)\n"
          ]
        }
      ],
      "source": [
        "!pip install python-Levenshtein"
      ]
    },
    {
      "cell_type": "code",
      "execution_count": null,
      "metadata": {
        "colab": {
          "background_save": true
        },
        "id": "QH-JcTRXmfxT"
      },
      "outputs": [],
      "source": [
        "import pandas as pd\n",
        "import datetime as dt\n",
        "import missingno as msno\n",
        "import numpy as np\n",
        "import matplotlib.pyplot as plt\n",
        "import seaborn as sns\n",
        "from fuzzywuzzy import fuzz\n",
        "import re\n",
        "from google.colab import files"
      ]
    },
    {
      "cell_type": "markdown",
      "metadata": {
        "id": "CVAj3oKZmBie"
      },
      "source": [
        "## 2. 📖 Reading the dataset:"
      ]
    },
    {
      "cell_type": "code",
      "execution_count": null,
      "metadata": {
        "colab": {
          "background_save": true,
          "base_uri": "https://localhost:8080/",
          "height": 38,
          "resources": {
            "http://localhost:8080/nbextensions/google.colab/files.js": {
              "data": "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",
              "headers": [
                [
                  "content-type",
                  "application/javascript"
                ]
              ],
              "ok": true,
              "status": 200,
              "status_text": ""
            }
          }
        },
        "id": "jKVRIpa2phvg",
        "outputId": "845b1848-a2c9-4b35-9ef4-abfe0a69cd63"
      },
      "outputs": [
        {
          "data": {
            "text/html": [
              "\n",
              "     <input type=\"file\" id=\"files-f56e0a09-fee1-455e-942a-ca86f3e7b163\" name=\"files[]\" multiple disabled\n",
              "        style=\"border:none\" />\n",
              "     <output id=\"result-f56e0a09-fee1-455e-942a-ca86f3e7b163\">\n",
              "      Upload widget is only available when the cell has been executed in the\n",
              "      current browser session. Please rerun this cell to enable.\n",
              "      </output>\n",
              "      <script src=\"/nbextensions/google.colab/files.js\"></script> "
            ],
            "text/plain": [
              "<IPython.core.display.HTML object>"
            ]
          },
          "metadata": {},
          "output_type": "display_data"
        }
      ],
      "source": [
        "uploaded = files.upload()"
      ]
    },
    {
      "cell_type": "code",
      "execution_count": null,
      "metadata": {
        "id": "qwBnciGdqilB"
      },
      "outputs": [],
      "source": [
        "accidents = pd.read_csv('accidents.csv')"
      ]
    },
    {
      "cell_type": "markdown",
      "metadata": {
        "id": "qhIjbog1sdDl"
      },
      "source": [
        "## 3. 🕵️ Understanding our dataset:"
      ]
    },
    {
      "cell_type": "code",
      "execution_count": null,
      "metadata": {
        "colab": {
          "base_uri": "https://localhost:8080/"
        },
        "id": "lGZ0i4afsNuE",
        "outputId": "4db200e3-7b17-4c3d-86c1-9d70f15c6250"
      },
      "outputs": [
        {
          "data": {
            "text/html": [
              "\n",
              "  <div id=\"df-92b1ba70-ec11-4aeb-8512-efa094a3ad0a\">\n",
              "    <div class=\"colab-df-container\">\n",
              "      <div>\n",
              "<style scoped>\n",
              "    .dataframe tbody tr th:only-of-type {\n",
              "        vertical-align: middle;\n",
              "    }\n",
              "\n",
              "    .dataframe tbody tr th {\n",
              "        vertical-align: top;\n",
              "    }\n",
              "\n",
              "    .dataframe thead th {\n",
              "        text-align: right;\n",
              "    }\n",
              "</style>\n",
              "<table border=\"1\" class=\"dataframe\">\n",
              "  <thead>\n",
              "    <tr style=\"text-align: right;\">\n",
              "      <th></th>\n",
              "      <th>ID</th>\n",
              "      <th>Date</th>\n",
              "      <th>DateType</th>\n",
              "      <th>Age</th>\n",
              "      <th>Sex</th>\n",
              "      <th>Race</th>\n",
              "      <th>ResidenceCity</th>\n",
              "      <th>ResidenceCounty</th>\n",
              "      <th>ResidenceState</th>\n",
              "      <th>DeathCity</th>\n",
              "      <th>...</th>\n",
              "      <th>Tramad</th>\n",
              "      <th>Morphine_NotHeroin</th>\n",
              "      <th>Hydromorphone</th>\n",
              "      <th>Other</th>\n",
              "      <th>OpiateNOS</th>\n",
              "      <th>AnyOpioid</th>\n",
              "      <th>MannerofDeath</th>\n",
              "      <th>DeathCityGeo</th>\n",
              "      <th>ResidenceCityGeo</th>\n",
              "      <th>InjuryCityGeo</th>\n",
              "    </tr>\n",
              "  </thead>\n",
              "  <tbody>\n",
              "    <tr>\n",
              "      <th>0</th>\n",
              "      <td>14-0273</td>\n",
              "      <td>06/28/2014 12:00:00 AM</td>\n",
              "      <td>DateReported</td>\n",
              "      <td>NaN</td>\n",
              "      <td>NaN</td>\n",
              "      <td>NaN</td>\n",
              "      <td>NaN</td>\n",
              "      <td>NaN</td>\n",
              "      <td>NaN</td>\n",
              "      <td>NaN</td>\n",
              "      <td>...</td>\n",
              "      <td>NaN</td>\n",
              "      <td>NaN</td>\n",
              "      <td>NaN</td>\n",
              "      <td>NaN</td>\n",
              "      <td>NaN</td>\n",
              "      <td>NaN</td>\n",
              "      <td>Accident</td>\n",
              "      <td>CT\\n(41.575155, -72.738288)</td>\n",
              "      <td>CT\\n(41.575155, -72.738288)</td>\n",
              "      <td>CT\\n(41.575155, -72.738288)</td>\n",
              "    </tr>\n",
              "    <tr>\n",
              "      <th>1</th>\n",
              "      <td>13-0102</td>\n",
              "      <td>03/21/2013 12:00:00 AM</td>\n",
              "      <td>DateofDeath</td>\n",
              "      <td>48.0</td>\n",
              "      <td>Male</td>\n",
              "      <td>Black</td>\n",
              "      <td>NORWALK</td>\n",
              "      <td>NaN</td>\n",
              "      <td>NaN</td>\n",
              "      <td>NORWALK</td>\n",
              "      <td>...</td>\n",
              "      <td>NaN</td>\n",
              "      <td>NaN</td>\n",
              "      <td>NaN</td>\n",
              "      <td>NaN</td>\n",
              "      <td>NaN</td>\n",
              "      <td>NaN</td>\n",
              "      <td>Accident</td>\n",
              "      <td>Norwalk, CT\\n(41.11805, -73.412906)</td>\n",
              "      <td>NORWALK, CT\\n(41.11805, -73.412906)</td>\n",
              "      <td>CT\\n(41.575155, -72.738288)</td>\n",
              "    </tr>\n",
              "    <tr>\n",
              "      <th>2</th>\n",
              "      <td>16-0165</td>\n",
              "      <td>03/13/2016 12:00:00 AM</td>\n",
              "      <td>DateofDeath</td>\n",
              "      <td>30.0</td>\n",
              "      <td>Female</td>\n",
              "      <td>White</td>\n",
              "      <td>SANDY HOOK</td>\n",
              "      <td>FAIRFIELD</td>\n",
              "      <td>CT</td>\n",
              "      <td>DANBURY</td>\n",
              "      <td>...</td>\n",
              "      <td>NaN</td>\n",
              "      <td>NaN</td>\n",
              "      <td>NaN</td>\n",
              "      <td>NaN</td>\n",
              "      <td>NaN</td>\n",
              "      <td>Y</td>\n",
              "      <td>Accident</td>\n",
              "      <td>Danbury, CT\\n(41.393666, -73.451539)</td>\n",
              "      <td>SANDY HOOK, CT\\n(41.419998, -73.282501)</td>\n",
              "      <td>NaN</td>\n",
              "    </tr>\n",
              "    <tr>\n",
              "      <th>3</th>\n",
              "      <td>16-0208</td>\n",
              "      <td>03/31/2016 12:00:00 AM</td>\n",
              "      <td>DateofDeath</td>\n",
              "      <td>23.0</td>\n",
              "      <td>Male</td>\n",
              "      <td>White</td>\n",
              "      <td>RYE</td>\n",
              "      <td>WESTCHESTER</td>\n",
              "      <td>NY</td>\n",
              "      <td>GREENWICH</td>\n",
              "      <td>...</td>\n",
              "      <td>NaN</td>\n",
              "      <td>NaN</td>\n",
              "      <td>NaN</td>\n",
              "      <td>NaN</td>\n",
              "      <td>NaN</td>\n",
              "      <td>Y</td>\n",
              "      <td>Accident</td>\n",
              "      <td>Greenwich, CT\\n(41.026526, -73.628549)</td>\n",
              "      <td>NaN</td>\n",
              "      <td>NaN</td>\n",
              "    </tr>\n",
              "    <tr>\n",
              "      <th>4</th>\n",
              "      <td>13-0052</td>\n",
              "      <td>02/13/2013 12:00:00 AM</td>\n",
              "      <td>DateofDeath</td>\n",
              "      <td>22.0</td>\n",
              "      <td>Male</td>\n",
              "      <td>Asian, Other</td>\n",
              "      <td>FLUSHING</td>\n",
              "      <td>QUEENS</td>\n",
              "      <td>NaN</td>\n",
              "      <td>GREENWICH</td>\n",
              "      <td>...</td>\n",
              "      <td>NaN</td>\n",
              "      <td>NaN</td>\n",
              "      <td>NaN</td>\n",
              "      <td>NaN</td>\n",
              "      <td>NaN</td>\n",
              "      <td>NaN</td>\n",
              "      <td>Accident</td>\n",
              "      <td>Greenwich, CT\\n(41.026526, -73.628549)</td>\n",
              "      <td>NaN</td>\n",
              "      <td>CT\\n(41.575155, -72.738288)</td>\n",
              "    </tr>\n",
              "  </tbody>\n",
              "</table>\n",
              "<p>5 rows × 41 columns</p>\n",
              "</div>\n",
              "      <button class=\"colab-df-convert\" onclick=\"convertToInteractive('df-92b1ba70-ec11-4aeb-8512-efa094a3ad0a')\"\n",
              "              title=\"Convert this dataframe to an interactive table.\"\n",
              "              style=\"display:none;\">\n",
              "        \n",
              "  <svg xmlns=\"http://www.w3.org/2000/svg\" height=\"24px\"viewBox=\"0 0 24 24\"\n",
              "       width=\"24px\">\n",
              "    <path d=\"M0 0h24v24H0V0z\" fill=\"none\"/>\n",
              "    <path d=\"M18.56 5.44l.94 2.06.94-2.06 2.06-.94-2.06-.94-.94-2.06-.94 2.06-2.06.94zm-11 1L8.5 8.5l.94-2.06 2.06-.94-2.06-.94L8.5 2.5l-.94 2.06-2.06.94zm10 10l.94 2.06.94-2.06 2.06-.94-2.06-.94-.94-2.06-.94 2.06-2.06.94z\"/><path d=\"M17.41 7.96l-1.37-1.37c-.4-.4-.92-.59-1.43-.59-.52 0-1.04.2-1.43.59L10.3 9.45l-7.72 7.72c-.78.78-.78 2.05 0 2.83L4 21.41c.39.39.9.59 1.41.59.51 0 1.02-.2 1.41-.59l7.78-7.78 2.81-2.81c.8-.78.8-2.07 0-2.86zM5.41 20L4 18.59l7.72-7.72 1.47 1.35L5.41 20z\"/>\n",
              "  </svg>\n",
              "      </button>\n",
              "      \n",
              "  <style>\n",
              "    .colab-df-container {\n",
              "      display:flex;\n",
              "      flex-wrap:wrap;\n",
              "      gap: 12px;\n",
              "    }\n",
              "\n",
              "    .colab-df-convert {\n",
              "      background-color: #E8F0FE;\n",
              "      border: none;\n",
              "      border-radius: 50%;\n",
              "      cursor: pointer;\n",
              "      display: none;\n",
              "      fill: #1967D2;\n",
              "      height: 32px;\n",
              "      padding: 0 0 0 0;\n",
              "      width: 32px;\n",
              "    }\n",
              "\n",
              "    .colab-df-convert:hover {\n",
              "      background-color: #E2EBFA;\n",
              "      box-shadow: 0px 1px 2px rgba(60, 64, 67, 0.3), 0px 1px 3px 1px rgba(60, 64, 67, 0.15);\n",
              "      fill: #174EA6;\n",
              "    }\n",
              "\n",
              "    [theme=dark] .colab-df-convert {\n",
              "      background-color: #3B4455;\n",
              "      fill: #D2E3FC;\n",
              "    }\n",
              "\n",
              "    [theme=dark] .colab-df-convert:hover {\n",
              "      background-color: #434B5C;\n",
              "      box-shadow: 0px 1px 3px 1px rgba(0, 0, 0, 0.15);\n",
              "      filter: drop-shadow(0px 1px 2px rgba(0, 0, 0, 0.3));\n",
              "      fill: #FFFFFF;\n",
              "    }\n",
              "  </style>\n",
              "\n",
              "      <script>\n",
              "        const buttonEl =\n",
              "          document.querySelector('#df-92b1ba70-ec11-4aeb-8512-efa094a3ad0a button.colab-df-convert');\n",
              "        buttonEl.style.display =\n",
              "          google.colab.kernel.accessAllowed ? 'block' : 'none';\n",
              "\n",
              "        async function convertToInteractive(key) {\n",
              "          const element = document.querySelector('#df-92b1ba70-ec11-4aeb-8512-efa094a3ad0a');\n",
              "          const dataTable =\n",
              "            await google.colab.kernel.invokeFunction('convertToInteractive',\n",
              "                                                     [key], {});\n",
              "          if (!dataTable) return;\n",
              "\n",
              "          const docLinkHtml = 'Like what you see? Visit the ' +\n",
              "            '<a target=\"_blank\" href=https://colab.research.google.com/notebooks/data_table.ipynb>data table notebook</a>'\n",
              "            + ' to learn more about interactive tables.';\n",
              "          element.innerHTML = '';\n",
              "          dataTable['output_type'] = 'display_data';\n",
              "          await google.colab.output.renderOutput(dataTable, element);\n",
              "          const docLink = document.createElement('div');\n",
              "          docLink.innerHTML = docLinkHtml;\n",
              "          element.appendChild(docLink);\n",
              "        }\n",
              "      </script>\n",
              "    </div>\n",
              "  </div>\n",
              "  "
            ],
            "text/plain": [
              "        ID                    Date      DateType   Age     Sex          Race  \\\n",
              "0  14-0273  06/28/2014 12:00:00 AM  DateReported   NaN     NaN           NaN   \n",
              "1  13-0102  03/21/2013 12:00:00 AM   DateofDeath  48.0    Male         Black   \n",
              "2  16-0165  03/13/2016 12:00:00 AM   DateofDeath  30.0  Female         White   \n",
              "3  16-0208  03/31/2016 12:00:00 AM   DateofDeath  23.0    Male         White   \n",
              "4  13-0052  02/13/2013 12:00:00 AM   DateofDeath  22.0    Male  Asian, Other   \n",
              "\n",
              "  ResidenceCity ResidenceCounty ResidenceState  DeathCity  ... Tramad  \\\n",
              "0           NaN             NaN            NaN        NaN  ...    NaN   \n",
              "1       NORWALK             NaN            NaN    NORWALK  ...    NaN   \n",
              "2    SANDY HOOK       FAIRFIELD             CT    DANBURY  ...    NaN   \n",
              "3           RYE     WESTCHESTER             NY  GREENWICH  ...    NaN   \n",
              "4      FLUSHING          QUEENS            NaN  GREENWICH  ...    NaN   \n",
              "\n",
              "  Morphine_NotHeroin Hydromorphone Other OpiateNOS AnyOpioid MannerofDeath  \\\n",
              "0                NaN           NaN   NaN       NaN       NaN      Accident   \n",
              "1                NaN           NaN   NaN       NaN       NaN      Accident   \n",
              "2                NaN           NaN   NaN       NaN         Y      Accident   \n",
              "3                NaN           NaN   NaN       NaN         Y      Accident   \n",
              "4                NaN           NaN   NaN       NaN       NaN      Accident   \n",
              "\n",
              "                             DeathCityGeo  \\\n",
              "0             CT\\n(41.575155, -72.738288)   \n",
              "1     Norwalk, CT\\n(41.11805, -73.412906)   \n",
              "2    Danbury, CT\\n(41.393666, -73.451539)   \n",
              "3  Greenwich, CT\\n(41.026526, -73.628549)   \n",
              "4  Greenwich, CT\\n(41.026526, -73.628549)   \n",
              "\n",
              "                          ResidenceCityGeo                InjuryCityGeo  \n",
              "0              CT\\n(41.575155, -72.738288)  CT\\n(41.575155, -72.738288)  \n",
              "1      NORWALK, CT\\n(41.11805, -73.412906)  CT\\n(41.575155, -72.738288)  \n",
              "2  SANDY HOOK, CT\\n(41.419998, -73.282501)                          NaN  \n",
              "3                                      NaN                          NaN  \n",
              "4                                      NaN  CT\\n(41.575155, -72.738288)  \n",
              "\n",
              "[5 rows x 41 columns]"
            ]
          },
          "execution_count": 372,
          "metadata": {},
          "output_type": "execute_result"
        }
      ],
      "source": [
        "accidents.head()"
      ]
    },
    {
      "cell_type": "code",
      "execution_count": null,
      "metadata": {
        "colab": {
          "base_uri": "https://localhost:8080/"
        },
        "id": "8ifx8RV_tAVp",
        "outputId": "e1cc6b3c-afac-4468-a903-246702271e5a"
      },
      "outputs": [
        {
          "data": {
            "text/plain": [
              "(5105, 41)"
            ]
          },
          "execution_count": 373,
          "metadata": {},
          "output_type": "execute_result"
        }
      ],
      "source": [
        "accidents.shape"
      ]
    },
    {
      "cell_type": "code",
      "execution_count": null,
      "metadata": {
        "colab": {
          "base_uri": "https://localhost:8080/"
        },
        "id": "EbEWsg2ytDtb",
        "outputId": "f8a9cb73-afb3-4211-bced-d711b59b38b5"
      },
      "outputs": [
        {
          "data": {
            "text/plain": [
              "ID                      object\n",
              "Date                    object\n",
              "DateType                object\n",
              "Age                    float64\n",
              "Sex                     object\n",
              "Race                    object\n",
              "ResidenceCity           object\n",
              "ResidenceCounty         object\n",
              "ResidenceState          object\n",
              "DeathCity               object\n",
              "DeathCounty             object\n",
              "Location                object\n",
              "LocationifOther         object\n",
              "DescriptionofInjury     object\n",
              "InjuryPlace             object\n",
              "InjuryCity              object\n",
              "InjuryCounty            object\n",
              "InjuryState             object\n",
              "COD                     object\n",
              "OtherSignifican         object\n",
              "Heroin                  object\n",
              "Cocaine                 object\n",
              "Fentanyl                object\n",
              "FentanylAnalogue        object\n",
              "Oxycodone               object\n",
              "Oxymorphone             object\n",
              "Ethanol                 object\n",
              "Hydrocodone             object\n",
              "Benzodiazepine          object\n",
              "Methadone               object\n",
              "Amphet                  object\n",
              "Tramad                  object\n",
              "Morphine_NotHeroin      object\n",
              "Hydromorphone           object\n",
              "Other                   object\n",
              "OpiateNOS               object\n",
              "AnyOpioid               object\n",
              "MannerofDeath           object\n",
              "DeathCityGeo            object\n",
              "ResidenceCityGeo        object\n",
              "InjuryCityGeo           object\n",
              "dtype: object"
            ]
          },
          "execution_count": 374,
          "metadata": {},
          "output_type": "execute_result"
        }
      ],
      "source": [
        "accidents.dtypes"
      ]
    },
    {
      "cell_type": "code",
      "execution_count": null,
      "metadata": {
        "colab": {
          "base_uri": "https://localhost:8080/"
        },
        "id": "J0XPtn_HtSAM",
        "outputId": "5146925c-9b51-44bb-cf27-b164bb12094e"
      },
      "outputs": [
        {
          "data": {
            "text/plain": [
              "ID                        0\n",
              "Date                      2\n",
              "DateType                  2\n",
              "Age                       3\n",
              "Sex                       6\n",
              "Race                     13\n",
              "ResidenceCity           173\n",
              "ResidenceCounty         797\n",
              "ResidenceState         1549\n",
              "DeathCity                 5\n",
              "DeathCounty            1100\n",
              "Location                 24\n",
              "LocationifOther        4515\n",
              "DescriptionofInjury     780\n",
              "InjuryPlace              66\n",
              "InjuryCity             1756\n",
              "InjuryCounty           2741\n",
              "InjuryState            3681\n",
              "COD                       0\n",
              "OtherSignifican        4936\n",
              "Heroin                 2576\n",
              "Cocaine                3584\n",
              "Fentanyl               2873\n",
              "FentanylAnalogue       4716\n",
              "Oxycodone              4498\n",
              "Oxymorphone            4997\n",
              "Ethanol                3858\n",
              "Hydrocodone            4987\n",
              "Benzodiazepine         3762\n",
              "Methadone              4631\n",
              "Amphet                 4946\n",
              "Tramad                 4975\n",
              "Morphine_NotHeroin     5063\n",
              "Hydromorphone          5080\n",
              "Other                  4670\n",
              "OpiateNOS              5017\n",
              "AnyOpioid              2639\n",
              "MannerofDeath            10\n",
              "DeathCityGeo              0\n",
              "ResidenceCityGeo         93\n",
              "InjuryCityGeo            78\n",
              "dtype: int64"
            ]
          },
          "execution_count": 375,
          "metadata": {},
          "output_type": "execute_result"
        }
      ],
      "source": [
        "accidents.isna().sum()"
      ]
    },
    {
      "cell_type": "markdown",
      "metadata": {
        "id": "v5GBfEzVs98h"
      },
      "source": [
        "### 📊 We have 5105 accidents with 41 values. There are values that don't have the right data type and we have a lot of NA values. \n",
        "\n"
      ]
    },
    {
      "cell_type": "markdown",
      "metadata": {
        "id": "CDPN5Kpwu0os"
      },
      "source": [
        "First thing first, let's lowecase the first letter of column headers:"
      ]
    },
    {
      "cell_type": "code",
      "execution_count": null,
      "metadata": {
        "id": "yXbTnDMTs4XD"
      },
      "outputs": [],
      "source": [
        "# transform dataframe column headers - lowercase the first letter\n",
        "accidents.columns = [col[0].lower() + col[1:] for col in accidents.columns]\n",
        "names = accidents.columns.tolist()\n",
        "names[names.index('locationifOther')] = 'locationIfOther'\n",
        "names[names.index('mannerofDeath')] = 'mannerOfDeath'\n",
        "names[names.index('descriptionofInjury')] = 'descriptionOfInjury'\n",
        "names[names.index('cOD')] = 'COD'\n",
        "names[names.index('iD')] = 'id'\n",
        "names[names.index('otherSignifican')] = 'otherSignificantCOD'\n",
        "names[names.index('other')] = 'otherSubstance'\n",
        "\n",
        "accidents.columns = names"
      ]
    },
    {
      "cell_type": "code",
      "execution_count": null,
      "metadata": {
        "colab": {
          "base_uri": "https://localhost:8080/"
        },
        "id": "mb_XA0P-vImU",
        "outputId": "78c16dbd-65e5-4e24-d802-2000a1bac404"
      },
      "outputs": [
        {
          "data": {
            "text/plain": [
              "Index(['id', 'date', 'dateType', 'age', 'sex', 'race', 'residenceCity',\n",
              "       'residenceCounty', 'residenceState', 'deathCity', 'deathCounty',\n",
              "       'location', 'locationIfOther', 'descriptionOfInjury', 'injuryPlace',\n",
              "       'injuryCity', 'injuryCounty', 'injuryState', 'COD',\n",
              "       'otherSignificantCOD', 'heroin', 'cocaine', 'fentanyl',\n",
              "       'fentanylAnalogue', 'oxycodone', 'oxymorphone', 'ethanol',\n",
              "       'hydrocodone', 'benzodiazepine', 'methadone', 'amphet', 'tramad',\n",
              "       'morphine_NotHeroin', 'hydromorphone', 'otherSubstance', 'opiateNOS',\n",
              "       'anyOpioid', 'mannerOfDeath', 'deathCityGeo', 'residenceCityGeo',\n",
              "       'injuryCityGeo'],\n",
              "      dtype='object')"
            ]
          },
          "execution_count": 377,
          "metadata": {},
          "output_type": "execute_result"
        }
      ],
      "source": [
        "accidents.columns"
      ]
    },
    {
      "cell_type": "markdown",
      "metadata": {
        "id": "dtGhkibDvhSE"
      },
      "source": [
        "## 4. 🪥 Cleaning Data Process: \n",
        "\n",
        "\n",
        "*   Missing Values\n",
        "*   Element din listă\n",
        "\n",
        "\n",
        "\n"
      ]
    },
    {
      "cell_type": "markdown",
      "metadata": {
        "id": "JMqaak9ovy68"
      },
      "source": [
        "### 4.1 🔍 Missing values:"
      ]
    },
    {
      "cell_type": "markdown",
      "metadata": {
        "id": "fwb0IVgnweV5"
      },
      "source": [
        "Let's see once again what columns have missing values: "
      ]
    },
    {
      "cell_type": "code",
      "execution_count": null,
      "metadata": {
        "colab": {
          "base_uri": "https://localhost:8080/"
        },
        "id": "z7KEXdGbvKwU",
        "outputId": "d208411d-57da-467f-ce2c-4390aaf6c461"
      },
      "outputs": [
        {
          "data": {
            "text/plain": [
              "id                        0\n",
              "date                      2\n",
              "dateType                  2\n",
              "age                       3\n",
              "sex                       6\n",
              "race                     13\n",
              "residenceCity           173\n",
              "residenceCounty         797\n",
              "residenceState         1549\n",
              "deathCity                 5\n",
              "deathCounty            1100\n",
              "location                 24\n",
              "locationIfOther        4515\n",
              "descriptionOfInjury     780\n",
              "injuryPlace              66\n",
              "injuryCity             1756\n",
              "injuryCounty           2741\n",
              "injuryState            3681\n",
              "COD                       0\n",
              "otherSignificantCOD    4936\n",
              "heroin                 2576\n",
              "cocaine                3584\n",
              "fentanyl               2873\n",
              "fentanylAnalogue       4716\n",
              "oxycodone              4498\n",
              "oxymorphone            4997\n",
              "ethanol                3858\n",
              "hydrocodone            4987\n",
              "benzodiazepine         3762\n",
              "methadone              4631\n",
              "amphet                 4946\n",
              "tramad                 4975\n",
              "morphine_NotHeroin     5063\n",
              "hydromorphone          5080\n",
              "otherSubstance         4670\n",
              "opiateNOS              5017\n",
              "anyOpioid              2639\n",
              "mannerOfDeath            10\n",
              "deathCityGeo              0\n",
              "residenceCityGeo         93\n",
              "injuryCityGeo            78\n",
              "dtype: int64"
            ]
          },
          "execution_count": 378,
          "metadata": {},
          "output_type": "execute_result"
        }
      ],
      "source": [
        "accidents.isna().sum()"
      ]
    },
    {
      "cell_type": "markdown",
      "metadata": {
        "id": "vvzNK0eF0ZtV"
      },
      "source": [
        "For ease, let's see a visual diagram of these missing values:"
      ]
    },
    {
      "cell_type": "code",
      "execution_count": null,
      "metadata": {
        "colab": {
          "base_uri": "https://localhost:8080/",
          "height": 567
        },
        "id": "p7ZkRIRO0iX9",
        "outputId": "2a10c800-53b6-418a-cc0c-60e30ef3814a"
      },
      "outputs": [
        {
          "data": {
            "image/png": "[encoded data removed]",
            "text/plain": [
              "<Figure size 1800x720 with 2 Axes>"
            ]
          },
          "metadata": {},
          "output_type": "display_data"
        }
      ],
      "source": [
        "msno.matrix(accidents)\n",
        "plt.show()"
      ]
    },
    {
      "cell_type": "markdown",
      "metadata": {
        "id": "-t_1Afex0oYo"
      },
      "source": [
        "Wow, we have a lot of missing values, looks like it's a beautiful dataset. 😂😂 Just joking, I'm not such a nerd, it's scarry. 😂😂 ☠️"
      ]
    },
    {
      "cell_type": "markdown",
      "metadata": {
        "id": "hmEpwx7pwsoM"
      },
      "source": [
        "- We can see that date, dateType, age, sex and race columns hava a small number of missing values, we can drop them:"
      ]
    },
    {
      "cell_type": "code",
      "execution_count": null,
      "metadata": {
        "id": "M3LxgEjJwmgE"
      },
      "outputs": [],
      "source": [
        "cols = ['date', 'dateType', 'age', 'sex', 'race']\n",
        "accidents.dropna(subset=cols, inplace=True)"
      ]
    },
    {
      "cell_type": "code",
      "execution_count": null,
      "metadata": {
        "colab": {
          "base_uri": "https://localhost:8080/"
        },
        "id": "Ni9osKPwyOfl",
        "outputId": "9bc0af28-b4c6-4ec0-a01a-d7ab5bd9e912"
      },
      "outputs": [
        {
          "data": {
            "text/plain": [
              "date        0\n",
              "dateType    0\n",
              "age         0\n",
              "sex         0\n",
              "race        0\n",
              "dtype: int64"
            ]
          },
          "execution_count": 381,
          "metadata": {},
          "output_type": "execute_result"
        }
      ],
      "source": [
        "accidents.isna().sum()[cols]"
      ]
    },
    {
      "cell_type": "markdown",
      "metadata": {
        "id": "-XNO_I4gy7Tv"
      },
      "source": [
        "- On the other hand, we see that the substances columns (from heroin to opiateNOS) have the most missing values, because if a person died of a specific substance, the column for that specific substance has value 'Y', and the other substance columns have NA values. We can correct this by introducing True/False values:"
      ]
    },
    {
      "cell_type": "code",
      "execution_count": null,
      "metadata": {
        "id": "lGgxBw-IyQ85"
      },
      "outputs": [],
      "source": [
        "substances = ['heroin', 'cocaine', 'fentanyl', 'fentanylAnalogue', 'oxycodone', 'oxymorphone', 'ethanol', 'hydrocodone', 'benzodiazepine',\n",
        "              'methadone', 'amphet', 'tramad', 'morphine_NotHeroin', 'hydromorphone', 'opiateNOS', 'anyOpioid']\n",
        "\n",
        "for substance in substances:\n",
        "    accidents[substance] = np.where(accidents[substance] == 'Y', True, False)"
      ]
    },
    {
      "cell_type": "code",
      "execution_count": null,
      "metadata": {
        "colab": {
          "base_uri": "https://localhost:8080/"
        },
        "id": "1DtFwBQ3z3sJ",
        "outputId": "8c0e5cfc-3abe-4d48-8e6b-a98b945369c9"
      },
      "outputs": [
        {
          "data": {
            "text/plain": [
              "id                        0\n",
              "date                      0\n",
              "dateType                  0\n",
              "age                       0\n",
              "sex                       0\n",
              "race                      0\n",
              "residenceCity           167\n",
              "residenceCounty         789\n",
              "residenceState         1541\n",
              "deathCity                 1\n",
              "deathCounty            1091\n",
              "location                 20\n",
              "locationIfOther        4500\n",
              "descriptionOfInjury     777\n",
              "injuryPlace              65\n",
              "injuryCity             1752\n",
              "injuryCounty           2733\n",
              "injuryState            3669\n",
              "COD                       0\n",
              "otherSignificantCOD    4920\n",
              "heroin                    0\n",
              "cocaine                   0\n",
              "fentanyl                  0\n",
              "fentanylAnalogue          0\n",
              "oxycodone                 0\n",
              "oxymorphone               0\n",
              "ethanol                   0\n",
              "hydrocodone               0\n",
              "benzodiazepine            0\n",
              "methadone                 0\n",
              "amphet                    0\n",
              "tramad                    0\n",
              "morphine_NotHeroin        0\n",
              "hydromorphone             0\n",
              "otherSubstance         4656\n",
              "opiateNOS                 0\n",
              "anyOpioid                 0\n",
              "mannerOfDeath             8\n",
              "deathCityGeo              0\n",
              "residenceCityGeo         93\n",
              "injuryCityGeo            77\n",
              "dtype: int64"
            ]
          },
          "execution_count": 383,
          "metadata": {},
          "output_type": "execute_result"
        }
      ],
      "source": [
        "accidents.isna().sum()"
      ]
    },
    {
      "cell_type": "code",
      "execution_count": null,
      "metadata": {
        "colab": {
          "base_uri": "https://localhost:8080/",
          "height": 567
        },
        "id": "JGV_HTYx0Gaq",
        "outputId": "06dfcb8c-53e9-4e3c-eb60-deec02232a17"
      },
      "outputs": [
        {
          "data": {
            "image/png": "[encoded data removed]",
            "text/plain": [
              "<Figure size 1800x720 with 2 Axes>"
            ]
          },
          "metadata": {},
          "output_type": "display_data"
        }
      ],
      "source": [
        "msno.matrix(accidents)\n",
        "plt.show()"
      ]
    },
    {
      "cell_type": "markdown",
      "metadata": {
        "id": "pS0umSFo2CJJ"
      },
      "source": [
        "Ha, more handsome dataset 😎. Great, we are on the way. 🌊 "
      ]
    },
    {
      "cell_type": "markdown",
      "metadata": {
        "id": "EB05v1KE2xX7"
      },
      "source": [
        "- Let's see these columns: locationIfOther, otherSignificantCOD and otherSubstance. Why have they so many NA values?"
      ]
    },
    {
      "cell_type": "markdown",
      "metadata": {
        "id": "nrfrvUZdq5HL"
      },
      "source": [
        "## 👉🏻 *locationIfOther* column"
      ]
    },
    {
      "cell_type": "markdown",
      "metadata": {
        "id": "V25pF9D0WGaJ"
      },
      "source": [
        "We start with *locationIfOther* column. The diagram shows us that there are a lot of NaN values here, my intention is drop this column after I get all the information from it. (I will transfer its information to location column and then delete it.). But le't have a look on this column. "
      ]
    },
    {
      "cell_type": "code",
      "execution_count": null,
      "metadata": {
        "colab": {
          "base_uri": "https://localhost:8080/"
        },
        "id": "1Gw2rTwf1-Y-",
        "outputId": "dc4513b8-15ba-4eda-9af5-d241b5a98f0a"
      },
      "outputs": [
        {
          "name": "stdout",
          "output_type": "stream",
          "text": [
            "Friend's Residence      39\n",
            "Friend's Home           27\n",
            "Friend's House          27\n",
            "In Vehicle              17\n",
            "Friends House           10\n",
            "                        ..\n",
            "boyfriend's house        1\n",
            "Neighbor's Residence     1\n",
            "High Ridge Motel         1\n",
            "In car on road           1\n",
            "By Railroad Tracks       1\n",
            "Name: locationIfOther, Length: 321, dtype: int64\n"
          ]
        }
      ],
      "source": [
        "# locationIfOther\n",
        "inconsistent_rows = accidents['locationIfOther'].isna()\n",
        "print(accidents.loc[~inconsistent_rows, 'locationIfOther'].value_counts())"
      ]
    },
    {
      "cell_type": "markdown",
      "metadata": {
        "id": "9axFr_WoW8xC"
      },
      "source": [
        "We have just 322 values for this column (from ~5000 rows). This strengthen my intuition to do get information from this column and then delete it. From what we can see, we can't complete the NaN values with 'Unknown', there is a strong relationship between location and locationIfOther. Next, we'll study this relationship. :) "
      ]
    },
    {
      "cell_type": "code",
      "execution_count": null,
      "metadata": {
        "colab": {
          "base_uri": "https://localhost:8080/"
        },
        "id": "D9LGTs3w6GmT",
        "outputId": "56cef6e3-e755-4355-bac8-6ee5316a3d9f"
      },
      "outputs": [
        {
          "name": "stdout",
          "output_type": "stream",
          "text": [
            "Residence            2673\n",
            "Hospital             1620\n",
            "Other                 770\n",
            "Convalescent Home       3\n",
            "Nursing Home            1\n",
            "Hospice                 1\n",
            "Name: location, dtype: int64\n"
          ]
        }
      ],
      "source": [
        "print(accidents['location'].value_counts())"
      ]
    },
    {
      "cell_type": "markdown",
      "metadata": {
        "id": "lLBjUmY_69Xs"
      },
      "source": [
        "Logically speaking, if location column has 'Other' value, locationIfOther should not be empty. But we can see that location column has 773 values whereas locationIfOther has just 322 values. Not cool, let's see what's the problem, we'll print all accidents that have location column 'Other' and look to locationIfOther column: "
      ]
    },
    {
      "cell_type": "code",
      "execution_count": null,
      "metadata": {
        "colab": {
          "base_uri": "https://localhost:8080/",
          "height": 520
        },
        "id": "d3YI12dm6gYI",
        "outputId": "b71e84a5-4ff3-4ea9-ed58-972799d1957c"
      },
      "outputs": [
        {
          "data": {
            "text/html": [
              "\n",
              "  <div id=\"df-76c2a839-94cb-438d-89fd-e19c93571330\">\n",
              "    <div class=\"colab-df-container\">\n",
              "      <div>\n",
              "<style scoped>\n",
              "    .dataframe tbody tr th:only-of-type {\n",
              "        vertical-align: middle;\n",
              "    }\n",
              "\n",
              "    .dataframe tbody tr th {\n",
              "        vertical-align: top;\n",
              "    }\n",
              "\n",
              "    .dataframe thead th {\n",
              "        text-align: right;\n",
              "    }\n",
              "</style>\n",
              "<table border=\"1\" class=\"dataframe\">\n",
              "  <thead>\n",
              "    <tr style=\"text-align: right;\">\n",
              "      <th></th>\n",
              "      <th>location</th>\n",
              "      <th>locationIfOther</th>\n",
              "    </tr>\n",
              "  </thead>\n",
              "  <tbody>\n",
              "    <tr>\n",
              "      <th>10</th>\n",
              "      <td>Other</td>\n",
              "      <td>Honey Spot</td>\n",
              "    </tr>\n",
              "    <tr>\n",
              "      <th>27</th>\n",
              "      <td>Other</td>\n",
              "      <td>NaN</td>\n",
              "    </tr>\n",
              "    <tr>\n",
              "      <th>30</th>\n",
              "      <td>Other</td>\n",
              "      <td>Motel 6</td>\n",
              "    </tr>\n",
              "    <tr>\n",
              "      <th>37</th>\n",
              "      <td>Other</td>\n",
              "      <td>NaN</td>\n",
              "    </tr>\n",
              "    <tr>\n",
              "      <th>39</th>\n",
              "      <td>Other</td>\n",
              "      <td>Hotel/Motel</td>\n",
              "    </tr>\n",
              "    <tr>\n",
              "      <th>47</th>\n",
              "      <td>Other</td>\n",
              "      <td>Park</td>\n",
              "    </tr>\n",
              "    <tr>\n",
              "      <th>49</th>\n",
              "      <td>Other</td>\n",
              "      <td>Friend's Home</td>\n",
              "    </tr>\n",
              "    <tr>\n",
              "      <th>53</th>\n",
              "      <td>Other</td>\n",
              "      <td>Outside</td>\n",
              "    </tr>\n",
              "    <tr>\n",
              "      <th>54</th>\n",
              "      <td>Other</td>\n",
              "      <td>NaN</td>\n",
              "    </tr>\n",
              "    <tr>\n",
              "      <th>57</th>\n",
              "      <td>Other</td>\n",
              "      <td>Dunkin donuts</td>\n",
              "    </tr>\n",
              "    <tr>\n",
              "      <th>59</th>\n",
              "      <td>Other</td>\n",
              "      <td>NaN</td>\n",
              "    </tr>\n",
              "    <tr>\n",
              "      <th>76</th>\n",
              "      <td>Other</td>\n",
              "      <td>NaN</td>\n",
              "    </tr>\n",
              "    <tr>\n",
              "      <th>79</th>\n",
              "      <td>Other</td>\n",
              "      <td>Father's house</td>\n",
              "    </tr>\n",
              "    <tr>\n",
              "      <th>85</th>\n",
              "      <td>Other</td>\n",
              "      <td>Halfway house</td>\n",
              "    </tr>\n",
              "    <tr>\n",
              "      <th>86</th>\n",
              "      <td>Other</td>\n",
              "      <td>NaN</td>\n",
              "    </tr>\n",
              "  </tbody>\n",
              "</table>\n",
              "</div>\n",
              "      <button class=\"colab-df-convert\" onclick=\"convertToInteractive('df-76c2a839-94cb-438d-89fd-e19c93571330')\"\n",
              "              title=\"Convert this dataframe to an interactive table.\"\n",
              "              style=\"display:none;\">\n",
              "        \n",
              "  <svg xmlns=\"http://www.w3.org/2000/svg\" height=\"24px\"viewBox=\"0 0 24 24\"\n",
              "       width=\"24px\">\n",
              "    <path d=\"M0 0h24v24H0V0z\" fill=\"none\"/>\n",
              "    <path d=\"M18.56 5.44l.94 2.06.94-2.06 2.06-.94-2.06-.94-.94-2.06-.94 2.06-2.06.94zm-11 1L8.5 8.5l.94-2.06 2.06-.94-2.06-.94L8.5 2.5l-.94 2.06-2.06.94zm10 10l.94 2.06.94-2.06 2.06-.94-2.06-.94-.94-2.06-.94 2.06-2.06.94z\"/><path d=\"M17.41 7.96l-1.37-1.37c-.4-.4-.92-.59-1.43-.59-.52 0-1.04.2-1.43.59L10.3 9.45l-7.72 7.72c-.78.78-.78 2.05 0 2.83L4 21.41c.39.39.9.59 1.41.59.51 0 1.02-.2 1.41-.59l7.78-7.78 2.81-2.81c.8-.78.8-2.07 0-2.86zM5.41 20L4 18.59l7.72-7.72 1.47 1.35L5.41 20z\"/>\n",
              "  </svg>\n",
              "      </button>\n",
              "      \n",
              "  <style>\n",
              "    .colab-df-container {\n",
              "      display:flex;\n",
              "      flex-wrap:wrap;\n",
              "      gap: 12px;\n",
              "    }\n",
              "\n",
              "    .colab-df-convert {\n",
              "      background-color: #E8F0FE;\n",
              "      border: none;\n",
              "      border-radius: 50%;\n",
              "      cursor: pointer;\n",
              "      display: none;\n",
              "      fill: #1967D2;\n",
              "      height: 32px;\n",
              "      padding: 0 0 0 0;\n",
              "      width: 32px;\n",
              "    }\n",
              "\n",
              "    .colab-df-convert:hover {\n",
              "      background-color: #E2EBFA;\n",
              "      box-shadow: 0px 1px 2px rgba(60, 64, 67, 0.3), 0px 1px 3px 1px rgba(60, 64, 67, 0.15);\n",
              "      fill: #174EA6;\n",
              "    }\n",
              "\n",
              "    [theme=dark] .colab-df-convert {\n",
              "      background-color: #3B4455;\n",
              "      fill: #D2E3FC;\n",
              "    }\n",
              "\n",
              "    [theme=dark] .colab-df-convert:hover {\n",
              "      background-color: #434B5C;\n",
              "      box-shadow: 0px 1px 3px 1px rgba(0, 0, 0, 0.15);\n",
              "      filter: drop-shadow(0px 1px 2px rgba(0, 0, 0, 0.3));\n",
              "      fill: #FFFFFF;\n",
              "    }\n",
              "  </style>\n",
              "\n",
              "      <script>\n",
              "        const buttonEl =\n",
              "          document.querySelector('#df-76c2a839-94cb-438d-89fd-e19c93571330 button.colab-df-convert');\n",
              "        buttonEl.style.display =\n",
              "          google.colab.kernel.accessAllowed ? 'block' : 'none';\n",
              "\n",
              "        async function convertToInteractive(key) {\n",
              "          const element = document.querySelector('#df-76c2a839-94cb-438d-89fd-e19c93571330');\n",
              "          const dataTable =\n",
              "            await google.colab.kernel.invokeFunction('convertToInteractive',\n",
              "                                                     [key], {});\n",
              "          if (!dataTable) return;\n",
              "\n",
              "          const docLinkHtml = 'Like what you see? Visit the ' +\n",
              "            '<a target=\"_blank\" href=https://colab.research.google.com/notebooks/data_table.ipynb>data table notebook</a>'\n",
              "            + ' to learn more about interactive tables.';\n",
              "          element.innerHTML = '';\n",
              "          dataTable['output_type'] = 'display_data';\n",
              "          await google.colab.output.renderOutput(dataTable, element);\n",
              "          const docLink = document.createElement('div');\n",
              "          docLink.innerHTML = docLinkHtml;\n",
              "          element.appendChild(docLink);\n",
              "        }\n",
              "      </script>\n",
              "    </div>\n",
              "  </div>\n",
              "  "
            ],
            "text/plain": [
              "   location locationIfOther\n",
              "10    Other      Honey Spot\n",
              "27    Other             NaN\n",
              "30    Other         Motel 6\n",
              "37    Other             NaN\n",
              "39    Other     Hotel/Motel\n",
              "47    Other            Park\n",
              "49    Other   Friend's Home\n",
              "53    Other         Outside\n",
              "54    Other             NaN\n",
              "57    Other   Dunkin donuts\n",
              "59    Other             NaN\n",
              "76    Other             NaN\n",
              "79    Other  Father's house\n",
              "85    Other   Halfway house\n",
              "86    Other             NaN"
            ]
          },
          "execution_count": 387,
          "metadata": {},
          "output_type": "execute_result"
        }
      ],
      "source": [
        "accidents_other_locations = accidents.loc[accidents['location'] == 'Other', ['location', 'locationIfOther']]\n",
        "accidents_other_locations.head(15)"
      ]
    },
    {
      "cell_type": "code",
      "execution_count": null,
      "metadata": {
        "colab": {
          "base_uri": "https://localhost:8080/"
        },
        "id": "elhkNtiIS0Fb",
        "outputId": "9554cbc1-91c6-4c9d-8c76-b8104d978e91"
      },
      "outputs": [
        {
          "data": {
            "text/plain": [
              "770"
            ]
          },
          "execution_count": 388,
          "metadata": {},
          "output_type": "execute_result"
        }
      ],
      "source": [
        "accidents_other_locations.shape[0]"
      ]
    },
    {
      "cell_type": "markdown",
      "metadata": {
        "id": "Cvj9WRaPR3Pi"
      },
      "source": [
        "Let's see now how the same thing, vut locationIfOther is not NaN."
      ]
    },
    {
      "cell_type": "code",
      "execution_count": null,
      "metadata": {
        "colab": {
          "base_uri": "https://localhost:8080/"
        },
        "id": "FPB2dejgRxCu",
        "outputId": "2b64a5af-31a0-43e8-c1bf-ab8a3e0835ac"
      },
      "outputs": [
        {
          "data": {
            "text/plain": [
              "558"
            ]
          },
          "execution_count": 389,
          "metadata": {},
          "output_type": "execute_result"
        }
      ],
      "source": [
        "accidents_other_locations = accidents.loc[(accidents['location'] == 'Other') & (~accidents['locationIfOther'].isna()), ['location', 'locationIfOther']] \n",
        "accidents_other_locations.shape[0]"
      ]
    },
    {
      "cell_type": "markdown",
      "metadata": {
        "id": "binI9div8oFc"
      },
      "source": [
        "Just to be sure, are there any accidents that have location column != 'Other' and locationIfOther column has a specific value? "
      ]
    },
    {
      "cell_type": "code",
      "execution_count": null,
      "metadata": {
        "colab": {
          "base_uri": "https://localhost:8080/",
          "height": 990
        },
        "id": "FFubiQ-S77XC",
        "outputId": "4400b72b-98b7-41d1-ad37-3cb45d358a3d"
      },
      "outputs": [
        {
          "data": {
            "text/html": [
              "\n",
              "  <div id=\"df-6eb3ed6a-dd50-4da2-ad81-367bd9163b55\">\n",
              "    <div class=\"colab-df-container\">\n",
              "      <div>\n",
              "<style scoped>\n",
              "    .dataframe tbody tr th:only-of-type {\n",
              "        vertical-align: middle;\n",
              "    }\n",
              "\n",
              "    .dataframe tbody tr th {\n",
              "        vertical-align: top;\n",
              "    }\n",
              "\n",
              "    .dataframe thead th {\n",
              "        text-align: right;\n",
              "    }\n",
              "</style>\n",
              "<table border=\"1\" class=\"dataframe\">\n",
              "  <thead>\n",
              "    <tr style=\"text-align: right;\">\n",
              "      <th></th>\n",
              "      <th>location</th>\n",
              "      <th>locationIfOther</th>\n",
              "    </tr>\n",
              "  </thead>\n",
              "  <tbody>\n",
              "    <tr>\n",
              "      <th>118</th>\n",
              "      <td>Residence</td>\n",
              "      <td>Basement</td>\n",
              "    </tr>\n",
              "    <tr>\n",
              "      <th>138</th>\n",
              "      <td>Residence</td>\n",
              "      <td>Friend's Apartment</td>\n",
              "    </tr>\n",
              "    <tr>\n",
              "      <th>630</th>\n",
              "      <td>Residence</td>\n",
              "      <td>back patio</td>\n",
              "    </tr>\n",
              "    <tr>\n",
              "      <th>644</th>\n",
              "      <td>NaN</td>\n",
              "      <td>Homeless</td>\n",
              "    </tr>\n",
              "    <tr>\n",
              "      <th>814</th>\n",
              "      <td>Residence</td>\n",
              "      <td>Girlfriend's Residence</td>\n",
              "    </tr>\n",
              "    <tr>\n",
              "      <th>843</th>\n",
              "      <td>Residence</td>\n",
              "      <td>friend's house</td>\n",
              "    </tr>\n",
              "    <tr>\n",
              "      <th>931</th>\n",
              "      <td>Residence</td>\n",
              "      <td>friend's house</td>\n",
              "    </tr>\n",
              "    <tr>\n",
              "      <th>1032</th>\n",
              "      <td>Residence</td>\n",
              "      <td>Brother's Home</td>\n",
              "    </tr>\n",
              "    <tr>\n",
              "      <th>1392</th>\n",
              "      <td>Residence</td>\n",
              "      <td>Stonington Motel</td>\n",
              "    </tr>\n",
              "    <tr>\n",
              "      <th>1424</th>\n",
              "      <td>Residence</td>\n",
              "      <td>mother's house</td>\n",
              "    </tr>\n",
              "    <tr>\n",
              "      <th>1461</th>\n",
              "      <td>Residence</td>\n",
              "      <td>Winfield Condominiums</td>\n",
              "    </tr>\n",
              "    <tr>\n",
              "      <th>2028</th>\n",
              "      <td>Residence</td>\n",
              "      <td>Motel 6</td>\n",
              "    </tr>\n",
              "    <tr>\n",
              "      <th>2169</th>\n",
              "      <td>Residence</td>\n",
              "      <td>Studio Six hotel</td>\n",
              "    </tr>\n",
              "    <tr>\n",
              "      <th>2330</th>\n",
              "      <td>Residence</td>\n",
              "      <td>Mother's House</td>\n",
              "    </tr>\n",
              "    <tr>\n",
              "      <th>2461</th>\n",
              "      <td>Residence</td>\n",
              "      <td>Westerleigh Housing</td>\n",
              "    </tr>\n",
              "    <tr>\n",
              "      <th>2860</th>\n",
              "      <td>Residence</td>\n",
              "      <td>Grantmoor Motel</td>\n",
              "    </tr>\n",
              "    <tr>\n",
              "      <th>2930</th>\n",
              "      <td>Residence</td>\n",
              "      <td>Friend's Residence</td>\n",
              "    </tr>\n",
              "    <tr>\n",
              "      <th>3044</th>\n",
              "      <td>Residence</td>\n",
              "      <td>Deylin Motel</td>\n",
              "    </tr>\n",
              "    <tr>\n",
              "      <th>3047</th>\n",
              "      <td>Residence</td>\n",
              "      <td>Leeway Inc</td>\n",
              "    </tr>\n",
              "    <tr>\n",
              "      <th>3343</th>\n",
              "      <td>Residence</td>\n",
              "      <td>Brother's Home</td>\n",
              "    </tr>\n",
              "    <tr>\n",
              "      <th>3427</th>\n",
              "      <td>NaN</td>\n",
              "      <td>Super 8 Cromwell</td>\n",
              "    </tr>\n",
              "    <tr>\n",
              "      <th>3447</th>\n",
              "      <td>NaN</td>\n",
              "      <td>Friend's Residence</td>\n",
              "    </tr>\n",
              "    <tr>\n",
              "      <th>3468</th>\n",
              "      <td>Residence</td>\n",
              "      <td>Sober  House</td>\n",
              "    </tr>\n",
              "    <tr>\n",
              "      <th>3646</th>\n",
              "      <td>Residence</td>\n",
              "      <td>Project More Sober Home</td>\n",
              "    </tr>\n",
              "    <tr>\n",
              "      <th>3746</th>\n",
              "      <td>Residence</td>\n",
              "      <td>Mother's Residence</td>\n",
              "    </tr>\n",
              "    <tr>\n",
              "      <th>4008</th>\n",
              "      <td>Residence</td>\n",
              "      <td>Milford Inn</td>\n",
              "    </tr>\n",
              "    <tr>\n",
              "      <th>4071</th>\n",
              "      <td>Residence</td>\n",
              "      <td>Apartment</td>\n",
              "    </tr>\n",
              "    <tr>\n",
              "      <th>4249</th>\n",
              "      <td>Residence</td>\n",
              "      <td>Friend's House</td>\n",
              "    </tr>\n",
              "    <tr>\n",
              "      <th>4358</th>\n",
              "      <td>Residence</td>\n",
              "      <td>Halfway House</td>\n",
              "    </tr>\n",
              "    <tr>\n",
              "      <th>4400</th>\n",
              "      <td>Residence</td>\n",
              "      <td>Friend's Home</td>\n",
              "    </tr>\n",
              "  </tbody>\n",
              "</table>\n",
              "</div>\n",
              "      <button class=\"colab-df-convert\" onclick=\"convertToInteractive('df-6eb3ed6a-dd50-4da2-ad81-367bd9163b55')\"\n",
              "              title=\"Convert this dataframe to an interactive table.\"\n",
              "              style=\"display:none;\">\n",
              "        \n",
              "  <svg xmlns=\"http://www.w3.org/2000/svg\" height=\"24px\"viewBox=\"0 0 24 24\"\n",
              "       width=\"24px\">\n",
              "    <path d=\"M0 0h24v24H0V0z\" fill=\"none\"/>\n",
              "    <path d=\"M18.56 5.44l.94 2.06.94-2.06 2.06-.94-2.06-.94-.94-2.06-.94 2.06-2.06.94zm-11 1L8.5 8.5l.94-2.06 2.06-.94-2.06-.94L8.5 2.5l-.94 2.06-2.06.94zm10 10l.94 2.06.94-2.06 2.06-.94-2.06-.94-.94-2.06-.94 2.06-2.06.94z\"/><path d=\"M17.41 7.96l-1.37-1.37c-.4-.4-.92-.59-1.43-.59-.52 0-1.04.2-1.43.59L10.3 9.45l-7.72 7.72c-.78.78-.78 2.05 0 2.83L4 21.41c.39.39.9.59 1.41.59.51 0 1.02-.2 1.41-.59l7.78-7.78 2.81-2.81c.8-.78.8-2.07 0-2.86zM5.41 20L4 18.59l7.72-7.72 1.47 1.35L5.41 20z\"/>\n",
              "  </svg>\n",
              "      </button>\n",
              "      \n",
              "  <style>\n",
              "    .colab-df-container {\n",
              "      display:flex;\n",
              "      flex-wrap:wrap;\n",
              "      gap: 12px;\n",
              "    }\n",
              "\n",
              "    .colab-df-convert {\n",
              "      background-color: #E8F0FE;\n",
              "      border: none;\n",
              "      border-radius: 50%;\n",
              "      cursor: pointer;\n",
              "      display: none;\n",
              "      fill: #1967D2;\n",
              "      height: 32px;\n",
              "      padding: 0 0 0 0;\n",
              "      width: 32px;\n",
              "    }\n",
              "\n",
              "    .colab-df-convert:hover {\n",
              "      background-color: #E2EBFA;\n",
              "      box-shadow: 0px 1px 2px rgba(60, 64, 67, 0.3), 0px 1px 3px 1px rgba(60, 64, 67, 0.15);\n",
              "      fill: #174EA6;\n",
              "    }\n",
              "\n",
              "    [theme=dark] .colab-df-convert {\n",
              "      background-color: #3B4455;\n",
              "      fill: #D2E3FC;\n",
              "    }\n",
              "\n",
              "    [theme=dark] .colab-df-convert:hover {\n",
              "      background-color: #434B5C;\n",
              "      box-shadow: 0px 1px 3px 1px rgba(0, 0, 0, 0.15);\n",
              "      filter: drop-shadow(0px 1px 2px rgba(0, 0, 0, 0.3));\n",
              "      fill: #FFFFFF;\n",
              "    }\n",
              "  </style>\n",
              "\n",
              "      <script>\n",
              "        const buttonEl =\n",
              "          document.querySelector('#df-6eb3ed6a-dd50-4da2-ad81-367bd9163b55 button.colab-df-convert');\n",
              "        buttonEl.style.display =\n",
              "          google.colab.kernel.accessAllowed ? 'block' : 'none';\n",
              "\n",
              "        async function convertToInteractive(key) {\n",
              "          const element = document.querySelector('#df-6eb3ed6a-dd50-4da2-ad81-367bd9163b55');\n",
              "          const dataTable =\n",
              "            await google.colab.kernel.invokeFunction('convertToInteractive',\n",
              "                                                     [key], {});\n",
              "          if (!dataTable) return;\n",
              "\n",
              "          const docLinkHtml = 'Like what you see? Visit the ' +\n",
              "            '<a target=\"_blank\" href=https://colab.research.google.com/notebooks/data_table.ipynb>data table notebook</a>'\n",
              "            + ' to learn more about interactive tables.';\n",
              "          element.innerHTML = '';\n",
              "          dataTable['output_type'] = 'display_data';\n",
              "          await google.colab.output.renderOutput(dataTable, element);\n",
              "          const docLink = document.createElement('div');\n",
              "          docLink.innerHTML = docLinkHtml;\n",
              "          element.appendChild(docLink);\n",
              "        }\n",
              "      </script>\n",
              "    </div>\n",
              "  </div>\n",
              "  "
            ],
            "text/plain": [
              "       location          locationIfOther\n",
              "118   Residence                 Basement\n",
              "138   Residence       Friend's Apartment\n",
              "630   Residence               back patio\n",
              "644         NaN                 Homeless\n",
              "814   Residence   Girlfriend's Residence\n",
              "843   Residence           friend's house\n",
              "931   Residence           friend's house\n",
              "1032  Residence           Brother's Home\n",
              "1392  Residence         Stonington Motel\n",
              "1424  Residence           mother's house\n",
              "1461  Residence    Winfield Condominiums\n",
              "2028  Residence                  Motel 6\n",
              "2169  Residence         Studio Six hotel\n",
              "2330  Residence           Mother's House\n",
              "2461  Residence      Westerleigh Housing\n",
              "2860  Residence          Grantmoor Motel\n",
              "2930  Residence       Friend's Residence\n",
              "3044  Residence             Deylin Motel\n",
              "3047  Residence               Leeway Inc\n",
              "3343  Residence           Brother's Home\n",
              "3427        NaN         Super 8 Cromwell\n",
              "3447        NaN       Friend's Residence\n",
              "3468  Residence             Sober  House\n",
              "3646  Residence  Project More Sober Home\n",
              "3746  Residence       Mother's Residence\n",
              "4008  Residence              Milford Inn\n",
              "4071  Residence                Apartment\n",
              "4249  Residence           Friend's House\n",
              "4358  Residence            Halfway House\n",
              "4400  Residence            Friend's Home"
            ]
          },
          "execution_count": 390,
          "metadata": {},
          "output_type": "execute_result"
        }
      ],
      "source": [
        "accidents_locations = accidents.loc[(accidents['location'] != 'Other') & (~accidents['locationIfOther'].isna()), ['location', 'locationIfOther']] \n",
        "accidents_locations"
      ]
    },
    {
      "cell_type": "code",
      "execution_count": null,
      "metadata": {
        "colab": {
          "base_uri": "https://localhost:8080/"
        },
        "id": "F9EOqrf2_-D2",
        "outputId": "50a5eb68-302d-4b21-fdf5-a981403c8fc4"
      },
      "outputs": [
        {
          "data": {
            "text/plain": [
              "30"
            ]
          },
          "execution_count": 391,
          "metadata": {},
          "output_type": "execute_result"
        }
      ],
      "source": [
        "accidents_locations.shape[0]"
      ]
    },
    {
      "cell_type": "markdown",
      "metadata": {
        "id": "K446QPTr_2f6"
      },
      "source": [
        "Wow, it was a very good idea I checked this. *Never trust a dataset!*\n",
        "I know I should be serious, there will be people who will see my work, but besides from NaN values for location (which are sadly just 3 cases), the only one case that is somewhat correct is this: \n",
        "\n",
        "![WhatsApp Image 2022-05-06 at 13.48.05.jpeg](data:image/jpeg;base64,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)\n",
        "\n"
      ]
    },
    {
      "cell_type": "markdown",
      "metadata": {
        "id": "s06iRF1_QRno"
      },
      "source": [
        ":))) Okay, dark humor. A homeless person doesn't have a home, right? And this makes the specific case correct :))))"
      ]
    },
    {
      "cell_type": "markdown",
      "metadata": {
        "id": "wQJySNgaRCCY"
      },
      "source": [
        "Coming back to our serious problems. So we have found that there are 770 cases of 'Other' locations, and from them, we have 560 that are correctly indicated in 'locationIfOther' column.  "
      ]
    },
    {
      "cell_type": "markdown",
      "metadata": {
        "id": "1JNZ4L12UP4j"
      },
      "source": [
        "- What about the difference of 212 (770 - 558 = 212) cases where we have 'Other' locations, but we have nothing in 'locationIfOther' column? Let's see these locations. (Keep in mind that a few cells above we saw all the \"other\" locations that have not a NaN value - a number of 560 cases). Are there cases with \"Other\" locations but NaN locationsifOther?"
      ]
    },
    {
      "cell_type": "code",
      "execution_count": null,
      "metadata": {
        "colab": {
          "base_uri": "https://localhost:8080/"
        },
        "id": "CqO5vGNV9grK",
        "outputId": "8e634147-1501-4316-db30-ac9018505894"
      },
      "outputs": [
        {
          "data": {
            "text/plain": [
              "212"
            ]
          },
          "execution_count": 392,
          "metadata": {},
          "output_type": "execute_result"
        }
      ],
      "source": [
        "accidents_other_locations = accidents.loc[(accidents['location'] == 'Other') & (accidents['locationIfOther'].isna()), ['location', 'locationIfOther']] \n",
        "accidents_other_locations.shape[0]"
      ]
    },
    {
      "cell_type": "markdown",
      "metadata": {
        "id": "hCNKgmuEVt-h"
      },
      "source": [
        "Of course there are. We have 212 cases with \"Other\" locations but NaN locationsIfOther, so we have found the answer to our last questions. "
      ]
    },
    {
      "cell_type": "markdown",
      "metadata": {
        "id": "HTwGAQmoYae7"
      },
      "source": [
        "\n",
        "\n",
        "---\n",
        "\n",
        "\n",
        "\n",
        "🥳 Having all these in our minds, for \"locationIfOther\" column we will do as follows:\n",
        "\n",
        "- For 558 cases we will transfer them to location columns. \n",
        "- For 212 cases we will not transfer the column.\n",
        "- For 30 cases we will solve the problem differently, they are specific cases.\n"
      ]
    },
    {
      "cell_type": "markdown",
      "metadata": {
        "id": "rDC_RG9cczrE"
      },
      "source": []
    },
    {
      "cell_type": "code",
      "execution_count": null,
      "metadata": {
        "id": "_qdxJwC1dR_P"
      },
      "outputs": [],
      "source": [
        "# For 558 cases we will transfer them to location columns.\n",
        "accidents.loc[(accidents['location'] == 'Other') & (~accidents['locationIfOther'].isna()), 'location'] = accidents.loc[(accidents['location'] == 'Other') & (~accidents['locationIfOther'].isna()), 'locationIfOther']"
      ]
    },
    {
      "cell_type": "code",
      "execution_count": null,
      "metadata": {
        "id": "FMSo9oz2f8qa"
      },
      "outputs": [],
      "source": [
        "assert accidents.loc[(accidents['location'] == 'Other') & (~accidents['locationIfOther'].isna()), ['location', 'locationIfOther']].shape[0] == 0"
      ]
    },
    {
      "cell_type": "code",
      "execution_count": null,
      "metadata": {
        "colab": {
          "base_uri": "https://localhost:8080/",
          "height": 990
        },
        "id": "ieLb_345hf3g",
        "outputId": "a4d9485d-6d1e-4029-ef40-618574e0f969"
      },
      "outputs": [
        {
          "data": {
            "text/html": [
              "\n",
              "  <div id=\"df-fdced441-10d4-4924-9566-d769d17b4d90\">\n",
              "    <div class=\"colab-df-container\">\n",
              "      <div>\n",
              "<style scoped>\n",
              "    .dataframe tbody tr th:only-of-type {\n",
              "        vertical-align: middle;\n",
              "    }\n",
              "\n",
              "    .dataframe tbody tr th {\n",
              "        vertical-align: top;\n",
              "    }\n",
              "\n",
              "    .dataframe thead th {\n",
              "        text-align: right;\n",
              "    }\n",
              "</style>\n",
              "<table border=\"1\" class=\"dataframe\">\n",
              "  <thead>\n",
              "    <tr style=\"text-align: right;\">\n",
              "      <th></th>\n",
              "      <th>location</th>\n",
              "      <th>locationIfOther</th>\n",
              "    </tr>\n",
              "  </thead>\n",
              "  <tbody>\n",
              "    <tr>\n",
              "      <th>118</th>\n",
              "      <td>Residence</td>\n",
              "      <td>Basement</td>\n",
              "    </tr>\n",
              "    <tr>\n",
              "      <th>138</th>\n",
              "      <td>Residence</td>\n",
              "      <td>Friend's Apartment</td>\n",
              "    </tr>\n",
              "    <tr>\n",
              "      <th>630</th>\n",
              "      <td>Residence</td>\n",
              "      <td>back patio</td>\n",
              "    </tr>\n",
              "    <tr>\n",
              "      <th>644</th>\n",
              "      <td>NaN</td>\n",
              "      <td>Homeless</td>\n",
              "    </tr>\n",
              "    <tr>\n",
              "      <th>814</th>\n",
              "      <td>Residence</td>\n",
              "      <td>Girlfriend's Residence</td>\n",
              "    </tr>\n",
              "    <tr>\n",
              "      <th>843</th>\n",
              "      <td>Residence</td>\n",
              "      <td>friend's house</td>\n",
              "    </tr>\n",
              "    <tr>\n",
              "      <th>931</th>\n",
              "      <td>Residence</td>\n",
              "      <td>friend's house</td>\n",
              "    </tr>\n",
              "    <tr>\n",
              "      <th>1032</th>\n",
              "      <td>Residence</td>\n",
              "      <td>Brother's Home</td>\n",
              "    </tr>\n",
              "    <tr>\n",
              "      <th>1392</th>\n",
              "      <td>Residence</td>\n",
              "      <td>Stonington Motel</td>\n",
              "    </tr>\n",
              "    <tr>\n",
              "      <th>1424</th>\n",
              "      <td>Residence</td>\n",
              "      <td>mother's house</td>\n",
              "    </tr>\n",
              "    <tr>\n",
              "      <th>1461</th>\n",
              "      <td>Residence</td>\n",
              "      <td>Winfield Condominiums</td>\n",
              "    </tr>\n",
              "    <tr>\n",
              "      <th>2028</th>\n",
              "      <td>Residence</td>\n",
              "      <td>Motel 6</td>\n",
              "    </tr>\n",
              "    <tr>\n",
              "      <th>2169</th>\n",
              "      <td>Residence</td>\n",
              "      <td>Studio Six hotel</td>\n",
              "    </tr>\n",
              "    <tr>\n",
              "      <th>2330</th>\n",
              "      <td>Residence</td>\n",
              "      <td>Mother's House</td>\n",
              "    </tr>\n",
              "    <tr>\n",
              "      <th>2461</th>\n",
              "      <td>Residence</td>\n",
              "      <td>Westerleigh Housing</td>\n",
              "    </tr>\n",
              "    <tr>\n",
              "      <th>2860</th>\n",
              "      <td>Residence</td>\n",
              "      <td>Grantmoor Motel</td>\n",
              "    </tr>\n",
              "    <tr>\n",
              "      <th>2930</th>\n",
              "      <td>Residence</td>\n",
              "      <td>Friend's Residence</td>\n",
              "    </tr>\n",
              "    <tr>\n",
              "      <th>3044</th>\n",
              "      <td>Residence</td>\n",
              "      <td>Deylin Motel</td>\n",
              "    </tr>\n",
              "    <tr>\n",
              "      <th>3047</th>\n",
              "      <td>Residence</td>\n",
              "      <td>Leeway Inc</td>\n",
              "    </tr>\n",
              "    <tr>\n",
              "      <th>3343</th>\n",
              "      <td>Residence</td>\n",
              "      <td>Brother's Home</td>\n",
              "    </tr>\n",
              "    <tr>\n",
              "      <th>3427</th>\n",
              "      <td>NaN</td>\n",
              "      <td>Super 8 Cromwell</td>\n",
              "    </tr>\n",
              "    <tr>\n",
              "      <th>3447</th>\n",
              "      <td>NaN</td>\n",
              "      <td>Friend's Residence</td>\n",
              "    </tr>\n",
              "    <tr>\n",
              "      <th>3468</th>\n",
              "      <td>Residence</td>\n",
              "      <td>Sober  House</td>\n",
              "    </tr>\n",
              "    <tr>\n",
              "      <th>3646</th>\n",
              "      <td>Residence</td>\n",
              "      <td>Project More Sober Home</td>\n",
              "    </tr>\n",
              "    <tr>\n",
              "      <th>3746</th>\n",
              "      <td>Residence</td>\n",
              "      <td>Mother's Residence</td>\n",
              "    </tr>\n",
              "    <tr>\n",
              "      <th>4008</th>\n",
              "      <td>Residence</td>\n",
              "      <td>Milford Inn</td>\n",
              "    </tr>\n",
              "    <tr>\n",
              "      <th>4071</th>\n",
              "      <td>Residence</td>\n",
              "      <td>Apartment</td>\n",
              "    </tr>\n",
              "    <tr>\n",
              "      <th>4249</th>\n",
              "      <td>Residence</td>\n",
              "      <td>Friend's House</td>\n",
              "    </tr>\n",
              "    <tr>\n",
              "      <th>4358</th>\n",
              "      <td>Residence</td>\n",
              "      <td>Halfway House</td>\n",
              "    </tr>\n",
              "    <tr>\n",
              "      <th>4400</th>\n",
              "      <td>Residence</td>\n",
              "      <td>Friend's Home</td>\n",
              "    </tr>\n",
              "  </tbody>\n",
              "</table>\n",
              "</div>\n",
              "      <button class=\"colab-df-convert\" onclick=\"convertToInteractive('df-fdced441-10d4-4924-9566-d769d17b4d90')\"\n",
              "              title=\"Convert this dataframe to an interactive table.\"\n",
              "              style=\"display:none;\">\n",
              "        \n",
              "  <svg xmlns=\"http://www.w3.org/2000/svg\" height=\"24px\"viewBox=\"0 0 24 24\"\n",
              "       width=\"24px\">\n",
              "    <path d=\"M0 0h24v24H0V0z\" fill=\"none\"/>\n",
              "    <path d=\"M18.56 5.44l.94 2.06.94-2.06 2.06-.94-2.06-.94-.94-2.06-.94 2.06-2.06.94zm-11 1L8.5 8.5l.94-2.06 2.06-.94-2.06-.94L8.5 2.5l-.94 2.06-2.06.94zm10 10l.94 2.06.94-2.06 2.06-.94-2.06-.94-.94-2.06-.94 2.06-2.06.94z\"/><path d=\"M17.41 7.96l-1.37-1.37c-.4-.4-.92-.59-1.43-.59-.52 0-1.04.2-1.43.59L10.3 9.45l-7.72 7.72c-.78.78-.78 2.05 0 2.83L4 21.41c.39.39.9.59 1.41.59.51 0 1.02-.2 1.41-.59l7.78-7.78 2.81-2.81c.8-.78.8-2.07 0-2.86zM5.41 20L4 18.59l7.72-7.72 1.47 1.35L5.41 20z\"/>\n",
              "  </svg>\n",
              "      </button>\n",
              "      \n",
              "  <style>\n",
              "    .colab-df-container {\n",
              "      display:flex;\n",
              "      flex-wrap:wrap;\n",
              "      gap: 12px;\n",
              "    }\n",
              "\n",
              "    .colab-df-convert {\n",
              "      background-color: #E8F0FE;\n",
              "      border: none;\n",
              "      border-radius: 50%;\n",
              "      cursor: pointer;\n",
              "      display: none;\n",
              "      fill: #1967D2;\n",
              "      height: 32px;\n",
              "      padding: 0 0 0 0;\n",
              "      width: 32px;\n",
              "    }\n",
              "\n",
              "    .colab-df-convert:hover {\n",
              "      background-color: #E2EBFA;\n",
              "      box-shadow: 0px 1px 2px rgba(60, 64, 67, 0.3), 0px 1px 3px 1px rgba(60, 64, 67, 0.15);\n",
              "      fill: #174EA6;\n",
              "    }\n",
              "\n",
              "    [theme=dark] .colab-df-convert {\n",
              "      background-color: #3B4455;\n",
              "      fill: #D2E3FC;\n",
              "    }\n",
              "\n",
              "    [theme=dark] .colab-df-convert:hover {\n",
              "      background-color: #434B5C;\n",
              "      box-shadow: 0px 1px 3px 1px rgba(0, 0, 0, 0.15);\n",
              "      filter: drop-shadow(0px 1px 2px rgba(0, 0, 0, 0.3));\n",
              "      fill: #FFFFFF;\n",
              "    }\n",
              "  </style>\n",
              "\n",
              "      <script>\n",
              "        const buttonEl =\n",
              "          document.querySelector('#df-fdced441-10d4-4924-9566-d769d17b4d90 button.colab-df-convert');\n",
              "        buttonEl.style.display =\n",
              "          google.colab.kernel.accessAllowed ? 'block' : 'none';\n",
              "\n",
              "        async function convertToInteractive(key) {\n",
              "          const element = document.querySelector('#df-fdced441-10d4-4924-9566-d769d17b4d90');\n",
              "          const dataTable =\n",
              "            await google.colab.kernel.invokeFunction('convertToInteractive',\n",
              "                                                     [key], {});\n",
              "          if (!dataTable) return;\n",
              "\n",
              "          const docLinkHtml = 'Like what you see? Visit the ' +\n",
              "            '<a target=\"_blank\" href=https://colab.research.google.com/notebooks/data_table.ipynb>data table notebook</a>'\n",
              "            + ' to learn more about interactive tables.';\n",
              "          element.innerHTML = '';\n",
              "          dataTable['output_type'] = 'display_data';\n",
              "          await google.colab.output.renderOutput(dataTable, element);\n",
              "          const docLink = document.createElement('div');\n",
              "          docLink.innerHTML = docLinkHtml;\n",
              "          element.appendChild(docLink);\n",
              "        }\n",
              "      </script>\n",
              "    </div>\n",
              "  </div>\n",
              "  "
            ],
            "text/plain": [
              "       location          locationIfOther\n",
              "118   Residence                 Basement\n",
              "138   Residence       Friend's Apartment\n",
              "630   Residence               back patio\n",
              "644         NaN                 Homeless\n",
              "814   Residence   Girlfriend's Residence\n",
              "843   Residence           friend's house\n",
              "931   Residence           friend's house\n",
              "1032  Residence           Brother's Home\n",
              "1392  Residence         Stonington Motel\n",
              "1424  Residence           mother's house\n",
              "1461  Residence    Winfield Condominiums\n",
              "2028  Residence                  Motel 6\n",
              "2169  Residence         Studio Six hotel\n",
              "2330  Residence           Mother's House\n",
              "2461  Residence      Westerleigh Housing\n",
              "2860  Residence          Grantmoor Motel\n",
              "2930  Residence       Friend's Residence\n",
              "3044  Residence             Deylin Motel\n",
              "3047  Residence               Leeway Inc\n",
              "3343  Residence           Brother's Home\n",
              "3427        NaN         Super 8 Cromwell\n",
              "3447        NaN       Friend's Residence\n",
              "3468  Residence             Sober  House\n",
              "3646  Residence  Project More Sober Home\n",
              "3746  Residence       Mother's Residence\n",
              "4008  Residence              Milford Inn\n",
              "4071  Residence                Apartment\n",
              "4249  Residence           Friend's House\n",
              "4358  Residence            Halfway House\n",
              "4400  Residence            Friend's Home"
            ]
          },
          "execution_count": 395,
          "metadata": {},
          "output_type": "execute_result"
        }
      ],
      "source": [
        "# For 30 cases we will solve the problem differently, they are specific cases.\n",
        "accidents_locations"
      ]
    },
    {
      "cell_type": "markdown",
      "metadata": {
        "id": "zACTk6m9iYS9"
      },
      "source": [
        "For these 30 cases:\n",
        " \n",
        " For accidents['locations'] = NaN values and the other cases, we will asumme that locationIfOther is more accurate that location. So we will transfer accidents['locationIfOther'] to accidents['locations']"
      ]
    },
    {
      "cell_type": "code",
      "execution_count": null,
      "metadata": {
        "id": "qOySzwKbh2fj"
      },
      "outputs": [],
      "source": [
        "accidents.loc[(accidents['location'] != 'Other') & (~accidents['locationIfOther'].isna()), 'location'] = accidents.loc[(accidents['location'] != 'Other') & (~accidents['locationIfOther'].isna()), 'locationIfOther']"
      ]
    },
    {
      "cell_type": "code",
      "execution_count": null,
      "metadata": {
        "id": "g9lFqcU9jeYU"
      },
      "outputs": [],
      "source": [
        "# 558 + these 30 cases solved = 588\n",
        "assert accidents.loc[(accidents['location'] != 'Other') & (~accidents['locationIfOther'].isna()), ['location', 'locationIfOther']].shape[0] == 588"
      ]
    },
    {
      "cell_type": "markdown",
      "metadata": {
        "id": "IhD2fneunrE9"
      },
      "source": [
        "For the Homeless guy, we will set the location to Unknown:"
      ]
    },
    {
      "cell_type": "code",
      "execution_count": null,
      "metadata": {
        "id": "H1iJ2VrljnVh"
      },
      "outputs": [],
      "source": [
        "accidents[accidents['location'] == 'Homeless'] = 'Unknown'"
      ]
    },
    {
      "cell_type": "code",
      "execution_count": null,
      "metadata": {
        "id": "k1zy4_eIkuds"
      },
      "outputs": [],
      "source": [
        "assert accidents[accidents['location'] == 'Homeless'].shape[0] == 0"
      ]
    },
    {
      "cell_type": "markdown",
      "metadata": {
        "id": "3JUY2PRWlKSM"
      },
      "source": [
        "In our study of this dataset, location column has some NaN values. We eliminate some until now, let's see what we have now:"
      ]
    },
    {
      "cell_type": "code",
      "execution_count": null,
      "metadata": {
        "colab": {
          "base_uri": "https://localhost:8080/"
        },
        "id": "2nFv0Xvak--5",
        "outputId": "89dcb59b-c505-44e9-a6cd-0e9ac0426943"
      },
      "outputs": [
        {
          "data": {
            "text/plain": [
              "17"
            ]
          },
          "execution_count": 400,
          "metadata": {},
          "output_type": "execute_result"
        }
      ],
      "source": [
        "accidents['location'].isna().sum()"
      ]
    },
    {
      "cell_type": "markdown",
      "metadata": {
        "id": "KviZmO70nHUH"
      },
      "source": [
        "We will set them to 'Unknown'."
      ]
    },
    {
      "cell_type": "code",
      "execution_count": null,
      "metadata": {
        "id": "WJO2yviZnG_7"
      },
      "outputs": [],
      "source": [
        "accidents.loc[accidents['location'].isna(), 'location'] = 'Unknown'"
      ]
    },
    {
      "cell_type": "code",
      "execution_count": null,
      "metadata": {
        "id": "eXsX8yqlmTkw"
      },
      "outputs": [],
      "source": [
        "# 18 of Unknown locations, 17 + the homeless guy :)\n",
        "assert accidents[accidents['location']== 'Unknown'].shape[0] == 18"
      ]
    },
    {
      "cell_type": "code",
      "execution_count": null,
      "metadata": {
        "colab": {
          "base_uri": "https://localhost:8080/",
          "height": 49
        },
        "id": "2ip96JjHwb2t",
        "outputId": "4c9bae0b-9803-4a4f-e774-06177c3fbc33"
      },
      "outputs": [
        {
          "data": {
            "text/html": [
              "\n",
              "  <div id=\"df-bc194019-0c0d-452a-916c-3373deaf4dd9\">\n",
              "    <div class=\"colab-df-container\">\n",
              "      <div>\n",
              "<style scoped>\n",
              "    .dataframe tbody tr th:only-of-type {\n",
              "        vertical-align: middle;\n",
              "    }\n",
              "\n",
              "    .dataframe tbody tr th {\n",
              "        vertical-align: top;\n",
              "    }\n",
              "\n",
              "    .dataframe thead th {\n",
              "        text-align: right;\n",
              "    }\n",
              "</style>\n",
              "<table border=\"1\" class=\"dataframe\">\n",
              "  <thead>\n",
              "    <tr style=\"text-align: right;\">\n",
              "      <th></th>\n",
              "      <th>location</th>\n",
              "      <th>locationIfOther</th>\n",
              "    </tr>\n",
              "  </thead>\n",
              "  <tbody>\n",
              "  </tbody>\n",
              "</table>\n",
              "</div>\n",
              "      <button class=\"colab-df-convert\" onclick=\"convertToInteractive('df-bc194019-0c0d-452a-916c-3373deaf4dd9')\"\n",
              "              title=\"Convert this dataframe to an interactive table.\"\n",
              "              style=\"display:none;\">\n",
              "        \n",
              "  <svg xmlns=\"http://www.w3.org/2000/svg\" height=\"24px\"viewBox=\"0 0 24 24\"\n",
              "       width=\"24px\">\n",
              "    <path d=\"M0 0h24v24H0V0z\" fill=\"none\"/>\n",
              "    <path d=\"M18.56 5.44l.94 2.06.94-2.06 2.06-.94-2.06-.94-.94-2.06-.94 2.06-2.06.94zm-11 1L8.5 8.5l.94-2.06 2.06-.94-2.06-.94L8.5 2.5l-.94 2.06-2.06.94zm10 10l.94 2.06.94-2.06 2.06-.94-2.06-.94-.94-2.06-.94 2.06-2.06.94z\"/><path d=\"M17.41 7.96l-1.37-1.37c-.4-.4-.92-.59-1.43-.59-.52 0-1.04.2-1.43.59L10.3 9.45l-7.72 7.72c-.78.78-.78 2.05 0 2.83L4 21.41c.39.39.9.59 1.41.59.51 0 1.02-.2 1.41-.59l7.78-7.78 2.81-2.81c.8-.78.8-2.07 0-2.86zM5.41 20L4 18.59l7.72-7.72 1.47 1.35L5.41 20z\"/>\n",
              "  </svg>\n",
              "      </button>\n",
              "      \n",
              "  <style>\n",
              "    .colab-df-container {\n",
              "      display:flex;\n",
              "      flex-wrap:wrap;\n",
              "      gap: 12px;\n",
              "    }\n",
              "\n",
              "    .colab-df-convert {\n",
              "      background-color: #E8F0FE;\n",
              "      border: none;\n",
              "      border-radius: 50%;\n",
              "      cursor: pointer;\n",
              "      display: none;\n",
              "      fill: #1967D2;\n",
              "      height: 32px;\n",
              "      padding: 0 0 0 0;\n",
              "      width: 32px;\n",
              "    }\n",
              "\n",
              "    .colab-df-convert:hover {\n",
              "      background-color: #E2EBFA;\n",
              "      box-shadow: 0px 1px 2px rgba(60, 64, 67, 0.3), 0px 1px 3px 1px rgba(60, 64, 67, 0.15);\n",
              "      fill: #174EA6;\n",
              "    }\n",
              "\n",
              "    [theme=dark] .colab-df-convert {\n",
              "      background-color: #3B4455;\n",
              "      fill: #D2E3FC;\n",
              "    }\n",
              "\n",
              "    [theme=dark] .colab-df-convert:hover {\n",
              "      background-color: #434B5C;\n",
              "      box-shadow: 0px 1px 3px 1px rgba(0, 0, 0, 0.15);\n",
              "      filter: drop-shadow(0px 1px 2px rgba(0, 0, 0, 0.3));\n",
              "      fill: #FFFFFF;\n",
              "    }\n",
              "  </style>\n",
              "\n",
              "      <script>\n",
              "        const buttonEl =\n",
              "          document.querySelector('#df-bc194019-0c0d-452a-916c-3373deaf4dd9 button.colab-df-convert');\n",
              "        buttonEl.style.display =\n",
              "          google.colab.kernel.accessAllowed ? 'block' : 'none';\n",
              "\n",
              "        async function convertToInteractive(key) {\n",
              "          const element = document.querySelector('#df-bc194019-0c0d-452a-916c-3373deaf4dd9');\n",
              "          const dataTable =\n",
              "            await google.colab.kernel.invokeFunction('convertToInteractive',\n",
              "                                                     [key], {});\n",
              "          if (!dataTable) return;\n",
              "\n",
              "          const docLinkHtml = 'Like what you see? Visit the ' +\n",
              "            '<a target=\"_blank\" href=https://colab.research.google.com/notebooks/data_table.ipynb>data table notebook</a>'\n",
              "            + ' to learn more about interactive tables.';\n",
              "          element.innerHTML = '';\n",
              "          dataTable['output_type'] = 'display_data';\n",
              "          await google.colab.output.renderOutput(dataTable, element);\n",
              "          const docLink = document.createElement('div');\n",
              "          docLink.innerHTML = docLinkHtml;\n",
              "          element.appendChild(docLink);\n",
              "        }\n",
              "      </script>\n",
              "    </div>\n",
              "  </div>\n",
              "  "
            ],
            "text/plain": [
              "Empty DataFrame\n",
              "Columns: [location, locationIfOther]\n",
              "Index: []"
            ]
          },
          "execution_count": 403,
          "metadata": {},
          "output_type": "execute_result"
        }
      ],
      "source": [
        "accidents.loc[(accidents['location'] == 'Other') & (~accidents['locationIfOther'].isna()), ['location', 'locationIfOther']]"
      ]
    },
    {
      "cell_type": "markdown",
      "metadata": {
        "id": "GeMfaftsn98W"
      },
      "source": [
        "Delete the locationIfOther column:"
      ]
    },
    {
      "cell_type": "code",
      "execution_count": null,
      "metadata": {
        "id": "EtkpV1yymu7u"
      },
      "outputs": [],
      "source": [
        "accidents.drop('locationIfOther', axis=1, inplace=True)"
      ]
    },
    {
      "cell_type": "code",
      "execution_count": null,
      "metadata": {
        "colab": {
          "base_uri": "https://localhost:8080/"
        },
        "id": "FRoUL0ymn5fA",
        "outputId": "baaedf6e-2cc3-48e7-e4d8-ba0f86045f8f"
      },
      "outputs": [
        {
          "data": {
            "text/plain": [
              "Index(['id', 'date', 'dateType', 'age', 'sex', 'race', 'residenceCity',\n",
              "       'residenceCounty', 'residenceState', 'deathCity', 'deathCounty',\n",
              "       'location', 'descriptionOfInjury', 'injuryPlace', 'injuryCity',\n",
              "       'injuryCounty', 'injuryState', 'COD', 'otherSignificantCOD', 'heroin',\n",
              "       'cocaine', 'fentanyl', 'fentanylAnalogue', 'oxycodone', 'oxymorphone',\n",
              "       'ethanol', 'hydrocodone', 'benzodiazepine', 'methadone', 'amphet',\n",
              "       'tramad', 'morphine_NotHeroin', 'hydromorphone', 'otherSubstance',\n",
              "       'opiateNOS', 'anyOpioid', 'mannerOfDeath', 'deathCityGeo',\n",
              "       'residenceCityGeo', 'injuryCityGeo'],\n",
              "      dtype='object')"
            ]
          },
          "execution_count": 405,
          "metadata": {},
          "output_type": "execute_result"
        }
      ],
      "source": [
        "accidents.columns"
      ]
    },
    {
      "cell_type": "code",
      "execution_count": null,
      "metadata": {
        "id": "yd_zSpEFoQqn"
      },
      "outputs": [],
      "source": [
        "accidents_copy = accidents"
      ]
    },
    {
      "cell_type": "code",
      "execution_count": null,
      "metadata": {
        "colab": {
          "base_uri": "https://localhost:8080/",
          "height": 567
        },
        "id": "Bo1Y6fnmp61H",
        "outputId": "978c74df-4ac2-456f-8327-5224bf024f9d"
      },
      "outputs": [
        {
          "data": {
            "image/png": "[encoded data removed]",
            "text/plain": [
              "<Figure size 1800x720 with 2 Axes>"
            ]
          },
          "metadata": {},
          "output_type": "display_data"
        }
      ],
      "source": [
        "msno.matrix(accidents_copy)\n",
        "plt.show()"
      ]
    },
    {
      "cell_type": "markdown",
      "metadata": {
        "id": "7X5j7yC2qWsM"
      },
      "source": [
        "## 👉🏻 *otherSignificantCOD* column"
      ]
    },
    {
      "cell_type": "code",
      "execution_count": null,
      "metadata": {
        "colab": {
          "base_uri": "https://localhost:8080/"
        },
        "id": "53HqKgxDqAHG",
        "outputId": "c0a55522-635b-4e81-f7dd-36144216b4a6"
      },
      "outputs": [
        {
          "data": {
            "text/plain": [
              "0"
            ]
          },
          "execution_count": 414,
          "metadata": {},
          "output_type": "execute_result"
        }
      ],
      "source": [
        "accidents.isna().sum()['otherSignificantCOD']"
      ]
    },
    {
      "cell_type": "code",
      "execution_count": null,
      "metadata": {
        "colab": {
          "base_uri": "https://localhost:8080/"
        },
        "id": "vBKnWjvErEna",
        "outputId": "3adb18cf-b247-4f4d-a74b-363c74477114"
      },
      "outputs": [
        {
          "data": {
            "text/plain": [
              "5088"
            ]
          },
          "execution_count": 415,
          "metadata": {},
          "output_type": "execute_result"
        }
      ],
      "source": [
        "accidents.shape[0]"
      ]
    },
    {
      "cell_type": "markdown",
      "metadata": {
        "id": "5FWh7PYurTWC"
      },
      "source": [
        "We have just 169 non NaN values for this column. Great, let's see what these values look like, taking into account \"COD\" and \"otherSignificantCOD\" columns are there any duplicates?"
      ]
    },
    {
      "cell_type": "code",
      "execution_count": null,
      "metadata": {
        "colab": {
          "base_uri": "https://localhost:8080/",
          "height": 424
        },
        "id": "WCnz51hVrOs6",
        "outputId": "3ca87bc7-2918-433c-a4b5-bb85dc011ffb"
      },
      "outputs": [
        {
          "data": {
            "text/html": [
              "\n",
              "  <div id=\"df-867826da-889f-4e5f-ae18-1234cc70ce37\">\n",
              "    <div class=\"colab-df-container\">\n",
              "      <div>\n",
              "<style scoped>\n",
              "    .dataframe tbody tr th:only-of-type {\n",
              "        vertical-align: middle;\n",
              "    }\n",
              "\n",
              "    .dataframe tbody tr th {\n",
              "        vertical-align: top;\n",
              "    }\n",
              "\n",
              "    .dataframe thead th {\n",
              "        text-align: right;\n",
              "    }\n",
              "</style>\n",
              "<table border=\"1\" class=\"dataframe\">\n",
              "  <thead>\n",
              "    <tr style=\"text-align: right;\">\n",
              "      <th></th>\n",
              "      <th>COD</th>\n",
              "      <th>otherSignificantCOD</th>\n",
              "    </tr>\n",
              "  </thead>\n",
              "  <tbody>\n",
              "    <tr>\n",
              "      <th>1</th>\n",
              "      <td>Cocaine Intoxication</td>\n",
              "      <td>No</td>\n",
              "    </tr>\n",
              "    <tr>\n",
              "      <th>2</th>\n",
              "      <td>Acute Heroin and Cocaine Intoxication</td>\n",
              "      <td>No</td>\n",
              "    </tr>\n",
              "    <tr>\n",
              "      <th>3</th>\n",
              "      <td>Acute Fentanyl and Morphine Intoxication</td>\n",
              "      <td>No</td>\n",
              "    </tr>\n",
              "    <tr>\n",
              "      <th>4</th>\n",
              "      <td>Fentanyl Intoxication</td>\n",
              "      <td>No</td>\n",
              "    </tr>\n",
              "    <tr>\n",
              "      <th>5</th>\n",
              "      <td>Heroin Intoxication</td>\n",
              "      <td>No</td>\n",
              "    </tr>\n",
              "    <tr>\n",
              "      <th>...</th>\n",
              "      <td>...</td>\n",
              "      <td>...</td>\n",
              "    </tr>\n",
              "    <tr>\n",
              "      <th>5100</th>\n",
              "      <td>Acute Intoxication due to the Combined Effects...</td>\n",
              "      <td>No</td>\n",
              "    </tr>\n",
              "    <tr>\n",
              "      <th>5101</th>\n",
              "      <td>Multidrug Toxicity Including Heroin, Alprazola...</td>\n",
              "      <td>No</td>\n",
              "    </tr>\n",
              "    <tr>\n",
              "      <th>5102</th>\n",
              "      <td>Multidrug Toxicity Including Heroin, Fentanyl,...</td>\n",
              "      <td>No</td>\n",
              "    </tr>\n",
              "    <tr>\n",
              "      <th>5103</th>\n",
              "      <td>Acute Fentanyl intoxication</td>\n",
              "      <td>Cardiac hypertrophy</td>\n",
              "    </tr>\n",
              "    <tr>\n",
              "      <th>5104</th>\n",
              "      <td>Acute Heroin Intoxication</td>\n",
              "      <td>No</td>\n",
              "    </tr>\n",
              "  </tbody>\n",
              "</table>\n",
              "<p>5088 rows × 2 columns</p>\n",
              "</div>\n",
              "      <button class=\"colab-df-convert\" onclick=\"convertToInteractive('df-867826da-889f-4e5f-ae18-1234cc70ce37')\"\n",
              "              title=\"Convert this dataframe to an interactive table.\"\n",
              "              style=\"display:none;\">\n",
              "        \n",
              "  <svg xmlns=\"http://www.w3.org/2000/svg\" height=\"24px\"viewBox=\"0 0 24 24\"\n",
              "       width=\"24px\">\n",
              "    <path d=\"M0 0h24v24H0V0z\" fill=\"none\"/>\n",
              "    <path d=\"M18.56 5.44l.94 2.06.94-2.06 2.06-.94-2.06-.94-.94-2.06-.94 2.06-2.06.94zm-11 1L8.5 8.5l.94-2.06 2.06-.94-2.06-.94L8.5 2.5l-.94 2.06-2.06.94zm10 10l.94 2.06.94-2.06 2.06-.94-2.06-.94-.94-2.06-.94 2.06-2.06.94z\"/><path d=\"M17.41 7.96l-1.37-1.37c-.4-.4-.92-.59-1.43-.59-.52 0-1.04.2-1.43.59L10.3 9.45l-7.72 7.72c-.78.78-.78 2.05 0 2.83L4 21.41c.39.39.9.59 1.41.59.51 0 1.02-.2 1.41-.59l7.78-7.78 2.81-2.81c.8-.78.8-2.07 0-2.86zM5.41 20L4 18.59l7.72-7.72 1.47 1.35L5.41 20z\"/>\n",
              "  </svg>\n",
              "      </button>\n",
              "      \n",
              "  <style>\n",
              "    .colab-df-container {\n",
              "      display:flex;\n",
              "      flex-wrap:wrap;\n",
              "      gap: 12px;\n",
              "    }\n",
              "\n",
              "    .colab-df-convert {\n",
              "      background-color: #E8F0FE;\n",
              "      border: none;\n",
              "      border-radius: 50%;\n",
              "      cursor: pointer;\n",
              "      display: none;\n",
              "      fill: #1967D2;\n",
              "      height: 32px;\n",
              "      padding: 0 0 0 0;\n",
              "      width: 32px;\n",
              "    }\n",
              "\n",
              "    .colab-df-convert:hover {\n",
              "      background-color: #E2EBFA;\n",
              "      box-shadow: 0px 1px 2px rgba(60, 64, 67, 0.3), 0px 1px 3px 1px rgba(60, 64, 67, 0.15);\n",
              "      fill: #174EA6;\n",
              "    }\n",
              "\n",
              "    [theme=dark] .colab-df-convert {\n",
              "      background-color: #3B4455;\n",
              "      fill: #D2E3FC;\n",
              "    }\n",
              "\n",
              "    [theme=dark] .colab-df-convert:hover {\n",
              "      background-color: #434B5C;\n",
              "      box-shadow: 0px 1px 3px 1px rgba(0, 0, 0, 0.15);\n",
              "      filter: drop-shadow(0px 1px 2px rgba(0, 0, 0, 0.3));\n",
              "      fill: #FFFFFF;\n",
              "    }\n",
              "  </style>\n",
              "\n",
              "      <script>\n",
              "        const buttonEl =\n",
              "          document.querySelector('#df-867826da-889f-4e5f-ae18-1234cc70ce37 button.colab-df-convert');\n",
              "        buttonEl.style.display =\n",
              "          google.colab.kernel.accessAllowed ? 'block' : 'none';\n",
              "\n",
              "        async function convertToInteractive(key) {\n",
              "          const element = document.querySelector('#df-867826da-889f-4e5f-ae18-1234cc70ce37');\n",
              "          const dataTable =\n",
              "            await google.colab.kernel.invokeFunction('convertToInteractive',\n",
              "                                                     [key], {});\n",
              "          if (!dataTable) return;\n",
              "\n",
              "          const docLinkHtml = 'Like what you see? Visit the ' +\n",
              "            '<a target=\"_blank\" href=https://colab.research.google.com/notebooks/data_table.ipynb>data table notebook</a>'\n",
              "            + ' to learn more about interactive tables.';\n",
              "          element.innerHTML = '';\n",
              "          dataTable['output_type'] = 'display_data';\n",
              "          await google.colab.output.renderOutput(dataTable, element);\n",
              "          const docLink = document.createElement('div');\n",
              "          docLink.innerHTML = docLinkHtml;\n",
              "          element.appendChild(docLink);\n",
              "        }\n",
              "      </script>\n",
              "    </div>\n",
              "  </div>\n",
              "  "
            ],
            "text/plain": [
              "                                                    COD  otherSignificantCOD\n",
              "1                                  Cocaine Intoxication                   No\n",
              "2                 Acute Heroin and Cocaine Intoxication                   No\n",
              "3              Acute Fentanyl and Morphine Intoxication                   No\n",
              "4                                 Fentanyl Intoxication                   No\n",
              "5                                   Heroin Intoxication                   No\n",
              "...                                                 ...                  ...\n",
              "5100  Acute Intoxication due to the Combined Effects...                   No\n",
              "5101  Multidrug Toxicity Including Heroin, Alprazola...                   No\n",
              "5102  Multidrug Toxicity Including Heroin, Fentanyl,...                   No\n",
              "5103                        Acute Fentanyl intoxication  Cardiac hypertrophy\n",
              "5104                          Acute Heroin Intoxication                   No\n",
              "\n",
              "[5088 rows x 2 columns]"
            ]
          },
          "execution_count": 416,
          "metadata": {},
          "output_type": "execute_result"
        }
      ],
      "source": [
        "accidents.loc[~accidents['otherSignificantCOD'].isna(), ['COD','otherSignificantCOD']]"
      ]
    },
    {
      "cell_type": "markdown",
      "metadata": {
        "id": "6jLMN4XZu4hC"
      },
      "source": [
        "We have studied the 169 rows and there are no duplicates. These people really had serious problems. :("
      ]
    },
    {
      "cell_type": "markdown",
      "metadata": {
        "id": "bwwvCzSEvH2Q"
      },
      "source": [
        "What we have to do is simple. In hope this column will help us in our analysis in the future, we will transform the NaN values to 'No' values:"
      ]
    },
    {
      "cell_type": "code",
      "execution_count": null,
      "metadata": {
        "id": "Y38jthW3rn3i"
      },
      "outputs": [],
      "source": [
        "accidents['otherSignificantCOD'] = accidents['otherSignificantCOD'].fillna('No')"
      ]
    },
    {
      "cell_type": "code",
      "execution_count": null,
      "metadata": {
        "id": "wgnfC-MNvugo"
      },
      "outputs": [],
      "source": [
        "assert accidents[accidents['otherSignificantCOD'].isna()].shape[0] == 0"
      ]
    },
    {
      "cell_type": "code",
      "execution_count": null,
      "metadata": {
        "colab": {
          "base_uri": "https://localhost:8080/"
        },
        "id": "WsZbox0GC_eJ",
        "outputId": "30c296e7-2a0c-46cc-e6f2-a0f763bc6ade"
      },
      "outputs": [
        {
          "data": {
            "text/plain": [
              "1                        No\n",
              "2                        No\n",
              "3                        No\n",
              "4                        No\n",
              "5                        No\n",
              "               ...         \n",
              "5100                     No\n",
              "5101                     No\n",
              "5102                     No\n",
              "5103    Cardiac hypertrophy\n",
              "5104                     No\n",
              "Name: otherSignificantCOD, Length: 5088, dtype: object"
            ]
          },
          "execution_count": 419,
          "metadata": {},
          "output_type": "execute_result"
        }
      ],
      "source": [
        "accidents['otherSignificantCOD']"
      ]
    },
    {
      "cell_type": "markdown",
      "metadata": {
        "id": "g6BeeFwFz3Bl"
      },
      "source": [
        "## 👉🏻 *otherSubstance* column"
      ]
    },
    {
      "cell_type": "code",
      "execution_count": null,
      "metadata": {
        "colab": {
          "base_uri": "https://localhost:8080/"
        },
        "id": "KLQvW_pkvxg6",
        "outputId": "271b8561-1c13-41b9-c812-9a34ac4029ad"
      },
      "outputs": [
        {
          "data": {
            "text/plain": [
              "4655"
            ]
          },
          "execution_count": 420,
          "metadata": {},
          "output_type": "execute_result"
        }
      ],
      "source": [
        "accidents.isna().sum()['otherSubstance']"
      ]
    },
    {
      "cell_type": "markdown",
      "metadata": {
        "id": "7TxGavpwB67v"
      },
      "source": [
        "From 5088 accidents, there are just 5088 - 4655 = 433 accidents with otherSUbstance column not NaN. We can simply fill NaN values with \"No\"."
      ]
    },
    {
      "cell_type": "code",
      "execution_count": null,
      "metadata": {
        "id": "N3FpShwl_p7y"
      },
      "outputs": [],
      "source": [
        "accidents['otherSubstance'] = accidents['otherSubstance'].fillna('No')"
      ]
    },
    {
      "cell_type": "code",
      "execution_count": null,
      "metadata": {
        "id": "UZO68GVGBc3X"
      },
      "outputs": [],
      "source": [
        "assert accidents[accidents['otherSubstance'].isna()].shape[0] == 0"
      ]
    },
    {
      "cell_type": "code",
      "execution_count": null,
      "metadata": {
        "colab": {
          "base_uri": "https://localhost:8080/",
          "height": 567
        },
        "id": "WadU199EDku7",
        "outputId": "5b3e0cb1-6106-4728-adf9-2857fbb22d82"
      },
      "outputs": [
        {
          "data": {
            "image/png": "[encoded data removed]",
            "text/plain": [
              "<Figure size 1800x720 with 2 Axes>"
            ]
          },
          "metadata": {},
          "output_type": "display_data"
        }
      ],
      "source": [
        "msno.matrix(accidents_copy)\n",
        "plt.show()"
      ]
    },
    {
      "cell_type": "markdown",
      "metadata": {
        "id": "gefE9vErEWj1"
      },
      "source": [
        "Perfect, now comes the best part. We see these columns:\n",
        "\n",
        "- residenceCity, residenceState, residenceCounty and residenceCityGeo\n",
        "\n",
        "- deathCity and deathCityGeo\n",
        "\n",
        "- injuryPlace, injuryState, injuryCounty and injuryCityGeo\n",
        "\n",
        "All these columns have some NaN values. But is there any relationship between them?\n",
        "\n",
        "What I want to do is this: \n",
        "For example, the NaN values in deathCity columns will be completed with deathCityGeo column values (of course, if they exist). And I'll do this for all these columnes I enumerated above.\n",
        "\n",
        "Let's explore this idea.⛵"
      ]
    },
    {
      "cell_type": "code",
      "execution_count": null,
      "metadata": {
        "id": "1WEQp6n8EOwn"
      },
      "outputs": [],
      "source": [
        "residence_cols = ['residenceCity', 'residenceState', 'residenceCounty', 'residenceCityGeo']\n",
        "death_cols = ['deathCity', 'deathCityGeo']\n",
        "injury_cols = ['injuryState', 'injuryCounty', 'injuryPlace', 'injuryCityGeo']"
      ]
    },
    {
      "cell_type": "code",
      "execution_count": null,
      "metadata": {
        "colab": {
          "base_uri": "https://localhost:8080/",
          "height": 363
        },
        "id": "ADhF5OLcHNlv",
        "outputId": "ddeed646-6cd2-40e1-ad18-109154342ca0"
      },
      "outputs": [
        {
          "data": {
            "text/html": [
              "\n",
              "  <div id=\"df-a6212e22-cf3a-4b7b-b283-2991bb29eaf6\">\n",
              "    <div class=\"colab-df-container\">\n",
              "      <div>\n",
              "<style scoped>\n",
              "    .dataframe tbody tr th:only-of-type {\n",
              "        vertical-align: middle;\n",
              "    }\n",
              "\n",
              "    .dataframe tbody tr th {\n",
              "        vertical-align: top;\n",
              "    }\n",
              "\n",
              "    .dataframe thead th {\n",
              "        text-align: right;\n",
              "    }\n",
              "</style>\n",
              "<table border=\"1\" class=\"dataframe\">\n",
              "  <thead>\n",
              "    <tr style=\"text-align: right;\">\n",
              "      <th></th>\n",
              "      <th>residenceCity</th>\n",
              "      <th>residenceState</th>\n",
              "      <th>residenceCounty</th>\n",
              "      <th>residenceCityGeo</th>\n",
              "    </tr>\n",
              "  </thead>\n",
              "  <tbody>\n",
              "    <tr>\n",
              "      <th>1</th>\n",
              "      <td>NORWALK</td>\n",
              "      <td>NaN</td>\n",
              "      <td>NaN</td>\n",
              "      <td>NORWALK, CT\\n(41.11805, -73.412906)</td>\n",
              "    </tr>\n",
              "    <tr>\n",
              "      <th>2</th>\n",
              "      <td>SANDY HOOK</td>\n",
              "      <td>CT</td>\n",
              "      <td>FAIRFIELD</td>\n",
              "      <td>SANDY HOOK, CT\\n(41.419998, -73.282501)</td>\n",
              "    </tr>\n",
              "    <tr>\n",
              "      <th>3</th>\n",
              "      <td>RYE</td>\n",
              "      <td>NY</td>\n",
              "      <td>WESTCHESTER</td>\n",
              "      <td>NaN</td>\n",
              "    </tr>\n",
              "    <tr>\n",
              "      <th>4</th>\n",
              "      <td>FLUSHING</td>\n",
              "      <td>NaN</td>\n",
              "      <td>QUEENS</td>\n",
              "      <td>NaN</td>\n",
              "    </tr>\n",
              "    <tr>\n",
              "      <th>5</th>\n",
              "      <td>BRISTOL</td>\n",
              "      <td>NaN</td>\n",
              "      <td>NaN</td>\n",
              "      <td>BRISTOL, CT\\n(41.673037, -72.945791)</td>\n",
              "    </tr>\n",
              "    <tr>\n",
              "      <th>6</th>\n",
              "      <td>WEST HARTFORD</td>\n",
              "      <td>NaN</td>\n",
              "      <td>HARTFORD</td>\n",
              "      <td>WEST HARTFORD, CT\\n(41.762008, -72.741807)</td>\n",
              "    </tr>\n",
              "    <tr>\n",
              "      <th>7</th>\n",
              "      <td>HAMDEN</td>\n",
              "      <td>NaN</td>\n",
              "      <td>NEW HAVEN</td>\n",
              "      <td>HAMDEN, CT\\n(41.382918, -72.907743)</td>\n",
              "    </tr>\n",
              "    <tr>\n",
              "      <th>8</th>\n",
              "      <td>EAST HARTFORD</td>\n",
              "      <td>NaN</td>\n",
              "      <td>HARTFORD</td>\n",
              "      <td>EAST HARTFORD, CT\\n(41.769319, -72.643785)</td>\n",
              "    </tr>\n",
              "    <tr>\n",
              "      <th>9</th>\n",
              "      <td>MONTVILLE</td>\n",
              "      <td>NaN</td>\n",
              "      <td>NEW LONDON</td>\n",
              "      <td>MONTVILLE, CT\\n(41.45303, -72.136336)</td>\n",
              "    </tr>\n",
              "    <tr>\n",
              "      <th>10</th>\n",
              "      <td>NaN</td>\n",
              "      <td>NaN</td>\n",
              "      <td>NaN</td>\n",
              "      <td>CT\\n(41.575155, -72.738288)</td>\n",
              "    </tr>\n",
              "  </tbody>\n",
              "</table>\n",
              "</div>\n",
              "      <button class=\"colab-df-convert\" onclick=\"convertToInteractive('df-a6212e22-cf3a-4b7b-b283-2991bb29eaf6')\"\n",
              "              title=\"Convert this dataframe to an interactive table.\"\n",
              "              style=\"display:none;\">\n",
              "        \n",
              "  <svg xmlns=\"http://www.w3.org/2000/svg\" height=\"24px\"viewBox=\"0 0 24 24\"\n",
              "       width=\"24px\">\n",
              "    <path d=\"M0 0h24v24H0V0z\" fill=\"none\"/>\n",
              "    <path d=\"M18.56 5.44l.94 2.06.94-2.06 2.06-.94-2.06-.94-.94-2.06-.94 2.06-2.06.94zm-11 1L8.5 8.5l.94-2.06 2.06-.94-2.06-.94L8.5 2.5l-.94 2.06-2.06.94zm10 10l.94 2.06.94-2.06 2.06-.94-2.06-.94-.94-2.06-.94 2.06-2.06.94z\"/><path d=\"M17.41 7.96l-1.37-1.37c-.4-.4-.92-.59-1.43-.59-.52 0-1.04.2-1.43.59L10.3 9.45l-7.72 7.72c-.78.78-.78 2.05 0 2.83L4 21.41c.39.39.9.59 1.41.59.51 0 1.02-.2 1.41-.59l7.78-7.78 2.81-2.81c.8-.78.8-2.07 0-2.86zM5.41 20L4 18.59l7.72-7.72 1.47 1.35L5.41 20z\"/>\n",
              "  </svg>\n",
              "      </button>\n",
              "      \n",
              "  <style>\n",
              "    .colab-df-container {\n",
              "      display:flex;\n",
              "      flex-wrap:wrap;\n",
              "      gap: 12px;\n",
              "    }\n",
              "\n",
              "    .colab-df-convert {\n",
              "      background-color: #E8F0FE;\n",
              "      border: none;\n",
              "      border-radius: 50%;\n",
              "      cursor: pointer;\n",
              "      display: none;\n",
              "      fill: #1967D2;\n",
              "      height: 32px;\n",
              "      padding: 0 0 0 0;\n",
              "      width: 32px;\n",
              "    }\n",
              "\n",
              "    .colab-df-convert:hover {\n",
              "      background-color: #E2EBFA;\n",
              "      box-shadow: 0px 1px 2px rgba(60, 64, 67, 0.3), 0px 1px 3px 1px rgba(60, 64, 67, 0.15);\n",
              "      fill: #174EA6;\n",
              "    }\n",
              "\n",
              "    [theme=dark] .colab-df-convert {\n",
              "      background-color: #3B4455;\n",
              "      fill: #D2E3FC;\n",
              "    }\n",
              "\n",
              "    [theme=dark] .colab-df-convert:hover {\n",
              "      background-color: #434B5C;\n",
              "      box-shadow: 0px 1px 3px 1px rgba(0, 0, 0, 0.15);\n",
              "      filter: drop-shadow(0px 1px 2px rgba(0, 0, 0, 0.3));\n",
              "      fill: #FFFFFF;\n",
              "    }\n",
              "  </style>\n",
              "\n",
              "      <script>\n",
              "        const buttonEl =\n",
              "          document.querySelector('#df-a6212e22-cf3a-4b7b-b283-2991bb29eaf6 button.colab-df-convert');\n",
              "        buttonEl.style.display =\n",
              "          google.colab.kernel.accessAllowed ? 'block' : 'none';\n",
              "\n",
              "        async function convertToInteractive(key) {\n",
              "          const element = document.querySelector('#df-a6212e22-cf3a-4b7b-b283-2991bb29eaf6');\n",
              "          const dataTable =\n",
              "            await google.colab.kernel.invokeFunction('convertToInteractive',\n",
              "                                                     [key], {});\n",
              "          if (!dataTable) return;\n",
              "\n",
              "          const docLinkHtml = 'Like what you see? Visit the ' +\n",
              "            '<a target=\"_blank\" href=https://colab.research.google.com/notebooks/data_table.ipynb>data table notebook</a>'\n",
              "            + ' to learn more about interactive tables.';\n",
              "          element.innerHTML = '';\n",
              "          dataTable['output_type'] = 'display_data';\n",
              "          await google.colab.output.renderOutput(dataTable, element);\n",
              "          const docLink = document.createElement('div');\n",
              "          docLink.innerHTML = docLinkHtml;\n",
              "          element.appendChild(docLink);\n",
              "        }\n",
              "      </script>\n",
              "    </div>\n",
              "  </div>\n",
              "  "
            ],
            "text/plain": [
              "    residenceCity residenceState residenceCounty  \\\n",
              "1         NORWALK            NaN             NaN   \n",
              "2      SANDY HOOK             CT       FAIRFIELD   \n",
              "3             RYE             NY     WESTCHESTER   \n",
              "4        FLUSHING            NaN          QUEENS   \n",
              "5         BRISTOL            NaN             NaN   \n",
              "6   WEST HARTFORD            NaN        HARTFORD   \n",
              "7          HAMDEN            NaN       NEW HAVEN   \n",
              "8   EAST HARTFORD            NaN        HARTFORD   \n",
              "9       MONTVILLE            NaN      NEW LONDON   \n",
              "10            NaN            NaN             NaN   \n",
              "\n",
              "                              residenceCityGeo  \n",
              "1          NORWALK, CT\\n(41.11805, -73.412906)  \n",
              "2      SANDY HOOK, CT\\n(41.419998, -73.282501)  \n",
              "3                                          NaN  \n",
              "4                                          NaN  \n",
              "5         BRISTOL, CT\\n(41.673037, -72.945791)  \n",
              "6   WEST HARTFORD, CT\\n(41.762008, -72.741807)  \n",
              "7          HAMDEN, CT\\n(41.382918, -72.907743)  \n",
              "8   EAST HARTFORD, CT\\n(41.769319, -72.643785)  \n",
              "9        MONTVILLE, CT\\n(41.45303, -72.136336)  \n",
              "10                 CT\\n(41.575155, -72.738288)  "
            ]
          },
          "execution_count": 425,
          "metadata": {},
          "output_type": "execute_result"
        }
      ],
      "source": [
        "accidents[residence_cols].head(10)"
      ]
    },
    {
      "cell_type": "code",
      "execution_count": null,
      "metadata": {
        "colab": {
          "base_uri": "https://localhost:8080/",
          "height": 363
        },
        "id": "zAxYuWqPHQtc",
        "outputId": "54ffe08e-17f0-486e-8a47-78dc30bdade0"
      },
      "outputs": [
        {
          "data": {
            "text/html": [
              "\n",
              "  <div id=\"df-00a3c869-7a0a-4181-a749-c77f6f7439a5\">\n",
              "    <div class=\"colab-df-container\">\n",
              "      <div>\n",
              "<style scoped>\n",
              "    .dataframe tbody tr th:only-of-type {\n",
              "        vertical-align: middle;\n",
              "    }\n",
              "\n",
              "    .dataframe tbody tr th {\n",
              "        vertical-align: top;\n",
              "    }\n",
              "\n",
              "    .dataframe thead th {\n",
              "        text-align: right;\n",
              "    }\n",
              "</style>\n",
              "<table border=\"1\" class=\"dataframe\">\n",
              "  <thead>\n",
              "    <tr style=\"text-align: right;\">\n",
              "      <th></th>\n",
              "      <th>deathCity</th>\n",
              "      <th>deathCityGeo</th>\n",
              "    </tr>\n",
              "  </thead>\n",
              "  <tbody>\n",
              "    <tr>\n",
              "      <th>1</th>\n",
              "      <td>NORWALK</td>\n",
              "      <td>Norwalk, CT\\n(41.11805, -73.412906)</td>\n",
              "    </tr>\n",
              "    <tr>\n",
              "      <th>2</th>\n",
              "      <td>DANBURY</td>\n",
              "      <td>Danbury, CT\\n(41.393666, -73.451539)</td>\n",
              "    </tr>\n",
              "    <tr>\n",
              "      <th>3</th>\n",
              "      <td>GREENWICH</td>\n",
              "      <td>Greenwich, CT\\n(41.026526, -73.628549)</td>\n",
              "    </tr>\n",
              "    <tr>\n",
              "      <th>4</th>\n",
              "      <td>GREENWICH</td>\n",
              "      <td>Greenwich, CT\\n(41.026526, -73.628549)</td>\n",
              "    </tr>\n",
              "    <tr>\n",
              "      <th>5</th>\n",
              "      <td>BRISTOL</td>\n",
              "      <td>BRISTOL, CT\\n(41.673037, -72.945791)</td>\n",
              "    </tr>\n",
              "    <tr>\n",
              "      <th>6</th>\n",
              "      <td>WEST HARTFORD</td>\n",
              "      <td>WEST HARTFORD, CT\\n(41.762008, -72.741807)</td>\n",
              "    </tr>\n",
              "    <tr>\n",
              "      <th>7</th>\n",
              "      <td>NEW HAVEN</td>\n",
              "      <td>New Haven, CT\\n(41.308252, -72.924161)</td>\n",
              "    </tr>\n",
              "    <tr>\n",
              "      <th>8</th>\n",
              "      <td>EAST HARTFORD</td>\n",
              "      <td>EAST HARTFORD, CT\\n(41.769319, -72.643785)</td>\n",
              "    </tr>\n",
              "    <tr>\n",
              "      <th>9</th>\n",
              "      <td>MONTVILLE</td>\n",
              "      <td>MONTVILLE, CT\\n(41.45303, -72.136336)</td>\n",
              "    </tr>\n",
              "    <tr>\n",
              "      <th>10</th>\n",
              "      <td>STRATFORD</td>\n",
              "      <td>STRATFORD, CT\\n(41.200888, -73.131323)</td>\n",
              "    </tr>\n",
              "  </tbody>\n",
              "</table>\n",
              "</div>\n",
              "      <button class=\"colab-df-convert\" onclick=\"convertToInteractive('df-00a3c869-7a0a-4181-a749-c77f6f7439a5')\"\n",
              "              title=\"Convert this dataframe to an interactive table.\"\n",
              "              style=\"display:none;\">\n",
              "        \n",
              "  <svg xmlns=\"http://www.w3.org/2000/svg\" height=\"24px\"viewBox=\"0 0 24 24\"\n",
              "       width=\"24px\">\n",
              "    <path d=\"M0 0h24v24H0V0z\" fill=\"none\"/>\n",
              "    <path d=\"M18.56 5.44l.94 2.06.94-2.06 2.06-.94-2.06-.94-.94-2.06-.94 2.06-2.06.94zm-11 1L8.5 8.5l.94-2.06 2.06-.94-2.06-.94L8.5 2.5l-.94 2.06-2.06.94zm10 10l.94 2.06.94-2.06 2.06-.94-2.06-.94-.94-2.06-.94 2.06-2.06.94z\"/><path d=\"M17.41 7.96l-1.37-1.37c-.4-.4-.92-.59-1.43-.59-.52 0-1.04.2-1.43.59L10.3 9.45l-7.72 7.72c-.78.78-.78 2.05 0 2.83L4 21.41c.39.39.9.59 1.41.59.51 0 1.02-.2 1.41-.59l7.78-7.78 2.81-2.81c.8-.78.8-2.07 0-2.86zM5.41 20L4 18.59l7.72-7.72 1.47 1.35L5.41 20z\"/>\n",
              "  </svg>\n",
              "      </button>\n",
              "      \n",
              "  <style>\n",
              "    .colab-df-container {\n",
              "      display:flex;\n",
              "      flex-wrap:wrap;\n",
              "      gap: 12px;\n",
              "    }\n",
              "\n",
              "    .colab-df-convert {\n",
              "      background-color: #E8F0FE;\n",
              "      border: none;\n",
              "      border-radius: 50%;\n",
              "      cursor: pointer;\n",
              "      display: none;\n",
              "      fill: #1967D2;\n",
              "      height: 32px;\n",
              "      padding: 0 0 0 0;\n",
              "      width: 32px;\n",
              "    }\n",
              "\n",
              "    .colab-df-convert:hover {\n",
              "      background-color: #E2EBFA;\n",
              "      box-shadow: 0px 1px 2px rgba(60, 64, 67, 0.3), 0px 1px 3px 1px rgba(60, 64, 67, 0.15);\n",
              "      fill: #174EA6;\n",
              "    }\n",
              "\n",
              "    [theme=dark] .colab-df-convert {\n",
              "      background-color: #3B4455;\n",
              "      fill: #D2E3FC;\n",
              "    }\n",
              "\n",
              "    [theme=dark] .colab-df-convert:hover {\n",
              "      background-color: #434B5C;\n",
              "      box-shadow: 0px 1px 3px 1px rgba(0, 0, 0, 0.15);\n",
              "      filter: drop-shadow(0px 1px 2px rgba(0, 0, 0, 0.3));\n",
              "      fill: #FFFFFF;\n",
              "    }\n",
              "  </style>\n",
              "\n",
              "      <script>\n",
              "        const buttonEl =\n",
              "          document.querySelector('#df-00a3c869-7a0a-4181-a749-c77f6f7439a5 button.colab-df-convert');\n",
              "        buttonEl.style.display =\n",
              "          google.colab.kernel.accessAllowed ? 'block' : 'none';\n",
              "\n",
              "        async function convertToInteractive(key) {\n",
              "          const element = document.querySelector('#df-00a3c869-7a0a-4181-a749-c77f6f7439a5');\n",
              "          const dataTable =\n",
              "            await google.colab.kernel.invokeFunction('convertToInteractive',\n",
              "                                                     [key], {});\n",
              "          if (!dataTable) return;\n",
              "\n",
              "          const docLinkHtml = 'Like what you see? Visit the ' +\n",
              "            '<a target=\"_blank\" href=https://colab.research.google.com/notebooks/data_table.ipynb>data table notebook</a>'\n",
              "            + ' to learn more about interactive tables.';\n",
              "          element.innerHTML = '';\n",
              "          dataTable['output_type'] = 'display_data';\n",
              "          await google.colab.output.renderOutput(dataTable, element);\n",
              "          const docLink = document.createElement('div');\n",
              "          docLink.innerHTML = docLinkHtml;\n",
              "          element.appendChild(docLink);\n",
              "        }\n",
              "      </script>\n",
              "    </div>\n",
              "  </div>\n",
              "  "
            ],
            "text/plain": [
              "        deathCity                                deathCityGeo\n",
              "1         NORWALK         Norwalk, CT\\n(41.11805, -73.412906)\n",
              "2         DANBURY        Danbury, CT\\n(41.393666, -73.451539)\n",
              "3       GREENWICH      Greenwich, CT\\n(41.026526, -73.628549)\n",
              "4       GREENWICH      Greenwich, CT\\n(41.026526, -73.628549)\n",
              "5         BRISTOL        BRISTOL, CT\\n(41.673037, -72.945791)\n",
              "6   WEST HARTFORD  WEST HARTFORD, CT\\n(41.762008, -72.741807)\n",
              "7       NEW HAVEN      New Haven, CT\\n(41.308252, -72.924161)\n",
              "8   EAST HARTFORD  EAST HARTFORD, CT\\n(41.769319, -72.643785)\n",
              "9       MONTVILLE       MONTVILLE, CT\\n(41.45303, -72.136336)\n",
              "10      STRATFORD      STRATFORD, CT\\n(41.200888, -73.131323)"
            ]
          },
          "execution_count": 426,
          "metadata": {},
          "output_type": "execute_result"
        }
      ],
      "source": [
        "accidents[death_cols].head(10)"
      ]
    },
    {
      "cell_type": "code",
      "execution_count": null,
      "metadata": {
        "colab": {
          "base_uri": "https://localhost:8080/",
          "height": 363
        },
        "id": "MqOKPf5HHf8D",
        "outputId": "f823aa1d-38e6-4c1b-ff39-708a5eadf614"
      },
      "outputs": [
        {
          "data": {
            "text/html": [
              "\n",
              "  <div id=\"df-39de8109-a32d-4d75-ad7e-656dd2cc4605\">\n",
              "    <div class=\"colab-df-container\">\n",
              "      <div>\n",
              "<style scoped>\n",
              "    .dataframe tbody tr th:only-of-type {\n",
              "        vertical-align: middle;\n",
              "    }\n",
              "\n",
              "    .dataframe tbody tr th {\n",
              "        vertical-align: top;\n",
              "    }\n",
              "\n",
              "    .dataframe thead th {\n",
              "        text-align: right;\n",
              "    }\n",
              "</style>\n",
              "<table border=\"1\" class=\"dataframe\">\n",
              "  <thead>\n",
              "    <tr style=\"text-align: right;\">\n",
              "      <th></th>\n",
              "      <th>injuryState</th>\n",
              "      <th>injuryCounty</th>\n",
              "      <th>injuryPlace</th>\n",
              "      <th>injuryCityGeo</th>\n",
              "    </tr>\n",
              "  </thead>\n",
              "  <tbody>\n",
              "    <tr>\n",
              "      <th>1</th>\n",
              "      <td>NaN</td>\n",
              "      <td>NaN</td>\n",
              "      <td>NaN</td>\n",
              "      <td>CT\\n(41.575155, -72.738288)</td>\n",
              "    </tr>\n",
              "    <tr>\n",
              "      <th>2</th>\n",
              "      <td>NaN</td>\n",
              "      <td>NaN</td>\n",
              "      <td>Unknown</td>\n",
              "      <td>NaN</td>\n",
              "    </tr>\n",
              "    <tr>\n",
              "      <th>3</th>\n",
              "      <td>NaN</td>\n",
              "      <td>NaN</td>\n",
              "      <td>Residence</td>\n",
              "      <td>NaN</td>\n",
              "    </tr>\n",
              "    <tr>\n",
              "      <th>4</th>\n",
              "      <td>NaN</td>\n",
              "      <td>NaN</td>\n",
              "      <td>Other</td>\n",
              "      <td>CT\\n(41.575155, -72.738288)</td>\n",
              "    </tr>\n",
              "    <tr>\n",
              "      <th>5</th>\n",
              "      <td>NaN</td>\n",
              "      <td>NaN</td>\n",
              "      <td>Residence</td>\n",
              "      <td>CT\\n(41.575155, -72.738288)</td>\n",
              "    </tr>\n",
              "    <tr>\n",
              "      <th>6</th>\n",
              "      <td>NaN</td>\n",
              "      <td>NaN</td>\n",
              "      <td>Residence</td>\n",
              "      <td>CT\\n(41.575155, -72.738288)</td>\n",
              "    </tr>\n",
              "    <tr>\n",
              "      <th>7</th>\n",
              "      <td>NaN</td>\n",
              "      <td>NaN</td>\n",
              "      <td>NaN</td>\n",
              "      <td>CT\\n(41.575155, -72.738288)</td>\n",
              "    </tr>\n",
              "    <tr>\n",
              "      <th>8</th>\n",
              "      <td>NaN</td>\n",
              "      <td>NaN</td>\n",
              "      <td>Residence</td>\n",
              "      <td>CT\\n(41.575155, -72.738288)</td>\n",
              "    </tr>\n",
              "    <tr>\n",
              "      <th>9</th>\n",
              "      <td>NaN</td>\n",
              "      <td>NaN</td>\n",
              "      <td>Residence</td>\n",
              "      <td>CT\\n(41.575155, -72.738288)</td>\n",
              "    </tr>\n",
              "    <tr>\n",
              "      <th>10</th>\n",
              "      <td>NaN</td>\n",
              "      <td>NaN</td>\n",
              "      <td>Hotel or Motel</td>\n",
              "      <td>CT\\n(41.575155, -72.738288)</td>\n",
              "    </tr>\n",
              "  </tbody>\n",
              "</table>\n",
              "</div>\n",
              "      <button class=\"colab-df-convert\" onclick=\"convertToInteractive('df-39de8109-a32d-4d75-ad7e-656dd2cc4605')\"\n",
              "              title=\"Convert this dataframe to an interactive table.\"\n",
              "              style=\"display:none;\">\n",
              "        \n",
              "  <svg xmlns=\"http://www.w3.org/2000/svg\" height=\"24px\"viewBox=\"0 0 24 24\"\n",
              "       width=\"24px\">\n",
              "    <path d=\"M0 0h24v24H0V0z\" fill=\"none\"/>\n",
              "    <path d=\"M18.56 5.44l.94 2.06.94-2.06 2.06-.94-2.06-.94-.94-2.06-.94 2.06-2.06.94zm-11 1L8.5 8.5l.94-2.06 2.06-.94-2.06-.94L8.5 2.5l-.94 2.06-2.06.94zm10 10l.94 2.06.94-2.06 2.06-.94-2.06-.94-.94-2.06-.94 2.06-2.06.94z\"/><path d=\"M17.41 7.96l-1.37-1.37c-.4-.4-.92-.59-1.43-.59-.52 0-1.04.2-1.43.59L10.3 9.45l-7.72 7.72c-.78.78-.78 2.05 0 2.83L4 21.41c.39.39.9.59 1.41.59.51 0 1.02-.2 1.41-.59l7.78-7.78 2.81-2.81c.8-.78.8-2.07 0-2.86zM5.41 20L4 18.59l7.72-7.72 1.47 1.35L5.41 20z\"/>\n",
              "  </svg>\n",
              "      </button>\n",
              "      \n",
              "  <style>\n",
              "    .colab-df-container {\n",
              "      display:flex;\n",
              "      flex-wrap:wrap;\n",
              "      gap: 12px;\n",
              "    }\n",
              "\n",
              "    .colab-df-convert {\n",
              "      background-color: #E8F0FE;\n",
              "      border: none;\n",
              "      border-radius: 50%;\n",
              "      cursor: pointer;\n",
              "      display: none;\n",
              "      fill: #1967D2;\n",
              "      height: 32px;\n",
              "      padding: 0 0 0 0;\n",
              "      width: 32px;\n",
              "    }\n",
              "\n",
              "    .colab-df-convert:hover {\n",
              "      background-color: #E2EBFA;\n",
              "      box-shadow: 0px 1px 2px rgba(60, 64, 67, 0.3), 0px 1px 3px 1px rgba(60, 64, 67, 0.15);\n",
              "      fill: #174EA6;\n",
              "    }\n",
              "\n",
              "    [theme=dark] .colab-df-convert {\n",
              "      background-color: #3B4455;\n",
              "      fill: #D2E3FC;\n",
              "    }\n",
              "\n",
              "    [theme=dark] .colab-df-convert:hover {\n",
              "      background-color: #434B5C;\n",
              "      box-shadow: 0px 1px 3px 1px rgba(0, 0, 0, 0.15);\n",
              "      filter: drop-shadow(0px 1px 2px rgba(0, 0, 0, 0.3));\n",
              "      fill: #FFFFFF;\n",
              "    }\n",
              "  </style>\n",
              "\n",
              "      <script>\n",
              "        const buttonEl =\n",
              "          document.querySelector('#df-39de8109-a32d-4d75-ad7e-656dd2cc4605 button.colab-df-convert');\n",
              "        buttonEl.style.display =\n",
              "          google.colab.kernel.accessAllowed ? 'block' : 'none';\n",
              "\n",
              "        async function convertToInteractive(key) {\n",
              "          const element = document.querySelector('#df-39de8109-a32d-4d75-ad7e-656dd2cc4605');\n",
              "          const dataTable =\n",
              "            await google.colab.kernel.invokeFunction('convertToInteractive',\n",
              "                                                     [key], {});\n",
              "          if (!dataTable) return;\n",
              "\n",
              "          const docLinkHtml = 'Like what you see? Visit the ' +\n",
              "            '<a target=\"_blank\" href=https://colab.research.google.com/notebooks/data_table.ipynb>data table notebook</a>'\n",
              "            + ' to learn more about interactive tables.';\n",
              "          element.innerHTML = '';\n",
              "          dataTable['output_type'] = 'display_data';\n",
              "          await google.colab.output.renderOutput(dataTable, element);\n",
              "          const docLink = document.createElement('div');\n",
              "          docLink.innerHTML = docLinkHtml;\n",
              "          element.appendChild(docLink);\n",
              "        }\n",
              "      </script>\n",
              "    </div>\n",
              "  </div>\n",
              "  "
            ],
            "text/plain": [
              "   injuryState injuryCounty     injuryPlace                injuryCityGeo\n",
              "1          NaN          NaN             NaN  CT\\n(41.575155, -72.738288)\n",
              "2          NaN          NaN         Unknown                          NaN\n",
              "3          NaN          NaN       Residence                          NaN\n",
              "4          NaN          NaN           Other  CT\\n(41.575155, -72.738288)\n",
              "5          NaN          NaN       Residence  CT\\n(41.575155, -72.738288)\n",
              "6          NaN          NaN       Residence  CT\\n(41.575155, -72.738288)\n",
              "7          NaN          NaN             NaN  CT\\n(41.575155, -72.738288)\n",
              "8          NaN          NaN       Residence  CT\\n(41.575155, -72.738288)\n",
              "9          NaN          NaN       Residence  CT\\n(41.575155, -72.738288)\n",
              "10         NaN          NaN  Hotel or Motel  CT\\n(41.575155, -72.738288)"
            ]
          },
          "execution_count": 427,
          "metadata": {},
          "output_type": "execute_result"
        }
      ],
      "source": [
        "accidents[injury_cols].head(10)"
      ]
    },
    {
      "cell_type": "code",
      "execution_count": null,
      "metadata": {
        "colab": {
          "base_uri": "https://localhost:8080/"
        },
        "id": "yH6F3piGHonQ",
        "outputId": "3182c6ef-ab8d-4f33-b3a0-fa6947834270"
      },
      "outputs": [
        {
          "name": "stdout",
          "output_type": "stream",
          "text": [
            "deathCity NaN values: 1\n",
            "deathCityGeo NaN values: 0\n",
            "-----\n",
            "     deathCity                 deathCityGeo\n",
            "1108       NaN  CT\\n(41.575155, -72.738288)\n",
            "-----\n",
            "Empty DataFrame\n",
            "Columns: [deathCity, deathCityGeo]\n",
            "Index: []\n"
          ]
        }
      ],
      "source": [
        "# death_cols = ['deathCity', 'deathCityGeo']\n",
        "\n",
        "print('deathCity NaN values:', accidents[death_cols[0]].isna().sum())\n",
        "print('deathCityGeo NaN values:', accidents[death_cols[1]].isna().sum())\n",
        "print('-----')\n",
        "print(accidents.loc[accidents[death_cols[0]].isna(), death_cols])\n",
        "print('-----')\n",
        "print(accidents.loc[accidents[death_cols[1]].isna(), death_cols])"
      ]
    },
    {
      "cell_type": "markdown",
      "metadata": {
        "id": "ArcCJv_GIz_j"
      },
      "source": [
        "We have found:\n",
        "\n",
        "- residenceState and residenceCounty columns have nothing in common with residenceCityGeo column;\n",
        "- there is just one case of deathCity NaN value, but we can't use deathCityGeo column to fill it;\n",
        "- injuryState, injuryCountry, injuryPlace columns have nothing in common with injuryCityGeo column.\n"
      ]
    },
    {
      "cell_type": "markdown",
      "metadata": {
        "id": "LB7Iiy7tNIoU"
      },
      "source": [
        "So, the idea of using a column to complete another one works just for residenceCity and residenceCityGeo columns.  "
      ]
    },
    {
      "cell_type": "markdown",
      "metadata": {
        "id": "7kAfTk87OD5J"
      },
      "source": [
        "What I want to do is to create from residenceCityGeo, deathCityGeo and injuryCityGeo columns two separtate columns: city, latitude and longitude.\n",
        "\n",
        "\n",
        "\n",
        "```\n",
        "residenceCityGeo                           city         lat           long\n",
        "SANDY HOOK, CT(41.575155, -72.738288) -> SANDY HOOK  41.575155    -72.738288    \n",
        "```\n",
        "\n",
        "I want to keep the city because later I want to perform a cross field validation with residenceCity column and this new city column. \n",
        "\n"
      ]
    },
    {
      "cell_type": "markdown",
      "metadata": {
        "id": "J20OgXHIQDEu"
      },
      "source": [
        "To do this, we'll define two functions:\n",
        "- get_lat_lng(str) -> this function returns a tuple with latitude and longitude coordinates;\n",
        "\n",
        "- get_city_and_coordinates(str) -> this function returns a tuple with the city, the latitude and the longitude for a city."
      ]
    },
    {
      "cell_type": "markdown",
      "metadata": {
        "id": "WXHR6_rKRazd"
      },
      "source": [
        "The regular expressions for city and coordinates are:"
      ]
    },
    {
      "cell_type": "code",
      "execution_count": null,
      "metadata": {
        "id": "Z9Rj2UH2RbYp"
      },
      "outputs": [],
      "source": [
        "city_pattern = '^(.+?),'\n",
        "coord_pattern = '\\(([^\\)]+)\\)'"
      ]
    },
    {
      "cell_type": "code",
      "execution_count": null,
      "metadata": {
        "id": "YZv791w5IACk"
      },
      "outputs": [],
      "source": [
        "def get_lat_lng(coords):\n",
        "    '''returns coordinates for deathCityGeo, residenceCityGeo, injuryCityGeo columns '''\n",
        "    try:\n",
        "        lat, lng = map(float, coords.strip('()').split(','))\n",
        "    except AttributeError:\n",
        "        lat = 0\n",
        "        lng = 0\n",
        "    return (lat, lng)"
      ]
    },
    {
      "cell_type": "code",
      "execution_count": null,
      "metadata": {
        "id": "AmduUTwAQvzO"
      },
      "outputs": [],
      "source": [
        "def get_city_and_coordinates(cityString):\n",
        "  '''return city & coordinates for deathCityGeo, residenceCityGeo, injuryCityGeo columns '''\n",
        "  try:\n",
        "      city = re.search(city_pattern, str(cityString)).group(0)\n",
        "      city = city.strip(',')\n",
        "      coord = re.search(coord_pattern, str(cityString)).group(0)\n",
        "  except AttributeError:\n",
        "      city = \"Unknown\"\n",
        "      coord = \"(0 , 0)\"\n",
        "  lat, lng = get_lat_lng(coord)\n",
        "  return (city, lat, lng)"
      ]
    },
    {
      "cell_type": "markdown",
      "metadata": {
        "id": "TBqA0IjDwhr4"
      },
      "source": [
        "We will transform residenceCItyGeo, injuryCityGeo and deathCItyGeo columns in tuples. One tuple will have 3 elements: (city, lat, lng):"
      ]
    },
    {
      "cell_type": "code",
      "execution_count": null,
      "metadata": {
        "id": "e-aOBFL9w2HR"
      },
      "outputs": [],
      "source": [
        "geo_cols = ['residenceCityGeo', 'injuryCityGeo', 'deathCityGeo']"
      ]
    },
    {
      "cell_type": "code",
      "execution_count": null,
      "metadata": {
        "colab": {
          "background_save": true
        },
        "id": "T2dzbiasxRk1"
      },
      "outputs": [],
      "source": [
        "for col in geo_cols:\n",
        "  accidents[col] = accidents.apply(lambda row: get_city_and_coordinates(row[col]), axis=1)"
      ]
    },
    {
      "cell_type": "code",
      "execution_count": null,
      "metadata": {
        "colab": {
          "background_save": true,
          "base_uri": "https://localhost:8080/",
          "height": 206
        },
        "id": "lcu5rZCTadhz",
        "outputId": "0bcdf860-0463-420d-dd6c-cdaa37ec0e45"
      },
      "outputs": [
        {
          "data": {
            "text/html": [
              "\n",
              "  <div id=\"df-212c96e5-60f7-40e1-bc88-07189340e322\">\n",
              "    <div class=\"colab-df-container\">\n",
              "      <div>\n",
              "<style scoped>\n",
              "    .dataframe tbody tr th:only-of-type {\n",
              "        vertical-align: middle;\n",
              "    }\n",
              "\n",
              "    .dataframe tbody tr th {\n",
              "        vertical-align: top;\n",
              "    }\n",
              "\n",
              "    .dataframe thead th {\n",
              "        text-align: right;\n",
              "    }\n",
              "</style>\n",
              "<table border=\"1\" class=\"dataframe\">\n",
              "  <thead>\n",
              "    <tr style=\"text-align: right;\">\n",
              "      <th></th>\n",
              "      <th>residenceCityGeo</th>\n",
              "      <th>injuryCityGeo</th>\n",
              "      <th>deathCityGeo</th>\n",
              "    </tr>\n",
              "  </thead>\n",
              "  <tbody>\n",
              "    <tr>\n",
              "      <th>1</th>\n",
              "      <td>(NORWALK, 41.11805, -73.412906)</td>\n",
              "      <td>(Unknown, 0.0, 0.0)</td>\n",
              "      <td>(Norwalk, 41.11805, -73.412906)</td>\n",
              "    </tr>\n",
              "    <tr>\n",
              "      <th>2</th>\n",
              "      <td>(SANDY HOOK, 41.419998, -73.282501)</td>\n",
              "      <td>(Unknown, 0.0, 0.0)</td>\n",
              "      <td>(Danbury, 41.393666, -73.451539)</td>\n",
              "    </tr>\n",
              "    <tr>\n",
              "      <th>3</th>\n",
              "      <td>(Unknown, 0.0, 0.0)</td>\n",
              "      <td>(Unknown, 0.0, 0.0)</td>\n",
              "      <td>(Greenwich, 41.026526, -73.628549)</td>\n",
              "    </tr>\n",
              "    <tr>\n",
              "      <th>4</th>\n",
              "      <td>(Unknown, 0.0, 0.0)</td>\n",
              "      <td>(Unknown, 0.0, 0.0)</td>\n",
              "      <td>(Greenwich, 41.026526, -73.628549)</td>\n",
              "    </tr>\n",
              "    <tr>\n",
              "      <th>5</th>\n",
              "      <td>(BRISTOL, 41.673037, -72.945791)</td>\n",
              "      <td>(Unknown, 0.0, 0.0)</td>\n",
              "      <td>(BRISTOL, 41.673037, -72.945791)</td>\n",
              "    </tr>\n",
              "  </tbody>\n",
              "</table>\n",
              "</div>\n",
              "      <button class=\"colab-df-convert\" onclick=\"convertToInteractive('df-212c96e5-60f7-40e1-bc88-07189340e322')\"\n",
              "              title=\"Convert this dataframe to an interactive table.\"\n",
              "              style=\"display:none;\">\n",
              "        \n",
              "  <svg xmlns=\"http://www.w3.org/2000/svg\" height=\"24px\"viewBox=\"0 0 24 24\"\n",
              "       width=\"24px\">\n",
              "    <path d=\"M0 0h24v24H0V0z\" fill=\"none\"/>\n",
              "    <path d=\"M18.56 5.44l.94 2.06.94-2.06 2.06-.94-2.06-.94-.94-2.06-.94 2.06-2.06.94zm-11 1L8.5 8.5l.94-2.06 2.06-.94-2.06-.94L8.5 2.5l-.94 2.06-2.06.94zm10 10l.94 2.06.94-2.06 2.06-.94-2.06-.94-.94-2.06-.94 2.06-2.06.94z\"/><path d=\"M17.41 7.96l-1.37-1.37c-.4-.4-.92-.59-1.43-.59-.52 0-1.04.2-1.43.59L10.3 9.45l-7.72 7.72c-.78.78-.78 2.05 0 2.83L4 21.41c.39.39.9.59 1.41.59.51 0 1.02-.2 1.41-.59l7.78-7.78 2.81-2.81c.8-.78.8-2.07 0-2.86zM5.41 20L4 18.59l7.72-7.72 1.47 1.35L5.41 20z\"/>\n",
              "  </svg>\n",
              "      </button>\n",
              "      \n",
              "  <style>\n",
              "    .colab-df-container {\n",
              "      display:flex;\n",
              "      flex-wrap:wrap;\n",
              "      gap: 12px;\n",
              "    }\n",
              "\n",
              "    .colab-df-convert {\n",
              "      background-color: #E8F0FE;\n",
              "      border: none;\n",
              "      border-radius: 50%;\n",
              "      cursor: pointer;\n",
              "      display: none;\n",
              "      fill: #1967D2;\n",
              "      height: 32px;\n",
              "      padding: 0 0 0 0;\n",
              "      width: 32px;\n",
              "    }\n",
              "\n",
              "    .colab-df-convert:hover {\n",
              "      background-color: #E2EBFA;\n",
              "      box-shadow: 0px 1px 2px rgba(60, 64, 67, 0.3), 0px 1px 3px 1px rgba(60, 64, 67, 0.15);\n",
              "      fill: #174EA6;\n",
              "    }\n",
              "\n",
              "    [theme=dark] .colab-df-convert {\n",
              "      background-color: #3B4455;\n",
              "      fill: #D2E3FC;\n",
              "    }\n",
              "\n",
              "    [theme=dark] .colab-df-convert:hover {\n",
              "      background-color: #434B5C;\n",
              "      box-shadow: 0px 1px 3px 1px rgba(0, 0, 0, 0.15);\n",
              "      filter: drop-shadow(0px 1px 2px rgba(0, 0, 0, 0.3));\n",
              "      fill: #FFFFFF;\n",
              "    }\n",
              "  </style>\n",
              "\n",
              "      <script>\n",
              "        const buttonEl =\n",
              "          document.querySelector('#df-212c96e5-60f7-40e1-bc88-07189340e322 button.colab-df-convert');\n",
              "        buttonEl.style.display =\n",
              "          google.colab.kernel.accessAllowed ? 'block' : 'none';\n",
              "\n",
              "        async function convertToInteractive(key) {\n",
              "          const element = document.querySelector('#df-212c96e5-60f7-40e1-bc88-07189340e322');\n",
              "          const dataTable =\n",
              "            await google.colab.kernel.invokeFunction('convertToInteractive',\n",
              "                                                     [key], {});\n",
              "          if (!dataTable) return;\n",
              "\n",
              "          const docLinkHtml = 'Like what you see? Visit the ' +\n",
              "            '<a target=\"_blank\" href=https://colab.research.google.com/notebooks/data_table.ipynb>data table notebook</a>'\n",
              "            + ' to learn more about interactive tables.';\n",
              "          element.innerHTML = '';\n",
              "          dataTable['output_type'] = 'display_data';\n",
              "          await google.colab.output.renderOutput(dataTable, element);\n",
              "          const docLink = document.createElement('div');\n",
              "          docLink.innerHTML = docLinkHtml;\n",
              "          element.appendChild(docLink);\n",
              "        }\n",
              "      </script>\n",
              "    </div>\n",
              "  </div>\n",
              "  "
            ],
            "text/plain": [
              "                      residenceCityGeo        injuryCityGeo  \\\n",
              "1      (NORWALK, 41.11805, -73.412906)  (Unknown, 0.0, 0.0)   \n",
              "2  (SANDY HOOK, 41.419998, -73.282501)  (Unknown, 0.0, 0.0)   \n",
              "3                  (Unknown, 0.0, 0.0)  (Unknown, 0.0, 0.0)   \n",
              "4                  (Unknown, 0.0, 0.0)  (Unknown, 0.0, 0.0)   \n",
              "5     (BRISTOL, 41.673037, -72.945791)  (Unknown, 0.0, 0.0)   \n",
              "\n",
              "                         deathCityGeo  \n",
              "1     (Norwalk, 41.11805, -73.412906)  \n",
              "2    (Danbury, 41.393666, -73.451539)  \n",
              "3  (Greenwich, 41.026526, -73.628549)  \n",
              "4  (Greenwich, 41.026526, -73.628549)  \n",
              "5    (BRISTOL, 41.673037, -72.945791)  "
            ]
          },
          "execution_count": null,
          "metadata": {},
          "output_type": "execute_result"
        }
      ],
      "source": [
        "accidents[geo_cols].head()"
      ]
    },
    {
      "cell_type": "code",
      "execution_count": null,
      "metadata": {
        "colab": {
          "background_save": true
        },
        "id": "cjb-lLZBztyv"
      },
      "outputs": [],
      "source": [
        "new_cols = ['residenceCityReported', 'residence_lat', 'residence_lng', \n",
        "            'injuryCityReported', 'injury_lat', 'injury_lng',\n",
        "            'deathCityReported', 'death_lat', 'death_lng']"
      ]
    },
    {
      "cell_type": "code",
      "execution_count": null,
      "metadata": {
        "colab": {
          "background_save": true
        },
        "id": "LWBCxAjI0j4l"
      },
      "outputs": [],
      "source": [
        "i = 0\n",
        "for col in geo_cols:\n",
        "  accidents[new_cols[i]] = accidents[col].apply(lambda t: t[0])\n",
        "  accidents[new_cols[i+1]] = accidents[col].apply(lambda t: t[1])\n",
        "  accidents[new_cols[i+2]] = accidents[col].apply(lambda t: t[2])\n",
        "  i += 3"
      ]
    },
    {
      "cell_type": "code",
      "execution_count": null,
      "metadata": {
        "colab": {
          "background_save": true,
          "base_uri": "https://localhost:8080/",
          "height": 206
        },
        "id": "v0LTt41EwFSs",
        "outputId": "8d4f6500-b662-4422-fd02-95c83f37946d"
      },
      "outputs": [
        {
          "data": {
            "text/html": [
              "\n",
              "  <div id=\"df-ac9649f7-2c02-484d-80a9-72845643cf83\">\n",
              "    <div class=\"colab-df-container\">\n",
              "      <div>\n",
              "<style scoped>\n",
              "    .dataframe tbody tr th:only-of-type {\n",
              "        vertical-align: middle;\n",
              "    }\n",
              "\n",
              "    .dataframe tbody tr th {\n",
              "        vertical-align: top;\n",
              "    }\n",
              "\n",
              "    .dataframe thead th {\n",
              "        text-align: right;\n",
              "    }\n",
              "</style>\n",
              "<table border=\"1\" class=\"dataframe\">\n",
              "  <thead>\n",
              "    <tr style=\"text-align: right;\">\n",
              "      <th></th>\n",
              "      <th>residenceCityReported</th>\n",
              "      <th>residence_lat</th>\n",
              "      <th>residence_lng</th>\n",
              "      <th>injuryCityReported</th>\n",
              "      <th>injury_lat</th>\n",
              "      <th>injury_lng</th>\n",
              "      <th>deathCityReported</th>\n",
              "      <th>death_lat</th>\n",
              "      <th>death_lng</th>\n",
              "    </tr>\n",
              "  </thead>\n",
              "  <tbody>\n",
              "    <tr>\n",
              "      <th>1</th>\n",
              "      <td>NORWALK</td>\n",
              "      <td>41.118050</td>\n",
              "      <td>-73.412906</td>\n",
              "      <td>Unknown</td>\n",
              "      <td>0.0</td>\n",
              "      <td>0.0</td>\n",
              "      <td>Norwalk</td>\n",
              "      <td>41.118050</td>\n",
              "      <td>-73.412906</td>\n",
              "    </tr>\n",
              "    <tr>\n",
              "      <th>2</th>\n",
              "      <td>SANDY HOOK</td>\n",
              "      <td>41.419998</td>\n",
              "      <td>-73.282501</td>\n",
              "      <td>Unknown</td>\n",
              "      <td>0.0</td>\n",
              "      <td>0.0</td>\n",
              "      <td>Danbury</td>\n",
              "      <td>41.393666</td>\n",
              "      <td>-73.451539</td>\n",
              "    </tr>\n",
              "    <tr>\n",
              "      <th>3</th>\n",
              "      <td>Unknown</td>\n",
              "      <td>0.000000</td>\n",
              "      <td>0.000000</td>\n",
              "      <td>Unknown</td>\n",
              "      <td>0.0</td>\n",
              "      <td>0.0</td>\n",
              "      <td>Greenwich</td>\n",
              "      <td>41.026526</td>\n",
              "      <td>-73.628549</td>\n",
              "    </tr>\n",
              "    <tr>\n",
              "      <th>4</th>\n",
              "      <td>Unknown</td>\n",
              "      <td>0.000000</td>\n",
              "      <td>0.000000</td>\n",
              "      <td>Unknown</td>\n",
              "      <td>0.0</td>\n",
              "      <td>0.0</td>\n",
              "      <td>Greenwich</td>\n",
              "      <td>41.026526</td>\n",
              "      <td>-73.628549</td>\n",
              "    </tr>\n",
              "    <tr>\n",
              "      <th>5</th>\n",
              "      <td>BRISTOL</td>\n",
              "      <td>41.673037</td>\n",
              "      <td>-72.945791</td>\n",
              "      <td>Unknown</td>\n",
              "      <td>0.0</td>\n",
              "      <td>0.0</td>\n",
              "      <td>BRISTOL</td>\n",
              "      <td>41.673037</td>\n",
              "      <td>-72.945791</td>\n",
              "    </tr>\n",
              "  </tbody>\n",
              "</table>\n",
              "</div>\n",
              "      <button class=\"colab-df-convert\" onclick=\"convertToInteractive('df-ac9649f7-2c02-484d-80a9-72845643cf83')\"\n",
              "              title=\"Convert this dataframe to an interactive table.\"\n",
              "              style=\"display:none;\">\n",
              "        \n",
              "  <svg xmlns=\"http://www.w3.org/2000/svg\" height=\"24px\"viewBox=\"0 0 24 24\"\n",
              "       width=\"24px\">\n",
              "    <path d=\"M0 0h24v24H0V0z\" fill=\"none\"/>\n",
              "    <path d=\"M18.56 5.44l.94 2.06.94-2.06 2.06-.94-2.06-.94-.94-2.06-.94 2.06-2.06.94zm-11 1L8.5 8.5l.94-2.06 2.06-.94-2.06-.94L8.5 2.5l-.94 2.06-2.06.94zm10 10l.94 2.06.94-2.06 2.06-.94-2.06-.94-.94-2.06-.94 2.06-2.06.94z\"/><path d=\"M17.41 7.96l-1.37-1.37c-.4-.4-.92-.59-1.43-.59-.52 0-1.04.2-1.43.59L10.3 9.45l-7.72 7.72c-.78.78-.78 2.05 0 2.83L4 21.41c.39.39.9.59 1.41.59.51 0 1.02-.2 1.41-.59l7.78-7.78 2.81-2.81c.8-.78.8-2.07 0-2.86zM5.41 20L4 18.59l7.72-7.72 1.47 1.35L5.41 20z\"/>\n",
              "  </svg>\n",
              "      </button>\n",
              "      \n",
              "  <style>\n",
              "    .colab-df-container {\n",
              "      display:flex;\n",
              "      flex-wrap:wrap;\n",
              "      gap: 12px;\n",
              "    }\n",
              "\n",
              "    .colab-df-convert {\n",
              "      background-color: #E8F0FE;\n",
              "      border: none;\n",
              "      border-radius: 50%;\n",
              "      cursor: pointer;\n",
              "      display: none;\n",
              "      fill: #1967D2;\n",
              "      height: 32px;\n",
              "      padding: 0 0 0 0;\n",
              "      width: 32px;\n",
              "    }\n",
              "\n",
              "    .colab-df-convert:hover {\n",
              "      background-color: #E2EBFA;\n",
              "      box-shadow: 0px 1px 2px rgba(60, 64, 67, 0.3), 0px 1px 3px 1px rgba(60, 64, 67, 0.15);\n",
              "      fill: #174EA6;\n",
              "    }\n",
              "\n",
              "    [theme=dark] .colab-df-convert {\n",
              "      background-color: #3B4455;\n",
              "      fill: #D2E3FC;\n",
              "    }\n",
              "\n",
              "    [theme=dark] .colab-df-convert:hover {\n",
              "      background-color: #434B5C;\n",
              "      box-shadow: 0px 1px 3px 1px rgba(0, 0, 0, 0.15);\n",
              "      filter: drop-shadow(0px 1px 2px rgba(0, 0, 0, 0.3));\n",
              "      fill: #FFFFFF;\n",
              "    }\n",
              "  </style>\n",
              "\n",
              "      <script>\n",
              "        const buttonEl =\n",
              "          document.querySelector('#df-ac9649f7-2c02-484d-80a9-72845643cf83 button.colab-df-convert');\n",
              "        buttonEl.style.display =\n",
              "          google.colab.kernel.accessAllowed ? 'block' : 'none';\n",
              "\n",
              "        async function convertToInteractive(key) {\n",
              "          const element = document.querySelector('#df-ac9649f7-2c02-484d-80a9-72845643cf83');\n",
              "          const dataTable =\n",
              "            await google.colab.kernel.invokeFunction('convertToInteractive',\n",
              "                                                     [key], {});\n",
              "          if (!dataTable) return;\n",
              "\n",
              "          const docLinkHtml = 'Like what you see? Visit the ' +\n",
              "            '<a target=\"_blank\" href=https://colab.research.google.com/notebooks/data_table.ipynb>data table notebook</a>'\n",
              "            + ' to learn more about interactive tables.';\n",
              "          element.innerHTML = '';\n",
              "          dataTable['output_type'] = 'display_data';\n",
              "          await google.colab.output.renderOutput(dataTable, element);\n",
              "          const docLink = document.createElement('div');\n",
              "          docLink.innerHTML = docLinkHtml;\n",
              "          element.appendChild(docLink);\n",
              "        }\n",
              "      </script>\n",
              "    </div>\n",
              "  </div>\n",
              "  "
            ],
            "text/plain": [
              "  residenceCityReported  residence_lat  residence_lng injuryCityReported  \\\n",
              "1               NORWALK      41.118050     -73.412906            Unknown   \n",
              "2            SANDY HOOK      41.419998     -73.282501            Unknown   \n",
              "3               Unknown       0.000000       0.000000            Unknown   \n",
              "4               Unknown       0.000000       0.000000            Unknown   \n",
              "5               BRISTOL      41.673037     -72.945791            Unknown   \n",
              "\n",
              "   injury_lat  injury_lng deathCityReported  death_lat  death_lng  \n",
              "1         0.0         0.0           Norwalk  41.118050 -73.412906  \n",
              "2         0.0         0.0           Danbury  41.393666 -73.451539  \n",
              "3         0.0         0.0         Greenwich  41.026526 -73.628549  \n",
              "4         0.0         0.0         Greenwich  41.026526 -73.628549  \n",
              "5         0.0         0.0           BRISTOL  41.673037 -72.945791  "
            ]
          },
          "execution_count": null,
          "metadata": {},
          "output_type": "execute_result"
        }
      ],
      "source": [
        "accidents[new_cols].head()"
      ]
    },
    {
      "cell_type": "markdown",
      "metadata": {
        "id": "bbNZVUL518PO"
      },
      "source": [
        "Great, it worked."
      ]
    },
    {
      "cell_type": "markdown",
      "metadata": {
        "id": "o4VXdDSd2I-0"
      },
      "source": [
        "What we have to do now is to:\n",
        "- see if we can complete missing values in residenceCIty column with residenceCityReported.\n",
        "- we now can get rid of geo columns.\n",
        "- we'll try to complete another columns like residenceCounty, residenceState, deathCounty, injuryCity, injuryCounty and injuryState columns."
      ]
    },
    {
      "cell_type": "markdown",
      "metadata": {
        "id": "TC0OiCA03jWr"
      },
      "source": [
        "1. Complete missing values in residenceCIty column with residenceCityReported."
      ]
    },
    {
      "cell_type": "markdown",
      "metadata": {
        "id": "X-hcuz6O3qew"
      },
      "source": [
        "How many values are missing in residenceCity column?"
      ]
    },
    {
      "cell_type": "code",
      "execution_count": null,
      "metadata": {
        "colab": {
          "background_save": true,
          "base_uri": "https://localhost:8080/"
        },
        "id": "iREmV1CEwPua",
        "outputId": "8b08a2f1-8cbf-4d70-fda9-c66d59bcdcae"
      },
      "outputs": [
        {
          "data": {
            "text/plain": [
              "167"
            ]
          },
          "execution_count": null,
          "metadata": {},
          "output_type": "execute_result"
        }
      ],
      "source": [
        "number_of_NaN_residenceCity = accidents['residenceCity'].isna().sum()\n",
        "number_of_NaN_residenceCity"
      ]
    },
    {
      "cell_type": "markdown",
      "metadata": {
        "id": "l6G4VWNX32OT"
      },
      "source": [
        "Get all rows with residenceCity NaN and residenceCityReported not a \"Missing City\":"
      ]
    },
    {
      "cell_type": "code",
      "execution_count": null,
      "metadata": {
        "colab": {
          "background_save": true,
          "base_uri": "https://localhost:8080/",
          "height": 49
        },
        "id": "1yfI5d1p4GUD",
        "outputId": "e61ab949-4c62-41f2-dbc5-156a06e0fec1"
      },
      "outputs": [
        {
          "data": {
            "text/html": [
              "\n",
              "  <div id=\"df-ea881f4d-cb43-4897-b1c6-5a88a94e5385\">\n",
              "    <div class=\"colab-df-container\">\n",
              "      <div>\n",
              "<style scoped>\n",
              "    .dataframe tbody tr th:only-of-type {\n",
              "        vertical-align: middle;\n",
              "    }\n",
              "\n",
              "    .dataframe tbody tr th {\n",
              "        vertical-align: top;\n",
              "    }\n",
              "\n",
              "    .dataframe thead th {\n",
              "        text-align: right;\n",
              "    }\n",
              "</style>\n",
              "<table border=\"1\" class=\"dataframe\">\n",
              "  <thead>\n",
              "    <tr style=\"text-align: right;\">\n",
              "      <th></th>\n",
              "      <th>residenceCity</th>\n",
              "      <th>residenceCityReported</th>\n",
              "    </tr>\n",
              "  </thead>\n",
              "  <tbody>\n",
              "    <tr>\n",
              "      <th>10</th>\n",
              "      <td>NaN</td>\n",
              "      <td>Unknown</td>\n",
              "    </tr>\n",
              "    <tr>\n",
              "      <th>11</th>\n",
              "      <td>NaN</td>\n",
              "      <td>Unknown</td>\n",
              "    </tr>\n",
              "    <tr>\n",
              "      <th>96</th>\n",
              "      <td>NaN</td>\n",
              "      <td>Unknown</td>\n",
              "    </tr>\n",
              "    <tr>\n",
              "      <th>101</th>\n",
              "      <td>NaN</td>\n",
              "      <td>Unknown</td>\n",
              "    </tr>\n",
              "    <tr>\n",
              "      <th>107</th>\n",
              "      <td>NaN</td>\n",
              "      <td>Unknown</td>\n",
              "    </tr>\n",
              "    <tr>\n",
              "      <th>...</th>\n",
              "      <td>...</td>\n",
              "      <td>...</td>\n",
              "    </tr>\n",
              "    <tr>\n",
              "      <th>4872</th>\n",
              "      <td>NaN</td>\n",
              "      <td>Unknown</td>\n",
              "    </tr>\n",
              "    <tr>\n",
              "      <th>4879</th>\n",
              "      <td>NaN</td>\n",
              "      <td>Unknown</td>\n",
              "    </tr>\n",
              "    <tr>\n",
              "      <th>5017</th>\n",
              "      <td>NaN</td>\n",
              "      <td>Unknown</td>\n",
              "    </tr>\n",
              "    <tr>\n",
              "      <th>5023</th>\n",
              "      <td>NaN</td>\n",
              "      <td>Unknown</td>\n",
              "    </tr>\n",
              "    <tr>\n",
              "      <th>5046</th>\n",
              "      <td>NaN</td>\n",
              "      <td>Unknown</td>\n",
              "    </tr>\n",
              "  </tbody>\n",
              "</table>\n",
              "<p>167 rows × 2 columns</p>\n",
              "</div>\n",
              "      <button class=\"colab-df-convert\" onclick=\"convertToInteractive('df-ea881f4d-cb43-4897-b1c6-5a88a94e5385')\"\n",
              "              title=\"Convert this dataframe to an interactive table.\"\n",
              "              style=\"display:none;\">\n",
              "        \n",
              "  <svg xmlns=\"http://www.w3.org/2000/svg\" height=\"24px\"viewBox=\"0 0 24 24\"\n",
              "       width=\"24px\">\n",
              "    <path d=\"M0 0h24v24H0V0z\" fill=\"none\"/>\n",
              "    <path d=\"M18.56 5.44l.94 2.06.94-2.06 2.06-.94-2.06-.94-.94-2.06-.94 2.06-2.06.94zm-11 1L8.5 8.5l.94-2.06 2.06-.94-2.06-.94L8.5 2.5l-.94 2.06-2.06.94zm10 10l.94 2.06.94-2.06 2.06-.94-2.06-.94-.94-2.06-.94 2.06-2.06.94z\"/><path d=\"M17.41 7.96l-1.37-1.37c-.4-.4-.92-.59-1.43-.59-.52 0-1.04.2-1.43.59L10.3 9.45l-7.72 7.72c-.78.78-.78 2.05 0 2.83L4 21.41c.39.39.9.59 1.41.59.51 0 1.02-.2 1.41-.59l7.78-7.78 2.81-2.81c.8-.78.8-2.07 0-2.86zM5.41 20L4 18.59l7.72-7.72 1.47 1.35L5.41 20z\"/>\n",
              "  </svg>\n",
              "      </button>\n",
              "      \n",
              "  <style>\n",
              "    .colab-df-container {\n",
              "      display:flex;\n",
              "      flex-wrap:wrap;\n",
              "      gap: 12px;\n",
              "    }\n",
              "\n",
              "    .colab-df-convert {\n",
              "      background-color: #E8F0FE;\n",
              "      border: none;\n",
              "      border-radius: 50%;\n",
              "      cursor: pointer;\n",
              "      display: none;\n",
              "      fill: #1967D2;\n",
              "      height: 32px;\n",
              "      padding: 0 0 0 0;\n",
              "      width: 32px;\n",
              "    }\n",
              "\n",
              "    .colab-df-convert:hover {\n",
              "      background-color: #E2EBFA;\n",
              "      box-shadow: 0px 1px 2px rgba(60, 64, 67, 0.3), 0px 1px 3px 1px rgba(60, 64, 67, 0.15);\n",
              "      fill: #174EA6;\n",
              "    }\n",
              "\n",
              "    [theme=dark] .colab-df-convert {\n",
              "      background-color: #3B4455;\n",
              "      fill: #D2E3FC;\n",
              "    }\n",
              "\n",
              "    [theme=dark] .colab-df-convert:hover {\n",
              "      background-color: #434B5C;\n",
              "      box-shadow: 0px 1px 3px 1px rgba(0, 0, 0, 0.15);\n",
              "      filter: drop-shadow(0px 1px 2px rgba(0, 0, 0, 0.3));\n",
              "      fill: #FFFFFF;\n",
              "    }\n",
              "  </style>\n",
              "\n",
              "      <script>\n",
              "        const buttonEl =\n",
              "          document.querySelector('#df-ea881f4d-cb43-4897-b1c6-5a88a94e5385 button.colab-df-convert');\n",
              "        buttonEl.style.display =\n",
              "          google.colab.kernel.accessAllowed ? 'block' : 'none';\n",
              "\n",
              "        async function convertToInteractive(key) {\n",
              "          const element = document.querySelector('#df-ea881f4d-cb43-4897-b1c6-5a88a94e5385');\n",
              "          const dataTable =\n",
              "            await google.colab.kernel.invokeFunction('convertToInteractive',\n",
              "                                                     [key], {});\n",
              "          if (!dataTable) return;\n",
              "\n",
              "          const docLinkHtml = 'Like what you see? Visit the ' +\n",
              "            '<a target=\"_blank\" href=https://colab.research.google.com/notebooks/data_table.ipynb>data table notebook</a>'\n",
              "            + ' to learn more about interactive tables.';\n",
              "          element.innerHTML = '';\n",
              "          dataTable['output_type'] = 'display_data';\n",
              "          await google.colab.output.renderOutput(dataTable, element);\n",
              "          const docLink = document.createElement('div');\n",
              "          docLink.innerHTML = docLinkHtml;\n",
              "          element.appendChild(docLink);\n",
              "        }\n",
              "      </script>\n",
              "    </div>\n",
              "  </div>\n",
              "  "
            ],
            "text/plain": [
              "     residenceCity residenceCityReported\n",
              "10             NaN               Unknown\n",
              "11             NaN               Unknown\n",
              "96             NaN               Unknown\n",
              "101            NaN               Unknown\n",
              "107            NaN               Unknown\n",
              "...            ...                   ...\n",
              "4872           NaN               Unknown\n",
              "4879           NaN               Unknown\n",
              "5017           NaN               Unknown\n",
              "5023           NaN               Unknown\n",
              "5046           NaN               Unknown\n",
              "\n",
              "[167 rows x 2 columns]"
            ]
          },
          "execution_count": null,
          "metadata": {},
          "output_type": "execute_result"
        }
      ],
      "source": [
        "accidents.loc[(accidents['residenceCity'].isna()) & (accidents['residenceCityReported'] != 'Missing City'), ['residenceCity', 'residenceCityReported']]"
      ]
    },
    {
      "cell_type": "markdown",
      "metadata": {
        "id": "eXbwqOLn7pCQ"
      },
      "source": [
        "There are no residenceCityReported values with which we can replace residenceCity column. :(\n",
        "\n",
        "Now let's explore the other city columns, injuryCity and deathCity column."
      ]
    },
    {
      "cell_type": "markdown",
      "metadata": {
        "id": "uoOw8A059f77"
      },
      "source": [
        "How many accidents have residenceCity column NaN and the injuryCityReported column not a missing value?"
      ]
    },
    {
      "cell_type": "code",
      "execution_count": null,
      "metadata": {
        "colab": {
          "background_save": true,
          "base_uri": "https://localhost:8080/",
          "height": 424
        },
        "id": "1axTvDFv44dz",
        "outputId": "47c8a571-a935-4233-8c66-8d232501166b"
      },
      "outputs": [
        {
          "data": {
            "text/html": [
              "\n",
              "  <div id=\"df-dc319f5d-70ae-427b-9236-c50d6db33e60\">\n",
              "    <div class=\"colab-df-container\">\n",
              "      <div>\n",
              "<style scoped>\n",
              "    .dataframe tbody tr th:only-of-type {\n",
              "        vertical-align: middle;\n",
              "    }\n",
              "\n",
              "    .dataframe tbody tr th {\n",
              "        vertical-align: top;\n",
              "    }\n",
              "\n",
              "    .dataframe thead th {\n",
              "        text-align: right;\n",
              "    }\n",
              "</style>\n",
              "<table border=\"1\" class=\"dataframe\">\n",
              "  <thead>\n",
              "    <tr style=\"text-align: right;\">\n",
              "      <th></th>\n",
              "      <th>residenceCity</th>\n",
              "      <th>injuryCityReported</th>\n",
              "    </tr>\n",
              "  </thead>\n",
              "  <tbody>\n",
              "    <tr>\n",
              "      <th>10</th>\n",
              "      <td>NaN</td>\n",
              "      <td>Unknown</td>\n",
              "    </tr>\n",
              "    <tr>\n",
              "      <th>11</th>\n",
              "      <td>NaN</td>\n",
              "      <td>Unknown</td>\n",
              "    </tr>\n",
              "    <tr>\n",
              "      <th>96</th>\n",
              "      <td>NaN</td>\n",
              "      <td>DANBURY</td>\n",
              "    </tr>\n",
              "    <tr>\n",
              "      <th>101</th>\n",
              "      <td>NaN</td>\n",
              "      <td>BRIDGEPORT</td>\n",
              "    </tr>\n",
              "    <tr>\n",
              "      <th>107</th>\n",
              "      <td>NaN</td>\n",
              "      <td>Unknown</td>\n",
              "    </tr>\n",
              "    <tr>\n",
              "      <th>...</th>\n",
              "      <td>...</td>\n",
              "      <td>...</td>\n",
              "    </tr>\n",
              "    <tr>\n",
              "      <th>4872</th>\n",
              "      <td>NaN</td>\n",
              "      <td>Unknown</td>\n",
              "    </tr>\n",
              "    <tr>\n",
              "      <th>4879</th>\n",
              "      <td>NaN</td>\n",
              "      <td>SUFFIELD</td>\n",
              "    </tr>\n",
              "    <tr>\n",
              "      <th>5017</th>\n",
              "      <td>NaN</td>\n",
              "      <td>Unknown</td>\n",
              "    </tr>\n",
              "    <tr>\n",
              "      <th>5023</th>\n",
              "      <td>NaN</td>\n",
              "      <td>Unknown</td>\n",
              "    </tr>\n",
              "    <tr>\n",
              "      <th>5046</th>\n",
              "      <td>NaN</td>\n",
              "      <td>Unknown</td>\n",
              "    </tr>\n",
              "  </tbody>\n",
              "</table>\n",
              "<p>167 rows × 2 columns</p>\n",
              "</div>\n",
              "      <button class=\"colab-df-convert\" onclick=\"convertToInteractive('df-dc319f5d-70ae-427b-9236-c50d6db33e60')\"\n",
              "              title=\"Convert this dataframe to an interactive table.\"\n",
              "              style=\"display:none;\">\n",
              "        \n",
              "  <svg xmlns=\"http://www.w3.org/2000/svg\" height=\"24px\"viewBox=\"0 0 24 24\"\n",
              "       width=\"24px\">\n",
              "    <path d=\"M0 0h24v24H0V0z\" fill=\"none\"/>\n",
              "    <path d=\"M18.56 5.44l.94 2.06.94-2.06 2.06-.94-2.06-.94-.94-2.06-.94 2.06-2.06.94zm-11 1L8.5 8.5l.94-2.06 2.06-.94-2.06-.94L8.5 2.5l-.94 2.06-2.06.94zm10 10l.94 2.06.94-2.06 2.06-.94-2.06-.94-.94-2.06-.94 2.06-2.06.94z\"/><path d=\"M17.41 7.96l-1.37-1.37c-.4-.4-.92-.59-1.43-.59-.52 0-1.04.2-1.43.59L10.3 9.45l-7.72 7.72c-.78.78-.78 2.05 0 2.83L4 21.41c.39.39.9.59 1.41.59.51 0 1.02-.2 1.41-.59l7.78-7.78 2.81-2.81c.8-.78.8-2.07 0-2.86zM5.41 20L4 18.59l7.72-7.72 1.47 1.35L5.41 20z\"/>\n",
              "  </svg>\n",
              "      </button>\n",
              "      \n",
              "  <style>\n",
              "    .colab-df-container {\n",
              "      display:flex;\n",
              "      flex-wrap:wrap;\n",
              "      gap: 12px;\n",
              "    }\n",
              "\n",
              "    .colab-df-convert {\n",
              "      background-color: #E8F0FE;\n",
              "      border: none;\n",
              "      border-radius: 50%;\n",
              "      cursor: pointer;\n",
              "      display: none;\n",
              "      fill: #1967D2;\n",
              "      height: 32px;\n",
              "      padding: 0 0 0 0;\n",
              "      width: 32px;\n",
              "    }\n",
              "\n",
              "    .colab-df-convert:hover {\n",
              "      background-color: #E2EBFA;\n",
              "      box-shadow: 0px 1px 2px rgba(60, 64, 67, 0.3), 0px 1px 3px 1px rgba(60, 64, 67, 0.15);\n",
              "      fill: #174EA6;\n",
              "    }\n",
              "\n",
              "    [theme=dark] .colab-df-convert {\n",
              "      background-color: #3B4455;\n",
              "      fill: #D2E3FC;\n",
              "    }\n",
              "\n",
              "    [theme=dark] .colab-df-convert:hover {\n",
              "      background-color: #434B5C;\n",
              "      box-shadow: 0px 1px 3px 1px rgba(0, 0, 0, 0.15);\n",
              "      filter: drop-shadow(0px 1px 2px rgba(0, 0, 0, 0.3));\n",
              "      fill: #FFFFFF;\n",
              "    }\n",
              "  </style>\n",
              "\n",
              "      <script>\n",
              "        const buttonEl =\n",
              "          document.querySelector('#df-dc319f5d-70ae-427b-9236-c50d6db33e60 button.colab-df-convert');\n",
              "        buttonEl.style.display =\n",
              "          google.colab.kernel.accessAllowed ? 'block' : 'none';\n",
              "\n",
              "        async function convertToInteractive(key) {\n",
              "          const element = document.querySelector('#df-dc319f5d-70ae-427b-9236-c50d6db33e60');\n",
              "          const dataTable =\n",
              "            await google.colab.kernel.invokeFunction('convertToInteractive',\n",
              "                                                     [key], {});\n",
              "          if (!dataTable) return;\n",
              "\n",
              "          const docLinkHtml = 'Like what you see? Visit the ' +\n",
              "            '<a target=\"_blank\" href=https://colab.research.google.com/notebooks/data_table.ipynb>data table notebook</a>'\n",
              "            + ' to learn more about interactive tables.';\n",
              "          element.innerHTML = '';\n",
              "          dataTable['output_type'] = 'display_data';\n",
              "          await google.colab.output.renderOutput(dataTable, element);\n",
              "          const docLink = document.createElement('div');\n",
              "          docLink.innerHTML = docLinkHtml;\n",
              "          element.appendChild(docLink);\n",
              "        }\n",
              "      </script>\n",
              "    </div>\n",
              "  </div>\n",
              "  "
            ],
            "text/plain": [
              "     residenceCity injuryCityReported\n",
              "10             NaN            Unknown\n",
              "11             NaN            Unknown\n",
              "96             NaN            DANBURY\n",
              "101            NaN         BRIDGEPORT\n",
              "107            NaN            Unknown\n",
              "...            ...                ...\n",
              "4872           NaN            Unknown\n",
              "4879           NaN           SUFFIELD\n",
              "5017           NaN            Unknown\n",
              "5023           NaN            Unknown\n",
              "5046           NaN            Unknown\n",
              "\n",
              "[167 rows x 2 columns]"
            ]
          },
          "execution_count": null,
          "metadata": {},
          "output_type": "execute_result"
        }
      ],
      "source": [
        "accidents.loc[(accidents['residenceCity'].isna()) & (accidents['injuryCityReported'] != 'Missing City'), ['residenceCity', 'injuryCityReported']]"
      ]
    },
    {
      "cell_type": "markdown",
      "metadata": {
        "id": "ihM1m0OJ9GpF"
      },
      "source": [
        "How many accidents hace residenceCity column Nan and the deathCityReported column not a missing value?"
      ]
    },
    {
      "cell_type": "code",
      "execution_count": null,
      "metadata": {
        "colab": {
          "background_save": true,
          "base_uri": "https://localhost:8080/",
          "height": 424
        },
        "id": "-KfZFDGp6Orc",
        "outputId": "0896bba3-d061-4d08-bd9f-8c0189126ae9"
      },
      "outputs": [
        {
          "data": {
            "text/html": [
              "\n",
              "  <div id=\"df-64e1f2f4-bfd0-4cc6-ab54-175d7d839e52\">\n",
              "    <div class=\"colab-df-container\">\n",
              "      <div>\n",
              "<style scoped>\n",
              "    .dataframe tbody tr th:only-of-type {\n",
              "        vertical-align: middle;\n",
              "    }\n",
              "\n",
              "    .dataframe tbody tr th {\n",
              "        vertical-align: top;\n",
              "    }\n",
              "\n",
              "    .dataframe thead th {\n",
              "        text-align: right;\n",
              "    }\n",
              "</style>\n",
              "<table border=\"1\" class=\"dataframe\">\n",
              "  <thead>\n",
              "    <tr style=\"text-align: right;\">\n",
              "      <th></th>\n",
              "      <th>residenceCity</th>\n",
              "      <th>deathCityReported</th>\n",
              "    </tr>\n",
              "  </thead>\n",
              "  <tbody>\n",
              "    <tr>\n",
              "      <th>10</th>\n",
              "      <td>NaN</td>\n",
              "      <td>STRATFORD</td>\n",
              "    </tr>\n",
              "    <tr>\n",
              "      <th>11</th>\n",
              "      <td>NaN</td>\n",
              "      <td>New Haven</td>\n",
              "    </tr>\n",
              "    <tr>\n",
              "      <th>96</th>\n",
              "      <td>NaN</td>\n",
              "      <td>Danbury</td>\n",
              "    </tr>\n",
              "    <tr>\n",
              "      <th>101</th>\n",
              "      <td>NaN</td>\n",
              "      <td>Bridgeport</td>\n",
              "    </tr>\n",
              "    <tr>\n",
              "      <th>107</th>\n",
              "      <td>NaN</td>\n",
              "      <td>Waterbury</td>\n",
              "    </tr>\n",
              "    <tr>\n",
              "      <th>...</th>\n",
              "      <td>...</td>\n",
              "      <td>...</td>\n",
              "    </tr>\n",
              "    <tr>\n",
              "      <th>4872</th>\n",
              "      <td>NaN</td>\n",
              "      <td>DANBURY</td>\n",
              "    </tr>\n",
              "    <tr>\n",
              "      <th>4879</th>\n",
              "      <td>NaN</td>\n",
              "      <td>SUFFIELD</td>\n",
              "    </tr>\n",
              "    <tr>\n",
              "      <th>5017</th>\n",
              "      <td>NaN</td>\n",
              "      <td>MERIDEN</td>\n",
              "    </tr>\n",
              "    <tr>\n",
              "      <th>5023</th>\n",
              "      <td>NaN</td>\n",
              "      <td>NEW LONDON</td>\n",
              "    </tr>\n",
              "    <tr>\n",
              "      <th>5046</th>\n",
              "      <td>NaN</td>\n",
              "      <td>WATERBURY</td>\n",
              "    </tr>\n",
              "  </tbody>\n",
              "</table>\n",
              "<p>167 rows × 2 columns</p>\n",
              "</div>\n",
              "      <button class=\"colab-df-convert\" onclick=\"convertToInteractive('df-64e1f2f4-bfd0-4cc6-ab54-175d7d839e52')\"\n",
              "              title=\"Convert this dataframe to an interactive table.\"\n",
              "              style=\"display:none;\">\n",
              "        \n",
              "  <svg xmlns=\"http://www.w3.org/2000/svg\" height=\"24px\"viewBox=\"0 0 24 24\"\n",
              "       width=\"24px\">\n",
              "    <path d=\"M0 0h24v24H0V0z\" fill=\"none\"/>\n",
              "    <path d=\"M18.56 5.44l.94 2.06.94-2.06 2.06-.94-2.06-.94-.94-2.06-.94 2.06-2.06.94zm-11 1L8.5 8.5l.94-2.06 2.06-.94-2.06-.94L8.5 2.5l-.94 2.06-2.06.94zm10 10l.94 2.06.94-2.06 2.06-.94-2.06-.94-.94-2.06-.94 2.06-2.06.94z\"/><path d=\"M17.41 7.96l-1.37-1.37c-.4-.4-.92-.59-1.43-.59-.52 0-1.04.2-1.43.59L10.3 9.45l-7.72 7.72c-.78.78-.78 2.05 0 2.83L4 21.41c.39.39.9.59 1.41.59.51 0 1.02-.2 1.41-.59l7.78-7.78 2.81-2.81c.8-.78.8-2.07 0-2.86zM5.41 20L4 18.59l7.72-7.72 1.47 1.35L5.41 20z\"/>\n",
              "  </svg>\n",
              "      </button>\n",
              "      \n",
              "  <style>\n",
              "    .colab-df-container {\n",
              "      display:flex;\n",
              "      flex-wrap:wrap;\n",
              "      gap: 12px;\n",
              "    }\n",
              "\n",
              "    .colab-df-convert {\n",
              "      background-color: #E8F0FE;\n",
              "      border: none;\n",
              "      border-radius: 50%;\n",
              "      cursor: pointer;\n",
              "      display: none;\n",
              "      fill: #1967D2;\n",
              "      height: 32px;\n",
              "      padding: 0 0 0 0;\n",
              "      width: 32px;\n",
              "    }\n",
              "\n",
              "    .colab-df-convert:hover {\n",
              "      background-color: #E2EBFA;\n",
              "      box-shadow: 0px 1px 2px rgba(60, 64, 67, 0.3), 0px 1px 3px 1px rgba(60, 64, 67, 0.15);\n",
              "      fill: #174EA6;\n",
              "    }\n",
              "\n",
              "    [theme=dark] .colab-df-convert {\n",
              "      background-color: #3B4455;\n",
              "      fill: #D2E3FC;\n",
              "    }\n",
              "\n",
              "    [theme=dark] .colab-df-convert:hover {\n",
              "      background-color: #434B5C;\n",
              "      box-shadow: 0px 1px 3px 1px rgba(0, 0, 0, 0.15);\n",
              "      filter: drop-shadow(0px 1px 2px rgba(0, 0, 0, 0.3));\n",
              "      fill: #FFFFFF;\n",
              "    }\n",
              "  </style>\n",
              "\n",
              "      <script>\n",
              "        const buttonEl =\n",
              "          document.querySelector('#df-64e1f2f4-bfd0-4cc6-ab54-175d7d839e52 button.colab-df-convert');\n",
              "        buttonEl.style.display =\n",
              "          google.colab.kernel.accessAllowed ? 'block' : 'none';\n",
              "\n",
              "        async function convertToInteractive(key) {\n",
              "          const element = document.querySelector('#df-64e1f2f4-bfd0-4cc6-ab54-175d7d839e52');\n",
              "          const dataTable =\n",
              "            await google.colab.kernel.invokeFunction('convertToInteractive',\n",
              "                                                     [key], {});\n",
              "          if (!dataTable) return;\n",
              "\n",
              "          const docLinkHtml = 'Like what you see? Visit the ' +\n",
              "            '<a target=\"_blank\" href=https://colab.research.google.com/notebooks/data_table.ipynb>data table notebook</a>'\n",
              "            + ' to learn more about interactive tables.';\n",
              "          element.innerHTML = '';\n",
              "          dataTable['output_type'] = 'display_data';\n",
              "          await google.colab.output.renderOutput(dataTable, element);\n",
              "          const docLink = document.createElement('div');\n",
              "          docLink.innerHTML = docLinkHtml;\n",
              "          element.appendChild(docLink);\n",
              "        }\n",
              "      </script>\n",
              "    </div>\n",
              "  </div>\n",
              "  "
            ],
            "text/plain": [
              "     residenceCity deathCityReported\n",
              "10             NaN         STRATFORD\n",
              "11             NaN         New Haven\n",
              "96             NaN           Danbury\n",
              "101            NaN        Bridgeport\n",
              "107            NaN         Waterbury\n",
              "...            ...               ...\n",
              "4872           NaN           DANBURY\n",
              "4879           NaN          SUFFIELD\n",
              "5017           NaN           MERIDEN\n",
              "5023           NaN        NEW LONDON\n",
              "5046           NaN         WATERBURY\n",
              "\n",
              "[167 rows x 2 columns]"
            ]
          },
          "execution_count": null,
          "metadata": {},
          "output_type": "execute_result"
        }
      ],
      "source": [
        "accidents.loc[(accidents['residenceCity'].isna()) & (accidents['deathCityReported'] != 'Missing City'), ['residenceCity', 'deathCityReported']]"
      ]
    },
    {
      "cell_type": "markdown",
      "metadata": {
        "id": "FJGOnlZX9RDa"
      },
      "source": [
        "How many accidents have residenceCity column NaN and in the same time the injuryCityReported column and deathCityReported column have the same cities?"
      ]
    },
    {
      "cell_type": "code",
      "execution_count": null,
      "metadata": {
        "colab": {
          "background_save": true,
          "base_uri": "https://localhost:8080/",
          "height": 424
        },
        "id": "3AAnAnax6wqk",
        "outputId": "6ed627e7-7733-4ecc-f3ce-6ce0d9bc8e5b"
      },
      "outputs": [
        {
          "data": {
            "text/html": [
              "\n",
              "  <div id=\"df-75db2b06-8019-4ee5-8751-694faf735658\">\n",
              "    <div class=\"colab-df-container\">\n",
              "      <div>\n",
              "<style scoped>\n",
              "    .dataframe tbody tr th:only-of-type {\n",
              "        vertical-align: middle;\n",
              "    }\n",
              "\n",
              "    .dataframe tbody tr th {\n",
              "        vertical-align: top;\n",
              "    }\n",
              "\n",
              "    .dataframe thead th {\n",
              "        text-align: right;\n",
              "    }\n",
              "</style>\n",
              "<table border=\"1\" class=\"dataframe\">\n",
              "  <thead>\n",
              "    <tr style=\"text-align: right;\">\n",
              "      <th></th>\n",
              "      <th>residenceCity</th>\n",
              "      <th>injuryCityReported</th>\n",
              "      <th>deathCityReported</th>\n",
              "    </tr>\n",
              "  </thead>\n",
              "  <tbody>\n",
              "    <tr>\n",
              "      <th>96</th>\n",
              "      <td>NaN</td>\n",
              "      <td>DANBURY</td>\n",
              "      <td>Danbury</td>\n",
              "    </tr>\n",
              "    <tr>\n",
              "      <th>101</th>\n",
              "      <td>NaN</td>\n",
              "      <td>BRIDGEPORT</td>\n",
              "      <td>Bridgeport</td>\n",
              "    </tr>\n",
              "    <tr>\n",
              "      <th>151</th>\n",
              "      <td>NaN</td>\n",
              "      <td>BURLINGTON</td>\n",
              "      <td>BURLINGTON</td>\n",
              "    </tr>\n",
              "    <tr>\n",
              "      <th>235</th>\n",
              "      <td>NaN</td>\n",
              "      <td>HARTFORD</td>\n",
              "      <td>Hartford</td>\n",
              "    </tr>\n",
              "    <tr>\n",
              "      <th>244</th>\n",
              "      <td>NaN</td>\n",
              "      <td>EAST HARTFORD</td>\n",
              "      <td>East Hartford</td>\n",
              "    </tr>\n",
              "    <tr>\n",
              "      <th>...</th>\n",
              "      <td>...</td>\n",
              "      <td>...</td>\n",
              "      <td>...</td>\n",
              "    </tr>\n",
              "    <tr>\n",
              "      <th>4802</th>\n",
              "      <td>NaN</td>\n",
              "      <td>BRIDGEPORT</td>\n",
              "      <td>BRIDGEPORT</td>\n",
              "    </tr>\n",
              "    <tr>\n",
              "      <th>4803</th>\n",
              "      <td>NaN</td>\n",
              "      <td>BROOKFIELD</td>\n",
              "      <td>Brookfield</td>\n",
              "    </tr>\n",
              "    <tr>\n",
              "      <th>4843</th>\n",
              "      <td>NaN</td>\n",
              "      <td>NEW HAVEN</td>\n",
              "      <td>NEW HAVEN</td>\n",
              "    </tr>\n",
              "    <tr>\n",
              "      <th>4862</th>\n",
              "      <td>NaN</td>\n",
              "      <td>BRIDGEPORT</td>\n",
              "      <td>Bridgeport</td>\n",
              "    </tr>\n",
              "    <tr>\n",
              "      <th>4879</th>\n",
              "      <td>NaN</td>\n",
              "      <td>SUFFIELD</td>\n",
              "      <td>SUFFIELD</td>\n",
              "    </tr>\n",
              "  </tbody>\n",
              "</table>\n",
              "<p>108 rows × 3 columns</p>\n",
              "</div>\n",
              "      <button class=\"colab-df-convert\" onclick=\"convertToInteractive('df-75db2b06-8019-4ee5-8751-694faf735658')\"\n",
              "              title=\"Convert this dataframe to an interactive table.\"\n",
              "              style=\"display:none;\">\n",
              "        \n",
              "  <svg xmlns=\"http://www.w3.org/2000/svg\" height=\"24px\"viewBox=\"0 0 24 24\"\n",
              "       width=\"24px\">\n",
              "    <path d=\"M0 0h24v24H0V0z\" fill=\"none\"/>\n",
              "    <path d=\"M18.56 5.44l.94 2.06.94-2.06 2.06-.94-2.06-.94-.94-2.06-.94 2.06-2.06.94zm-11 1L8.5 8.5l.94-2.06 2.06-.94-2.06-.94L8.5 2.5l-.94 2.06-2.06.94zm10 10l.94 2.06.94-2.06 2.06-.94-2.06-.94-.94-2.06-.94 2.06-2.06.94z\"/><path d=\"M17.41 7.96l-1.37-1.37c-.4-.4-.92-.59-1.43-.59-.52 0-1.04.2-1.43.59L10.3 9.45l-7.72 7.72c-.78.78-.78 2.05 0 2.83L4 21.41c.39.39.9.59 1.41.59.51 0 1.02-.2 1.41-.59l7.78-7.78 2.81-2.81c.8-.78.8-2.07 0-2.86zM5.41 20L4 18.59l7.72-7.72 1.47 1.35L5.41 20z\"/>\n",
              "  </svg>\n",
              "      </button>\n",
              "      \n",
              "  <style>\n",
              "    .colab-df-container {\n",
              "      display:flex;\n",
              "      flex-wrap:wrap;\n",
              "      gap: 12px;\n",
              "    }\n",
              "\n",
              "    .colab-df-convert {\n",
              "      background-color: #E8F0FE;\n",
              "      border: none;\n",
              "      border-radius: 50%;\n",
              "      cursor: pointer;\n",
              "      display: none;\n",
              "      fill: #1967D2;\n",
              "      height: 32px;\n",
              "      padding: 0 0 0 0;\n",
              "      width: 32px;\n",
              "    }\n",
              "\n",
              "    .colab-df-convert:hover {\n",
              "      background-color: #E2EBFA;\n",
              "      box-shadow: 0px 1px 2px rgba(60, 64, 67, 0.3), 0px 1px 3px 1px rgba(60, 64, 67, 0.15);\n",
              "      fill: #174EA6;\n",
              "    }\n",
              "\n",
              "    [theme=dark] .colab-df-convert {\n",
              "      background-color: #3B4455;\n",
              "      fill: #D2E3FC;\n",
              "    }\n",
              "\n",
              "    [theme=dark] .colab-df-convert:hover {\n",
              "      background-color: #434B5C;\n",
              "      box-shadow: 0px 1px 3px 1px rgba(0, 0, 0, 0.15);\n",
              "      filter: drop-shadow(0px 1px 2px rgba(0, 0, 0, 0.3));\n",
              "      fill: #FFFFFF;\n",
              "    }\n",
              "  </style>\n",
              "\n",
              "      <script>\n",
              "        const buttonEl =\n",
              "          document.querySelector('#df-75db2b06-8019-4ee5-8751-694faf735658 button.colab-df-convert');\n",
              "        buttonEl.style.display =\n",
              "          google.colab.kernel.accessAllowed ? 'block' : 'none';\n",
              "\n",
              "        async function convertToInteractive(key) {\n",
              "          const element = document.querySelector('#df-75db2b06-8019-4ee5-8751-694faf735658');\n",
              "          const dataTable =\n",
              "            await google.colab.kernel.invokeFunction('convertToInteractive',\n",
              "                                                     [key], {});\n",
              "          if (!dataTable) return;\n",
              "\n",
              "          const docLinkHtml = 'Like what you see? Visit the ' +\n",
              "            '<a target=\"_blank\" href=https://colab.research.google.com/notebooks/data_table.ipynb>data table notebook</a>'\n",
              "            + ' to learn more about interactive tables.';\n",
              "          element.innerHTML = '';\n",
              "          dataTable['output_type'] = 'display_data';\n",
              "          await google.colab.output.renderOutput(dataTable, element);\n",
              "          const docLink = document.createElement('div');\n",
              "          docLink.innerHTML = docLinkHtml;\n",
              "          element.appendChild(docLink);\n",
              "        }\n",
              "      </script>\n",
              "    </div>\n",
              "  </div>\n",
              "  "
            ],
            "text/plain": [
              "     residenceCity injuryCityReported deathCityReported\n",
              "96             NaN            DANBURY           Danbury\n",
              "101            NaN         BRIDGEPORT        Bridgeport\n",
              "151            NaN         BURLINGTON        BURLINGTON\n",
              "235            NaN           HARTFORD          Hartford\n",
              "244            NaN      EAST HARTFORD     East Hartford\n",
              "...            ...                ...               ...\n",
              "4802           NaN         BRIDGEPORT        BRIDGEPORT\n",
              "4803           NaN         BROOKFIELD        Brookfield\n",
              "4843           NaN          NEW HAVEN         NEW HAVEN\n",
              "4862           NaN         BRIDGEPORT        Bridgeport\n",
              "4879           NaN           SUFFIELD          SUFFIELD\n",
              "\n",
              "[108 rows x 3 columns]"
            ]
          },
          "execution_count": null,
          "metadata": {},
          "output_type": "execute_result"
        }
      ],
      "source": [
        "accidents_with_city = accidents.loc[(accidents['residenceCity'].isna()) & (accidents['deathCityReported'].str.upper() == accidents['injuryCityReported'].str.upper()) & (accidents['injuryCityReported'] != 'Missing City'), ['residenceCity', 'injuryCityReported', 'deathCityReported']]\n",
        "accidents_with_city"
      ]
    },
    {
      "cell_type": "markdown",
      "metadata": {
        "id": "Nyd0WBJ0-Bit"
      },
      "source": [
        "So, what we have found:\n",
        "\n",
        "The bad news:\n",
        "\n",
        "- 167 values are missing for residenceCity column;\n",
        "- from these 167 accidents, we don't have any value in residenceCityReported.\n",
        "\n",
        "The good news:\n",
        "\n",
        "- From 167 accidents, we have 167 values for deathCityReported.\n",
        "- From 167 accidents, we have 112 values for injuryCityReported.\n",
        "- From 167 accidents, we have 108 cases that present the same non NaN values for deathCityReported and injuryCityReported. \n",
        "\n"
      ]
    },
    {
      "cell_type": "markdown",
      "metadata": {
        "id": "mRjoNzvR_R-S"
      },
      "source": [
        "What will we do next?\n",
        "\n",
        "We will asumme that the person lived in the same city he died or he harmed himself.\n",
        "\n",
        "- 1. We will complete the residenceCity column with 108 values (those values that are the same for deathCityReported and injuryCityReported columns). \n",
        "- 2. For the rest of 59 cases we will take the same decision (167-108 = 59 cases), we will see that it is not neceessary to divide the cases in 108 cases and 59 cases, but I'll do it anyway because it's a good practice to check things, they could be different.  "
      ]
    },
    {
      "cell_type": "code",
      "execution_count": null,
      "metadata": {
        "colab": {
          "background_save": true
        },
        "id": "g61EDDOq0VWI"
      },
      "outputs": [],
      "source": [
        "accidents_test = accidents.copy()"
      ]
    },
    {
      "cell_type": "code",
      "execution_count": null,
      "metadata": {
        "colab": {
          "background_save": true
        },
        "id": "bxd91iCcAU3i"
      },
      "outputs": [],
      "source": [
        "accidents.loc[list(accidents_with_city.index), 'residenceCity'] = accidents_with_city['deathCityReported']"
      ]
    },
    {
      "cell_type": "code",
      "execution_count": null,
      "metadata": {
        "colab": {
          "background_save": true
        },
        "id": "5V2_H_YCLuBc"
      },
      "outputs": [],
      "source": [
        "assert accidents['residenceCity'].isna().sum() == number_of_NaN_residenceCity - accidents_with_city.shape[0]"
      ]
    },
    {
      "cell_type": "markdown",
      "metadata": {
        "id": "TkjtW1VGMjsb"
      },
      "source": [
        "Now, let's see what to do with these 59 values. We remember that the deathCityReported had values for all NaN values found in residenceCity column."
      ]
    },
    {
      "cell_type": "code",
      "execution_count": null,
      "metadata": {
        "colab": {
          "background_save": true,
          "base_uri": "https://localhost:8080/",
          "height": 1000
        },
        "id": "Q_WhD1f9Pczl",
        "outputId": "d5854a99-8894-44bc-80d6-c13f92c043ed"
      },
      "outputs": [
        {
          "data": {
            "text/html": [
              "\n",
              "  <div id=\"df-fd7edc3c-1e43-4e99-9eeb-225d6afa3179\">\n",
              "    <div class=\"colab-df-container\">\n",
              "      <div>\n",
              "<style scoped>\n",
              "    .dataframe tbody tr th:only-of-type {\n",
              "        vertical-align: middle;\n",
              "    }\n",
              "\n",
              "    .dataframe tbody tr th {\n",
              "        vertical-align: top;\n",
              "    }\n",
              "\n",
              "    .dataframe thead th {\n",
              "        text-align: right;\n",
              "    }\n",
              "</style>\n",
              "<table border=\"1\" class=\"dataframe\">\n",
              "  <thead>\n",
              "    <tr style=\"text-align: right;\">\n",
              "      <th></th>\n",
              "      <th>residenceCity</th>\n",
              "      <th>deathCityReported</th>\n",
              "    </tr>\n",
              "  </thead>\n",
              "  <tbody>\n",
              "    <tr>\n",
              "      <th>10</th>\n",
              "      <td>NaN</td>\n",
              "      <td>STRATFORD</td>\n",
              "    </tr>\n",
              "    <tr>\n",
              "      <th>11</th>\n",
              "      <td>NaN</td>\n",
              "      <td>New Haven</td>\n",
              "    </tr>\n",
              "    <tr>\n",
              "      <th>107</th>\n",
              "      <td>NaN</td>\n",
              "      <td>Waterbury</td>\n",
              "    </tr>\n",
              "    <tr>\n",
              "      <th>294</th>\n",
              "      <td>NaN</td>\n",
              "      <td>STAMFORD</td>\n",
              "    </tr>\n",
              "    <tr>\n",
              "      <th>312</th>\n",
              "      <td>NaN</td>\n",
              "      <td>WILLIMANTIC</td>\n",
              "    </tr>\n",
              "    <tr>\n",
              "      <th>350</th>\n",
              "      <td>NaN</td>\n",
              "      <td>MIDDLETOWN</td>\n",
              "    </tr>\n",
              "    <tr>\n",
              "      <th>513</th>\n",
              "      <td>NaN</td>\n",
              "      <td>NEW HAVEN</td>\n",
              "    </tr>\n",
              "    <tr>\n",
              "      <th>565</th>\n",
              "      <td>NaN</td>\n",
              "      <td>Hartford</td>\n",
              "    </tr>\n",
              "    <tr>\n",
              "      <th>571</th>\n",
              "      <td>NaN</td>\n",
              "      <td>WATERBURY</td>\n",
              "    </tr>\n",
              "    <tr>\n",
              "      <th>668</th>\n",
              "      <td>NaN</td>\n",
              "      <td>Stafford Springs</td>\n",
              "    </tr>\n",
              "    <tr>\n",
              "      <th>691</th>\n",
              "      <td>NaN</td>\n",
              "      <td>NEW LONDON</td>\n",
              "    </tr>\n",
              "    <tr>\n",
              "      <th>733</th>\n",
              "      <td>NaN</td>\n",
              "      <td>Hartford</td>\n",
              "    </tr>\n",
              "    <tr>\n",
              "      <th>763</th>\n",
              "      <td>NaN</td>\n",
              "      <td>Hartford</td>\n",
              "    </tr>\n",
              "    <tr>\n",
              "      <th>772</th>\n",
              "      <td>NaN</td>\n",
              "      <td>DANBURY</td>\n",
              "    </tr>\n",
              "    <tr>\n",
              "      <th>817</th>\n",
              "      <td>NaN</td>\n",
              "      <td>MILFORD</td>\n",
              "    </tr>\n",
              "    <tr>\n",
              "      <th>949</th>\n",
              "      <td>NaN</td>\n",
              "      <td>ENFIELD</td>\n",
              "    </tr>\n",
              "    <tr>\n",
              "      <th>951</th>\n",
              "      <td>NaN</td>\n",
              "      <td>Hartford</td>\n",
              "    </tr>\n",
              "    <tr>\n",
              "      <th>1054</th>\n",
              "      <td>NaN</td>\n",
              "      <td>Hartford</td>\n",
              "    </tr>\n",
              "    <tr>\n",
              "      <th>1089</th>\n",
              "      <td>NaN</td>\n",
              "      <td>PLAINFIELD</td>\n",
              "    </tr>\n",
              "    <tr>\n",
              "      <th>1122</th>\n",
              "      <td>NaN</td>\n",
              "      <td>Hartford</td>\n",
              "    </tr>\n",
              "    <tr>\n",
              "      <th>1198</th>\n",
              "      <td>NaN</td>\n",
              "      <td>New London</td>\n",
              "    </tr>\n",
              "    <tr>\n",
              "      <th>1355</th>\n",
              "      <td>NaN</td>\n",
              "      <td>NEW BRITAIN</td>\n",
              "    </tr>\n",
              "    <tr>\n",
              "      <th>1449</th>\n",
              "      <td>NaN</td>\n",
              "      <td>STAMFORD</td>\n",
              "    </tr>\n",
              "    <tr>\n",
              "      <th>1505</th>\n",
              "      <td>NaN</td>\n",
              "      <td>NEW LONDON</td>\n",
              "    </tr>\n",
              "    <tr>\n",
              "      <th>1549</th>\n",
              "      <td>NaN</td>\n",
              "      <td>EAST HARTFORD</td>\n",
              "    </tr>\n",
              "    <tr>\n",
              "      <th>1639</th>\n",
              "      <td>NaN</td>\n",
              "      <td>NEW HAVEN</td>\n",
              "    </tr>\n",
              "    <tr>\n",
              "      <th>1663</th>\n",
              "      <td>NaN</td>\n",
              "      <td>Hartford</td>\n",
              "    </tr>\n",
              "    <tr>\n",
              "      <th>1815</th>\n",
              "      <td>NaN</td>\n",
              "      <td>New Britain</td>\n",
              "    </tr>\n",
              "    <tr>\n",
              "      <th>1991</th>\n",
              "      <td>NaN</td>\n",
              "      <td>NEW HAVEN</td>\n",
              "    </tr>\n",
              "    <tr>\n",
              "      <th>2058</th>\n",
              "      <td>NaN</td>\n",
              "      <td>New Haven</td>\n",
              "    </tr>\n",
              "    <tr>\n",
              "      <th>2398</th>\n",
              "      <td>NaN</td>\n",
              "      <td>NEW HAVEN</td>\n",
              "    </tr>\n",
              "    <tr>\n",
              "      <th>2477</th>\n",
              "      <td>NaN</td>\n",
              "      <td>Bridgeport</td>\n",
              "    </tr>\n",
              "    <tr>\n",
              "      <th>2606</th>\n",
              "      <td>NaN</td>\n",
              "      <td>HARTFORD</td>\n",
              "    </tr>\n",
              "    <tr>\n",
              "      <th>2647</th>\n",
              "      <td>NaN</td>\n",
              "      <td>GROTON</td>\n",
              "    </tr>\n",
              "    <tr>\n",
              "      <th>2676</th>\n",
              "      <td>NaN</td>\n",
              "      <td>DANBURY</td>\n",
              "    </tr>\n",
              "    <tr>\n",
              "      <th>2689</th>\n",
              "      <td>NaN</td>\n",
              "      <td>New Haven</td>\n",
              "    </tr>\n",
              "    <tr>\n",
              "      <th>2755</th>\n",
              "      <td>NaN</td>\n",
              "      <td>Norwalk</td>\n",
              "    </tr>\n",
              "    <tr>\n",
              "      <th>2788</th>\n",
              "      <td>NaN</td>\n",
              "      <td>Danbury</td>\n",
              "    </tr>\n",
              "    <tr>\n",
              "      <th>2817</th>\n",
              "      <td>NaN</td>\n",
              "      <td>GLASTONBURY</td>\n",
              "    </tr>\n",
              "    <tr>\n",
              "      <th>2839</th>\n",
              "      <td>NaN</td>\n",
              "      <td>BRISTOL</td>\n",
              "    </tr>\n",
              "    <tr>\n",
              "      <th>3103</th>\n",
              "      <td>NaN</td>\n",
              "      <td>Hartford</td>\n",
              "    </tr>\n",
              "    <tr>\n",
              "      <th>3216</th>\n",
              "      <td>NaN</td>\n",
              "      <td>NIANTIC</td>\n",
              "    </tr>\n",
              "    <tr>\n",
              "      <th>3233</th>\n",
              "      <td>NaN</td>\n",
              "      <td>BRIDGEPORT</td>\n",
              "    </tr>\n",
              "    <tr>\n",
              "      <th>3951</th>\n",
              "      <td>NaN</td>\n",
              "      <td>NEW HAVEN</td>\n",
              "    </tr>\n",
              "    <tr>\n",
              "      <th>4153</th>\n",
              "      <td>NaN</td>\n",
              "      <td>NEW BRITAIN</td>\n",
              "    </tr>\n",
              "    <tr>\n",
              "      <th>4194</th>\n",
              "      <td>NaN</td>\n",
              "      <td>East Hartford</td>\n",
              "    </tr>\n",
              "    <tr>\n",
              "      <th>4400</th>\n",
              "      <td>NaN</td>\n",
              "      <td>EAST HARTFORD</td>\n",
              "    </tr>\n",
              "    <tr>\n",
              "      <th>4419</th>\n",
              "      <td>NaN</td>\n",
              "      <td>HARTFORD</td>\n",
              "    </tr>\n",
              "    <tr>\n",
              "      <th>4520</th>\n",
              "      <td>NaN</td>\n",
              "      <td>MERIDEN</td>\n",
              "    </tr>\n",
              "    <tr>\n",
              "      <th>4569</th>\n",
              "      <td>NaN</td>\n",
              "      <td>New Cannan</td>\n",
              "    </tr>\n",
              "    <tr>\n",
              "      <th>4579</th>\n",
              "      <td>NaN</td>\n",
              "      <td>Hartford</td>\n",
              "    </tr>\n",
              "    <tr>\n",
              "      <th>4655</th>\n",
              "      <td>NaN</td>\n",
              "      <td>NORWICH</td>\n",
              "    </tr>\n",
              "    <tr>\n",
              "      <th>4687</th>\n",
              "      <td>NaN</td>\n",
              "      <td>MILFORD</td>\n",
              "    </tr>\n",
              "    <tr>\n",
              "      <th>4701</th>\n",
              "      <td>NaN</td>\n",
              "      <td>DANBURY</td>\n",
              "    </tr>\n",
              "    <tr>\n",
              "      <th>4866</th>\n",
              "      <td>NaN</td>\n",
              "      <td>WETHERSFIELD</td>\n",
              "    </tr>\n",
              "    <tr>\n",
              "      <th>4872</th>\n",
              "      <td>NaN</td>\n",
              "      <td>DANBURY</td>\n",
              "    </tr>\n",
              "    <tr>\n",
              "      <th>5017</th>\n",
              "      <td>NaN</td>\n",
              "      <td>MERIDEN</td>\n",
              "    </tr>\n",
              "    <tr>\n",
              "      <th>5023</th>\n",
              "      <td>NaN</td>\n",
              "      <td>NEW LONDON</td>\n",
              "    </tr>\n",
              "    <tr>\n",
              "      <th>5046</th>\n",
              "      <td>NaN</td>\n",
              "      <td>WATERBURY</td>\n",
              "    </tr>\n",
              "  </tbody>\n",
              "</table>\n",
              "</div>\n",
              "      <button class=\"colab-df-convert\" onclick=\"convertToInteractive('df-fd7edc3c-1e43-4e99-9eeb-225d6afa3179')\"\n",
              "              title=\"Convert this dataframe to an interactive table.\"\n",
              "              style=\"display:none;\">\n",
              "        \n",
              "  <svg xmlns=\"http://www.w3.org/2000/svg\" height=\"24px\"viewBox=\"0 0 24 24\"\n",
              "       width=\"24px\">\n",
              "    <path d=\"M0 0h24v24H0V0z\" fill=\"none\"/>\n",
              "    <path d=\"M18.56 5.44l.94 2.06.94-2.06 2.06-.94-2.06-.94-.94-2.06-.94 2.06-2.06.94zm-11 1L8.5 8.5l.94-2.06 2.06-.94-2.06-.94L8.5 2.5l-.94 2.06-2.06.94zm10 10l.94 2.06.94-2.06 2.06-.94-2.06-.94-.94-2.06-.94 2.06-2.06.94z\"/><path d=\"M17.41 7.96l-1.37-1.37c-.4-.4-.92-.59-1.43-.59-.52 0-1.04.2-1.43.59L10.3 9.45l-7.72 7.72c-.78.78-.78 2.05 0 2.83L4 21.41c.39.39.9.59 1.41.59.51 0 1.02-.2 1.41-.59l7.78-7.78 2.81-2.81c.8-.78.8-2.07 0-2.86zM5.41 20L4 18.59l7.72-7.72 1.47 1.35L5.41 20z\"/>\n",
              "  </svg>\n",
              "      </button>\n",
              "      \n",
              "  <style>\n",
              "    .colab-df-container {\n",
              "      display:flex;\n",
              "      flex-wrap:wrap;\n",
              "      gap: 12px;\n",
              "    }\n",
              "\n",
              "    .colab-df-convert {\n",
              "      background-color: #E8F0FE;\n",
              "      border: none;\n",
              "      border-radius: 50%;\n",
              "      cursor: pointer;\n",
              "      display: none;\n",
              "      fill: #1967D2;\n",
              "      height: 32px;\n",
              "      padding: 0 0 0 0;\n",
              "      width: 32px;\n",
              "    }\n",
              "\n",
              "    .colab-df-convert:hover {\n",
              "      background-color: #E2EBFA;\n",
              "      box-shadow: 0px 1px 2px rgba(60, 64, 67, 0.3), 0px 1px 3px 1px rgba(60, 64, 67, 0.15);\n",
              "      fill: #174EA6;\n",
              "    }\n",
              "\n",
              "    [theme=dark] .colab-df-convert {\n",
              "      background-color: #3B4455;\n",
              "      fill: #D2E3FC;\n",
              "    }\n",
              "\n",
              "    [theme=dark] .colab-df-convert:hover {\n",
              "      background-color: #434B5C;\n",
              "      box-shadow: 0px 1px 3px 1px rgba(0, 0, 0, 0.15);\n",
              "      filter: drop-shadow(0px 1px 2px rgba(0, 0, 0, 0.3));\n",
              "      fill: #FFFFFF;\n",
              "    }\n",
              "  </style>\n",
              "\n",
              "      <script>\n",
              "        const buttonEl =\n",
              "          document.querySelector('#df-fd7edc3c-1e43-4e99-9eeb-225d6afa3179 button.colab-df-convert');\n",
              "        buttonEl.style.display =\n",
              "          google.colab.kernel.accessAllowed ? 'block' : 'none';\n",
              "\n",
              "        async function convertToInteractive(key) {\n",
              "          const element = document.querySelector('#df-fd7edc3c-1e43-4e99-9eeb-225d6afa3179');\n",
              "          const dataTable =\n",
              "            await google.colab.kernel.invokeFunction('convertToInteractive',\n",
              "                                                     [key], {});\n",
              "          if (!dataTable) return;\n",
              "\n",
              "          const docLinkHtml = 'Like what you see? Visit the ' +\n",
              "            '<a target=\"_blank\" href=https://colab.research.google.com/notebooks/data_table.ipynb>data table notebook</a>'\n",
              "            + ' to learn more about interactive tables.';\n",
              "          element.innerHTML = '';\n",
              "          dataTable['output_type'] = 'display_data';\n",
              "          await google.colab.output.renderOutput(dataTable, element);\n",
              "          const docLink = document.createElement('div');\n",
              "          docLink.innerHTML = docLinkHtml;\n",
              "          element.appendChild(docLink);\n",
              "        }\n",
              "      </script>\n",
              "    </div>\n",
              "  </div>\n",
              "  "
            ],
            "text/plain": [
              "     residenceCity deathCityReported\n",
              "10             NaN         STRATFORD\n",
              "11             NaN         New Haven\n",
              "107            NaN         Waterbury\n",
              "294            NaN          STAMFORD\n",
              "312            NaN       WILLIMANTIC\n",
              "350            NaN        MIDDLETOWN\n",
              "513            NaN         NEW HAVEN\n",
              "565            NaN          Hartford\n",
              "571            NaN         WATERBURY\n",
              "668            NaN  Stafford Springs\n",
              "691            NaN        NEW LONDON\n",
              "733            NaN          Hartford\n",
              "763            NaN          Hartford\n",
              "772            NaN           DANBURY\n",
              "817            NaN           MILFORD\n",
              "949            NaN           ENFIELD\n",
              "951            NaN          Hartford\n",
              "1054           NaN          Hartford\n",
              "1089           NaN        PLAINFIELD\n",
              "1122           NaN          Hartford\n",
              "1198           NaN        New London\n",
              "1355           NaN       NEW BRITAIN\n",
              "1449           NaN          STAMFORD\n",
              "1505           NaN        NEW LONDON\n",
              "1549           NaN     EAST HARTFORD\n",
              "1639           NaN         NEW HAVEN\n",
              "1663           NaN          Hartford\n",
              "1815           NaN       New Britain\n",
              "1991           NaN         NEW HAVEN\n",
              "2058           NaN         New Haven\n",
              "2398           NaN         NEW HAVEN\n",
              "2477           NaN        Bridgeport\n",
              "2606           NaN          HARTFORD\n",
              "2647           NaN            GROTON\n",
              "2676           NaN           DANBURY\n",
              "2689           NaN         New Haven\n",
              "2755           NaN           Norwalk\n",
              "2788           NaN           Danbury\n",
              "2817           NaN       GLASTONBURY\n",
              "2839           NaN           BRISTOL\n",
              "3103           NaN          Hartford\n",
              "3216           NaN           NIANTIC\n",
              "3233           NaN        BRIDGEPORT\n",
              "3951           NaN         NEW HAVEN\n",
              "4153           NaN       NEW BRITAIN\n",
              "4194           NaN     East Hartford\n",
              "4400           NaN     EAST HARTFORD\n",
              "4419           NaN          HARTFORD\n",
              "4520           NaN           MERIDEN\n",
              "4569           NaN        New Cannan\n",
              "4579           NaN          Hartford\n",
              "4655           NaN           NORWICH\n",
              "4687           NaN           MILFORD\n",
              "4701           NaN           DANBURY\n",
              "4866           NaN      WETHERSFIELD\n",
              "4872           NaN           DANBURY\n",
              "5017           NaN           MERIDEN\n",
              "5023           NaN        NEW LONDON\n",
              "5046           NaN         WATERBURY"
            ]
          },
          "execution_count": null,
          "metadata": {},
          "output_type": "execute_result"
        }
      ],
      "source": [
        "accidents_with_city = accidents.loc[accidents['residenceCity'].isna(), ['residenceCity', 'deathCityReported']]\n",
        "accidents_with_city"
      ]
    },
    {
      "cell_type": "code",
      "execution_count": null,
      "metadata": {
        "colab": {
          "background_save": true
        },
        "id": "XndMW7DSL7JE"
      },
      "outputs": [],
      "source": [
        "accidents.loc[list(accidents_with_city.index), 'residenceCity'] = accidents_with_city['deathCityReported']"
      ]
    },
    {
      "cell_type": "code",
      "execution_count": null,
      "metadata": {
        "colab": {
          "background_save": true
        },
        "id": "mFQG5fitPpRA"
      },
      "outputs": [],
      "source": [
        "assert accidents['residenceCity'].isna().sum() == 0"
      ]
    },
    {
      "cell_type": "markdown",
      "metadata": {
        "id": "oTDMryVNlJMU"
      },
      "source": [
        "Delete the 1 case with missing value for death city:"
      ]
    },
    {
      "cell_type": "code",
      "execution_count": null,
      "metadata": {
        "colab": {
          "background_save": true
        },
        "id": "LbTKGD04k-a4"
      },
      "outputs": [],
      "source": [
        "accidents.dropna(subset=['deathCity'], inplace=True)"
      ]
    },
    {
      "cell_type": "code",
      "execution_count": null,
      "metadata": {
        "colab": {
          "background_save": true
        },
        "id": "6hSjUIq8mQk7"
      },
      "outputs": [],
      "source": [
        "assert accidents['deathCity'].isna().sum() == 0"
      ]
    },
    {
      "cell_type": "code",
      "execution_count": null,
      "metadata": {
        "colab": {
          "background_save": true
        },
        "id": "iod7EotdmcmL"
      },
      "outputs": [],
      "source": [
        "cols = ['residenceCounty', 'residenceState', 'deathCounty', 'injuryCity', 'injuryCounty', 'injuryState']"
      ]
    },
    {
      "cell_type": "code",
      "execution_count": null,
      "metadata": {
        "colab": {
          "background_save": true,
          "base_uri": "https://localhost:8080/",
          "height": 552
        },
        "id": "_YcITII3mxum",
        "outputId": "604e8710-c7b2-4007-e31b-d33c0aaea70b"
      },
      "outputs": [
        {
          "data": {
            "image/png": "[encoded data removed]",
            "text/plain": [
              "<Figure size 1800x720 with 2 Axes>"
            ]
          },
          "metadata": {},
          "output_type": "display_data"
        }
      ],
      "source": [
        "msno.matrix(accidents[cols])\n",
        "plt.show()"
      ]
    },
    {
      "cell_type": "markdown",
      "metadata": {
        "id": "TMgObE6Jm-2c"
      },
      "source": [
        "## 👉🏻 *residenceCounty, deathCounty and injuryCounty* columns"
      ]
    },
    {
      "cell_type": "markdown",
      "metadata": {
        "id": "0cN5bVw_nQiF"
      },
      "source": []
    },
    {
      "cell_type": "code",
      "execution_count": null,
      "metadata": {
        "colab": {
          "background_save": true
        },
        "id": "Q2sGO_RXn0wE"
      },
      "outputs": [],
      "source": [
        "county_cols = ['residenceCounty', 'deathCounty', 'injuryCounty']"
      ]
    },
    {
      "cell_type": "code",
      "execution_count": null,
      "metadata": {
        "colab": {
          "background_save": true
        },
        "id": "PKUuJz0qt_WA"
      },
      "outputs": [],
      "source": [
        "count_na_res = accidents[county_cols[0]].isna().sum()\n",
        "count_na_death = accidents[county_cols[1]].isna().sum()\n",
        "count_na_inj = accidents[county_cols[2]].isna().sum()"
      ]
    },
    {
      "cell_type": "code",
      "execution_count": null,
      "metadata": {
        "colab": {
          "background_save": true,
          "base_uri": "https://localhost:8080/"
        },
        "id": "zOR_qVO-nRiK",
        "outputId": "0eb88e82-4ef4-46dc-e9dd-bd2a45628b80"
      },
      "outputs": [
        {
          "name": "stdout",
          "output_type": "stream",
          "text": [
            "Number of missing values for: \n",
            "residenceCounty: 789\n",
            "deathCounty: 1090\n",
            "injuryCounty: 2731\n"
          ]
        }
      ],
      "source": [
        "print('Number of missing values for: ')\n",
        "print(county_cols[0] + ': ' + str(count_na_res))\n",
        "print(county_cols[1] + ': ' + str(count_na_death))\n",
        "print(county_cols[2] + ': ' + str(count_na_inj))"
      ]
    },
    {
      "cell_type": "code",
      "execution_count": null,
      "metadata": {
        "colab": {
          "background_save": true,
          "base_uri": "https://localhost:8080/",
          "height": 424
        },
        "id": "nu1_AUCentNp",
        "outputId": "31331bcf-a8af-4ca2-ed49-5939012d6795"
      },
      "outputs": [
        {
          "data": {
            "text/html": [
              "\n",
              "  <div id=\"df-1012993c-baa6-4003-b1f8-4ea82ab24876\">\n",
              "    <div class=\"colab-df-container\">\n",
              "      <div>\n",
              "<style scoped>\n",
              "    .dataframe tbody tr th:only-of-type {\n",
              "        vertical-align: middle;\n",
              "    }\n",
              "\n",
              "    .dataframe tbody tr th {\n",
              "        vertical-align: top;\n",
              "    }\n",
              "\n",
              "    .dataframe thead th {\n",
              "        text-align: right;\n",
              "    }\n",
              "</style>\n",
              "<table border=\"1\" class=\"dataframe\">\n",
              "  <thead>\n",
              "    <tr style=\"text-align: right;\">\n",
              "      <th></th>\n",
              "      <th>residenceCounty</th>\n",
              "      <th>deathCounty</th>\n",
              "      <th>injuryCounty</th>\n",
              "    </tr>\n",
              "  </thead>\n",
              "  <tbody>\n",
              "    <tr>\n",
              "      <th>1</th>\n",
              "      <td>NaN</td>\n",
              "      <td>FAIRFIELD</td>\n",
              "      <td>NaN</td>\n",
              "    </tr>\n",
              "    <tr>\n",
              "      <th>2</th>\n",
              "      <td>FAIRFIELD</td>\n",
              "      <td>NaN</td>\n",
              "      <td>NaN</td>\n",
              "    </tr>\n",
              "    <tr>\n",
              "      <th>3</th>\n",
              "      <td>WESTCHESTER</td>\n",
              "      <td>NaN</td>\n",
              "      <td>NaN</td>\n",
              "    </tr>\n",
              "    <tr>\n",
              "      <th>4</th>\n",
              "      <td>QUEENS</td>\n",
              "      <td>FAIRFIELD</td>\n",
              "      <td>NaN</td>\n",
              "    </tr>\n",
              "    <tr>\n",
              "      <th>5</th>\n",
              "      <td>NaN</td>\n",
              "      <td>HARTFORD</td>\n",
              "      <td>NaN</td>\n",
              "    </tr>\n",
              "    <tr>\n",
              "      <th>...</th>\n",
              "      <td>...</td>\n",
              "      <td>...</td>\n",
              "      <td>...</td>\n",
              "    </tr>\n",
              "    <tr>\n",
              "      <th>5100</th>\n",
              "      <td>NEW HAVEN</td>\n",
              "      <td>NEW HAVEN</td>\n",
              "      <td>NaN</td>\n",
              "    </tr>\n",
              "    <tr>\n",
              "      <th>5101</th>\n",
              "      <td>NEW HAVEN</td>\n",
              "      <td>NEW HAVEN</td>\n",
              "      <td>NaN</td>\n",
              "    </tr>\n",
              "    <tr>\n",
              "      <th>5102</th>\n",
              "      <td>TIOGA</td>\n",
              "      <td>FAIRFIELD</td>\n",
              "      <td>FAIRFIELD</td>\n",
              "    </tr>\n",
              "    <tr>\n",
              "      <th>5103</th>\n",
              "      <td>NaN</td>\n",
              "      <td>NaN</td>\n",
              "      <td>NaN</td>\n",
              "    </tr>\n",
              "    <tr>\n",
              "      <th>5104</th>\n",
              "      <td>LITCHFIELD</td>\n",
              "      <td>NaN</td>\n",
              "      <td>NaN</td>\n",
              "    </tr>\n",
              "  </tbody>\n",
              "</table>\n",
              "<p>5087 rows × 3 columns</p>\n",
              "</div>\n",
              "      <button class=\"colab-df-convert\" onclick=\"convertToInteractive('df-1012993c-baa6-4003-b1f8-4ea82ab24876')\"\n",
              "              title=\"Convert this dataframe to an interactive table.\"\n",
              "              style=\"display:none;\">\n",
              "        \n",
              "  <svg xmlns=\"http://www.w3.org/2000/svg\" height=\"24px\"viewBox=\"0 0 24 24\"\n",
              "       width=\"24px\">\n",
              "    <path d=\"M0 0h24v24H0V0z\" fill=\"none\"/>\n",
              "    <path d=\"M18.56 5.44l.94 2.06.94-2.06 2.06-.94-2.06-.94-.94-2.06-.94 2.06-2.06.94zm-11 1L8.5 8.5l.94-2.06 2.06-.94-2.06-.94L8.5 2.5l-.94 2.06-2.06.94zm10 10l.94 2.06.94-2.06 2.06-.94-2.06-.94-.94-2.06-.94 2.06-2.06.94z\"/><path d=\"M17.41 7.96l-1.37-1.37c-.4-.4-.92-.59-1.43-.59-.52 0-1.04.2-1.43.59L10.3 9.45l-7.72 7.72c-.78.78-.78 2.05 0 2.83L4 21.41c.39.39.9.59 1.41.59.51 0 1.02-.2 1.41-.59l7.78-7.78 2.81-2.81c.8-.78.8-2.07 0-2.86zM5.41 20L4 18.59l7.72-7.72 1.47 1.35L5.41 20z\"/>\n",
              "  </svg>\n",
              "      </button>\n",
              "      \n",
              "  <style>\n",
              "    .colab-df-container {\n",
              "      display:flex;\n",
              "      flex-wrap:wrap;\n",
              "      gap: 12px;\n",
              "    }\n",
              "\n",
              "    .colab-df-convert {\n",
              "      background-color: #E8F0FE;\n",
              "      border: none;\n",
              "      border-radius: 50%;\n",
              "      cursor: pointer;\n",
              "      display: none;\n",
              "      fill: #1967D2;\n",
              "      height: 32px;\n",
              "      padding: 0 0 0 0;\n",
              "      width: 32px;\n",
              "    }\n",
              "\n",
              "    .colab-df-convert:hover {\n",
              "      background-color: #E2EBFA;\n",
              "      box-shadow: 0px 1px 2px rgba(60, 64, 67, 0.3), 0px 1px 3px 1px rgba(60, 64, 67, 0.15);\n",
              "      fill: #174EA6;\n",
              "    }\n",
              "\n",
              "    [theme=dark] .colab-df-convert {\n",
              "      background-color: #3B4455;\n",
              "      fill: #D2E3FC;\n",
              "    }\n",
              "\n",
              "    [theme=dark] .colab-df-convert:hover {\n",
              "      background-color: #434B5C;\n",
              "      box-shadow: 0px 1px 3px 1px rgba(0, 0, 0, 0.15);\n",
              "      filter: drop-shadow(0px 1px 2px rgba(0, 0, 0, 0.3));\n",
              "      fill: #FFFFFF;\n",
              "    }\n",
              "  </style>\n",
              "\n",
              "      <script>\n",
              "        const buttonEl =\n",
              "          document.querySelector('#df-1012993c-baa6-4003-b1f8-4ea82ab24876 button.colab-df-convert');\n",
              "        buttonEl.style.display =\n",
              "          google.colab.kernel.accessAllowed ? 'block' : 'none';\n",
              "\n",
              "        async function convertToInteractive(key) {\n",
              "          const element = document.querySelector('#df-1012993c-baa6-4003-b1f8-4ea82ab24876');\n",
              "          const dataTable =\n",
              "            await google.colab.kernel.invokeFunction('convertToInteractive',\n",
              "                                                     [key], {});\n",
              "          if (!dataTable) return;\n",
              "\n",
              "          const docLinkHtml = 'Like what you see? Visit the ' +\n",
              "            '<a target=\"_blank\" href=https://colab.research.google.com/notebooks/data_table.ipynb>data table notebook</a>'\n",
              "            + ' to learn more about interactive tables.';\n",
              "          element.innerHTML = '';\n",
              "          dataTable['output_type'] = 'display_data';\n",
              "          await google.colab.output.renderOutput(dataTable, element);\n",
              "          const docLink = document.createElement('div');\n",
              "          docLink.innerHTML = docLinkHtml;\n",
              "          element.appendChild(docLink);\n",
              "        }\n",
              "      </script>\n",
              "    </div>\n",
              "  </div>\n",
              "  "
            ],
            "text/plain": [
              "     residenceCounty deathCounty injuryCounty\n",
              "1                NaN   FAIRFIELD          NaN\n",
              "2          FAIRFIELD         NaN          NaN\n",
              "3        WESTCHESTER         NaN          NaN\n",
              "4             QUEENS   FAIRFIELD          NaN\n",
              "5                NaN    HARTFORD          NaN\n",
              "...              ...         ...          ...\n",
              "5100       NEW HAVEN   NEW HAVEN          NaN\n",
              "5101       NEW HAVEN   NEW HAVEN          NaN\n",
              "5102           TIOGA   FAIRFIELD    FAIRFIELD\n",
              "5103             NaN         NaN          NaN\n",
              "5104      LITCHFIELD         NaN          NaN\n",
              "\n",
              "[5087 rows x 3 columns]"
            ]
          },
          "execution_count": null,
          "metadata": {},
          "output_type": "execute_result"
        }
      ],
      "source": [
        "accidents[county_cols]"
      ]
    },
    {
      "cell_type": "markdown",
      "metadata": {
        "id": "ONiuGcbAof-L"
      },
      "source": [
        "How many accidents have missing for all of these three columns?"
      ]
    },
    {
      "cell_type": "code",
      "execution_count": null,
      "metadata": {
        "colab": {
          "background_save": true,
          "base_uri": "https://localhost:8080/"
        },
        "id": "Hrt3GvM1ofpm",
        "outputId": "1739b00a-fd5a-424c-a719-4a64195f3e06"
      },
      "outputs": [
        {
          "data": {
            "text/plain": [
              "185"
            ]
          },
          "execution_count": null,
          "metadata": {},
          "output_type": "execute_result"
        }
      ],
      "source": [
        "number_na_county = accidents[(accidents[county_cols[0]].isna()) & (accidents[county_cols[1]].isna()) & (accidents[county_cols[2]].isna())].shape[0]\n",
        "number_na_county"
      ]
    },
    {
      "cell_type": "markdown",
      "metadata": {
        "id": "YPKQcSpoqkyv"
      },
      "source": [
        "For all these three columns, we see that they have the same formats for values.\n",
        "We will replace all the null values of one column with the not null values of the other columns, and in the end, we will obtain a total of 185 accidents that have missing values for all of the three columns. We will replace these values with 'Unknown' value:"
      ]
    },
    {
      "cell_type": "markdown",
      "metadata": {
        "id": "fcDH3OePyXsA"
      },
      "source": [
        "1. deathCounty and residenceCounty:"
      ]
    },
    {
      "cell_type": "code",
      "execution_count": null,
      "metadata": {
        "colab": {
          "background_save": true,
          "base_uri": "https://localhost:8080/"
        },
        "id": "9qiRkKr9wyjf",
        "outputId": "e8b5ac37-3a2a-4a3d-8d09-d3c89588e66c"
      },
      "outputs": [
        {
          "data": {
            "text/plain": [
              "891"
            ]
          },
          "execution_count": null,
          "metadata": {},
          "output_type": "execute_result"
        }
      ],
      "source": [
        "count = accidents.loc[(accidents['deathCounty'].isna()) & (~accidents['residenceCounty'].isna()), ['deathCounty', 'residenceCounty']].shape[0]\n",
        "count"
      ]
    },
    {
      "cell_type": "code",
      "execution_count": null,
      "metadata": {
        "colab": {
          "background_save": true
        },
        "id": "rENd75jYtGM6"
      },
      "outputs": [],
      "source": [
        "condition = accidents['deathCounty'].isna()"
      ]
    },
    {
      "cell_type": "code",
      "execution_count": null,
      "metadata": {
        "colab": {
          "background_save": true
        },
        "id": "vaRr1pdmruZD"
      },
      "outputs": [],
      "source": [
        "accidents.loc[condition, 'deathCounty'] = accidents.loc[condition, 'residenceCounty']"
      ]
    },
    {
      "cell_type": "code",
      "execution_count": null,
      "metadata": {
        "colab": {
          "background_save": true,
          "base_uri": "https://localhost:8080/"
        },
        "id": "ZEA51VPWAyXz",
        "outputId": "e912a839-3611-4b9d-9d91-9cee5210e7e0"
      },
      "outputs": [
        {
          "data": {
            "text/plain": [
              "199"
            ]
          },
          "execution_count": null,
          "metadata": {},
          "output_type": "execute_result"
        }
      ],
      "source": [
        "accidents['deathCounty'].isna().sum()"
      ]
    },
    {
      "cell_type": "code",
      "execution_count": null,
      "metadata": {
        "colab": {
          "background_save": true
        },
        "id": "yWUJh5BJud_T"
      },
      "outputs": [],
      "source": [
        "assert accidents['deathCounty'].isna().sum() == count_na_death - count"
      ]
    },
    {
      "cell_type": "markdown",
      "metadata": {
        "id": "dakQwSZ7A9wC"
      },
      "source": [
        "We have optained 185 missing values for deathCounty column, it is not necesaary to take further steps by replacing deathCounty with injuryCounty."
      ]
    },
    {
      "cell_type": "markdown",
      "metadata": {
        "id": "srR3MouBAJI3"
      },
      "source": [
        "2. injuryCounty and residenceCounty:"
      ]
    },
    {
      "cell_type": "code",
      "execution_count": null,
      "metadata": {
        "colab": {
          "background_save": true
        },
        "id": "cMnp9aU3y5xp"
      },
      "outputs": [],
      "source": [
        "condition = accidents['injuryCounty'].isna()\n"
      ]
    },
    {
      "cell_type": "code",
      "execution_count": null,
      "metadata": {
        "colab": {
          "background_save": true,
          "base_uri": "https://localhost:8080/"
        },
        "id": "npfiAWxMyyh0",
        "outputId": "27170c0d-e000-4a23-ed86-c4a29ad46c95"
      },
      "outputs": [
        {
          "data": {
            "text/plain": [
              "2731"
            ]
          },
          "execution_count": null,
          "metadata": {},
          "output_type": "execute_result"
        }
      ],
      "source": [
        "count = accidents.loc[condition, ['injuryCounty', 'residenceCounty']].shape[0]\n",
        "count"
      ]
    },
    {
      "cell_type": "code",
      "execution_count": null,
      "metadata": {
        "colab": {
          "background_save": true
        },
        "id": "jeYhNtwry9ie"
      },
      "outputs": [],
      "source": [
        "accidents.loc[condition, 'injuryCounty'] = accidents.loc[condition, 'residenceCounty']"
      ]
    },
    {
      "cell_type": "code",
      "execution_count": null,
      "metadata": {
        "colab": {
          "background_save": true
        },
        "id": "Q3oqRcO5zBwZ",
        "outputId": "5601da30-c259-4b42-b8c7-313fd444bd04"
      },
      "outputs": [
        {
          "ename": "AssertionError",
          "evalue": "ignored",
          "output_type": "error",
          "traceback": [
            "\u001b[0;31m---------------------------------------------------------------------------\u001b[0m",
            "\u001b[0;31mAssertionError\u001b[0m                            Traceback (most recent call last)",
            "\u001b[0;32m<ipython-input-611-ebc52c630207>\u001b[0m in \u001b[0;36m<module>\u001b[0;34m()\u001b[0m\n\u001b[0;32m----> 1\u001b[0;31m \u001b[0;32massert\u001b[0m \u001b[0maccidents\u001b[0m\u001b[0;34m[\u001b[0m\u001b[0;34m'injuryCounty'\u001b[0m\u001b[0;34m]\u001b[0m\u001b[0;34m.\u001b[0m\u001b[0misna\u001b[0m\u001b[0;34m(\u001b[0m\u001b[0;34m)\u001b[0m\u001b[0;34m.\u001b[0m\u001b[0msum\u001b[0m\u001b[0;34m(\u001b[0m\u001b[0;34m)\u001b[0m \u001b[0;34m==\u001b[0m \u001b[0mnumber_na_county\u001b[0m\u001b[0;34m\u001b[0m\u001b[0;34m\u001b[0m\u001b[0m\n\u001b[0m",
            "\u001b[0;31mAssertionError\u001b[0m: "
          ]
        }
      ],
      "source": [
        "assert accidents['injuryCounty'].isna().sum() == number_na_county"
      ]
    },
    {
      "cell_type": "markdown",
      "metadata": {
        "id": "Lged04m2C52H"
      },
      "source": [
        "3. injuryCounty and deathCounty"
      ]
    },
    {
      "cell_type": "code",
      "execution_count": null,
      "metadata": {
        "colab": {
          "background_save": true
        },
        "id": "wVKu58PR58cI"
      },
      "outputs": [],
      "source": [
        "accidents.loc[condition, 'injuryCounty'] = accidents.loc[condition, 'deathCounty']"
      ]
    },
    {
      "cell_type": "code",
      "execution_count": null,
      "metadata": {
        "colab": {
          "background_save": true
        },
        "id": "MrqWHVSX6JFz"
      },
      "outputs": [],
      "source": [
        "assert accidents['injuryCounty'].isna().sum() == number_na_county"
      ]
    },
    {
      "cell_type": "markdown",
      "metadata": {
        "id": "Sc1NtimAMLGx"
      },
      "source": [
        "4. residenceCounty and deathCounty"
      ]
    },
    {
      "cell_type": "code",
      "execution_count": null,
      "metadata": {
        "colab": {
          "background_save": true
        },
        "id": "FNOiDGi_McPf"
      },
      "outputs": [],
      "source": [
        "condition = accidents['residenceCounty'].isna()"
      ]
    },
    {
      "cell_type": "code",
      "execution_count": null,
      "metadata": {
        "colab": {
          "background_save": true
        },
        "id": "b4xVpyVdMi5m"
      },
      "outputs": [],
      "source": [
        "accidents.loc[condition, 'residenceCounty'] = accidents.loc[condition, 'deathCounty']"
      ]
    },
    {
      "cell_type": "code",
      "execution_count": null,
      "metadata": {
        "colab": {
          "background_save": true
        },
        "id": "W0e0NDnvMppk"
      },
      "outputs": [],
      "source": [
        "assert accidents['residenceCounty'].isna().sum() == number_na_county"
      ]
    },
    {
      "cell_type": "markdown",
      "metadata": {
        "id": "nZXe8SDGNwYE"
      },
      "source": [
        "For those 185 cases, the values for these three columns will be 'Unknown':"
      ]
    },
    {
      "cell_type": "code",
      "execution_count": null,
      "metadata": {
        "colab": {
          "background_save": true
        },
        "id": "7v5XJKE8OVuq"
      },
      "outputs": [],
      "source": [
        "accidents['residenceCounty'] = accidents['residenceCounty'].fillna('Unknown')\n",
        "accidents['deathCounty'] = accidents['deathCounty'].fillna('Unknown')\n",
        "accidents['injuryCounty'] = accidents['injuryCounty'].fillna('Unknown')"
      ]
    },
    {
      "cell_type": "code",
      "execution_count": null,
      "metadata": {
        "colab": {
          "background_save": true
        },
        "id": "Zej9WBwMOl2W"
      },
      "outputs": [],
      "source": [
        "assert accidents['residenceCounty'].isna().sum() == 0\n",
        "assert accidents['deathCounty'].isna().sum() == 0\n",
        "assert accidents['injuryCounty'].isna().sum() == 0"
      ]
    },
    {
      "cell_type": "code",
      "execution_count": null,
      "metadata": {
        "colab": {
          "background_save": true
        },
        "id": "13Q0y9-3k7es"
      },
      "outputs": [],
      "source": [
        "msno.matrix(accidents)\n",
        "plt.show()"
      ]
    },
    {
      "cell_type": "markdown",
      "metadata": {
        "id": "ohclvS7ZO6Yw"
      },
      "source": [
        "## 👉🏻 residenceState and injuryState:"
      ]
    },
    {
      "cell_type": "code",
      "execution_count": null,
      "metadata": {
        "colab": {
          "background_save": true
        },
        "id": "VUpCsuswQwLK"
      },
      "outputs": [],
      "source": [
        "state_cols = ['residenceState', 'injuryState']"
      ]
    },
    {
      "cell_type": "code",
      "execution_count": null,
      "metadata": {
        "colab": {
          "background_save": true
        },
        "id": "J4nSsB1VQ60x"
      },
      "outputs": [],
      "source": [
        "msno.matrix(accidents[state_cols])\n",
        "plt.show()"
      ]
    },
    {
      "cell_type": "code",
      "execution_count": null,
      "metadata": {
        "colab": {
          "background_save": true
        },
        "id": "XVaD-TOIY7T-"
      },
      "outputs": [],
      "source": [
        "accidents['residenceState'].isna().sum()"
      ]
    },
    {
      "cell_type": "code",
      "execution_count": null,
      "metadata": {
        "colab": {
          "background_save": true
        },
        "id": "MK6SQkkiZRfr"
      },
      "outputs": [],
      "source": [
        "accidents['injuryState'].isna().sum()"
      ]
    },
    {
      "cell_type": "code",
      "execution_count": null,
      "metadata": {
        "colab": {
          "background_save": true
        },
        "id": "dd3PeDHFZajb"
      },
      "outputs": [],
      "source": [
        "accidents[state_cols]"
      ]
    },
    {
      "cell_type": "code",
      "execution_count": null,
      "metadata": {
        "colab": {
          "background_save": true
        },
        "id": "JqCZhSsdaSJL"
      },
      "outputs": [],
      "source": [
        "number_na_values = accidents[accidents['injuryState'].isna() & accidents['residenceState'].isna()].shape[0]\n",
        "number_na_values"
      ]
    },
    {
      "cell_type": "markdown",
      "metadata": {
        "id": "02_lSazeZpPt"
      },
      "source": [
        "In order to minimize the number of missing values for these columns, we'll assume that residenceState is the same as the injuryState."
      ]
    },
    {
      "cell_type": "code",
      "execution_count": null,
      "metadata": {
        "colab": {
          "background_save": true
        },
        "id": "9IVca0j-Zfjw"
      },
      "outputs": [],
      "source": [
        "condition = accidents['injuryState'].isna()"
      ]
    },
    {
      "cell_type": "code",
      "execution_count": null,
      "metadata": {
        "colab": {
          "background_save": true
        },
        "id": "-sTHfIUsaExV"
      },
      "outputs": [],
      "source": [
        "accidents.loc[condition, 'injuryState'] = accidents.loc[condition, 'residenceState']"
      ]
    },
    {
      "cell_type": "code",
      "execution_count": null,
      "metadata": {
        "colab": {
          "background_save": true
        },
        "id": "PBJGiWczaPWz"
      },
      "outputs": [],
      "source": [
        "assert accidents['injuryState'].isna().sum() == number_na_values"
      ]
    },
    {
      "cell_type": "code",
      "execution_count": null,
      "metadata": {
        "colab": {
          "background_save": true
        },
        "id": "el_bPSFmbDdV"
      },
      "outputs": [],
      "source": [
        "condition = accidents['residenceState'].isna()"
      ]
    },
    {
      "cell_type": "code",
      "execution_count": null,
      "metadata": {
        "colab": {
          "background_save": true
        },
        "id": "qf0tObLBbNYP"
      },
      "outputs": [],
      "source": [
        "accidents.loc[condition, 'residenceState'] = accidents.loc[condition, 'injuryState'] "
      ]
    },
    {
      "cell_type": "code",
      "execution_count": null,
      "metadata": {
        "colab": {
          "background_save": true
        },
        "id": "RD76ZtN7bTlJ"
      },
      "outputs": [],
      "source": [
        "assert accidents['residenceState'].isna().sum() == number_na_values"
      ]
    },
    {
      "cell_type": "markdown",
      "metadata": {
        "id": "DS1g5zC3bfdk"
      },
      "source": [
        "For those 1478 cases, the values for these two columns will be 'Unknown':"
      ]
    },
    {
      "cell_type": "code",
      "execution_count": null,
      "metadata": {
        "colab": {
          "background_save": true
        },
        "id": "bipGzM5ibZ0E"
      },
      "outputs": [],
      "source": [
        "accidents['injuryState'] = accidents['injuryState'].fillna('Unknown')\n",
        "accidents['residenceState'] = accidents['residenceState'].fillna('Unknown')"
      ]
    },
    {
      "cell_type": "code",
      "execution_count": null,
      "metadata": {
        "colab": {
          "background_save": true
        },
        "id": "BBKp59AObx8l"
      },
      "outputs": [],
      "source": [
        "assert accidents['injuryState'].isna().sum() == 0\n",
        "assert accidents['residenceState'].isna().sum() == 0"
      ]
    },
    {
      "cell_type": "code",
      "execution_count": null,
      "metadata": {
        "colab": {
          "background_save": true
        },
        "id": "ZVIKyfGHb3Mh"
      },
      "outputs": [],
      "source": [
        "msno.matrix(accidents)\n",
        "plt.show()"
      ]
    },
    {
      "cell_type": "markdown",
      "metadata": {
        "id": "9v7Ngn3ucHb2"
      },
      "source": [
        "## injuryCity"
      ]
    },
    {
      "cell_type": "code",
      "execution_count": null,
      "metadata": {
        "colab": {
          "background_save": true
        },
        "id": "1pPVGDUacJEl"
      },
      "outputs": [],
      "source": [
        "accidents[['injuryCity', 'injuryCityReported']]"
      ]
    },
    {
      "cell_type": "code",
      "execution_count": null,
      "metadata": {
        "colab": {
          "background_save": true
        },
        "id": "Xi2ip-UWcYJU"
      },
      "outputs": [],
      "source": []
    }
  ],
  "metadata": {
    "colab": {
      "provenance": [],
      "authorship_tag": "ABX9TyNXU9MgctHqs4nAZn3iLLcC",
      "include_colab_link": true
    },
    "kernelspec": {
      "display_name": "Python 3",
      "name": "python3"
    },
    "language_info": {
      "name": "python"
    }
  },
  "nbformat": 4,
  "nbformat_minor": 0
}