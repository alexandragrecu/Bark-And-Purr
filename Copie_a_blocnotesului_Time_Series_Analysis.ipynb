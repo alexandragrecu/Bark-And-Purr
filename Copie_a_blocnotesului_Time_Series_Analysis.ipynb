{
  "nbformat": 4,
  "nbformat_minor": 0,
  "metadata": {
    "colab": {
      "name": "Copie a blocnotesului Time Series Analysis.ipynb",
      "provenance": [],
      "collapsed_sections": [],
      "authorship_tag": "ABX9TyNxBetlxFyaKFB1vxidXGqR",
      "include_colab_link": true
    },
    "kernelspec": {
      "name": "python3",
      "display_name": "Python 3"
    },
    "language_info": {
      "name": "python"
    }
  },
  "cells": [
    {
      "cell_type": "markdown",
      "metadata": {
        "id": "view-in-github",
        "colab_type": "text"
      },
      "source": [
        "<a href=\"https://colab.research.google.com/github/alexandragrecu/Bark-and-Purr/blob/master/Copie_a_blocnotesului_Time_Series_Analysis.ipynb\" target=\"_parent\"><img src=\"https://colab.research.google.com/assets/colab-badge.svg\" alt=\"Open In Colab\"/></a>"
      ]
    },
    {
      "cell_type": "markdown",
      "source": [
        "# 🌡️**Temperature prediction using Time Series**\n",
        "\n",
        "---\n",
        "\n"
      ],
      "metadata": {
        "id": "RZxtv9EB9X0U"
      }
    },
    {
      "cell_type": "markdown",
      "source": [
        "According to [NOAA's 2020 Annual Climate Report](https://www.climate.gov/news-features/understanding-climate/climate-change-global-temperature) the combined land and ocean temperature has increased at an average rate of 0.08 degrees Celsius per decade since 1880. While natural variability plays some part, the preponderance of evidence indicates that human activities—particularly emissions of heat-trapping greenhouse gases—are mostly responsible for making our planet warmer."
      ],
      "metadata": {
        "id": "r_z6H4rk-1tG"
      }
    },
    {
      "cell_type": "markdown",
      "source": [
        "![images.jpg](data:image/jpeg;base64,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)"
      ],
      "metadata": {
        "id": "l8VnqEHL_6LE"
      }
    },
    {
      "cell_type": "markdown",
      "source": [
        "## 📌 Our task\n"
      ],
      "metadata": {
        "id": "E58hs0GcA_0h"
      }
    },
    {
      "cell_type": "markdown",
      "source": [
        "You are given two datasets representing average temperatures in Romania (since 1902 to 2020). The first dataset represents *the anual average temperatures* and the other represents *the monthly average temperatures*.\n",
        "\n",
        "For each time series you have to:\n",
        "\n",
        "- Build a model forthe time series and explain all the steps that you go through;\n",
        "\n",
        "- Use that model to forecast the next 20 values in the time seriesand plot themtogether with the initial time series.\n",
        "\n",
        "---\n",
        "\n"
      ],
      "metadata": {
        "id": "pst8VEL9BmIn"
      }
    },
    {
      "cell_type": "markdown",
      "source": [
        "## 💾 The datasets\n",
        "Let's take a look at the data, which consists of two files:\n",
        "\n",
        "- <code>annual_temperatures.csv</code>: contains all average temperatures recorded annualy in Romania (as well as in the romanian counties) from 1902 to 2020.\n",
        "- <code>monthly_temperatures.csv</code>: contains all average temperatures recorded monthly in Romania from 1902 to 2020.\n",
        "\n",
        "This datasets were taken from [*Climate Change Knowledge Portal*](https://climateknowledgeportal.worldbank.org/) site and can be downloaded from [here](https://climateknowledgeportal.worldbank.org/download-data).\n",
        "\n",
        "For downloading the datasets, you have to set:\n",
        "- COLLECTION as CRU(Observed)\n",
        "- VARIABLE as Mean-Temperature\n",
        "- AGGREGATION as Annual/Monthly\n",
        "- COUNTRY as Romania\n",
        "- TIME PERIOD as Historical Reference Period, 1901-2020\n",
        "\n",
        "If you don't want to download them, I've already downloaded them and you can visualize them [here](https://drive.google.com/drive/folders/1bomwJSMm4LJ6zxsK16UTeg6TJ95CU-9u?usp=sharing).\n",
        "\n",
        "---\n",
        "\n"
      ],
      "metadata": {
        "id": "1KSsnyxkDCUh"
      }
    },
    {
      "cell_type": "markdown",
      "source": [
        "## 📈 Time series analysis\n",
        "\n",
        "- First, we will analyse the annual temperatures, and then we will analyse the monthly temperatures."
      ],
      "metadata": {
        "id": "CYrczjcHJDxQ"
      }
    },
    {
      "cell_type": "markdown",
      "source": [
        "## 📚 1. Load packages"
      ],
      "metadata": {
        "id": "hBy16WAVJa1F"
      }
    },
    {
      "cell_type": "code",
      "execution_count": 2,
      "metadata": {
        "id": "CxFnLAlQ7zV3",
        "colab": {
          "base_uri": "https://localhost:8080/"
        },
        "outputId": "cec56171-8a07-4a58-9546-3d6b6a28e50f"
      },
      "outputs": [
        {
          "output_type": "stream",
          "name": "stderr",
          "text": [
            "/usr/local/lib/python3.7/dist-packages/statsmodels/tools/_testing.py:19: FutureWarning: pandas.util.testing is deprecated. Use the functions in the public API at pandas.testing instead.\n",
            "  import pandas.util.testing as tm\n"
          ]
        }
      ],
      "source": [
        "import pandas as pd\n",
        "import datetime as dt\n",
        "import missingno as msno\n",
        "import numpy as np\n",
        "import matplotlib.pyplot as plt\n",
        "from pandas.plotting import register_matplotlib_converters\n",
        "from google.colab import files\n",
        "from statsmodels.graphics.tsaplots import plot_acf, plot_pacf\n",
        "from statsmodels.tsa.stattools import adfuller\n",
        "from statsmodels.tsa.arima_model import ARMA, ARIMA\n",
        "from time import time\n",
        "#register_motplotlib_converters()"
      ]
    },
    {
      "cell_type": "markdown",
      "source": [
        "## 📖 2. Reading the datasets"
      ],
      "metadata": {
        "id": "IpOfGc2HLLwY"
      }
    },
    {
      "cell_type": "code",
      "source": [
        "uploaded = files.upload()"
      ],
      "metadata": {
        "colab": {
          "resources": {
            "http://localhost:8080/nbextensions/google.colab/files.js": {
              "data": "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",
              "ok": true,
              "headers": [
                [
                  "content-type",
                  "application/javascript"
                ]
              ],
              "status": 200,
              "status_text": ""
            }
          },
          "base_uri": "https://localhost:8080/",
          "height": 73
        },
        "id": "dzvGuRLPLEtT",
        "outputId": "04faaff4-1465-4db3-d2cd-cdea996a5a49"
      },
      "execution_count": 3,
      "outputs": [
        {
          "output_type": "display_data",
          "data": {
            "text/plain": [
              "<IPython.core.display.HTML object>"
            ],
            "text/html": [
              "\n",
              "     <input type=\"file\" id=\"files-616c186d-1634-4203-aa06-d1400ea9e4f0\" name=\"files[]\" multiple disabled\n",
              "        style=\"border:none\" />\n",
              "     <output id=\"result-616c186d-1634-4203-aa06-d1400ea9e4f0\">\n",
              "      Upload widget is only available when the cell has been executed in the\n",
              "      current browser session. Please rerun this cell to enable.\n",
              "      </output>\n",
              "      <script src=\"/nbextensions/google.colab/files.js\"></script> "
            ]
          },
          "metadata": {}
        },
        {
          "output_type": "stream",
          "name": "stdout",
          "text": [
            "Saving annual_temperatures.csv to annual_temperatures.csv\n"
          ]
        }
      ]
    },
    {
      "cell_type": "code",
      "source": [
        "annual_temperatures = pd.read_csv('annual_temperatures.csv', skiprows=1)"
      ],
      "metadata": {
        "id": "LkvE3fM_LfDs"
      },
      "execution_count": 6,
      "outputs": []
    },
    {
      "cell_type": "markdown",
      "source": [
        "\n",
        "\n",
        "---\n",
        "\n"
      ],
      "metadata": {
        "id": "XFJO7spQRJXg"
      }
    },
    {
      "cell_type": "markdown",
      "source": [
        "## 🗠 Time series analysis - annual temperatures"
      ],
      "metadata": {
        "id": "ZGjMW6kURMNV"
      }
    },
    {
      "cell_type": "code",
      "source": [
        "annual_temperatures.head()"
      ],
      "metadata": {
        "id": "ofHoguhWMGm7",
        "colab": {
          "base_uri": "https://localhost:8080/",
          "height": 317
        },
        "outputId": "b48bfb2d-2e93-4939-da90-d01abe4bd150"
      },
      "execution_count": 7,
      "outputs": [
        {
          "output_type": "execute_result",
          "data": {
            "text/plain": [
              "   Unnamed: 0  Romania  Alba   Arad  Arges  Bacau  Bihor  Bistrita-nasaud  \\\n",
              "0        1901     8.85  7.05   9.62   8.34   8.07   8.94             6.37   \n",
              "1        1902     7.99  6.26   8.99   7.47   6.99   8.11             5.44   \n",
              "2        1903     9.25  7.51  10.15   8.74   8.33   9.37             6.76   \n",
              "3        1904     8.65  6.99   9.84   8.10   7.58   8.95             6.19   \n",
              "4        1905     8.84  7.07   9.71   8.34   7.92   8.93             6.35   \n",
              "\n",
              "   Botosani  Braila  ...  Salaj  Satu Mare  Sibiu  Suceava  Teleorman  Timis  \\\n",
              "0      9.46   11.16  ...   8.28       9.06   7.54     6.13      11.37  10.39   \n",
              "1      8.24   10.18  ...   7.37       8.12   6.69     5.02      10.56   9.96   \n",
              "2      9.76   11.45  ...   8.73       9.49   7.95     6.42      11.79  11.04   \n",
              "3      8.85   10.70  ...   8.18       8.94   7.37     5.65      11.17  10.85   \n",
              "4      9.29   11.07  ...   8.28       9.04   7.56     5.99      11.40  10.61   \n",
              "\n",
              "   Tulcea  Vaslui  Vilcea  Vrancea  \n",
              "0   11.19    9.69    7.90     8.56  \n",
              "1   10.07    8.54    7.19     7.49  \n",
              "2   11.31    9.96    8.39     8.79  \n",
              "3   10.42    9.10    7.85     8.09  \n",
              "4   11.01    9.52    7.99     8.40  \n",
              "\n",
              "[5 rows x 43 columns]"
            ],
            "text/html": [
              "\n",
              "  <div id=\"df-c3d45324-da15-48b2-a271-837175033d3c\">\n",
              "    <div class=\"colab-df-container\">\n",
              "      <div>\n",
              "<style scoped>\n",
              "    .dataframe tbody tr th:only-of-type {\n",
              "        vertical-align: middle;\n",
              "    }\n",
              "\n",
              "    .dataframe tbody tr th {\n",
              "        vertical-align: top;\n",
              "    }\n",
              "\n",
              "    .dataframe thead th {\n",
              "        text-align: right;\n",
              "    }\n",
              "</style>\n",
              "<table border=\"1\" class=\"dataframe\">\n",
              "  <thead>\n",
              "    <tr style=\"text-align: right;\">\n",
              "      <th></th>\n",
              "      <th>Unnamed: 0</th>\n",
              "      <th>Romania</th>\n",
              "      <th>Alba</th>\n",
              "      <th>Arad</th>\n",
              "      <th>Arges</th>\n",
              "      <th>Bacau</th>\n",
              "      <th>Bihor</th>\n",
              "      <th>Bistrita-nasaud</th>\n",
              "      <th>Botosani</th>\n",
              "      <th>Braila</th>\n",
              "      <th>...</th>\n",
              "      <th>Salaj</th>\n",
              "      <th>Satu Mare</th>\n",
              "      <th>Sibiu</th>\n",
              "      <th>Suceava</th>\n",
              "      <th>Teleorman</th>\n",
              "      <th>Timis</th>\n",
              "      <th>Tulcea</th>\n",
              "      <th>Vaslui</th>\n",
              "      <th>Vilcea</th>\n",
              "      <th>Vrancea</th>\n",
              "    </tr>\n",
              "  </thead>\n",
              "  <tbody>\n",
              "    <tr>\n",
              "      <th>0</th>\n",
              "      <td>1901</td>\n",
              "      <td>8.85</td>\n",
              "      <td>7.05</td>\n",
              "      <td>9.62</td>\n",
              "      <td>8.34</td>\n",
              "      <td>8.07</td>\n",
              "      <td>8.94</td>\n",
              "      <td>6.37</td>\n",
              "      <td>9.46</td>\n",
              "      <td>11.16</td>\n",
              "      <td>...</td>\n",
              "      <td>8.28</td>\n",
              "      <td>9.06</td>\n",
              "      <td>7.54</td>\n",
              "      <td>6.13</td>\n",
              "      <td>11.37</td>\n",
              "      <td>10.39</td>\n",
              "      <td>11.19</td>\n",
              "      <td>9.69</td>\n",
              "      <td>7.90</td>\n",
              "      <td>8.56</td>\n",
              "    </tr>\n",
              "    <tr>\n",
              "      <th>1</th>\n",
              "      <td>1902</td>\n",
              "      <td>7.99</td>\n",
              "      <td>6.26</td>\n",
              "      <td>8.99</td>\n",
              "      <td>7.47</td>\n",
              "      <td>6.99</td>\n",
              "      <td>8.11</td>\n",
              "      <td>5.44</td>\n",
              "      <td>8.24</td>\n",
              "      <td>10.18</td>\n",
              "      <td>...</td>\n",
              "      <td>7.37</td>\n",
              "      <td>8.12</td>\n",
              "      <td>6.69</td>\n",
              "      <td>5.02</td>\n",
              "      <td>10.56</td>\n",
              "      <td>9.96</td>\n",
              "      <td>10.07</td>\n",
              "      <td>8.54</td>\n",
              "      <td>7.19</td>\n",
              "      <td>7.49</td>\n",
              "    </tr>\n",
              "    <tr>\n",
              "      <th>2</th>\n",
              "      <td>1903</td>\n",
              "      <td>9.25</td>\n",
              "      <td>7.51</td>\n",
              "      <td>10.15</td>\n",
              "      <td>8.74</td>\n",
              "      <td>8.33</td>\n",
              "      <td>9.37</td>\n",
              "      <td>6.76</td>\n",
              "      <td>9.76</td>\n",
              "      <td>11.45</td>\n",
              "      <td>...</td>\n",
              "      <td>8.73</td>\n",
              "      <td>9.49</td>\n",
              "      <td>7.95</td>\n",
              "      <td>6.42</td>\n",
              "      <td>11.79</td>\n",
              "      <td>11.04</td>\n",
              "      <td>11.31</td>\n",
              "      <td>9.96</td>\n",
              "      <td>8.39</td>\n",
              "      <td>8.79</td>\n",
              "    </tr>\n",
              "    <tr>\n",
              "      <th>3</th>\n",
              "      <td>1904</td>\n",
              "      <td>8.65</td>\n",
              "      <td>6.99</td>\n",
              "      <td>9.84</td>\n",
              "      <td>8.10</td>\n",
              "      <td>7.58</td>\n",
              "      <td>8.95</td>\n",
              "      <td>6.19</td>\n",
              "      <td>8.85</td>\n",
              "      <td>10.70</td>\n",
              "      <td>...</td>\n",
              "      <td>8.18</td>\n",
              "      <td>8.94</td>\n",
              "      <td>7.37</td>\n",
              "      <td>5.65</td>\n",
              "      <td>11.17</td>\n",
              "      <td>10.85</td>\n",
              "      <td>10.42</td>\n",
              "      <td>9.10</td>\n",
              "      <td>7.85</td>\n",
              "      <td>8.09</td>\n",
              "    </tr>\n",
              "    <tr>\n",
              "      <th>4</th>\n",
              "      <td>1905</td>\n",
              "      <td>8.84</td>\n",
              "      <td>7.07</td>\n",
              "      <td>9.71</td>\n",
              "      <td>8.34</td>\n",
              "      <td>7.92</td>\n",
              "      <td>8.93</td>\n",
              "      <td>6.35</td>\n",
              "      <td>9.29</td>\n",
              "      <td>11.07</td>\n",
              "      <td>...</td>\n",
              "      <td>8.28</td>\n",
              "      <td>9.04</td>\n",
              "      <td>7.56</td>\n",
              "      <td>5.99</td>\n",
              "      <td>11.40</td>\n",
              "      <td>10.61</td>\n",
              "      <td>11.01</td>\n",
              "      <td>9.52</td>\n",
              "      <td>7.99</td>\n",
              "      <td>8.40</td>\n",
              "    </tr>\n",
              "  </tbody>\n",
              "</table>\n",
              "<p>5 rows × 43 columns</p>\n",
              "</div>\n",
              "      <button class=\"colab-df-convert\" onclick=\"convertToInteractive('df-c3d45324-da15-48b2-a271-837175033d3c')\"\n",
              "              title=\"Convert this dataframe to an interactive table.\"\n",
              "              style=\"display:none;\">\n",
              "        \n",
              "  <svg xmlns=\"http://www.w3.org/2000/svg\" height=\"24px\"viewBox=\"0 0 24 24\"\n",
              "       width=\"24px\">\n",
              "    <path d=\"M0 0h24v24H0V0z\" fill=\"none\"/>\n",
              "    <path d=\"M18.56 5.44l.94 2.06.94-2.06 2.06-.94-2.06-.94-.94-2.06-.94 2.06-2.06.94zm-11 1L8.5 8.5l.94-2.06 2.06-.94-2.06-.94L8.5 2.5l-.94 2.06-2.06.94zm10 10l.94 2.06.94-2.06 2.06-.94-2.06-.94-.94-2.06-.94 2.06-2.06.94z\"/><path d=\"M17.41 7.96l-1.37-1.37c-.4-.4-.92-.59-1.43-.59-.52 0-1.04.2-1.43.59L10.3 9.45l-7.72 7.72c-.78.78-.78 2.05 0 2.83L4 21.41c.39.39.9.59 1.41.59.51 0 1.02-.2 1.41-.59l7.78-7.78 2.81-2.81c.8-.78.8-2.07 0-2.86zM5.41 20L4 18.59l7.72-7.72 1.47 1.35L5.41 20z\"/>\n",
              "  </svg>\n",
              "      </button>\n",
              "      \n",
              "  <style>\n",
              "    .colab-df-container {\n",
              "      display:flex;\n",
              "      flex-wrap:wrap;\n",
              "      gap: 12px;\n",
              "    }\n",
              "\n",
              "    .colab-df-convert {\n",
              "      background-color: #E8F0FE;\n",
              "      border: none;\n",
              "      border-radius: 50%;\n",
              "      cursor: pointer;\n",
              "      display: none;\n",
              "      fill: #1967D2;\n",
              "      height: 32px;\n",
              "      padding: 0 0 0 0;\n",
              "      width: 32px;\n",
              "    }\n",
              "\n",
              "    .colab-df-convert:hover {\n",
              "      background-color: #E2EBFA;\n",
              "      box-shadow: 0px 1px 2px rgba(60, 64, 67, 0.3), 0px 1px 3px 1px rgba(60, 64, 67, 0.15);\n",
              "      fill: #174EA6;\n",
              "    }\n",
              "\n",
              "    [theme=dark] .colab-df-convert {\n",
              "      background-color: #3B4455;\n",
              "      fill: #D2E3FC;\n",
              "    }\n",
              "\n",
              "    [theme=dark] .colab-df-convert:hover {\n",
              "      background-color: #434B5C;\n",
              "      box-shadow: 0px 1px 3px 1px rgba(0, 0, 0, 0.15);\n",
              "      filter: drop-shadow(0px 1px 2px rgba(0, 0, 0, 0.3));\n",
              "      fill: #FFFFFF;\n",
              "    }\n",
              "  </style>\n",
              "\n",
              "      <script>\n",
              "        const buttonEl =\n",
              "          document.querySelector('#df-c3d45324-da15-48b2-a271-837175033d3c button.colab-df-convert');\n",
              "        buttonEl.style.display =\n",
              "          google.colab.kernel.accessAllowed ? 'block' : 'none';\n",
              "\n",
              "        async function convertToInteractive(key) {\n",
              "          const element = document.querySelector('#df-c3d45324-da15-48b2-a271-837175033d3c');\n",
              "          const dataTable =\n",
              "            await google.colab.kernel.invokeFunction('convertToInteractive',\n",
              "                                                     [key], {});\n",
              "          if (!dataTable) return;\n",
              "\n",
              "          const docLinkHtml = 'Like what you see? Visit the ' +\n",
              "            '<a target=\"_blank\" href=https://colab.research.google.com/notebooks/data_table.ipynb>data table notebook</a>'\n",
              "            + ' to learn more about interactive tables.';\n",
              "          element.innerHTML = '';\n",
              "          dataTable['output_type'] = 'display_data';\n",
              "          await google.colab.output.renderOutput(dataTable, element);\n",
              "          const docLink = document.createElement('div');\n",
              "          docLink.innerHTML = docLinkHtml;\n",
              "          element.appendChild(docLink);\n",
              "        }\n",
              "      </script>\n",
              "    </div>\n",
              "  </div>\n",
              "  "
            ]
          },
          "metadata": {},
          "execution_count": 7
        }
      ]
    },
    {
      "cell_type": "code",
      "source": [
        "# rename first column\n",
        "annual_temperatures.rename(columns={'Unnamed: 0': 'Date', 'Romania': 'Temperature'}, inplace=True)"
      ],
      "metadata": {
        "id": "lLFYPRHHRs4i"
      },
      "execution_count": 8,
      "outputs": []
    },
    {
      "cell_type": "code",
      "source": [
        "# test to see if the renaming had effect\n",
        "assert annual_temperatures.columns[0] == 'Date'\n",
        "assert annual_temperatures.columns[1] == 'Temperature'"
      ],
      "metadata": {
        "id": "XdyVeUwCRzX3"
      },
      "execution_count": 9,
      "outputs": []
    },
    {
      "cell_type": "code",
      "source": [
        "# subset the dataset\n",
        "annual_temperatures = annual_temperatures[['Date', 'Temperature']]"
      ],
      "metadata": {
        "id": "9EX1E_HDSMXF"
      },
      "execution_count": 10,
      "outputs": []
    },
    {
      "cell_type": "code",
      "source": [
        "annual_temperatures_copy = annual_temperatures.copy()"
      ],
      "metadata": {
        "id": "OBuHXAIWXAbW"
      },
      "execution_count": 11,
      "outputs": []
    },
    {
      "cell_type": "code",
      "source": [
        "annual_temperatures.head()"
      ],
      "metadata": {
        "colab": {
          "base_uri": "https://localhost:8080/",
          "height": 206
        },
        "id": "p2DOBAjmVE7V",
        "outputId": "2d7126d6-d05d-4e6e-f363-4a70ffa9067e"
      },
      "execution_count": 12,
      "outputs": [
        {
          "output_type": "execute_result",
          "data": {
            "text/plain": [
              "   Date  Temperature\n",
              "0  1901         8.85\n",
              "1  1902         7.99\n",
              "2  1903         9.25\n",
              "3  1904         8.65\n",
              "4  1905         8.84"
            ],
            "text/html": [
              "\n",
              "  <div id=\"df-5782c405-68cf-4def-8be5-3f26b0c6dca1\">\n",
              "    <div class=\"colab-df-container\">\n",
              "      <div>\n",
              "<style scoped>\n",
              "    .dataframe tbody tr th:only-of-type {\n",
              "        vertical-align: middle;\n",
              "    }\n",
              "\n",
              "    .dataframe tbody tr th {\n",
              "        vertical-align: top;\n",
              "    }\n",
              "\n",
              "    .dataframe thead th {\n",
              "        text-align: right;\n",
              "    }\n",
              "</style>\n",
              "<table border=\"1\" class=\"dataframe\">\n",
              "  <thead>\n",
              "    <tr style=\"text-align: right;\">\n",
              "      <th></th>\n",
              "      <th>Date</th>\n",
              "      <th>Temperature</th>\n",
              "    </tr>\n",
              "  </thead>\n",
              "  <tbody>\n",
              "    <tr>\n",
              "      <th>0</th>\n",
              "      <td>1901</td>\n",
              "      <td>8.85</td>\n",
              "    </tr>\n",
              "    <tr>\n",
              "      <th>1</th>\n",
              "      <td>1902</td>\n",
              "      <td>7.99</td>\n",
              "    </tr>\n",
              "    <tr>\n",
              "      <th>2</th>\n",
              "      <td>1903</td>\n",
              "      <td>9.25</td>\n",
              "    </tr>\n",
              "    <tr>\n",
              "      <th>3</th>\n",
              "      <td>1904</td>\n",
              "      <td>8.65</td>\n",
              "    </tr>\n",
              "    <tr>\n",
              "      <th>4</th>\n",
              "      <td>1905</td>\n",
              "      <td>8.84</td>\n",
              "    </tr>\n",
              "  </tbody>\n",
              "</table>\n",
              "</div>\n",
              "      <button class=\"colab-df-convert\" onclick=\"convertToInteractive('df-5782c405-68cf-4def-8be5-3f26b0c6dca1')\"\n",
              "              title=\"Convert this dataframe to an interactive table.\"\n",
              "              style=\"display:none;\">\n",
              "        \n",
              "  <svg xmlns=\"http://www.w3.org/2000/svg\" height=\"24px\"viewBox=\"0 0 24 24\"\n",
              "       width=\"24px\">\n",
              "    <path d=\"M0 0h24v24H0V0z\" fill=\"none\"/>\n",
              "    <path d=\"M18.56 5.44l.94 2.06.94-2.06 2.06-.94-2.06-.94-.94-2.06-.94 2.06-2.06.94zm-11 1L8.5 8.5l.94-2.06 2.06-.94-2.06-.94L8.5 2.5l-.94 2.06-2.06.94zm10 10l.94 2.06.94-2.06 2.06-.94-2.06-.94-.94-2.06-.94 2.06-2.06.94z\"/><path d=\"M17.41 7.96l-1.37-1.37c-.4-.4-.92-.59-1.43-.59-.52 0-1.04.2-1.43.59L10.3 9.45l-7.72 7.72c-.78.78-.78 2.05 0 2.83L4 21.41c.39.39.9.59 1.41.59.51 0 1.02-.2 1.41-.59l7.78-7.78 2.81-2.81c.8-.78.8-2.07 0-2.86zM5.41 20L4 18.59l7.72-7.72 1.47 1.35L5.41 20z\"/>\n",
              "  </svg>\n",
              "      </button>\n",
              "      \n",
              "  <style>\n",
              "    .colab-df-container {\n",
              "      display:flex;\n",
              "      flex-wrap:wrap;\n",
              "      gap: 12px;\n",
              "    }\n",
              "\n",
              "    .colab-df-convert {\n",
              "      background-color: #E8F0FE;\n",
              "      border: none;\n",
              "      border-radius: 50%;\n",
              "      cursor: pointer;\n",
              "      display: none;\n",
              "      fill: #1967D2;\n",
              "      height: 32px;\n",
              "      padding: 0 0 0 0;\n",
              "      width: 32px;\n",
              "    }\n",
              "\n",
              "    .colab-df-convert:hover {\n",
              "      background-color: #E2EBFA;\n",
              "      box-shadow: 0px 1px 2px rgba(60, 64, 67, 0.3), 0px 1px 3px 1px rgba(60, 64, 67, 0.15);\n",
              "      fill: #174EA6;\n",
              "    }\n",
              "\n",
              "    [theme=dark] .colab-df-convert {\n",
              "      background-color: #3B4455;\n",
              "      fill: #D2E3FC;\n",
              "    }\n",
              "\n",
              "    [theme=dark] .colab-df-convert:hover {\n",
              "      background-color: #434B5C;\n",
              "      box-shadow: 0px 1px 3px 1px rgba(0, 0, 0, 0.15);\n",
              "      filter: drop-shadow(0px 1px 2px rgba(0, 0, 0, 0.3));\n",
              "      fill: #FFFFFF;\n",
              "    }\n",
              "  </style>\n",
              "\n",
              "      <script>\n",
              "        const buttonEl =\n",
              "          document.querySelector('#df-5782c405-68cf-4def-8be5-3f26b0c6dca1 button.colab-df-convert');\n",
              "        buttonEl.style.display =\n",
              "          google.colab.kernel.accessAllowed ? 'block' : 'none';\n",
              "\n",
              "        async function convertToInteractive(key) {\n",
              "          const element = document.querySelector('#df-5782c405-68cf-4def-8be5-3f26b0c6dca1');\n",
              "          const dataTable =\n",
              "            await google.colab.kernel.invokeFunction('convertToInteractive',\n",
              "                                                     [key], {});\n",
              "          if (!dataTable) return;\n",
              "\n",
              "          const docLinkHtml = 'Like what you see? Visit the ' +\n",
              "            '<a target=\"_blank\" href=https://colab.research.google.com/notebooks/data_table.ipynb>data table notebook</a>'\n",
              "            + ' to learn more about interactive tables.';\n",
              "          element.innerHTML = '';\n",
              "          dataTable['output_type'] = 'display_data';\n",
              "          await google.colab.output.renderOutput(dataTable, element);\n",
              "          const docLink = document.createElement('div');\n",
              "          docLink.innerHTML = docLinkHtml;\n",
              "          element.appendChild(docLink);\n",
              "        }\n",
              "      </script>\n",
              "    </div>\n",
              "  </div>\n",
              "  "
            ]
          },
          "metadata": {},
          "execution_count": 12
        }
      ]
    },
    {
      "cell_type": "code",
      "source": [
        "# check if there are any missing values\n",
        "annual_temperatures.isna().sum()"
      ],
      "metadata": {
        "colab": {
          "base_uri": "https://localhost:8080/"
        },
        "id": "4rEdixA2VGlg",
        "outputId": "ac99647e-502f-4458-83f0-a0b93121cf87"
      },
      "execution_count": 13,
      "outputs": [
        {
          "output_type": "execute_result",
          "data": {
            "text/plain": [
              "Date           0\n",
              "Temperature    0\n",
              "dtype: int64"
            ]
          },
          "metadata": {},
          "execution_count": 13
        }
      ]
    },
    {
      "cell_type": "markdown",
      "source": [
        "Great, there are no missing values."
      ],
      "metadata": {
        "id": "KWs9t0jkV7qO"
      }
    },
    {
      "cell_type": "code",
      "source": [
        "# set date as index\n",
        "annual_temperatures.set_index('Date', inplace=True)"
      ],
      "metadata": {
        "id": "sCjTbqcUWM5I"
      },
      "execution_count": 14,
      "outputs": []
    },
    {
      "cell_type": "code",
      "source": [
        "#convert the index to a datetime object\n",
        "annual_temperatures.index = pd.to_datetime(annual_temperatures.index, format=\"%Y\")"
      ],
      "metadata": {
        "id": "5it-WcXUcyth"
      },
      "execution_count": 15,
      "outputs": []
    },
    {
      "cell_type": "code",
      "source": [
        "# infer the frequency of the data\n",
        "annual_temperatures = annual_temperatures.asfreq(pd.infer_freq(annual_temperatures.index))"
      ],
      "metadata": {
        "id": "IeQEdytPurWq"
      },
      "execution_count": 16,
      "outputs": []
    },
    {
      "cell_type": "code",
      "source": [
        "annual_temperatures.head()"
      ],
      "metadata": {
        "colab": {
          "base_uri": "https://localhost:8080/",
          "height": 238
        },
        "id": "h68cWQTeWQQ5",
        "outputId": "b5518cf1-04ce-4eee-9c9b-7ecc22740f4f"
      },
      "execution_count": 17,
      "outputs": [
        {
          "output_type": "execute_result",
          "data": {
            "text/plain": [
              "            Temperature\n",
              "Date                   \n",
              "1901-01-01         8.85\n",
              "1902-01-01         7.99\n",
              "1903-01-01         9.25\n",
              "1904-01-01         8.65\n",
              "1905-01-01         8.84"
            ],
            "text/html": [
              "\n",
              "  <div id=\"df-6fe1cbb5-3e1c-46e1-95db-90d9499bf4e6\">\n",
              "    <div class=\"colab-df-container\">\n",
              "      <div>\n",
              "<style scoped>\n",
              "    .dataframe tbody tr th:only-of-type {\n",
              "        vertical-align: middle;\n",
              "    }\n",
              "\n",
              "    .dataframe tbody tr th {\n",
              "        vertical-align: top;\n",
              "    }\n",
              "\n",
              "    .dataframe thead th {\n",
              "        text-align: right;\n",
              "    }\n",
              "</style>\n",
              "<table border=\"1\" class=\"dataframe\">\n",
              "  <thead>\n",
              "    <tr style=\"text-align: right;\">\n",
              "      <th></th>\n",
              "      <th>Temperature</th>\n",
              "    </tr>\n",
              "    <tr>\n",
              "      <th>Date</th>\n",
              "      <th></th>\n",
              "    </tr>\n",
              "  </thead>\n",
              "  <tbody>\n",
              "    <tr>\n",
              "      <th>1901-01-01</th>\n",
              "      <td>8.85</td>\n",
              "    </tr>\n",
              "    <tr>\n",
              "      <th>1902-01-01</th>\n",
              "      <td>7.99</td>\n",
              "    </tr>\n",
              "    <tr>\n",
              "      <th>1903-01-01</th>\n",
              "      <td>9.25</td>\n",
              "    </tr>\n",
              "    <tr>\n",
              "      <th>1904-01-01</th>\n",
              "      <td>8.65</td>\n",
              "    </tr>\n",
              "    <tr>\n",
              "      <th>1905-01-01</th>\n",
              "      <td>8.84</td>\n",
              "    </tr>\n",
              "  </tbody>\n",
              "</table>\n",
              "</div>\n",
              "      <button class=\"colab-df-convert\" onclick=\"convertToInteractive('df-6fe1cbb5-3e1c-46e1-95db-90d9499bf4e6')\"\n",
              "              title=\"Convert this dataframe to an interactive table.\"\n",
              "              style=\"display:none;\">\n",
              "        \n",
              "  <svg xmlns=\"http://www.w3.org/2000/svg\" height=\"24px\"viewBox=\"0 0 24 24\"\n",
              "       width=\"24px\">\n",
              "    <path d=\"M0 0h24v24H0V0z\" fill=\"none\"/>\n",
              "    <path d=\"M18.56 5.44l.94 2.06.94-2.06 2.06-.94-2.06-.94-.94-2.06-.94 2.06-2.06.94zm-11 1L8.5 8.5l.94-2.06 2.06-.94-2.06-.94L8.5 2.5l-.94 2.06-2.06.94zm10 10l.94 2.06.94-2.06 2.06-.94-2.06-.94-.94-2.06-.94 2.06-2.06.94z\"/><path d=\"M17.41 7.96l-1.37-1.37c-.4-.4-.92-.59-1.43-.59-.52 0-1.04.2-1.43.59L10.3 9.45l-7.72 7.72c-.78.78-.78 2.05 0 2.83L4 21.41c.39.39.9.59 1.41.59.51 0 1.02-.2 1.41-.59l7.78-7.78 2.81-2.81c.8-.78.8-2.07 0-2.86zM5.41 20L4 18.59l7.72-7.72 1.47 1.35L5.41 20z\"/>\n",
              "  </svg>\n",
              "      </button>\n",
              "      \n",
              "  <style>\n",
              "    .colab-df-container {\n",
              "      display:flex;\n",
              "      flex-wrap:wrap;\n",
              "      gap: 12px;\n",
              "    }\n",
              "\n",
              "    .colab-df-convert {\n",
              "      background-color: #E8F0FE;\n",
              "      border: none;\n",
              "      border-radius: 50%;\n",
              "      cursor: pointer;\n",
              "      display: none;\n",
              "      fill: #1967D2;\n",
              "      height: 32px;\n",
              "      padding: 0 0 0 0;\n",
              "      width: 32px;\n",
              "    }\n",
              "\n",
              "    .colab-df-convert:hover {\n",
              "      background-color: #E2EBFA;\n",
              "      box-shadow: 0px 1px 2px rgba(60, 64, 67, 0.3), 0px 1px 3px 1px rgba(60, 64, 67, 0.15);\n",
              "      fill: #174EA6;\n",
              "    }\n",
              "\n",
              "    [theme=dark] .colab-df-convert {\n",
              "      background-color: #3B4455;\n",
              "      fill: #D2E3FC;\n",
              "    }\n",
              "\n",
              "    [theme=dark] .colab-df-convert:hover {\n",
              "      background-color: #434B5C;\n",
              "      box-shadow: 0px 1px 3px 1px rgba(0, 0, 0, 0.15);\n",
              "      filter: drop-shadow(0px 1px 2px rgba(0, 0, 0, 0.3));\n",
              "      fill: #FFFFFF;\n",
              "    }\n",
              "  </style>\n",
              "\n",
              "      <script>\n",
              "        const buttonEl =\n",
              "          document.querySelector('#df-6fe1cbb5-3e1c-46e1-95db-90d9499bf4e6 button.colab-df-convert');\n",
              "        buttonEl.style.display =\n",
              "          google.colab.kernel.accessAllowed ? 'block' : 'none';\n",
              "\n",
              "        async function convertToInteractive(key) {\n",
              "          const element = document.querySelector('#df-6fe1cbb5-3e1c-46e1-95db-90d9499bf4e6');\n",
              "          const dataTable =\n",
              "            await google.colab.kernel.invokeFunction('convertToInteractive',\n",
              "                                                     [key], {});\n",
              "          if (!dataTable) return;\n",
              "\n",
              "          const docLinkHtml = 'Like what you see? Visit the ' +\n",
              "            '<a target=\"_blank\" href=https://colab.research.google.com/notebooks/data_table.ipynb>data table notebook</a>'\n",
              "            + ' to learn more about interactive tables.';\n",
              "          element.innerHTML = '';\n",
              "          dataTable['output_type'] = 'display_data';\n",
              "          await google.colab.output.renderOutput(dataTable, element);\n",
              "          const docLink = document.createElement('div');\n",
              "          docLink.innerHTML = docLinkHtml;\n",
              "          element.appendChild(docLink);\n",
              "        }\n",
              "      </script>\n",
              "    </div>\n",
              "  </div>\n",
              "  "
            ]
          },
          "metadata": {},
          "execution_count": 17
        }
      ]
    },
    {
      "cell_type": "code",
      "source": [
        "plt.figure(figsize=(10, 4))\n",
        "plt.plot(annual_temperatures['Temperature'])\n",
        "plt.title('Average Temperatures in Romania over time', fontsize=22)\n",
        "plt.ylabel('Avg Temperature', fontsize=18)\n",
        "plt.show()"
      ],
      "metadata": {
        "colab": {
          "base_uri": "https://localhost:8080/",
          "height": 287
        },
        "id": "DoaBteFSWlFC",
        "outputId": "fcc434a5-bbd7-4d56-9703-cd9ebaed0209"
      },
      "execution_count": 18,
      "outputs": [
        {
          "output_type": "display_data",
          "data": {
            "text/plain": [
              "<Figure size 720x288 with 1 Axes>"
            ],
            "image/png": "[encoded data removed]"
          },
          "metadata": {
            "needs_background": "light"
          }
        }
      ]
    },
    {
      "cell_type": "markdown",
      "source": [
        "## Visually, we can say that this time series is not stationary. The mean is not constant, neither the standard deviation. \n",
        "\n",
        "## But let's run a statistical test, the Augmented Dickey Fuller test to see if the time series is indeed non-stationary."
      ],
      "metadata": {
        "id": "EJtmQpYwdIwl"
      }
    },
    {
      "cell_type": "code",
      "source": [
        "results = adfuller(annual_temperatures['Temperature'])\n",
        "print(\"The p-value is: \", results[1])"
      ],
      "metadata": {
        "colab": {
          "base_uri": "https://localhost:8080/"
        },
        "id": "Cejb0CMPdr-c",
        "outputId": "1cae675b-9c3a-43c8-b5b5-6504b371d52d"
      },
      "execution_count": 19,
      "outputs": [
        {
          "output_type": "stream",
          "name": "stdout",
          "text": [
            "The p-value is:  0.997195834149218\n"
          ]
        }
      ]
    },
    {
      "cell_type": "markdown",
      "source": [
        "## Now we have no doubt that this time series is not stationary (the p-value > 0.05). **The data seems to follow a random walk with drift**."
      ],
      "metadata": {
        "id": "yif9P4M6eEAJ"
      }
    },
    {
      "cell_type": "markdown",
      "source": [
        "## Make a stationary time series\n",
        "## Because the time series is a random walk with drift, we will take first differences to make it stationary."
      ],
      "metadata": {
        "id": "Dvrf7REkee_I"
      }
    },
    {
      "cell_type": "code",
      "source": [
        "changed_temperatures = annual_temperatures.diff()\n",
        "changed_temperatures = changed_temperatures.dropna()"
      ],
      "metadata": {
        "id": "J6ZyxUNIe1vL"
      },
      "execution_count": 20,
      "outputs": []
    },
    {
      "cell_type": "code",
      "source": [
        "plt.figure(figsize=(10, 4))\n",
        "plt.plot(changed_temperatures['Temperature'])\n",
        "plt.title('New Time Series created by using first differences method', fontsize=22)\n",
        "plt.ylabel('Diff', fontsize=18)\n",
        "plt.show()"
      ],
      "metadata": {
        "colab": {
          "base_uri": "https://localhost:8080/",
          "height": 287
        },
        "id": "1NEDLW9UfR8R",
        "outputId": "a29c4044-c97d-4d9a-8f75-204ce89cd445"
      },
      "execution_count": 21,
      "outputs": [
        {
          "output_type": "display_data",
          "data": {
            "text/plain": [
              "<Figure size 720x288 with 1 Axes>"
            ],
            "image/png": "[encoded data removed]"
          },
          "metadata": {
            "needs_background": "light"
          }
        }
      ]
    },
    {
      "cell_type": "markdown",
      "source": [
        "Looks stationary. The mean seems to be centered, the standard deviation is almost constant. There is no seasonality. "
      ],
      "metadata": {
        "id": "75_3JFfgfpyy"
      }
    },
    {
      "cell_type": "markdown",
      "source": [
        "## ACF"
      ],
      "metadata": {
        "id": "Y3kIaPFlbBww"
      }
    },
    {
      "cell_type": "code",
      "source": [
        "acf_plot = plot_acf(changed_temperatures['Temperature'], lags = 20)"
      ],
      "metadata": {
        "colab": {
          "base_uri": "https://localhost:8080/",
          "height": 281
        },
        "id": "Ebbm649MZtSK",
        "outputId": "61661546-89bb-4e3a-92d3-742698414b1e"
      },
      "execution_count": 22,
      "outputs": [
        {
          "output_type": "display_data",
          "data": {
            "text/plain": [
              "<Figure size 432x288 with 1 Axes>"
            ],
            "image/png": "[encoded data removed]"
          },
          "metadata": {
            "needs_background": "light"
          }
        }
      ]
    },
    {
      "cell_type": "markdown",
      "source": [
        "## PACF"
      ],
      "metadata": {
        "id": "Zf-F-aVMbq2O"
      }
    },
    {
      "cell_type": "code",
      "source": [
        "pacf_plot = plot_pacf(changed_temperatures['Temperature'], lags = 20)"
      ],
      "metadata": {
        "colab": {
          "base_uri": "https://localhost:8080/",
          "height": 281
        },
        "id": "bpFFyX72bMDj",
        "outputId": "32edd33c-8ff6-4c17-8734-6897a52e3eda"
      },
      "execution_count": 23,
      "outputs": [
        {
          "output_type": "display_data",
          "data": {
            "text/plain": [
              "<Figure size 432x288 with 1 Axes>"
            ],
            "image/png": "[encoded data removed]"
          },
          "metadata": {
            "needs_background": "light"
          }
        }
      ]
    },
    {
      "cell_type": "markdown",
      "source": [
        "## Looking at ACF and PACF plots, we don t find a clear pattern (except the negative lag 1 autocorrelation for both plots)."
      ],
      "metadata": {
        "id": "R6pi6bGKcBJr"
      }
    },
    {
      "cell_type": "markdown",
      "source": [
        "## Based on the plots above, we will fit the temperature data to the following models:\n",
        "- AR(1)\n",
        "- MA(1)\n",
        "- ARMA(1, 1)\n",
        "- ARMA(1, 3)\n",
        "\n",
        "Then, we will use the Akaike Information Criterion (AIC) to measure godness-of-fit. "
      ],
      "metadata": {
        "id": "Q9jJRbB9hOzH"
      }
    },
    {
      "cell_type": "code",
      "source": [
        "model_ar1 = ARMA(changed_temperatures, order=(1, 0))\n",
        "result_ar1 = model_ar1.fit()\n",
        "print(\"The AIC for AR(1) is: \", result_ar1.aic)"
      ],
      "metadata": {
        "colab": {
          "base_uri": "https://localhost:8080/"
        },
        "id": "eKPX21l8b2GG",
        "outputId": "9b2ae571-71ce-49cd-f1d3-8d6062a484f2"
      },
      "execution_count": 24,
      "outputs": [
        {
          "output_type": "stream",
          "name": "stdout",
          "text": [
            "The AIC for AR(1) is:  253.85134779847857\n"
          ]
        }
      ]
    },
    {
      "cell_type": "code",
      "source": [
        "model_ma1 = ARMA(changed_temperatures, order=(0, 1))\n",
        "result_ma1 = model_ma1.fit()\n",
        "print(\"The AIC for MA(1) is: \", result_ma1.aic)"
      ],
      "metadata": {
        "colab": {
          "base_uri": "https://localhost:8080/"
        },
        "id": "9nzuzc6titBM",
        "outputId": "e3467146-aab1-40c8-e67e-d708a7c9b021"
      },
      "execution_count": 25,
      "outputs": [
        {
          "output_type": "stream",
          "name": "stdout",
          "text": [
            "The AIC for MA(1) is:  235.10899909516456\n"
          ]
        }
      ]
    },
    {
      "cell_type": "code",
      "source": [
        "model_arma11 = ARMA(changed_temperatures, order=(1, 1))\n",
        "result_arma11 = model_arma11.fit()\n",
        "print(\"The AIC for ARMA(1, 1) is: \", result_arma11.aic)"
      ],
      "metadata": {
        "colab": {
          "base_uri": "https://localhost:8080/"
        },
        "id": "zNfckmXAi24n",
        "outputId": "48ba0b25-4e22-4fea-890e-8c1a749b9ff5"
      },
      "execution_count": 26,
      "outputs": [
        {
          "output_type": "stream",
          "name": "stdout",
          "text": [
            "The AIC for ARMA(1, 1) is:  236.59217939049273\n"
          ]
        }
      ]
    },
    {
      "cell_type": "code",
      "source": [
        "model_arma13 = ARMA(changed_temperatures, order=(1, 3))\n",
        "result_arma13 = model_arma13.fit()\n",
        "print(\"The AIC for ARMA(1, 3) is: \", result_arma13.aic)"
      ],
      "metadata": {
        "colab": {
          "base_uri": "https://localhost:8080/"
        },
        "id": "QFNfTYuVjGbH",
        "outputId": "72b36e4e-b309-4c2e-e735-73cc0d898728"
      },
      "execution_count": 27,
      "outputs": [
        {
          "output_type": "stream",
          "name": "stdout",
          "text": [
            "The AIC for ARMA(1, 3) is:  233.14386742647125\n"
          ]
        }
      ]
    },
    {
      "cell_type": "markdown",
      "source": [
        "## The ARMA(1, 3) has the lowest AIC => we will choose this model."
      ],
      "metadata": {
        "id": "hcYMw_8vkQDh"
      }
    },
    {
      "cell_type": "markdown",
      "source": [
        "## Since ARMA (1, 3) is the best model for the First Difference of the time series, we use ARIMA(1, 1, 3) model to forecast the temperatures."
      ],
      "metadata": {
        "id": "kDUv64UkmHrw"
      }
    },
    {
      "cell_type": "code",
      "source": [
        "# plot the original series and the forecasted series\n",
        "model = ARIMA(annual_temperatures, order = (3, 1, 1))\n",
        "result = model.fit()\n",
        "result.plot_predict(start='1902-01-01', end='2040-01-01')\n",
        "plt.show()"
      ],
      "metadata": {
        "colab": {
          "base_uri": "https://localhost:8080/",
          "height": 265
        },
        "id": "v8sr2tHXkZjc",
        "outputId": "274bfbfd-d4ea-4eb2-cd52-ba4f1e572008"
      },
      "execution_count": 28,
      "outputs": [
        {
          "output_type": "display_data",
          "data": {
            "text/plain": [
              "<Figure size 432x288 with 1 Axes>"
            ],
            "image/png": "[encoded data removed]"
          },
          "metadata": {
            "needs_background": "light"
          }
        }
      ]
    },
    {
      "cell_type": "code",
      "source": [
        "result"
      ],
      "metadata": {
        "colab": {
          "base_uri": "https://localhost:8080/"
        },
        "id": "JVeXU3lba8bq",
        "outputId": "73d23523-e466-47da-910f-8b1c9c6ff611"
      },
      "execution_count": 29,
      "outputs": [
        {
          "output_type": "execute_result",
          "data": {
            "text/plain": [
              "<statsmodels.tsa.arima_model.ARIMAResultsWrapper at 0x7f89071deb10>"
            ]
          },
          "metadata": {},
          "execution_count": 29
        }
      ]
    },
    {
      "cell_type": "markdown",
      "source": [
        "## According to the model, the temperature is expected to be 0.5 degrees higer in 20 years, but the 95% confidence interval around that is min 4 degrees. Ne vom praji."
      ],
      "metadata": {
        "id": "Yx8DtQR2o2ej"
      }
    },
    {
      "cell_type": "markdown",
      "source": [
        "## Residuals Diagnosis"
      ],
      "metadata": {
        "id": "k1_UVfzj9xZm"
      }
    },
    {
      "cell_type": "code",
      "source": [
        "residuals = result.resid"
      ],
      "metadata": {
        "id": "pvc3vTVu6q76"
      },
      "execution_count": 30,
      "outputs": []
    },
    {
      "cell_type": "code",
      "source": [
        "plt.figure(figsize=(10, 4))\n",
        "plt.plot(residuals)\n",
        "plt.title('Residuals from ARIMA model', fontsize=22)\n",
        "plt.ylabel('Err', fontsize=18)\n",
        "plt.show()"
      ],
      "metadata": {
        "colab": {
          "base_uri": "https://localhost:8080/",
          "height": 287
        },
        "id": "-cybbxhc7Bpe",
        "outputId": "a056a215-3c63-407e-ab27-c8dd377f5b45"
      },
      "execution_count": 31,
      "outputs": [
        {
          "output_type": "display_data",
          "data": {
            "text/plain": [
              "<Figure size 720x288 with 1 Axes>"
            ],
            "image/png": "[encoded data removed]"
          },
          "metadata": {
            "needs_background": "light"
          }
        }
      ]
    },
    {
      "cell_type": "markdown",
      "source": [
        "## Next we will check if these residuals are normally distributed and looks Gaussian or not. So we will plot the density plot to check this."
      ],
      "metadata": {
        "id": "8VrmQGyWCQiW"
      }
    },
    {
      "cell_type": "code",
      "source": [
        "residuals.plot(kind='kde')\n",
        "plt.show()"
      ],
      "metadata": {
        "colab": {
          "base_uri": "https://localhost:8080/",
          "height": 265
        },
        "id": "hWPtLlsU8oDw",
        "outputId": "fccd34ca-d01f-4407-ff14-e7c03f630c89"
      },
      "execution_count": 32,
      "outputs": [
        {
          "output_type": "display_data",
          "data": {
            "text/plain": [
              "<Figure size 432x288 with 1 Axes>"
            ],
            "image/png": "[encoded data removed]"
          },
          "metadata": {
            "needs_background": "light"
          }
        }
      ]
    },
    {
      "cell_type": "markdown",
      "source": [
        "## This looks normal with a long left tail and centered at Zero."
      ],
      "metadata": {
        "id": "ywt-q-eqCeq9"
      }
    },
    {
      "cell_type": "code",
      "source": [
        "residuals.describe()"
      ],
      "metadata": {
        "colab": {
          "base_uri": "https://localhost:8080/"
        },
        "id": "REVHu95G88PL",
        "outputId": "74828057-5c72-465b-81e1-df240802a106"
      },
      "execution_count": 33,
      "outputs": [
        {
          "output_type": "execute_result",
          "data": {
            "text/plain": [
              "count    119.000000\n",
              "mean      -0.003271\n",
              "std        0.611891\n",
              "min       -2.017536\n",
              "25%       -0.460849\n",
              "50%        0.035134\n",
              "75%        0.410897\n",
              "max        1.272122\n",
              "dtype: float64"
            ]
          },
          "metadata": {},
          "execution_count": 33
        }
      ]
    },
    {
      "cell_type": "code",
      "source": [
        "plot_pacf(residuals)"
      ],
      "metadata": {
        "colab": {
          "base_uri": "https://localhost:8080/",
          "height": 545
        },
        "id": "ot6NoN0c9DeZ",
        "outputId": "2f43e101-03fa-4edf-d519-972a20239b7b"
      },
      "execution_count": 34,
      "outputs": [
        {
          "output_type": "execute_result",
          "data": {
            "text/plain": [
              "<Figure size 432x288 with 1 Axes>"
            ],
            "image/png": "[encoded data removed]"
          },
          "metadata": {},
          "execution_count": 34
        },
        {
          "output_type": "display_data",
          "data": {
            "text/plain": [
              "<Figure size 432x288 with 1 Axes>"
            ],
            "image/png": "[encoded data removed]"
          },
          "metadata": {
            "needs_background": "light"
          }
        }
      ]
    },
    {
      "cell_type": "code",
      "source": [
        "print('Error:', np.sqrt(np.mean(residuals**2)))"
      ],
      "metadata": {
        "colab": {
          "base_uri": "https://localhost:8080/"
        },
        "id": "s7Esytcx--1p",
        "outputId": "35d339c8-6d8b-40c5-8795-d6e84eab5292"
      },
      "execution_count": 35,
      "outputs": [
        {
          "output_type": "stream",
          "name": "stdout",
          "text": [
            "Error: 0.6093230364979751\n"
          ]
        }
      ]
    },
    {
      "cell_type": "markdown",
      "source": [
        "## The mean of the residual is close to Zero and there is no significant correlation also that we can see in the pacf plot for residuals."
      ],
      "metadata": {
        "id": "87XTFN4E80JU"
      }
    },
    {
      "cell_type": "markdown",
      "source": [
        "## The residual diagnostics looks like a white noise since 95% of our sample autocorrelations is between the two blue lines and it meets all our criteria for a good forecast and prediction."
      ],
      "metadata": {
        "id": "CWw3XiHY9YB7"
      }
    },
    {
      "cell_type": "markdown",
      "source": [
        "\n",
        "\n",
        "---\n",
        "\n"
      ],
      "metadata": {
        "id": "O7LS4tOr7bAS"
      }
    },
    {
      "cell_type": "markdown",
      "source": [
        "# Ecuatia matematica a modelului:"
      ],
      "metadata": {
        "id": "iEWNp-QF99s8"
      }
    },
    {
      "cell_type": "code",
      "source": [
        "# plot the original series and the forecasted series\n",
        "model = ARIMA(annual_temperatures, order = (3, 1, 1))\n",
        "model_fit = model.fit()"
      ],
      "metadata": {
        "id": "KcvN8b2QxB9P"
      },
      "execution_count": 36,
      "outputs": []
    },
    {
      "cell_type": "code",
      "source": [
        "# summary of the model\n",
        "print(model_fit.summary())"
      ],
      "metadata": {
        "colab": {
          "base_uri": "https://localhost:8080/"
        },
        "id": "sjTozdx6yIBE",
        "outputId": "23ae4406-7644-4515-eb57-41192e7e45dc"
      },
      "execution_count": 37,
      "outputs": [
        {
          "output_type": "stream",
          "name": "stdout",
          "text": [
            "                             ARIMA Model Results                              \n",
            "==============================================================================\n",
            "Dep. Variable:          D.Temperature   No. Observations:                  119\n",
            "Model:                 ARIMA(3, 1, 1)   Log Likelihood                -109.866\n",
            "Method:                       css-mle   S.D. of innovations              0.606\n",
            "Date:                Mon, 23 May 2022   AIC                            231.733\n",
            "Time:                        14:37:34   BIC                            248.407\n",
            "Sample:                    01-01-1902   HQIC                           238.504\n",
            "                         - 01-01-2020                                         \n",
            "=======================================================================================\n",
            "                          coef    std err          z      P>|z|      [0.025      0.975]\n",
            "---------------------------------------------------------------------------------------\n",
            "const                   0.0176      0.010      1.805      0.074      -0.002       0.037\n",
            "ar.L1.D.Temperature     0.0600      0.102      0.590      0.556      -0.139       0.259\n",
            "ar.L2.D.Temperature     0.0962      0.097      0.988      0.325      -0.095       0.287\n",
            "ar.L3.D.Temperature    -0.2628      0.093     -2.813      0.006      -0.446      -0.080\n",
            "ma.L1.D.Temperature    -0.8151      0.062    -13.043      0.000      -0.938      -0.693\n",
            "                                    Roots                                    \n",
            "=============================================================================\n",
            "                  Real          Imaginary           Modulus         Frequency\n",
            "-----------------------------------------------------------------------------\n",
            "AR.1            0.9296           -1.2976j            1.5962           -0.1511\n",
            "AR.2            0.9296           +1.2976j            1.5962            0.1511\n",
            "AR.3           -1.4933           -0.0000j            1.4933           -0.5000\n",
            "MA.1            1.2269           +0.0000j            1.2269            0.0000\n",
            "-----------------------------------------------------------------------------\n"
          ]
        }
      ]
    },
    {
      "cell_type": "markdown",
      "source": [
        "Lag 1 is significant, Lag 2 is not significant (p-value = 0.206 > 0.05), Lar 3 is very significant. So Lag 2 => bye"
      ],
      "metadata": {
        "id": "UO41JMBu1P6e"
      }
    },
    {
      "cell_type": "markdown",
      "source": [
        "# **yt = 0.0068 - 0.41yt-1 - 0.40Et-1 - 0.38Et-3 + Et-1**"
      ],
      "metadata": {
        "id": "lXtswpZm_Uhu"
      }
    },
    {
      "cell_type": "markdown",
      "source": [
        "\n",
        "\n",
        "---\n",
        "\n",
        "\n",
        "\n",
        "---\n",
        "\n",
        "\n",
        "\n",
        "---\n",
        "\n"
      ],
      "metadata": {
        "id": "8Vkz7rb6SngE"
      }
    },
    {
      "cell_type": "code",
      "source": [
        "annual_temperatures"
      ],
      "metadata": {
        "id": "WPLP39JEe7EP",
        "outputId": "7da4b5fa-c4da-4270-98b1-3bfd242af433",
        "colab": {
          "base_uri": "https://localhost:8080/",
          "height": 455
        }
      },
      "execution_count": 38,
      "outputs": [
        {
          "output_type": "execute_result",
          "data": {
            "text/plain": [
              "            Temperature\n",
              "Date                   \n",
              "1901-01-01         8.85\n",
              "1902-01-01         7.99\n",
              "1903-01-01         9.25\n",
              "1904-01-01         8.65\n",
              "1905-01-01         8.84\n",
              "...                 ...\n",
              "2016-01-01        10.38\n",
              "2017-01-01        10.36\n",
              "2018-01-01        10.91\n",
              "2019-01-01        11.41\n",
              "2020-01-01        11.04\n",
              "\n",
              "[120 rows x 1 columns]"
            ],
            "text/html": [
              "\n",
              "  <div id=\"df-558e9c65-efe3-4cb2-bdfc-4beeeafe26d9\">\n",
              "    <div class=\"colab-df-container\">\n",
              "      <div>\n",
              "<style scoped>\n",
              "    .dataframe tbody tr th:only-of-type {\n",
              "        vertical-align: middle;\n",
              "    }\n",
              "\n",
              "    .dataframe tbody tr th {\n",
              "        vertical-align: top;\n",
              "    }\n",
              "\n",
              "    .dataframe thead th {\n",
              "        text-align: right;\n",
              "    }\n",
              "</style>\n",
              "<table border=\"1\" class=\"dataframe\">\n",
              "  <thead>\n",
              "    <tr style=\"text-align: right;\">\n",
              "      <th></th>\n",
              "      <th>Temperature</th>\n",
              "    </tr>\n",
              "    <tr>\n",
              "      <th>Date</th>\n",
              "      <th></th>\n",
              "    </tr>\n",
              "  </thead>\n",
              "  <tbody>\n",
              "    <tr>\n",
              "      <th>1901-01-01</th>\n",
              "      <td>8.85</td>\n",
              "    </tr>\n",
              "    <tr>\n",
              "      <th>1902-01-01</th>\n",
              "      <td>7.99</td>\n",
              "    </tr>\n",
              "    <tr>\n",
              "      <th>1903-01-01</th>\n",
              "      <td>9.25</td>\n",
              "    </tr>\n",
              "    <tr>\n",
              "      <th>1904-01-01</th>\n",
              "      <td>8.65</td>\n",
              "    </tr>\n",
              "    <tr>\n",
              "      <th>1905-01-01</th>\n",
              "      <td>8.84</td>\n",
              "    </tr>\n",
              "    <tr>\n",
              "      <th>...</th>\n",
              "      <td>...</td>\n",
              "    </tr>\n",
              "    <tr>\n",
              "      <th>2016-01-01</th>\n",
              "      <td>10.38</td>\n",
              "    </tr>\n",
              "    <tr>\n",
              "      <th>2017-01-01</th>\n",
              "      <td>10.36</td>\n",
              "    </tr>\n",
              "    <tr>\n",
              "      <th>2018-01-01</th>\n",
              "      <td>10.91</td>\n",
              "    </tr>\n",
              "    <tr>\n",
              "      <th>2019-01-01</th>\n",
              "      <td>11.41</td>\n",
              "    </tr>\n",
              "    <tr>\n",
              "      <th>2020-01-01</th>\n",
              "      <td>11.04</td>\n",
              "    </tr>\n",
              "  </tbody>\n",
              "</table>\n",
              "<p>120 rows × 1 columns</p>\n",
              "</div>\n",
              "      <button class=\"colab-df-convert\" onclick=\"convertToInteractive('df-558e9c65-efe3-4cb2-bdfc-4beeeafe26d9')\"\n",
              "              title=\"Convert this dataframe to an interactive table.\"\n",
              "              style=\"display:none;\">\n",
              "        \n",
              "  <svg xmlns=\"http://www.w3.org/2000/svg\" height=\"24px\"viewBox=\"0 0 24 24\"\n",
              "       width=\"24px\">\n",
              "    <path d=\"M0 0h24v24H0V0z\" fill=\"none\"/>\n",
              "    <path d=\"M18.56 5.44l.94 2.06.94-2.06 2.06-.94-2.06-.94-.94-2.06-.94 2.06-2.06.94zm-11 1L8.5 8.5l.94-2.06 2.06-.94-2.06-.94L8.5 2.5l-.94 2.06-2.06.94zm10 10l.94 2.06.94-2.06 2.06-.94-2.06-.94-.94-2.06-.94 2.06-2.06.94z\"/><path d=\"M17.41 7.96l-1.37-1.37c-.4-.4-.92-.59-1.43-.59-.52 0-1.04.2-1.43.59L10.3 9.45l-7.72 7.72c-.78.78-.78 2.05 0 2.83L4 21.41c.39.39.9.59 1.41.59.51 0 1.02-.2 1.41-.59l7.78-7.78 2.81-2.81c.8-.78.8-2.07 0-2.86zM5.41 20L4 18.59l7.72-7.72 1.47 1.35L5.41 20z\"/>\n",
              "  </svg>\n",
              "      </button>\n",
              "      \n",
              "  <style>\n",
              "    .colab-df-container {\n",
              "      display:flex;\n",
              "      flex-wrap:wrap;\n",
              "      gap: 12px;\n",
              "    }\n",
              "\n",
              "    .colab-df-convert {\n",
              "      background-color: #E8F0FE;\n",
              "      border: none;\n",
              "      border-radius: 50%;\n",
              "      cursor: pointer;\n",
              "      display: none;\n",
              "      fill: #1967D2;\n",
              "      height: 32px;\n",
              "      padding: 0 0 0 0;\n",
              "      width: 32px;\n",
              "    }\n",
              "\n",
              "    .colab-df-convert:hover {\n",
              "      background-color: #E2EBFA;\n",
              "      box-shadow: 0px 1px 2px rgba(60, 64, 67, 0.3), 0px 1px 3px 1px rgba(60, 64, 67, 0.15);\n",
              "      fill: #174EA6;\n",
              "    }\n",
              "\n",
              "    [theme=dark] .colab-df-convert {\n",
              "      background-color: #3B4455;\n",
              "      fill: #D2E3FC;\n",
              "    }\n",
              "\n",
              "    [theme=dark] .colab-df-convert:hover {\n",
              "      background-color: #434B5C;\n",
              "      box-shadow: 0px 1px 3px 1px rgba(0, 0, 0, 0.15);\n",
              "      filter: drop-shadow(0px 1px 2px rgba(0, 0, 0, 0.3));\n",
              "      fill: #FFFFFF;\n",
              "    }\n",
              "  </style>\n",
              "\n",
              "      <script>\n",
              "        const buttonEl =\n",
              "          document.querySelector('#df-558e9c65-efe3-4cb2-bdfc-4beeeafe26d9 button.colab-df-convert');\n",
              "        buttonEl.style.display =\n",
              "          google.colab.kernel.accessAllowed ? 'block' : 'none';\n",
              "\n",
              "        async function convertToInteractive(key) {\n",
              "          const element = document.querySelector('#df-558e9c65-efe3-4cb2-bdfc-4beeeafe26d9');\n",
              "          const dataTable =\n",
              "            await google.colab.kernel.invokeFunction('convertToInteractive',\n",
              "                                                     [key], {});\n",
              "          if (!dataTable) return;\n",
              "\n",
              "          const docLinkHtml = 'Like what you see? Visit the ' +\n",
              "            '<a target=\"_blank\" href=https://colab.research.google.com/notebooks/data_table.ipynb>data table notebook</a>'\n",
              "            + ' to learn more about interactive tables.';\n",
              "          element.innerHTML = '';\n",
              "          dataTable['output_type'] = 'display_data';\n",
              "          await google.colab.output.renderOutput(dataTable, element);\n",
              "          const docLink = document.createElement('div');\n",
              "          docLink.innerHTML = docLinkHtml;\n",
              "          element.appendChild(docLink);\n",
              "        }\n",
              "      </script>\n",
              "    </div>\n",
              "  </div>\n",
              "  "
            ]
          },
          "metadata": {},
          "execution_count": 38
        }
      ]
    },
    {
      "cell_type": "code",
      "source": [
        "# get prediction start and end dates\n",
        "train_end = dt.datetime(2010, 1, 1)\n",
        "test_end = dt.datetime(2020, 1, 1)\n",
        "\n",
        "train_data = annual_temperatures[:train_end]\n",
        "test_data = annual_temperatures[train_end + pd.DateOffset(years=1): test_end]"
      ],
      "metadata": {
        "id": "32vCkUXN10qP"
      },
      "execution_count": 39,
      "outputs": []
    },
    {
      "cell_type": "code",
      "source": [
        "train_data.tail()"
      ],
      "metadata": {
        "colab": {
          "base_uri": "https://localhost:8080/",
          "height": 238
        },
        "id": "8CyEmleKTvsW",
        "outputId": "4f83e290-48e4-480f-944b-2575be67bb97"
      },
      "execution_count": 40,
      "outputs": [
        {
          "output_type": "execute_result",
          "data": {
            "text/plain": [
              "            Temperature\n",
              "Date                   \n",
              "2006-01-01         9.34\n",
              "2007-01-01        10.73\n",
              "2008-01-01        10.46\n",
              "2009-01-01        10.48\n",
              "2010-01-01         9.89"
            ],
            "text/html": [
              "\n",
              "  <div id=\"df-f21be60a-855a-4946-bba6-7cce807e0965\">\n",
              "    <div class=\"colab-df-container\">\n",
              "      <div>\n",
              "<style scoped>\n",
              "    .dataframe tbody tr th:only-of-type {\n",
              "        vertical-align: middle;\n",
              "    }\n",
              "\n",
              "    .dataframe tbody tr th {\n",
              "        vertical-align: top;\n",
              "    }\n",
              "\n",
              "    .dataframe thead th {\n",
              "        text-align: right;\n",
              "    }\n",
              "</style>\n",
              "<table border=\"1\" class=\"dataframe\">\n",
              "  <thead>\n",
              "    <tr style=\"text-align: right;\">\n",
              "      <th></th>\n",
              "      <th>Temperature</th>\n",
              "    </tr>\n",
              "    <tr>\n",
              "      <th>Date</th>\n",
              "      <th></th>\n",
              "    </tr>\n",
              "  </thead>\n",
              "  <tbody>\n",
              "    <tr>\n",
              "      <th>2006-01-01</th>\n",
              "      <td>9.34</td>\n",
              "    </tr>\n",
              "    <tr>\n",
              "      <th>2007-01-01</th>\n",
              "      <td>10.73</td>\n",
              "    </tr>\n",
              "    <tr>\n",
              "      <th>2008-01-01</th>\n",
              "      <td>10.46</td>\n",
              "    </tr>\n",
              "    <tr>\n",
              "      <th>2009-01-01</th>\n",
              "      <td>10.48</td>\n",
              "    </tr>\n",
              "    <tr>\n",
              "      <th>2010-01-01</th>\n",
              "      <td>9.89</td>\n",
              "    </tr>\n",
              "  </tbody>\n",
              "</table>\n",
              "</div>\n",
              "      <button class=\"colab-df-convert\" onclick=\"convertToInteractive('df-f21be60a-855a-4946-bba6-7cce807e0965')\"\n",
              "              title=\"Convert this dataframe to an interactive table.\"\n",
              "              style=\"display:none;\">\n",
              "        \n",
              "  <svg xmlns=\"http://www.w3.org/2000/svg\" height=\"24px\"viewBox=\"0 0 24 24\"\n",
              "       width=\"24px\">\n",
              "    <path d=\"M0 0h24v24H0V0z\" fill=\"none\"/>\n",
              "    <path d=\"M18.56 5.44l.94 2.06.94-2.06 2.06-.94-2.06-.94-.94-2.06-.94 2.06-2.06.94zm-11 1L8.5 8.5l.94-2.06 2.06-.94-2.06-.94L8.5 2.5l-.94 2.06-2.06.94zm10 10l.94 2.06.94-2.06 2.06-.94-2.06-.94-.94-2.06-.94 2.06-2.06.94z\"/><path d=\"M17.41 7.96l-1.37-1.37c-.4-.4-.92-.59-1.43-.59-.52 0-1.04.2-1.43.59L10.3 9.45l-7.72 7.72c-.78.78-.78 2.05 0 2.83L4 21.41c.39.39.9.59 1.41.59.51 0 1.02-.2 1.41-.59l7.78-7.78 2.81-2.81c.8-.78.8-2.07 0-2.86zM5.41 20L4 18.59l7.72-7.72 1.47 1.35L5.41 20z\"/>\n",
              "  </svg>\n",
              "      </button>\n",
              "      \n",
              "  <style>\n",
              "    .colab-df-container {\n",
              "      display:flex;\n",
              "      flex-wrap:wrap;\n",
              "      gap: 12px;\n",
              "    }\n",
              "\n",
              "    .colab-df-convert {\n",
              "      background-color: #E8F0FE;\n",
              "      border: none;\n",
              "      border-radius: 50%;\n",
              "      cursor: pointer;\n",
              "      display: none;\n",
              "      fill: #1967D2;\n",
              "      height: 32px;\n",
              "      padding: 0 0 0 0;\n",
              "      width: 32px;\n",
              "    }\n",
              "\n",
              "    .colab-df-convert:hover {\n",
              "      background-color: #E2EBFA;\n",
              "      box-shadow: 0px 1px 2px rgba(60, 64, 67, 0.3), 0px 1px 3px 1px rgba(60, 64, 67, 0.15);\n",
              "      fill: #174EA6;\n",
              "    }\n",
              "\n",
              "    [theme=dark] .colab-df-convert {\n",
              "      background-color: #3B4455;\n",
              "      fill: #D2E3FC;\n",
              "    }\n",
              "\n",
              "    [theme=dark] .colab-df-convert:hover {\n",
              "      background-color: #434B5C;\n",
              "      box-shadow: 0px 1px 3px 1px rgba(0, 0, 0, 0.15);\n",
              "      filter: drop-shadow(0px 1px 2px rgba(0, 0, 0, 0.3));\n",
              "      fill: #FFFFFF;\n",
              "    }\n",
              "  </style>\n",
              "\n",
              "      <script>\n",
              "        const buttonEl =\n",
              "          document.querySelector('#df-f21be60a-855a-4946-bba6-7cce807e0965 button.colab-df-convert');\n",
              "        buttonEl.style.display =\n",
              "          google.colab.kernel.accessAllowed ? 'block' : 'none';\n",
              "\n",
              "        async function convertToInteractive(key) {\n",
              "          const element = document.querySelector('#df-f21be60a-855a-4946-bba6-7cce807e0965');\n",
              "          const dataTable =\n",
              "            await google.colab.kernel.invokeFunction('convertToInteractive',\n",
              "                                                     [key], {});\n",
              "          if (!dataTable) return;\n",
              "\n",
              "          const docLinkHtml = 'Like what you see? Visit the ' +\n",
              "            '<a target=\"_blank\" href=https://colab.research.google.com/notebooks/data_table.ipynb>data table notebook</a>'\n",
              "            + ' to learn more about interactive tables.';\n",
              "          element.innerHTML = '';\n",
              "          dataTable['output_type'] = 'display_data';\n",
              "          await google.colab.output.renderOutput(dataTable, element);\n",
              "          const docLink = document.createElement('div');\n",
              "          docLink.innerHTML = docLinkHtml;\n",
              "          element.appendChild(docLink);\n",
              "        }\n",
              "      </script>\n",
              "    </div>\n",
              "  </div>\n",
              "  "
            ]
          },
          "metadata": {},
          "execution_count": 40
        }
      ]
    },
    {
      "cell_type": "code",
      "source": [
        "test_data.head()"
      ],
      "metadata": {
        "colab": {
          "base_uri": "https://localhost:8080/",
          "height": 238
        },
        "id": "srmzGvBnTxla",
        "outputId": "7021d028-9ccb-429f-c2b7-f10ca70a387c"
      },
      "execution_count": 41,
      "outputs": [
        {
          "output_type": "execute_result",
          "data": {
            "text/plain": [
              "            Temperature\n",
              "Date                   \n",
              "2011-01-01         9.57\n",
              "2012-01-01        10.26\n",
              "2013-01-01        10.39\n",
              "2014-01-01        10.76\n",
              "2015-01-01        10.79"
            ],
            "text/html": [
              "\n",
              "  <div id=\"df-75062cce-2603-4154-ba42-06668db628de\">\n",
              "    <div class=\"colab-df-container\">\n",
              "      <div>\n",
              "<style scoped>\n",
              "    .dataframe tbody tr th:only-of-type {\n",
              "        vertical-align: middle;\n",
              "    }\n",
              "\n",
              "    .dataframe tbody tr th {\n",
              "        vertical-align: top;\n",
              "    }\n",
              "\n",
              "    .dataframe thead th {\n",
              "        text-align: right;\n",
              "    }\n",
              "</style>\n",
              "<table border=\"1\" class=\"dataframe\">\n",
              "  <thead>\n",
              "    <tr style=\"text-align: right;\">\n",
              "      <th></th>\n",
              "      <th>Temperature</th>\n",
              "    </tr>\n",
              "    <tr>\n",
              "      <th>Date</th>\n",
              "      <th></th>\n",
              "    </tr>\n",
              "  </thead>\n",
              "  <tbody>\n",
              "    <tr>\n",
              "      <th>2011-01-01</th>\n",
              "      <td>9.57</td>\n",
              "    </tr>\n",
              "    <tr>\n",
              "      <th>2012-01-01</th>\n",
              "      <td>10.26</td>\n",
              "    </tr>\n",
              "    <tr>\n",
              "      <th>2013-01-01</th>\n",
              "      <td>10.39</td>\n",
              "    </tr>\n",
              "    <tr>\n",
              "      <th>2014-01-01</th>\n",
              "      <td>10.76</td>\n",
              "    </tr>\n",
              "    <tr>\n",
              "      <th>2015-01-01</th>\n",
              "      <td>10.79</td>\n",
              "    </tr>\n",
              "  </tbody>\n",
              "</table>\n",
              "</div>\n",
              "      <button class=\"colab-df-convert\" onclick=\"convertToInteractive('df-75062cce-2603-4154-ba42-06668db628de')\"\n",
              "              title=\"Convert this dataframe to an interactive table.\"\n",
              "              style=\"display:none;\">\n",
              "        \n",
              "  <svg xmlns=\"http://www.w3.org/2000/svg\" height=\"24px\"viewBox=\"0 0 24 24\"\n",
              "       width=\"24px\">\n",
              "    <path d=\"M0 0h24v24H0V0z\" fill=\"none\"/>\n",
              "    <path d=\"M18.56 5.44l.94 2.06.94-2.06 2.06-.94-2.06-.94-.94-2.06-.94 2.06-2.06.94zm-11 1L8.5 8.5l.94-2.06 2.06-.94-2.06-.94L8.5 2.5l-.94 2.06-2.06.94zm10 10l.94 2.06.94-2.06 2.06-.94-2.06-.94-.94-2.06-.94 2.06-2.06.94z\"/><path d=\"M17.41 7.96l-1.37-1.37c-.4-.4-.92-.59-1.43-.59-.52 0-1.04.2-1.43.59L10.3 9.45l-7.72 7.72c-.78.78-.78 2.05 0 2.83L4 21.41c.39.39.9.59 1.41.59.51 0 1.02-.2 1.41-.59l7.78-7.78 2.81-2.81c.8-.78.8-2.07 0-2.86zM5.41 20L4 18.59l7.72-7.72 1.47 1.35L5.41 20z\"/>\n",
              "  </svg>\n",
              "      </button>\n",
              "      \n",
              "  <style>\n",
              "    .colab-df-container {\n",
              "      display:flex;\n",
              "      flex-wrap:wrap;\n",
              "      gap: 12px;\n",
              "    }\n",
              "\n",
              "    .colab-df-convert {\n",
              "      background-color: #E8F0FE;\n",
              "      border: none;\n",
              "      border-radius: 50%;\n",
              "      cursor: pointer;\n",
              "      display: none;\n",
              "      fill: #1967D2;\n",
              "      height: 32px;\n",
              "      padding: 0 0 0 0;\n",
              "      width: 32px;\n",
              "    }\n",
              "\n",
              "    .colab-df-convert:hover {\n",
              "      background-color: #E2EBFA;\n",
              "      box-shadow: 0px 1px 2px rgba(60, 64, 67, 0.3), 0px 1px 3px 1px rgba(60, 64, 67, 0.15);\n",
              "      fill: #174EA6;\n",
              "    }\n",
              "\n",
              "    [theme=dark] .colab-df-convert {\n",
              "      background-color: #3B4455;\n",
              "      fill: #D2E3FC;\n",
              "    }\n",
              "\n",
              "    [theme=dark] .colab-df-convert:hover {\n",
              "      background-color: #434B5C;\n",
              "      box-shadow: 0px 1px 3px 1px rgba(0, 0, 0, 0.15);\n",
              "      filter: drop-shadow(0px 1px 2px rgba(0, 0, 0, 0.3));\n",
              "      fill: #FFFFFF;\n",
              "    }\n",
              "  </style>\n",
              "\n",
              "      <script>\n",
              "        const buttonEl =\n",
              "          document.querySelector('#df-75062cce-2603-4154-ba42-06668db628de button.colab-df-convert');\n",
              "        buttonEl.style.display =\n",
              "          google.colab.kernel.accessAllowed ? 'block' : 'none';\n",
              "\n",
              "        async function convertToInteractive(key) {\n",
              "          const element = document.querySelector('#df-75062cce-2603-4154-ba42-06668db628de');\n",
              "          const dataTable =\n",
              "            await google.colab.kernel.invokeFunction('convertToInteractive',\n",
              "                                                     [key], {});\n",
              "          if (!dataTable) return;\n",
              "\n",
              "          const docLinkHtml = 'Like what you see? Visit the ' +\n",
              "            '<a target=\"_blank\" href=https://colab.research.google.com/notebooks/data_table.ipynb>data table notebook</a>'\n",
              "            + ' to learn more about interactive tables.';\n",
              "          element.innerHTML = '';\n",
              "          dataTable['output_type'] = 'display_data';\n",
              "          await google.colab.output.renderOutput(dataTable, element);\n",
              "          const docLink = document.createElement('div');\n",
              "          docLink.innerHTML = docLinkHtml;\n",
              "          element.appendChild(docLink);\n",
              "        }\n",
              "      </script>\n",
              "    </div>\n",
              "  </div>\n",
              "  "
            ]
          },
          "metadata": {},
          "execution_count": 41
        }
      ]
    },
    {
      "cell_type": "markdown",
      "source": [
        "## Fit the ARIMA Model"
      ],
      "metadata": {
        "id": "brrReXPuUU7E"
      }
    },
    {
      "cell_type": "code",
      "source": [
        "# define model\n",
        "model = ARIMA(train_data, order=(3, 1, 1))"
      ],
      "metadata": {
        "id": "sUku-Ds_T-wU"
      },
      "execution_count": 49,
      "outputs": []
    },
    {
      "cell_type": "code",
      "source": [
        "# fit the model\n",
        "start = time()\n",
        "model_fit = model.fit()\n",
        "end = time()\n",
        "print('Model Fitting Time:', end - start)"
      ],
      "metadata": {
        "colab": {
          "base_uri": "https://localhost:8080/"
        },
        "id": "KFdSCpDaU9wa",
        "outputId": "b7c70b2a-cd32-46de-b473-b47003627512"
      },
      "execution_count": 50,
      "outputs": [
        {
          "output_type": "stream",
          "name": "stdout",
          "text": [
            "Model Fitting Time: 0.17284059524536133\n"
          ]
        }
      ]
    },
    {
      "cell_type": "code",
      "source": [
        "# summary of the model\n",
        "print(model_fit.summary())"
      ],
      "metadata": {
        "colab": {
          "base_uri": "https://localhost:8080/"
        },
        "id": "TkMguJUBVZBL",
        "outputId": "c8185b80-a44d-45dc-8864-824221d1002b"
      },
      "execution_count": 51,
      "outputs": [
        {
          "output_type": "stream",
          "name": "stdout",
          "text": [
            "                             ARIMA Model Results                              \n",
            "==============================================================================\n",
            "Dep. Variable:          D.Temperature   No. Observations:                  109\n",
            "Model:                 ARIMA(3, 1, 1)   Log Likelihood                -101.732\n",
            "Method:                       css-mle   S.D. of innovations              0.610\n",
            "Date:                Mon, 23 May 2022   AIC                            215.464\n",
            "Time:                        14:38:08   BIC                            231.612\n",
            "Sample:                    01-01-1902   HQIC                           222.012\n",
            "                         - 01-01-2010                                         \n",
            "=======================================================================================\n",
            "                          coef    std err          z      P>|z|      [0.025      0.975]\n",
            "---------------------------------------------------------------------------------------\n",
            "const                   0.0100      0.007      1.445      0.152      -0.004       0.024\n",
            "ar.L1.D.Temperature     0.0879      0.105      0.834      0.406      -0.119       0.294\n",
            "ar.L2.D.Temperature     0.1327      0.102      1.299      0.197      -0.068       0.333\n",
            "ar.L3.D.Temperature    -0.2463      0.099     -2.492      0.014      -0.440      -0.053\n",
            "ma.L1.D.Temperature    -0.8924      0.064    -13.864      0.000      -1.019      -0.766\n",
            "                                    Roots                                    \n",
            "=============================================================================\n",
            "                  Real          Imaginary           Modulus         Frequency\n",
            "-----------------------------------------------------------------------------\n",
            "AR.1           -1.5010           -0.0000j            1.5010           -0.5000\n",
            "AR.2            1.0198           -1.2902j            1.6446           -0.1435\n",
            "AR.3            1.0198           +1.2902j            1.6446            0.1435\n",
            "MA.1            1.1206           +0.0000j            1.1206            0.0000\n",
            "-----------------------------------------------------------------------------\n"
          ]
        }
      ]
    },
    {
      "cell_type": "code",
      "source": [
        "# get prediction start and end dates\n",
        "pred_start_date = test_data.index[0]\n",
        "pred_end_date = test_data.index[-1]"
      ],
      "metadata": {
        "id": "RJwND0EZVlOU"
      },
      "execution_count": 45,
      "outputs": []
    },
    {
      "cell_type": "code",
      "source": [
        "train_data.index[0]"
      ],
      "metadata": {
        "colab": {
          "base_uri": "https://localhost:8080/"
        },
        "id": "p3pjxnw1eYGF",
        "outputId": "933e5740-4d23-44c2-d82e-800a8dbc95fa"
      },
      "execution_count": 46,
      "outputs": [
        {
          "output_type": "execute_result",
          "data": {
            "text/plain": [
              "Timestamp('1901-01-01 00:00:00', freq='AS-JAN')"
            ]
          },
          "metadata": {},
          "execution_count": 46
        }
      ]
    },
    {
      "cell_type": "code",
      "source": [
        "result.plot_predict(start='1902-01-01', end='2040-01-01')"
      ],
      "metadata": {
        "colab": {
          "base_uri": "https://localhost:8080/",
          "height": 513
        },
        "id": "prveSyYCepN7",
        "outputId": "3d542500-bb76-46b8-fc42-3ad4f2ecfb12"
      },
      "execution_count": 47,
      "outputs": [
        {
          "output_type": "execute_result",
          "data": {
            "text/plain": [
              "<Figure size 432x288 with 1 Axes>"
            ],
            "image/png": "[encoded data removed]"
          },
          "metadata": {},
          "execution_count": 47
        },
        {
          "output_type": "display_data",
          "data": {
            "text/plain": [
              "<Figure size 432x288 with 1 Axes>"
            ],
            "image/png": "[encoded data removed]"
          },
          "metadata": {
            "needs_background": "light"
          }
        }
      ]
    },
    {
      "cell_type": "code",
      "source": [
        "model_fit.plot_predict(start=train_data.index[0], end=train_data.index[-1])"
      ],
      "metadata": {
        "colab": {
          "base_uri": "https://localhost:8080/",
          "height": 875
        },
        "id": "KHkCbYDsddm8",
        "outputId": "88923d9c-0b64-4be6-c1e6-0cc74b80ec8d"
      },
      "execution_count": 48,
      "outputs": [
        {
          "output_type": "error",
          "ename": "KeyError",
          "evalue": "ignored",
          "traceback": [
            "\u001b[0;31m---------------------------------------------------------------------------\u001b[0m",
            "\u001b[0;31mKeyError\u001b[0m                                  Traceback (most recent call last)",
            "\u001b[0;32m/usr/local/lib/python3.7/dist-packages/pandas/_libs/index.pyx\u001b[0m in \u001b[0;36mpandas._libs.index.DatetimeEngine.get_loc\u001b[0;34m()\u001b[0m\n",
            "\u001b[0;32mpandas/_libs/hashtable_class_helper.pxi\u001b[0m in \u001b[0;36mpandas._libs.hashtable.Int64HashTable.get_item\u001b[0;34m()\u001b[0m\n",
            "\u001b[0;32mpandas/_libs/hashtable_class_helper.pxi\u001b[0m in \u001b[0;36mpandas._libs.hashtable.Int64HashTable.get_item\u001b[0;34m()\u001b[0m\n",
            "\u001b[0;31mKeyError\u001b[0m: -2177452800000000000",
            "\nDuring handling of the above exception, another exception occurred:\n",
            "\u001b[0;31mKeyError\u001b[0m                                  Traceback (most recent call last)",
            "\u001b[0;32m/usr/local/lib/python3.7/dist-packages/pandas/core/indexes/base.py\u001b[0m in \u001b[0;36mget_loc\u001b[0;34m(self, key, method, tolerance)\u001b[0m\n\u001b[1;32m   3360\u001b[0m             \u001b[0;32mtry\u001b[0m\u001b[0;34m:\u001b[0m\u001b[0;34m\u001b[0m\u001b[0;34m\u001b[0m\u001b[0m\n\u001b[0;32m-> 3361\u001b[0;31m                 \u001b[0;32mreturn\u001b[0m \u001b[0mself\u001b[0m\u001b[0;34m.\u001b[0m\u001b[0m_engine\u001b[0m\u001b[0;34m.\u001b[0m\u001b[0mget_loc\u001b[0m\u001b[0;34m(\u001b[0m\u001b[0mcasted_key\u001b[0m\u001b[0;34m)\u001b[0m\u001b[0;34m\u001b[0m\u001b[0;34m\u001b[0m\u001b[0m\n\u001b[0m\u001b[1;32m   3362\u001b[0m             \u001b[0;32mexcept\u001b[0m \u001b[0mKeyError\u001b[0m \u001b[0;32mas\u001b[0m \u001b[0merr\u001b[0m\u001b[0;34m:\u001b[0m\u001b[0;34m\u001b[0m\u001b[0;34m\u001b[0m\u001b[0m\n",
            "\u001b[0;32m/usr/local/lib/python3.7/dist-packages/pandas/_libs/index.pyx\u001b[0m in \u001b[0;36mpandas._libs.index.DatetimeEngine.get_loc\u001b[0;34m()\u001b[0m\n",
            "\u001b[0;32m/usr/local/lib/python3.7/dist-packages/pandas/_libs/index.pyx\u001b[0m in \u001b[0;36mpandas._libs.index.DatetimeEngine.get_loc\u001b[0;34m()\u001b[0m\n",
            "\u001b[0;31mKeyError\u001b[0m: Timestamp('1901-01-01 00:00:00', freq='AS-JAN')",
            "\nThe above exception was the direct cause of the following exception:\n",
            "\u001b[0;31mKeyError\u001b[0m                                  Traceback (most recent call last)",
            "\u001b[0;32m/usr/local/lib/python3.7/dist-packages/pandas/core/indexes/datetimes.py\u001b[0m in \u001b[0;36mget_loc\u001b[0;34m(self, key, method, tolerance)\u001b[0m\n\u001b[1;32m    702\u001b[0m         \u001b[0;32mtry\u001b[0m\u001b[0;34m:\u001b[0m\u001b[0;34m\u001b[0m\u001b[0;34m\u001b[0m\u001b[0m\n\u001b[0;32m--> 703\u001b[0;31m             \u001b[0;32mreturn\u001b[0m \u001b[0mIndex\u001b[0m\u001b[0;34m.\u001b[0m\u001b[0mget_loc\u001b[0m\u001b[0;34m(\u001b[0m\u001b[0mself\u001b[0m\u001b[0;34m,\u001b[0m \u001b[0mkey\u001b[0m\u001b[0;34m,\u001b[0m \u001b[0mmethod\u001b[0m\u001b[0;34m,\u001b[0m \u001b[0mtolerance\u001b[0m\u001b[0;34m)\u001b[0m\u001b[0;34m\u001b[0m\u001b[0;34m\u001b[0m\u001b[0m\n\u001b[0m\u001b[1;32m    704\u001b[0m         \u001b[0;32mexcept\u001b[0m \u001b[0mKeyError\u001b[0m \u001b[0;32mas\u001b[0m \u001b[0merr\u001b[0m\u001b[0;34m:\u001b[0m\u001b[0;34m\u001b[0m\u001b[0;34m\u001b[0m\u001b[0m\n",
            "\u001b[0;32m/usr/local/lib/python3.7/dist-packages/pandas/core/indexes/base.py\u001b[0m in \u001b[0;36mget_loc\u001b[0;34m(self, key, method, tolerance)\u001b[0m\n\u001b[1;32m   3362\u001b[0m             \u001b[0;32mexcept\u001b[0m \u001b[0mKeyError\u001b[0m \u001b[0;32mas\u001b[0m \u001b[0merr\u001b[0m\u001b[0;34m:\u001b[0m\u001b[0;34m\u001b[0m\u001b[0;34m\u001b[0m\u001b[0m\n\u001b[0;32m-> 3363\u001b[0;31m                 \u001b[0;32mraise\u001b[0m \u001b[0mKeyError\u001b[0m\u001b[0;34m(\u001b[0m\u001b[0mkey\u001b[0m\u001b[0;34m)\u001b[0m \u001b[0;32mfrom\u001b[0m \u001b[0merr\u001b[0m\u001b[0;34m\u001b[0m\u001b[0;34m\u001b[0m\u001b[0m\n\u001b[0m\u001b[1;32m   3364\u001b[0m \u001b[0;34m\u001b[0m\u001b[0m\n",
            "\u001b[0;31mKeyError\u001b[0m: Timestamp('1901-01-01 00:00:00', freq='AS-JAN')",
            "\nThe above exception was the direct cause of the following exception:\n",
            "\u001b[0;31mKeyError\u001b[0m                                  Traceback (most recent call last)",
            "\u001b[0;32m<ipython-input-48-48d89c879633>\u001b[0m in \u001b[0;36m<module>\u001b[0;34m()\u001b[0m\n\u001b[0;32m----> 1\u001b[0;31m \u001b[0mmodel_fit\u001b[0m\u001b[0;34m.\u001b[0m\u001b[0mplot_predict\u001b[0m\u001b[0;34m(\u001b[0m\u001b[0mstart\u001b[0m\u001b[0;34m=\u001b[0m\u001b[0mtrain_data\u001b[0m\u001b[0;34m.\u001b[0m\u001b[0mindex\u001b[0m\u001b[0;34m[\u001b[0m\u001b[0;36m0\u001b[0m\u001b[0;34m]\u001b[0m\u001b[0;34m,\u001b[0m \u001b[0mend\u001b[0m\u001b[0;34m=\u001b[0m\u001b[0mtrain_data\u001b[0m\u001b[0;34m.\u001b[0m\u001b[0mindex\u001b[0m\u001b[0;34m[\u001b[0m\u001b[0;34m-\u001b[0m\u001b[0;36m1\u001b[0m\u001b[0;34m]\u001b[0m\u001b[0;34m)\u001b[0m\u001b[0;34m\u001b[0m\u001b[0;34m\u001b[0m\u001b[0m\n\u001b[0m",
            "\u001b[0;32m/usr/local/lib/python3.7/dist-packages/statsmodels/tsa/arima_model.py\u001b[0m in \u001b[0;36mplot_predict\u001b[0;34m(self, start, end, exog, dynamic, alpha, plot_insample, ax)\u001b[0m\n\u001b[1;32m   1901\u001b[0m \u001b[0;34m\u001b[0m\u001b[0m\n\u001b[1;32m   1902\u001b[0m         \u001b[0;31m# use predict so you set dates\u001b[0m\u001b[0;34m\u001b[0m\u001b[0;34m\u001b[0m\u001b[0;34m\u001b[0m\u001b[0m\n\u001b[0;32m-> 1903\u001b[0;31m         \u001b[0mforecast\u001b[0m \u001b[0;34m=\u001b[0m \u001b[0mself\u001b[0m\u001b[0;34m.\u001b[0m\u001b[0mpredict\u001b[0m\u001b[0;34m(\u001b[0m\u001b[0mstart\u001b[0m\u001b[0;34m,\u001b[0m \u001b[0mend\u001b[0m\u001b[0;34m,\u001b[0m \u001b[0mexog\u001b[0m\u001b[0;34m,\u001b[0m \u001b[0;34m'levels'\u001b[0m\u001b[0;34m,\u001b[0m \u001b[0mdynamic\u001b[0m\u001b[0;34m)\u001b[0m\u001b[0;34m\u001b[0m\u001b[0;34m\u001b[0m\u001b[0m\n\u001b[0m\u001b[1;32m   1904\u001b[0m         \u001b[0;31m# doing this twice. just add a plot keyword to predict?\u001b[0m\u001b[0;34m\u001b[0m\u001b[0;34m\u001b[0m\u001b[0;34m\u001b[0m\u001b[0m\n\u001b[1;32m   1905\u001b[0m         start, end, out_of_sample, _ = (\n",
            "\u001b[0;32m/usr/local/lib/python3.7/dist-packages/statsmodels/tsa/arima_model.py\u001b[0m in \u001b[0;36mpredict\u001b[0;34m(self, start, end, exog, typ, dynamic)\u001b[0m\n\u001b[1;32m   1816\u001b[0m     def predict(self, start=None, end=None, exog=None, typ='linear',\n\u001b[1;32m   1817\u001b[0m                 dynamic=False):\n\u001b[0;32m-> 1818\u001b[0;31m         \u001b[0;32mreturn\u001b[0m \u001b[0mself\u001b[0m\u001b[0;34m.\u001b[0m\u001b[0mmodel\u001b[0m\u001b[0;34m.\u001b[0m\u001b[0mpredict\u001b[0m\u001b[0;34m(\u001b[0m\u001b[0mself\u001b[0m\u001b[0;34m.\u001b[0m\u001b[0mparams\u001b[0m\u001b[0;34m,\u001b[0m \u001b[0mstart\u001b[0m\u001b[0;34m,\u001b[0m \u001b[0mend\u001b[0m\u001b[0;34m,\u001b[0m \u001b[0mexog\u001b[0m\u001b[0;34m,\u001b[0m \u001b[0mtyp\u001b[0m\u001b[0;34m,\u001b[0m \u001b[0mdynamic\u001b[0m\u001b[0;34m)\u001b[0m\u001b[0;34m\u001b[0m\u001b[0;34m\u001b[0m\u001b[0m\n\u001b[0m\u001b[1;32m   1819\u001b[0m     \u001b[0mpredict\u001b[0m\u001b[0;34m.\u001b[0m\u001b[0m__doc__\u001b[0m \u001b[0;34m=\u001b[0m \u001b[0m_arima_results_predict\u001b[0m\u001b[0;34m\u001b[0m\u001b[0;34m\u001b[0m\u001b[0m\n\u001b[1;32m   1820\u001b[0m \u001b[0;34m\u001b[0m\u001b[0m\n",
            "\u001b[0;32m/usr/local/lib/python3.7/dist-packages/statsmodels/tsa/arima_model.py\u001b[0m in \u001b[0;36mpredict\u001b[0;34m(self, params, start, end, exog, typ, dynamic)\u001b[0m\n\u001b[1;32m   1163\u001b[0m         \u001b[0;32mif\u001b[0m \u001b[0misinstance\u001b[0m\u001b[0;34m(\u001b[0m\u001b[0mstart\u001b[0m\u001b[0;34m,\u001b[0m \u001b[0;34m(\u001b[0m\u001b[0mstring_types\u001b[0m\u001b[0;34m,\u001b[0m \u001b[0mdatetime\u001b[0m\u001b[0;34m)\u001b[0m\u001b[0;34m)\u001b[0m\u001b[0;34m:\u001b[0m\u001b[0;34m\u001b[0m\u001b[0;34m\u001b[0m\u001b[0m\n\u001b[1;32m   1164\u001b[0m             \u001b[0;31m# start = _index_date(start, self.data.dates)\u001b[0m\u001b[0;34m\u001b[0m\u001b[0;34m\u001b[0m\u001b[0;34m\u001b[0m\u001b[0m\n\u001b[0;32m-> 1165\u001b[0;31m             \u001b[0mstart\u001b[0m\u001b[0;34m,\u001b[0m \u001b[0m_\u001b[0m\u001b[0;34m,\u001b[0m \u001b[0m_\u001b[0m \u001b[0;34m=\u001b[0m \u001b[0mself\u001b[0m\u001b[0;34m.\u001b[0m\u001b[0m_get_index_label_loc\u001b[0m\u001b[0;34m(\u001b[0m\u001b[0mstart\u001b[0m\u001b[0;34m)\u001b[0m\u001b[0;34m\u001b[0m\u001b[0;34m\u001b[0m\u001b[0m\n\u001b[0m\u001b[1;32m   1166\u001b[0m             \u001b[0;32mif\u001b[0m \u001b[0misinstance\u001b[0m\u001b[0;34m(\u001b[0m\u001b[0mstart\u001b[0m\u001b[0;34m,\u001b[0m \u001b[0mslice\u001b[0m\u001b[0;34m)\u001b[0m\u001b[0;34m:\u001b[0m\u001b[0;34m\u001b[0m\u001b[0;34m\u001b[0m\u001b[0m\n\u001b[1;32m   1167\u001b[0m                 \u001b[0mstart\u001b[0m \u001b[0;34m=\u001b[0m \u001b[0mstart\u001b[0m\u001b[0;34m.\u001b[0m\u001b[0mstart\u001b[0m\u001b[0;34m\u001b[0m\u001b[0;34m\u001b[0m\u001b[0m\n",
            "\u001b[0;32m/usr/local/lib/python3.7/dist-packages/statsmodels/tsa/base/tsa_model.py\u001b[0m in \u001b[0;36m_get_index_label_loc\u001b[0;34m(self, key, base_index)\u001b[0m\n\u001b[1;32m    456\u001b[0m                 \u001b[0mindex_was_expanded\u001b[0m \u001b[0;34m=\u001b[0m \u001b[0;32mFalse\u001b[0m\u001b[0;34m\u001b[0m\u001b[0;34m\u001b[0m\u001b[0m\n\u001b[1;32m    457\u001b[0m             \u001b[0;32mexcept\u001b[0m\u001b[0;34m:\u001b[0m\u001b[0;34m\u001b[0m\u001b[0;34m\u001b[0m\u001b[0m\n\u001b[0;32m--> 458\u001b[0;31m                 \u001b[0;32mraise\u001b[0m \u001b[0me\u001b[0m\u001b[0;34m\u001b[0m\u001b[0;34m\u001b[0m\u001b[0m\n\u001b[0m\u001b[1;32m    459\u001b[0m         \u001b[0;32mreturn\u001b[0m \u001b[0mloc\u001b[0m\u001b[0;34m,\u001b[0m \u001b[0mindex\u001b[0m\u001b[0;34m,\u001b[0m \u001b[0mindex_was_expanded\u001b[0m\u001b[0;34m\u001b[0m\u001b[0;34m\u001b[0m\u001b[0m\n\u001b[1;32m    460\u001b[0m \u001b[0;34m\u001b[0m\u001b[0m\n",
            "\u001b[0;32m/usr/local/lib/python3.7/dist-packages/statsmodels/tsa/base/tsa_model.py\u001b[0m in \u001b[0;36m_get_index_label_loc\u001b[0;34m(self, key, base_index)\u001b[0m\n\u001b[1;32m    420\u001b[0m         \u001b[0;32mtry\u001b[0m\u001b[0;34m:\u001b[0m\u001b[0;34m\u001b[0m\u001b[0;34m\u001b[0m\u001b[0m\n\u001b[1;32m    421\u001b[0m             loc, index, index_was_expanded = (\n\u001b[0;32m--> 422\u001b[0;31m                 self._get_index_loc(key, base_index))\n\u001b[0m\u001b[1;32m    423\u001b[0m         \u001b[0;32mexcept\u001b[0m \u001b[0mKeyError\u001b[0m \u001b[0;32mas\u001b[0m \u001b[0me\u001b[0m\u001b[0;34m:\u001b[0m\u001b[0;34m\u001b[0m\u001b[0;34m\u001b[0m\u001b[0m\n\u001b[1;32m    424\u001b[0m             \u001b[0;32mtry\u001b[0m\u001b[0;34m:\u001b[0m\u001b[0;34m\u001b[0m\u001b[0;34m\u001b[0m\u001b[0m\n",
            "\u001b[0;32m/usr/local/lib/python3.7/dist-packages/statsmodels/tsa/base/tsa_model.py\u001b[0m in \u001b[0;36m_get_index_loc\u001b[0;34m(self, key, base_index)\u001b[0m\n\u001b[1;32m    353\u001b[0m         \u001b[0;32mif\u001b[0m \u001b[0mdate_index\u001b[0m\u001b[0;34m:\u001b[0m\u001b[0;34m\u001b[0m\u001b[0;34m\u001b[0m\u001b[0m\n\u001b[1;32m    354\u001b[0m             \u001b[0;31m# (note that get_loc will throw a KeyError if key is invalid)\u001b[0m\u001b[0;34m\u001b[0m\u001b[0;34m\u001b[0m\u001b[0;34m\u001b[0m\u001b[0m\n\u001b[0;32m--> 355\u001b[0;31m             \u001b[0mloc\u001b[0m \u001b[0;34m=\u001b[0m \u001b[0mindex\u001b[0m\u001b[0;34m.\u001b[0m\u001b[0mget_loc\u001b[0m\u001b[0;34m(\u001b[0m\u001b[0mkey\u001b[0m\u001b[0;34m)\u001b[0m\u001b[0;34m\u001b[0m\u001b[0;34m\u001b[0m\u001b[0m\n\u001b[0m\u001b[1;32m    356\u001b[0m         \u001b[0;32melif\u001b[0m \u001b[0mint_index\u001b[0m \u001b[0;32mor\u001b[0m \u001b[0mrange_index\u001b[0m\u001b[0;34m:\u001b[0m\u001b[0;34m\u001b[0m\u001b[0;34m\u001b[0m\u001b[0m\n\u001b[1;32m    357\u001b[0m             \u001b[0;31m# For Int64Index and RangeIndex, key is assumed to be the location\u001b[0m\u001b[0;34m\u001b[0m\u001b[0;34m\u001b[0m\u001b[0;34m\u001b[0m\u001b[0m\n",
            "\u001b[0;32m/usr/local/lib/python3.7/dist-packages/pandas/core/indexes/datetimes.py\u001b[0m in \u001b[0;36mget_loc\u001b[0;34m(self, key, method, tolerance)\u001b[0m\n\u001b[1;32m    703\u001b[0m             \u001b[0;32mreturn\u001b[0m \u001b[0mIndex\u001b[0m\u001b[0;34m.\u001b[0m\u001b[0mget_loc\u001b[0m\u001b[0;34m(\u001b[0m\u001b[0mself\u001b[0m\u001b[0;34m,\u001b[0m \u001b[0mkey\u001b[0m\u001b[0;34m,\u001b[0m \u001b[0mmethod\u001b[0m\u001b[0;34m,\u001b[0m \u001b[0mtolerance\u001b[0m\u001b[0;34m)\u001b[0m\u001b[0;34m\u001b[0m\u001b[0;34m\u001b[0m\u001b[0m\n\u001b[1;32m    704\u001b[0m         \u001b[0;32mexcept\u001b[0m \u001b[0mKeyError\u001b[0m \u001b[0;32mas\u001b[0m \u001b[0merr\u001b[0m\u001b[0;34m:\u001b[0m\u001b[0;34m\u001b[0m\u001b[0;34m\u001b[0m\u001b[0m\n\u001b[0;32m--> 705\u001b[0;31m             \u001b[0;32mraise\u001b[0m \u001b[0mKeyError\u001b[0m\u001b[0;34m(\u001b[0m\u001b[0morig_key\u001b[0m\u001b[0;34m)\u001b[0m \u001b[0;32mfrom\u001b[0m \u001b[0merr\u001b[0m\u001b[0;34m\u001b[0m\u001b[0;34m\u001b[0m\u001b[0m\n\u001b[0m\u001b[1;32m    706\u001b[0m \u001b[0;34m\u001b[0m\u001b[0m\n\u001b[1;32m    707\u001b[0m     \u001b[0;32mdef\u001b[0m \u001b[0m_maybe_cast_for_get_loc\u001b[0m\u001b[0;34m(\u001b[0m\u001b[0mself\u001b[0m\u001b[0;34m,\u001b[0m \u001b[0mkey\u001b[0m\u001b[0;34m)\u001b[0m \u001b[0;34m->\u001b[0m \u001b[0mTimestamp\u001b[0m\u001b[0;34m:\u001b[0m\u001b[0;34m\u001b[0m\u001b[0;34m\u001b[0m\u001b[0m\n",
            "\u001b[0;31mKeyError\u001b[0m: Timestamp('1901-01-01 00:00:00', freq='AS-JAN')"
          ]
        },
        {
          "output_type": "display_data",
          "data": {
            "text/plain": [
              "<Figure size 432x288 with 1 Axes>"
            ],
            "image/png": "[encoded data removed]"
          },
          "metadata": {
            "needs_background": "light"
          }
        }
      ]
    },
    {
      "cell_type": "code",
      "source": [
        "# get the predictions and residuals\n",
        "predictions = model_fit.predict(start=pred_start_date, end=pred_end_date)"
      ],
      "metadata": {
        "id": "HD2hgaY8V53H"
      },
      "execution_count": null,
      "outputs": []
    },
    {
      "cell_type": "code",
      "source": [
        "predictions"
      ],
      "metadata": {
        "id": "uoNqf0dvWHnE"
      },
      "execution_count": null,
      "outputs": []
    },
    {
      "cell_type": "code",
      "source": [
        "predictions"
      ],
      "metadata": {
        "id": "h1Lcz-NZWJ-Y"
      },
      "execution_count": null,
      "outputs": []
    },
    {
      "cell_type": "code",
      "source": [
        "test_data - predictions"
      ],
      "metadata": {
        "id": "5_cl-YTYWMxe"
      },
      "execution_count": null,
      "outputs": []
    },
    {
      "cell_type": "code",
      "source": [
        ""
      ],
      "metadata": {
        "id": "mCcqzTUOWYZZ"
      },
      "execution_count": null,
      "outputs": []
    }
  ]
}